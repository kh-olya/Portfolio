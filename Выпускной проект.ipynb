{
 "cells": [
  {
   "cell_type": "markdown",
   "metadata": {},
   "source": [
    "# Проект по А/B-тестированию"
   ]
  },
  {
   "cell_type": "markdown",
   "metadata": {},
   "source": [
    "**Цели исследования**"
   ]
  },
  {
   "cell_type": "markdown",
   "metadata": {},
   "source": [
    "Задача — провести оценку результатов A/B-теста. В нашем распоряжении есть датасет с действиями пользователей, техническое задание и несколько вспомогательных датасетов.\n",
    "- Оценим корректность проведения теста.\n",
    "- Проанализируем результаты теста.\n",
    "\n",
    "Чтобы оценить корректность проведения теста, проверим:\n",
    "- пересечение тестовой аудитории с конкурирующим тестом;\n",
    "- совпадение теста и маркетинговых событий, другие проблемы временных границ теста.\n"
   ]
  },
  {
   "cell_type": "markdown",
   "metadata": {},
   "source": [
    "**Техническое задание**"
   ]
  },
  {
   "cell_type": "markdown",
   "metadata": {},
   "source": [
    "- Название теста: recommender_system_test;\n",
    "- Группы: А (контрольная), B (новая платёжная воронка);\n",
    "- Дата запуска: 2020-12-07;\n",
    "- Дата остановки набора новых пользователей: 2020-12-21;\n",
    "- Дата остановки: 2021-01-04;\n",
    "- Аудитория: 15% новых пользователей из региона EU;\n",
    "- Назначение теста: тестирование изменений, связанных с внедрением улучшенной рекомендательной системы;\n",
    "- Ожидаемое количество участников теста: 6000.\n",
    "- Ожидаемый эффект: за 14 дней с момента регистрации в системе пользователи покажут улучшение каждой метрики не менее, чем на 10%:\n",
    "    - конверсии в просмотр карточек товаров — событие product_page\n",
    "    - просмотры корзины — product_cart\n",
    "    - покупки — purchase.\n",
    "\n",
    "Загрузите данные теста, проверьте корректность его проведения и проанализируйте полученные результаты."
   ]
  },
  {
   "cell_type": "markdown",
   "metadata": {},
   "source": [
    "**Данные**"
   ]
  },
  {
   "cell_type": "markdown",
   "metadata": {},
   "source": [
    "- /datasets/ab_project_marketing_events.csv — календарь маркетинговых событий на 2020 год;\n",
    "\n",
    "Структура файла: \n",
    "- name — название маркетингового события;\n",
    "- regions — регионы, в которых будет проводиться рекламная кампания;\n",
    "- start_dt — дата начала кампании;\n",
    "- finish_dt — дата завершения кампании.\n",
    "\n",
    "\n",
    "\n",
    "- /datasets/final_ab_new_users.csv — все пользователи, зарегистрировавшиеся в интернет-магазине в период с 7 по 21 декабря 2020 года;\n",
    "\n",
    "Структура файла:\n",
    "- user_id — идентификатор пользователя;\n",
    "- first_date — дата регистрации;\n",
    "- region — регион пользователя;\n",
    "- device — устройство, с которого происходила регистрация.\n",
    "\n",
    "\n",
    "\n",
    "- /datasets/final_ab_events.csv — все события новых пользователей в период с 7 декабря 2020 по 4 января 2021 года;\n",
    "\n",
    "Структура файла:\n",
    "- user_id — идентификатор пользователя;\n",
    "- event_dt — дата и время события;\n",
    "- event_name — тип события;\n",
    "- details — дополнительные данные о событии. Например, для покупок, purchase, в этом поле хранится стоимость покупки в долларах.\n",
    "\n",
    "\n",
    "\n",
    "- /datasets/final_ab_participants.csv — таблица участников тестов.\n",
    "\n",
    "Структура файла:\n",
    "- user_id — идентификатор пользователя;\n",
    "- ab_test — название теста;\n",
    "- group — группа пользователя."
   ]
  },
  {
   "cell_type": "markdown",
   "metadata": {},
   "source": [
    "# 1.  Откроем файл с данными и изучим общую информацию"
   ]
  },
  {
   "cell_type": "markdown",
   "metadata": {},
   "source": [
    "Загрузим необходимые библиотеки:"
   ]
  },
  {
   "cell_type": "code",
   "execution_count": 1,
   "metadata": {},
   "outputs": [],
   "source": [
    "import pandas as pd\n",
    "import datetime as dt\n",
    "import plotly.express as px\n",
    "import matplotlib.pyplot as plt\n",
    "from plotly import graph_objects as go\n",
    "import numpy as np\n",
    "import math as mth\n",
    "from scipy import stats as st"
   ]
  },
  {
   "cell_type": "markdown",
   "metadata": {},
   "source": [
    "Импортируем данные:"
   ]
  },
  {
   "cell_type": "code",
   "execution_count": 2,
   "metadata": {},
   "outputs": [],
   "source": [
    "project_marketing_events = pd.read_csv('/Users/olya/Desktop/Портфолио/Выпускной проект/Данные/ab_project_marketing_events.csv')\n",
    "events = pd.read_csv('/Users/olya/Desktop/Портфолио/Выпускной проект/Данные/final_ab_events.csv')\n",
    "users = pd.read_csv('/Users/olya/Desktop/Портфолио/Выпускной проект/Данные/final_ab_new_users.csv')\n",
    "participants = pd.read_csv('/Users/olya/Desktop/Портфолио/Выпускной проект/Данные/final_ab_participants.csv')\n",
    "tables = [project_marketing_events, events, users, participants]\n",
    "tables_name = ['project_marketing_events', 'events', 'users', 'participants']"
   ]
  },
  {
   "cell_type": "markdown",
   "metadata": {},
   "source": [
    "Знакомимся с датафреймами:"
   ]
  },
  {
   "cell_type": "code",
   "execution_count": 3,
   "metadata": {
    "scrolled": false
   },
   "outputs": [
    {
     "name": "stdout",
     "output_type": "stream",
     "text": [
      "project_marketing_events\n"
     ]
    },
    {
     "data": {
      "text/html": [
       "<div>\n",
       "<style scoped>\n",
       "    .dataframe tbody tr th:only-of-type {\n",
       "        vertical-align: middle;\n",
       "    }\n",
       "\n",
       "    .dataframe tbody tr th {\n",
       "        vertical-align: top;\n",
       "    }\n",
       "\n",
       "    .dataframe thead th {\n",
       "        text-align: right;\n",
       "    }\n",
       "</style>\n",
       "<table border=\"1\" class=\"dataframe\">\n",
       "  <thead>\n",
       "    <tr style=\"text-align: right;\">\n",
       "      <th></th>\n",
       "      <th>name</th>\n",
       "      <th>regions</th>\n",
       "      <th>start_dt</th>\n",
       "      <th>finish_dt</th>\n",
       "    </tr>\n",
       "  </thead>\n",
       "  <tbody>\n",
       "    <tr>\n",
       "      <th>0</th>\n",
       "      <td>Christmas&amp;New Year Promo</td>\n",
       "      <td>EU, N.America</td>\n",
       "      <td>2020-12-25</td>\n",
       "      <td>2021-01-03</td>\n",
       "    </tr>\n",
       "    <tr>\n",
       "      <th>1</th>\n",
       "      <td>St. Valentine's Day Giveaway</td>\n",
       "      <td>EU, CIS, APAC, N.America</td>\n",
       "      <td>2020-02-14</td>\n",
       "      <td>2020-02-16</td>\n",
       "    </tr>\n",
       "    <tr>\n",
       "      <th>2</th>\n",
       "      <td>St. Patric's Day Promo</td>\n",
       "      <td>EU, N.America</td>\n",
       "      <td>2020-03-17</td>\n",
       "      <td>2020-03-19</td>\n",
       "    </tr>\n",
       "    <tr>\n",
       "      <th>3</th>\n",
       "      <td>Easter Promo</td>\n",
       "      <td>EU, CIS, APAC, N.America</td>\n",
       "      <td>2020-04-12</td>\n",
       "      <td>2020-04-19</td>\n",
       "    </tr>\n",
       "    <tr>\n",
       "      <th>4</th>\n",
       "      <td>4th of July Promo</td>\n",
       "      <td>N.America</td>\n",
       "      <td>2020-07-04</td>\n",
       "      <td>2020-07-11</td>\n",
       "    </tr>\n",
       "  </tbody>\n",
       "</table>\n",
       "</div>"
      ],
      "text/plain": [
       "                           name                   regions    start_dt  \\\n",
       "0      Christmas&New Year Promo             EU, N.America  2020-12-25   \n",
       "1  St. Valentine's Day Giveaway  EU, CIS, APAC, N.America  2020-02-14   \n",
       "2        St. Patric's Day Promo             EU, N.America  2020-03-17   \n",
       "3                  Easter Promo  EU, CIS, APAC, N.America  2020-04-12   \n",
       "4             4th of July Promo                 N.America  2020-07-04   \n",
       "\n",
       "    finish_dt  \n",
       "0  2021-01-03  \n",
       "1  2020-02-16  \n",
       "2  2020-03-19  \n",
       "3  2020-04-19  \n",
       "4  2020-07-11  "
      ]
     },
     "metadata": {},
     "output_type": "display_data"
    },
    {
     "name": "stdout",
     "output_type": "stream",
     "text": [
      "<class 'pandas.core.frame.DataFrame'>\n",
      "RangeIndex: 14 entries, 0 to 13\n",
      "Data columns (total 4 columns):\n",
      " #   Column     Non-Null Count  Dtype \n",
      "---  ------     --------------  ----- \n",
      " 0   name       14 non-null     object\n",
      " 1   regions    14 non-null     object\n",
      " 2   start_dt   14 non-null     object\n",
      " 3   finish_dt  14 non-null     object\n",
      "dtypes: object(4)\n",
      "memory usage: 580.0+ bytes\n",
      "\n",
      "events\n"
     ]
    },
    {
     "data": {
      "text/html": [
       "<div>\n",
       "<style scoped>\n",
       "    .dataframe tbody tr th:only-of-type {\n",
       "        vertical-align: middle;\n",
       "    }\n",
       "\n",
       "    .dataframe tbody tr th {\n",
       "        vertical-align: top;\n",
       "    }\n",
       "\n",
       "    .dataframe thead th {\n",
       "        text-align: right;\n",
       "    }\n",
       "</style>\n",
       "<table border=\"1\" class=\"dataframe\">\n",
       "  <thead>\n",
       "    <tr style=\"text-align: right;\">\n",
       "      <th></th>\n",
       "      <th>user_id</th>\n",
       "      <th>event_dt</th>\n",
       "      <th>event_name</th>\n",
       "      <th>details</th>\n",
       "    </tr>\n",
       "  </thead>\n",
       "  <tbody>\n",
       "    <tr>\n",
       "      <th>0</th>\n",
       "      <td>E1BDDCE0DAFA2679</td>\n",
       "      <td>2020-12-07 20:22:03</td>\n",
       "      <td>purchase</td>\n",
       "      <td>99.99</td>\n",
       "    </tr>\n",
       "    <tr>\n",
       "      <th>1</th>\n",
       "      <td>7B6452F081F49504</td>\n",
       "      <td>2020-12-07 09:22:53</td>\n",
       "      <td>purchase</td>\n",
       "      <td>9.99</td>\n",
       "    </tr>\n",
       "    <tr>\n",
       "      <th>2</th>\n",
       "      <td>9CD9F34546DF254C</td>\n",
       "      <td>2020-12-07 12:59:29</td>\n",
       "      <td>purchase</td>\n",
       "      <td>4.99</td>\n",
       "    </tr>\n",
       "    <tr>\n",
       "      <th>3</th>\n",
       "      <td>96F27A054B191457</td>\n",
       "      <td>2020-12-07 04:02:40</td>\n",
       "      <td>purchase</td>\n",
       "      <td>4.99</td>\n",
       "    </tr>\n",
       "    <tr>\n",
       "      <th>4</th>\n",
       "      <td>1FD7660FDF94CA1F</td>\n",
       "      <td>2020-12-07 10:15:09</td>\n",
       "      <td>purchase</td>\n",
       "      <td>4.99</td>\n",
       "    </tr>\n",
       "  </tbody>\n",
       "</table>\n",
       "</div>"
      ],
      "text/plain": [
       "            user_id             event_dt event_name  details\n",
       "0  E1BDDCE0DAFA2679  2020-12-07 20:22:03   purchase    99.99\n",
       "1  7B6452F081F49504  2020-12-07 09:22:53   purchase     9.99\n",
       "2  9CD9F34546DF254C  2020-12-07 12:59:29   purchase     4.99\n",
       "3  96F27A054B191457  2020-12-07 04:02:40   purchase     4.99\n",
       "4  1FD7660FDF94CA1F  2020-12-07 10:15:09   purchase     4.99"
      ]
     },
     "metadata": {},
     "output_type": "display_data"
    },
    {
     "name": "stdout",
     "output_type": "stream",
     "text": [
      "<class 'pandas.core.frame.DataFrame'>\n",
      "RangeIndex: 440317 entries, 0 to 440316\n",
      "Data columns (total 4 columns):\n",
      " #   Column      Non-Null Count   Dtype  \n",
      "---  ------      --------------   -----  \n",
      " 0   user_id     440317 non-null  object \n",
      " 1   event_dt    440317 non-null  object \n",
      " 2   event_name  440317 non-null  object \n",
      " 3   details     62740 non-null   float64\n",
      "dtypes: float64(1), object(3)\n",
      "memory usage: 13.4+ MB\n",
      "\n",
      "users\n"
     ]
    },
    {
     "data": {
      "text/html": [
       "<div>\n",
       "<style scoped>\n",
       "    .dataframe tbody tr th:only-of-type {\n",
       "        vertical-align: middle;\n",
       "    }\n",
       "\n",
       "    .dataframe tbody tr th {\n",
       "        vertical-align: top;\n",
       "    }\n",
       "\n",
       "    .dataframe thead th {\n",
       "        text-align: right;\n",
       "    }\n",
       "</style>\n",
       "<table border=\"1\" class=\"dataframe\">\n",
       "  <thead>\n",
       "    <tr style=\"text-align: right;\">\n",
       "      <th></th>\n",
       "      <th>user_id</th>\n",
       "      <th>first_date</th>\n",
       "      <th>region</th>\n",
       "      <th>device</th>\n",
       "    </tr>\n",
       "  </thead>\n",
       "  <tbody>\n",
       "    <tr>\n",
       "      <th>0</th>\n",
       "      <td>D72A72121175D8BE</td>\n",
       "      <td>2020-12-07</td>\n",
       "      <td>EU</td>\n",
       "      <td>PC</td>\n",
       "    </tr>\n",
       "    <tr>\n",
       "      <th>1</th>\n",
       "      <td>F1C668619DFE6E65</td>\n",
       "      <td>2020-12-07</td>\n",
       "      <td>N.America</td>\n",
       "      <td>Android</td>\n",
       "    </tr>\n",
       "    <tr>\n",
       "      <th>2</th>\n",
       "      <td>2E1BF1D4C37EA01F</td>\n",
       "      <td>2020-12-07</td>\n",
       "      <td>EU</td>\n",
       "      <td>PC</td>\n",
       "    </tr>\n",
       "    <tr>\n",
       "      <th>3</th>\n",
       "      <td>50734A22C0C63768</td>\n",
       "      <td>2020-12-07</td>\n",
       "      <td>EU</td>\n",
       "      <td>iPhone</td>\n",
       "    </tr>\n",
       "    <tr>\n",
       "      <th>4</th>\n",
       "      <td>E1BDDCE0DAFA2679</td>\n",
       "      <td>2020-12-07</td>\n",
       "      <td>N.America</td>\n",
       "      <td>iPhone</td>\n",
       "    </tr>\n",
       "  </tbody>\n",
       "</table>\n",
       "</div>"
      ],
      "text/plain": [
       "            user_id  first_date     region   device\n",
       "0  D72A72121175D8BE  2020-12-07         EU       PC\n",
       "1  F1C668619DFE6E65  2020-12-07  N.America  Android\n",
       "2  2E1BF1D4C37EA01F  2020-12-07         EU       PC\n",
       "3  50734A22C0C63768  2020-12-07         EU   iPhone\n",
       "4  E1BDDCE0DAFA2679  2020-12-07  N.America   iPhone"
      ]
     },
     "metadata": {},
     "output_type": "display_data"
    },
    {
     "name": "stdout",
     "output_type": "stream",
     "text": [
      "<class 'pandas.core.frame.DataFrame'>\n",
      "RangeIndex: 61733 entries, 0 to 61732\n",
      "Data columns (total 4 columns):\n",
      " #   Column      Non-Null Count  Dtype \n",
      "---  ------      --------------  ----- \n",
      " 0   user_id     61733 non-null  object\n",
      " 1   first_date  61733 non-null  object\n",
      " 2   region      61733 non-null  object\n",
      " 3   device      61733 non-null  object\n",
      "dtypes: object(4)\n",
      "memory usage: 1.9+ MB\n",
      "\n",
      "participants\n"
     ]
    },
    {
     "data": {
      "text/html": [
       "<div>\n",
       "<style scoped>\n",
       "    .dataframe tbody tr th:only-of-type {\n",
       "        vertical-align: middle;\n",
       "    }\n",
       "\n",
       "    .dataframe tbody tr th {\n",
       "        vertical-align: top;\n",
       "    }\n",
       "\n",
       "    .dataframe thead th {\n",
       "        text-align: right;\n",
       "    }\n",
       "</style>\n",
       "<table border=\"1\" class=\"dataframe\">\n",
       "  <thead>\n",
       "    <tr style=\"text-align: right;\">\n",
       "      <th></th>\n",
       "      <th>user_id</th>\n",
       "      <th>group</th>\n",
       "      <th>ab_test</th>\n",
       "    </tr>\n",
       "  </thead>\n",
       "  <tbody>\n",
       "    <tr>\n",
       "      <th>0</th>\n",
       "      <td>D1ABA3E2887B6A73</td>\n",
       "      <td>A</td>\n",
       "      <td>recommender_system_test</td>\n",
       "    </tr>\n",
       "    <tr>\n",
       "      <th>1</th>\n",
       "      <td>A7A3664BD6242119</td>\n",
       "      <td>A</td>\n",
       "      <td>recommender_system_test</td>\n",
       "    </tr>\n",
       "    <tr>\n",
       "      <th>2</th>\n",
       "      <td>DABC14FDDFADD29E</td>\n",
       "      <td>A</td>\n",
       "      <td>recommender_system_test</td>\n",
       "    </tr>\n",
       "    <tr>\n",
       "      <th>3</th>\n",
       "      <td>04988C5DF189632E</td>\n",
       "      <td>A</td>\n",
       "      <td>recommender_system_test</td>\n",
       "    </tr>\n",
       "    <tr>\n",
       "      <th>4</th>\n",
       "      <td>482F14783456D21B</td>\n",
       "      <td>B</td>\n",
       "      <td>recommender_system_test</td>\n",
       "    </tr>\n",
       "  </tbody>\n",
       "</table>\n",
       "</div>"
      ],
      "text/plain": [
       "            user_id group                  ab_test\n",
       "0  D1ABA3E2887B6A73     A  recommender_system_test\n",
       "1  A7A3664BD6242119     A  recommender_system_test\n",
       "2  DABC14FDDFADD29E     A  recommender_system_test\n",
       "3  04988C5DF189632E     A  recommender_system_test\n",
       "4  482F14783456D21B     B  recommender_system_test"
      ]
     },
     "metadata": {},
     "output_type": "display_data"
    },
    {
     "name": "stdout",
     "output_type": "stream",
     "text": [
      "<class 'pandas.core.frame.DataFrame'>\n",
      "RangeIndex: 18268 entries, 0 to 18267\n",
      "Data columns (total 3 columns):\n",
      " #   Column   Non-Null Count  Dtype \n",
      "---  ------   --------------  ----- \n",
      " 0   user_id  18268 non-null  object\n",
      " 1   group    18268 non-null  object\n",
      " 2   ab_test  18268 non-null  object\n",
      "dtypes: object(3)\n",
      "memory usage: 428.3+ KB\n",
      "\n"
     ]
    }
   ],
   "source": [
    "for i in range(len(tables)):\n",
    "  print(tables_name[i])\n",
    "  display(tables[i].head())\n",
    "  tables[i].info()\n",
    "  print()"
   ]
  },
  {
   "cell_type": "markdown",
   "metadata": {},
   "source": [
    "# 2. Подготовка данных"
   ]
  },
  {
   "cell_type": "markdown",
   "metadata": {},
   "source": [
    "1) Преобразуем к типу datetime следующие столбцы:\n",
    "- start_dt и finish_dt таблицы project_marketing_events; \n",
    "- event_dt таблицы events; \n",
    "- first_date таблицы users."
   ]
  },
  {
   "cell_type": "code",
   "execution_count": 4,
   "metadata": {},
   "outputs": [],
   "source": [
    "project_marketing_events['start_dt'] = pd.to_datetime(project_marketing_events['start_dt'])"
   ]
  },
  {
   "cell_type": "code",
   "execution_count": 5,
   "metadata": {},
   "outputs": [],
   "source": [
    "project_marketing_events['finish_dt'] = pd.to_datetime(project_marketing_events['finish_dt'])"
   ]
  },
  {
   "cell_type": "code",
   "execution_count": 6,
   "metadata": {},
   "outputs": [],
   "source": [
    "events['event_dt'] = pd.to_datetime(events['event_dt']).dt.date\n",
    "events['event_dt'] = pd.to_datetime(events['event_dt'])"
   ]
  },
  {
   "cell_type": "code",
   "execution_count": 7,
   "metadata": {},
   "outputs": [],
   "source": [
    "users['first_date'] = pd.to_datetime(users['first_date'])"
   ]
  },
  {
   "cell_type": "code",
   "execution_count": 8,
   "metadata": {},
   "outputs": [],
   "source": [
    "#проверка\n",
    "# for i in range(len(tables)):\n",
    "#   print(tables_name[i])\n",
    "#   display(tables[i].head())\n",
    "#   tables[i].info()\n",
    "#   print()"
   ]
  },
  {
   "cell_type": "markdown",
   "metadata": {},
   "source": [
    "2) Анализ пропущенных значений и дубликатов"
   ]
  },
  {
   "cell_type": "code",
   "execution_count": 9,
   "metadata": {},
   "outputs": [
    {
     "name": "stdout",
     "output_type": "stream",
     "text": [
      "project_marketing_events\n",
      "name         0\n",
      "regions      0\n",
      "start_dt     0\n",
      "finish_dt    0\n",
      "dtype: int64\n",
      "\n",
      "events\n",
      "user_id            0\n",
      "event_dt           0\n",
      "event_name         0\n",
      "details       377577\n",
      "dtype: int64\n",
      "\n",
      "users\n",
      "user_id       0\n",
      "first_date    0\n",
      "region        0\n",
      "device        0\n",
      "dtype: int64\n",
      "\n",
      "participants\n",
      "user_id    0\n",
      "group      0\n",
      "ab_test    0\n",
      "dtype: int64\n",
      "\n"
     ]
    }
   ],
   "source": [
    "for i in range(len(tables)):\n",
    "  print(tables_name[i])\n",
    "  print(tables[i].isna().sum())\n",
    "  print()"
   ]
  },
  {
   "cell_type": "markdown",
   "metadata": {},
   "source": [
    "В таблице events в столбце details имеется большое кол-во пропусков. Возможно они связаны с тем, что не для всех событий нужны дополнительные данные. Пропуски оставляем как есть. Перейдем к поиску дубликатов."
   ]
  },
  {
   "cell_type": "code",
   "execution_count": 10,
   "metadata": {},
   "outputs": [
    {
     "name": "stdout",
     "output_type": "stream",
     "text": [
      "project_marketing_events\n",
      "0\n",
      "\n",
      "events\n",
      "2\n",
      "\n",
      "users\n",
      "0\n",
      "\n",
      "participants\n",
      "0\n",
      "\n"
     ]
    }
   ],
   "source": [
    "for i in range(len(tables)):\n",
    "  print(tables_name[i])\n",
    "  print(tables[i].duplicated().sum())\n",
    "  print()"
   ]
  },
  {
   "cell_type": "markdown",
   "metadata": {},
   "source": [
    "В таблице events обнаружили два дубликата, удалим их.\n"
   ]
  },
  {
   "cell_type": "code",
   "execution_count": 11,
   "metadata": {},
   "outputs": [
    {
     "name": "stdout",
     "output_type": "stream",
     "text": [
      "0\n"
     ]
    }
   ],
   "source": [
    "events = events.drop_duplicates()\n",
    "print(events.duplicated().sum())"
   ]
  },
  {
   "cell_type": "markdown",
   "metadata": {},
   "source": [
    "# 3. Оценка корректности проведения теста"
   ]
  },
  {
   "cell_type": "markdown",
   "metadata": {},
   "source": [
    "Для удобства исследования объединим таблицы events, participants и users."
   ]
  },
  {
   "cell_type": "code",
   "execution_count": 12,
   "metadata": {},
   "outputs": [
    {
     "data": {
      "text/html": [
       "<div>\n",
       "<style scoped>\n",
       "    .dataframe tbody tr th:only-of-type {\n",
       "        vertical-align: middle;\n",
       "    }\n",
       "\n",
       "    .dataframe tbody tr th {\n",
       "        vertical-align: top;\n",
       "    }\n",
       "\n",
       "    .dataframe thead th {\n",
       "        text-align: right;\n",
       "    }\n",
       "</style>\n",
       "<table border=\"1\" class=\"dataframe\">\n",
       "  <thead>\n",
       "    <tr style=\"text-align: right;\">\n",
       "      <th></th>\n",
       "      <th>user_id</th>\n",
       "      <th>event_dt</th>\n",
       "      <th>event_name</th>\n",
       "      <th>details</th>\n",
       "      <th>first_date</th>\n",
       "      <th>region</th>\n",
       "      <th>device</th>\n",
       "      <th>group</th>\n",
       "      <th>ab_test</th>\n",
       "    </tr>\n",
       "  </thead>\n",
       "  <tbody>\n",
       "    <tr>\n",
       "      <th>0</th>\n",
       "      <td>E1BDDCE0DAFA2679</td>\n",
       "      <td>2020-12-07</td>\n",
       "      <td>purchase</td>\n",
       "      <td>99.99</td>\n",
       "      <td>2020-12-07</td>\n",
       "      <td>N.America</td>\n",
       "      <td>iPhone</td>\n",
       "      <td>NaN</td>\n",
       "      <td>NaN</td>\n",
       "    </tr>\n",
       "    <tr>\n",
       "      <th>1</th>\n",
       "      <td>E1BDDCE0DAFA2679</td>\n",
       "      <td>2020-12-09</td>\n",
       "      <td>purchase</td>\n",
       "      <td>9.99</td>\n",
       "      <td>2020-12-07</td>\n",
       "      <td>N.America</td>\n",
       "      <td>iPhone</td>\n",
       "      <td>NaN</td>\n",
       "      <td>NaN</td>\n",
       "    </tr>\n",
       "    <tr>\n",
       "      <th>2</th>\n",
       "      <td>E1BDDCE0DAFA2679</td>\n",
       "      <td>2020-12-25</td>\n",
       "      <td>purchase</td>\n",
       "      <td>499.99</td>\n",
       "      <td>2020-12-07</td>\n",
       "      <td>N.America</td>\n",
       "      <td>iPhone</td>\n",
       "      <td>NaN</td>\n",
       "      <td>NaN</td>\n",
       "    </tr>\n",
       "    <tr>\n",
       "      <th>3</th>\n",
       "      <td>E1BDDCE0DAFA2679</td>\n",
       "      <td>2020-12-07</td>\n",
       "      <td>login</td>\n",
       "      <td>NaN</td>\n",
       "      <td>2020-12-07</td>\n",
       "      <td>N.America</td>\n",
       "      <td>iPhone</td>\n",
       "      <td>NaN</td>\n",
       "      <td>NaN</td>\n",
       "    </tr>\n",
       "    <tr>\n",
       "      <th>4</th>\n",
       "      <td>E1BDDCE0DAFA2679</td>\n",
       "      <td>2020-12-09</td>\n",
       "      <td>login</td>\n",
       "      <td>NaN</td>\n",
       "      <td>2020-12-07</td>\n",
       "      <td>N.America</td>\n",
       "      <td>iPhone</td>\n",
       "      <td>NaN</td>\n",
       "      <td>NaN</td>\n",
       "    </tr>\n",
       "  </tbody>\n",
       "</table>\n",
       "</div>"
      ],
      "text/plain": [
       "            user_id   event_dt event_name  details first_date     region  \\\n",
       "0  E1BDDCE0DAFA2679 2020-12-07   purchase    99.99 2020-12-07  N.America   \n",
       "1  E1BDDCE0DAFA2679 2020-12-09   purchase     9.99 2020-12-07  N.America   \n",
       "2  E1BDDCE0DAFA2679 2020-12-25   purchase   499.99 2020-12-07  N.America   \n",
       "3  E1BDDCE0DAFA2679 2020-12-07      login      NaN 2020-12-07  N.America   \n",
       "4  E1BDDCE0DAFA2679 2020-12-09      login      NaN 2020-12-07  N.America   \n",
       "\n",
       "   device group ab_test  \n",
       "0  iPhone   NaN     NaN  \n",
       "1  iPhone   NaN     NaN  \n",
       "2  iPhone   NaN     NaN  \n",
       "3  iPhone   NaN     NaN  \n",
       "4  iPhone   NaN     NaN  "
      ]
     },
     "execution_count": 12,
     "metadata": {},
     "output_type": "execute_result"
    }
   ],
   "source": [
    "tables_mix = events.merge(users, on = 'user_id', how = 'outer').merge(participants, on = 'user_id', how = 'outer')\n",
    "tables_mix.head()"
   ]
  },
  {
   "cell_type": "markdown",
   "metadata": {},
   "source": [
    "**Проверим соответствие данных требованиям технического задания. Проверим корректность всех пунктов технического задания.**"
   ]
  },
  {
   "cell_type": "markdown",
   "metadata": {},
   "source": [
    "- Название теста: recommender_system_test"
   ]
  },
  {
   "cell_type": "code",
   "execution_count": 13,
   "metadata": {},
   "outputs": [
    {
     "name": "stdout",
     "output_type": "stream",
     "text": [
      "Уникальные названия тестов: [nan 'interface_eu_test' 'recommender_system_test']\n"
     ]
    }
   ],
   "source": [
    "print('Уникальные названия тестов:', tables_mix['ab_test'].unique())"
   ]
  },
  {
   "cell_type": "markdown",
   "metadata": {},
   "source": [
    "Оставим в данных строки где в столбце ab_test указано только recommender_system_test"
   ]
  },
  {
   "cell_type": "code",
   "execution_count": 14,
   "metadata": {},
   "outputs": [],
   "source": [
    "tables_mix = tables_mix.query('ab_test == \"recommender_system_test\"')"
   ]
  },
  {
   "cell_type": "markdown",
   "metadata": {},
   "source": [
    "- Дата запуска: 2020-12-07 \n",
    "- Дата остановки набора новых пользователей: 2020-12-21\n",
    "- Дата остановки: 2021-01-04"
   ]
  },
  {
   "cell_type": "code",
   "execution_count": 15,
   "metadata": {},
   "outputs": [
    {
     "name": "stdout",
     "output_type": "stream",
     "text": [
      "Минимальныя дата столбца с датой регистрации пользователя: 2020-12-07 00:00:00\n",
      "Максимальная дата столбца с датой регистрации пользователя: 2020-12-21 00:00:00\n",
      "Максимальная дата в столбце с датой и временем события: 2020-12-30 00:00:00\n"
     ]
    }
   ],
   "source": [
    "print('Минимальныя дата столбца с датой регистрации пользователя:', tables_mix['first_date'].min())\n",
    "print('Максимальная дата столбца с датой регистрации пользователя:', tables_mix['first_date'].max())\n",
    "print('Максимальная дата в столбце с датой и временем события:', tables_mix['event_dt'].max())"
   ]
  },
  {
   "cell_type": "markdown",
   "metadata": {},
   "source": [
    "Дата запуска и остановки набора новый пользователей совпадает с ТЗ, но закончилось на 5 дней раньше."
   ]
  },
  {
   "cell_type": "code",
   "execution_count": 16,
   "metadata": {},
   "outputs": [],
   "source": [
    "# tables_mix = tables_mix.query('first_date < \"2020-12-22\"')\n",
    "# print('Максимальная дата столбца с датой регистрации пользователя:', tables_mix['first_date'].max()) #проверка"
   ]
  },
  {
   "cell_type": "markdown",
   "metadata": {},
   "source": [
    "- Аудитория: 15% новых пользователей из региона EU"
   ]
  },
  {
   "cell_type": "code",
   "execution_count": 17,
   "metadata": {},
   "outputs": [],
   "source": [
    "eu_new = users.query('region == \"EU\" and first_date < \"2020-12-22\"')['user_id'].unique() #уникальные пользователи \n",
    "# из EU зарегистрировавшиеся до 21 декабря\n",
    "\n",
    "eu_new_count = users.query('region == \"EU\" and first_date < \"2020-12-22\"')['user_id'].nunique() #количество уникальных пользователей \n",
    "# из EU зарегистрировавшихся до 21 декабря\n",
    "\n",
    "\n"
   ]
  },
  {
   "cell_type": "code",
   "execution_count": 18,
   "metadata": {},
   "outputs": [],
   "source": [
    "eu = participants.query(' ab_test == \"recommender_system_test\" and user_id in @eu_new')['user_id'].nunique() \n",
    "#всего участников теста из EU"
   ]
  },
  {
   "cell_type": "code",
   "execution_count": 19,
   "metadata": {
    "scrolled": true
   },
   "outputs": [
    {
     "name": "stdout",
     "output_type": "stream",
     "text": [
      "Новых пользователей из региона EU: 15 %\n"
     ]
    }
   ],
   "source": [
    "print('Новых пользователей из региона EU:', round(eu/eu_new_count*100),'%')"
   ]
  },
  {
   "cell_type": "markdown",
   "metadata": {},
   "source": [
    "Удовлетворяет техническому заданию."
   ]
  },
  {
   "cell_type": "markdown",
   "metadata": {},
   "source": [
    "**Посмотрим аудиторию теста. Удостоверимся, что нет пересечений с конкурирующим тестом и нет пользователей, участвующих в двух группах теста одновременно. Проверим равномерность распределения пользователей по тестовым группам и правильность их формирования.**"
   ]
  },
  {
   "cell_type": "markdown",
   "metadata": {},
   "source": [
    "Посмотрим сколько пользователей группы В участвовали не только в тесте recommender_system_test"
   ]
  },
  {
   "cell_type": "code",
   "execution_count": 20,
   "metadata": {},
   "outputs": [
    {
     "name": "stdout",
     "output_type": "stream",
     "text": [
      "Количество пользователей группы В, участвовавшие больше, чем в одном тесте 344\n"
     ]
    }
   ],
   "source": [
    "participants_B = participants.query('group == \"B\"')\n",
    "\n",
    "v = participants_B.groupby('user_id', as_index=False).agg({'ab_test': 'count'})\n",
    "\n",
    "print('Количество пользователей группы В, участвовавшие больше, чем в одном тесте', v.query('ab_test > 1')['user_id'].nunique())\n",
    "\n",
    "v_user_id = v.query('ab_test > 1')['user_id'].unique() #id таких пользователей\n"
   ]
  },
  {
   "cell_type": "markdown",
   "metadata": {},
   "source": [
    "Удалим пользователей, которые пересеклись с конкурирующим тестом из таблицы tables_mix"
   ]
  },
  {
   "cell_type": "code",
   "execution_count": 21,
   "metadata": {},
   "outputs": [],
   "source": [
    "tables_mix = tables_mix.query('user_id not in @v_user_id')"
   ]
  },
  {
   "cell_type": "markdown",
   "metadata": {},
   "source": [
    "Посмотрим, не попал ли один и тот же user_id в обе тестовые группы"
   ]
  },
  {
   "cell_type": "code",
   "execution_count": 22,
   "metadata": {},
   "outputs": [
    {
     "name": "stdout",
     "output_type": "stream",
     "text": [
      "Количество пользователей, которые одновременно попали и в группу А и в группу В: 776\n"
     ]
    }
   ],
   "source": [
    "users_A = participants.query('group == \"A\"')['user_id'].unique()\n",
    "users_B = participants.query('group == \"B\"')['user_id'].unique()\n",
    "\n",
    "count_dable_user_id = []\n",
    "for userA in users_A:\n",
    "    if userA in users_B:\n",
    "        count_dable_user_id.append(userA)\n",
    "\n",
    "print('Количество пользователей, которые одновременно попали и в группу А и в группу В:', len(count_dable_user_id))\n",
    "        "
   ]
  },
  {
   "cell_type": "markdown",
   "metadata": {},
   "source": [
    "Удалим пользователей, которые попали в группу А и в группу В одновременно."
   ]
  },
  {
   "cell_type": "code",
   "execution_count": 23,
   "metadata": {},
   "outputs": [],
   "source": [
    "tables_mix = tables_mix.query('user_id not in @count_dable_user_id')"
   ]
  },
  {
   "cell_type": "markdown",
   "metadata": {},
   "source": [
    "Проверим равномерность распределения пользователей по тестовым группам"
   ]
  },
  {
   "cell_type": "code",
   "execution_count": 24,
   "metadata": {
    "scrolled": true
   },
   "outputs": [
    {
     "name": "stdout",
     "output_type": "stream",
     "text": [
      "Доля пользователей от общего кол-ва, относящаяся к группе А 0.607\n",
      "Доля пользователей от общего кол-ва, относящаяся к группе B 0.393\n"
     ]
    }
   ],
   "source": [
    "a = tables_mix.query('group == \"A\"')['user_id'].nunique()/(tables_mix['user_id'].nunique())\n",
    "b = tables_mix.query('group == \"B\"')['user_id'].nunique()/(tables_mix['user_id'].nunique())\n",
    "print('Доля пользователей от общего кол-ва, относящаяся к группе А', round(a, 3))\n",
    "print('Доля пользователей от общего кол-ва, относящаяся к группе B', round(b, 3))"
   ]
  },
  {
   "cell_type": "markdown",
   "metadata": {},
   "source": [
    "Пользователи распределены не равномерно по группам. В контрольную группу попало 60% пользователей, в новую платежную воронку только 40%. Тк группы достаточно большие, это не должно повлиять на результаты теста."
   ]
  },
  {
   "cell_type": "markdown",
   "metadata": {},
   "source": [
    "**Проверим, не совпадает ли время проведения теста с маркетинговыми и другими активностями**"
   ]
  },
  {
   "cell_type": "markdown",
   "metadata": {},
   "source": [
    "Обратимся к календарю маркетинговых событий project_marketing_events"
   ]
  },
  {
   "cell_type": "code",
   "execution_count": 25,
   "metadata": {},
   "outputs": [
    {
     "data": {
      "text/html": [
       "<div>\n",
       "<style scoped>\n",
       "    .dataframe tbody tr th:only-of-type {\n",
       "        vertical-align: middle;\n",
       "    }\n",
       "\n",
       "    .dataframe tbody tr th {\n",
       "        vertical-align: top;\n",
       "    }\n",
       "\n",
       "    .dataframe thead th {\n",
       "        text-align: right;\n",
       "    }\n",
       "</style>\n",
       "<table border=\"1\" class=\"dataframe\">\n",
       "  <thead>\n",
       "    <tr style=\"text-align: right;\">\n",
       "      <th></th>\n",
       "      <th>name</th>\n",
       "      <th>regions</th>\n",
       "      <th>start_dt</th>\n",
       "      <th>finish_dt</th>\n",
       "    </tr>\n",
       "  </thead>\n",
       "  <tbody>\n",
       "    <tr>\n",
       "      <th>0</th>\n",
       "      <td>Christmas&amp;New Year Promo</td>\n",
       "      <td>EU, N.America</td>\n",
       "      <td>2020-12-25</td>\n",
       "      <td>2021-01-03</td>\n",
       "    </tr>\n",
       "    <tr>\n",
       "      <th>10</th>\n",
       "      <td>CIS New Year Gift Lottery</td>\n",
       "      <td>CIS</td>\n",
       "      <td>2020-12-30</td>\n",
       "      <td>2021-01-07</td>\n",
       "    </tr>\n",
       "  </tbody>\n",
       "</table>\n",
       "</div>"
      ],
      "text/plain": [
       "                         name        regions   start_dt  finish_dt\n",
       "0    Christmas&New Year Promo  EU, N.America 2020-12-25 2021-01-03\n",
       "10  CIS New Year Gift Lottery            CIS 2020-12-30 2021-01-07"
      ]
     },
     "execution_count": 25,
     "metadata": {},
     "output_type": "execute_result"
    }
   ],
   "source": [
    "project_marketing_events = project_marketing_events.query('(start_dt >= \"2020-12-07\" and start_dt < \"2021-01-04\") or (finish_dt >= \"2020-12-07\" and finish_dt < \"2021-01-04\")')\n",
    "project_marketing_events"
   ]
  },
  {
   "cell_type": "markdown",
   "metadata": {},
   "source": [
    "Время проведения теста совпало с двумя рождественскими активностями Christmas&New Year Promo и CIS New Year Gift Lottery, что могло сказаться на результатах теста."
   ]
  },
  {
   "cell_type": "markdown",
   "metadata": {},
   "source": [
    "- \"Ожидаемый эффект: за 14 дней с момента регистрации в системе пользователи покажут улучшение каждой метрики не менее, чем на 10%\" . Чтобы удовлетворить данному пункту тз удалим события, которые были совершены позже 14 дней с даты регистрации пользователя."
   ]
  },
  {
   "cell_type": "code",
   "execution_count": 26,
   "metadata": {},
   "outputs": [],
   "source": [
    "tables_mix['lifetime'] = (tables_mix['event_dt'] - tables_mix['first_date']).dt.days\n",
    "tables_mix = tables_mix.query('lifetime <= 14')"
   ]
  },
  {
   "cell_type": "markdown",
   "metadata": {},
   "source": [
    "- Ожидаемое количество участников теста: 6000."
   ]
  },
  {
   "cell_type": "code",
   "execution_count": 27,
   "metadata": {
    "scrolled": false
   },
   "outputs": [
    {
     "name": "stdout",
     "output_type": "stream",
     "text": [
      "Реальное количество участников теста: 3128\n"
     ]
    }
   ],
   "source": [
    "print('Реальное количество участников теста:', tables_mix['user_id'].nunique())"
   ]
  },
  {
   "cell_type": "markdown",
   "metadata": {},
   "source": [
    "Не удовлетворяет техническому заданию."
   ]
  },
  {
   "cell_type": "markdown",
   "metadata": {},
   "source": [
    "# 4. Исследовательский анализ данных"
   ]
  },
  {
   "cell_type": "markdown",
   "metadata": {},
   "source": [
    "\n",
    "- Узнаем, одинаково ли распределены в выборка количество событий на пользователя"
   ]
  },
  {
   "cell_type": "code",
   "execution_count": 28,
   "metadata": {
    "scrolled": false
   },
   "outputs": [
    {
     "data": {
      "text/html": [
       "<div>\n",
       "<style scoped>\n",
       "    .dataframe tbody tr th:only-of-type {\n",
       "        vertical-align: middle;\n",
       "    }\n",
       "\n",
       "    .dataframe tbody tr th {\n",
       "        vertical-align: top;\n",
       "    }\n",
       "\n",
       "    .dataframe thead th {\n",
       "        text-align: right;\n",
       "    }\n",
       "</style>\n",
       "<table border=\"1\" class=\"dataframe\">\n",
       "  <thead>\n",
       "    <tr style=\"text-align: right;\">\n",
       "      <th></th>\n",
       "      <th>event_name</th>\n",
       "      <th>group</th>\n",
       "      <th>user_id</th>\n",
       "    </tr>\n",
       "  </thead>\n",
       "  <tbody>\n",
       "    <tr>\n",
       "      <th>0</th>\n",
       "      <td>1</td>\n",
       "      <td>A</td>\n",
       "      <td>33</td>\n",
       "    </tr>\n",
       "    <tr>\n",
       "      <th>1</th>\n",
       "      <td>1</td>\n",
       "      <td>B</td>\n",
       "      <td>20</td>\n",
       "    </tr>\n",
       "    <tr>\n",
       "      <th>2</th>\n",
       "      <td>2</td>\n",
       "      <td>A</td>\n",
       "      <td>188</td>\n",
       "    </tr>\n",
       "    <tr>\n",
       "      <th>3</th>\n",
       "      <td>2</td>\n",
       "      <td>B</td>\n",
       "      <td>88</td>\n",
       "    </tr>\n",
       "    <tr>\n",
       "      <th>4</th>\n",
       "      <td>3</td>\n",
       "      <td>A</td>\n",
       "      <td>212</td>\n",
       "    </tr>\n",
       "    <tr>\n",
       "      <th>5</th>\n",
       "      <td>3</td>\n",
       "      <td>B</td>\n",
       "      <td>107</td>\n",
       "    </tr>\n",
       "    <tr>\n",
       "      <th>6</th>\n",
       "      <td>4</td>\n",
       "      <td>A</td>\n",
       "      <td>404</td>\n",
       "    </tr>\n",
       "    <tr>\n",
       "      <th>7</th>\n",
       "      <td>4</td>\n",
       "      <td>B</td>\n",
       "      <td>149</td>\n",
       "    </tr>\n",
       "    <tr>\n",
       "      <th>8</th>\n",
       "      <td>5</td>\n",
       "      <td>A</td>\n",
       "      <td>39</td>\n",
       "    </tr>\n",
       "    <tr>\n",
       "      <th>9</th>\n",
       "      <td>5</td>\n",
       "      <td>B</td>\n",
       "      <td>21</td>\n",
       "    </tr>\n",
       "    <tr>\n",
       "      <th>10</th>\n",
       "      <td>6</td>\n",
       "      <td>A</td>\n",
       "      <td>529</td>\n",
       "    </tr>\n",
       "    <tr>\n",
       "      <th>11</th>\n",
       "      <td>6</td>\n",
       "      <td>B</td>\n",
       "      <td>141</td>\n",
       "    </tr>\n",
       "    <tr>\n",
       "      <th>12</th>\n",
       "      <td>7</td>\n",
       "      <td>A</td>\n",
       "      <td>1</td>\n",
       "    </tr>\n",
       "    <tr>\n",
       "      <th>13</th>\n",
       "      <td>7</td>\n",
       "      <td>B</td>\n",
       "      <td>5</td>\n",
       "    </tr>\n",
       "    <tr>\n",
       "      <th>14</th>\n",
       "      <td>8</td>\n",
       "      <td>A</td>\n",
       "      <td>295</td>\n",
       "    </tr>\n",
       "    <tr>\n",
       "      <th>15</th>\n",
       "      <td>8</td>\n",
       "      <td>B</td>\n",
       "      <td>60</td>\n",
       "    </tr>\n",
       "    <tr>\n",
       "      <th>16</th>\n",
       "      <td>9</td>\n",
       "      <td>A</td>\n",
       "      <td>246</td>\n",
       "    </tr>\n",
       "    <tr>\n",
       "      <th>17</th>\n",
       "      <td>9</td>\n",
       "      <td>B</td>\n",
       "      <td>50</td>\n",
       "    </tr>\n",
       "    <tr>\n",
       "      <th>18</th>\n",
       "      <td>10</td>\n",
       "      <td>A</td>\n",
       "      <td>84</td>\n",
       "    </tr>\n",
       "    <tr>\n",
       "      <th>19</th>\n",
       "      <td>10</td>\n",
       "      <td>B</td>\n",
       "      <td>14</td>\n",
       "    </tr>\n",
       "    <tr>\n",
       "      <th>20</th>\n",
       "      <td>11</td>\n",
       "      <td>A</td>\n",
       "      <td>2</td>\n",
       "    </tr>\n",
       "    <tr>\n",
       "      <th>21</th>\n",
       "      <td>11</td>\n",
       "      <td>B</td>\n",
       "      <td>1</td>\n",
       "    </tr>\n",
       "    <tr>\n",
       "      <th>22</th>\n",
       "      <td>12</td>\n",
       "      <td>A</td>\n",
       "      <td>233</td>\n",
       "    </tr>\n",
       "    <tr>\n",
       "      <th>23</th>\n",
       "      <td>12</td>\n",
       "      <td>B</td>\n",
       "      <td>34</td>\n",
       "    </tr>\n",
       "    <tr>\n",
       "      <th>24</th>\n",
       "      <td>13</td>\n",
       "      <td>A</td>\n",
       "      <td>1</td>\n",
       "    </tr>\n",
       "    <tr>\n",
       "      <th>25</th>\n",
       "      <td>13</td>\n",
       "      <td>B</td>\n",
       "      <td>1</td>\n",
       "    </tr>\n",
       "    <tr>\n",
       "      <th>26</th>\n",
       "      <td>14</td>\n",
       "      <td>A</td>\n",
       "      <td>10</td>\n",
       "    </tr>\n",
       "    <tr>\n",
       "      <th>27</th>\n",
       "      <td>14</td>\n",
       "      <td>B</td>\n",
       "      <td>1</td>\n",
       "    </tr>\n",
       "    <tr>\n",
       "      <th>28</th>\n",
       "      <td>15</td>\n",
       "      <td>A</td>\n",
       "      <td>69</td>\n",
       "    </tr>\n",
       "    <tr>\n",
       "      <th>29</th>\n",
       "      <td>15</td>\n",
       "      <td>B</td>\n",
       "      <td>6</td>\n",
       "    </tr>\n",
       "    <tr>\n",
       "      <th>30</th>\n",
       "      <td>16</td>\n",
       "      <td>A</td>\n",
       "      <td>32</td>\n",
       "    </tr>\n",
       "    <tr>\n",
       "      <th>31</th>\n",
       "      <td>16</td>\n",
       "      <td>B</td>\n",
       "      <td>1</td>\n",
       "    </tr>\n",
       "    <tr>\n",
       "      <th>32</th>\n",
       "      <td>18</td>\n",
       "      <td>A</td>\n",
       "      <td>19</td>\n",
       "    </tr>\n",
       "    <tr>\n",
       "      <th>33</th>\n",
       "      <td>20</td>\n",
       "      <td>A</td>\n",
       "      <td>21</td>\n",
       "    </tr>\n",
       "    <tr>\n",
       "      <th>34</th>\n",
       "      <td>20</td>\n",
       "      <td>B</td>\n",
       "      <td>4</td>\n",
       "    </tr>\n",
       "    <tr>\n",
       "      <th>35</th>\n",
       "      <td>21</td>\n",
       "      <td>A</td>\n",
       "      <td>2</td>\n",
       "    </tr>\n",
       "    <tr>\n",
       "      <th>36</th>\n",
       "      <td>21</td>\n",
       "      <td>B</td>\n",
       "      <td>1</td>\n",
       "    </tr>\n",
       "    <tr>\n",
       "      <th>37</th>\n",
       "      <td>24</td>\n",
       "      <td>A</td>\n",
       "      <td>2</td>\n",
       "    </tr>\n",
       "    <tr>\n",
       "      <th>38</th>\n",
       "      <td>24</td>\n",
       "      <td>B</td>\n",
       "      <td>2</td>\n",
       "    </tr>\n",
       "  </tbody>\n",
       "</table>\n",
       "</div>"
      ],
      "text/plain": [
       "    event_name group  user_id\n",
       "0            1     A       33\n",
       "1            1     B       20\n",
       "2            2     A      188\n",
       "3            2     B       88\n",
       "4            3     A      212\n",
       "5            3     B      107\n",
       "6            4     A      404\n",
       "7            4     B      149\n",
       "8            5     A       39\n",
       "9            5     B       21\n",
       "10           6     A      529\n",
       "11           6     B      141\n",
       "12           7     A        1\n",
       "13           7     B        5\n",
       "14           8     A      295\n",
       "15           8     B       60\n",
       "16           9     A      246\n",
       "17           9     B       50\n",
       "18          10     A       84\n",
       "19          10     B       14\n",
       "20          11     A        2\n",
       "21          11     B        1\n",
       "22          12     A      233\n",
       "23          12     B       34\n",
       "24          13     A        1\n",
       "25          13     B        1\n",
       "26          14     A       10\n",
       "27          14     B        1\n",
       "28          15     A       69\n",
       "29          15     B        6\n",
       "30          16     A       32\n",
       "31          16     B        1\n",
       "32          18     A       19\n",
       "33          20     A       21\n",
       "34          20     B        4\n",
       "35          21     A        2\n",
       "36          21     B        1\n",
       "37          24     A        2\n",
       "38          24     B        2"
      ]
     },
     "execution_count": 28,
     "metadata": {},
     "output_type": "execute_result"
    }
   ],
   "source": [
    "events_count = tables_mix.groupby(['user_id', 'group'], as_index=False).agg({'event_name': 'count'})\n",
    "events_count = events_count.groupby(['event_name', 'group'], as_index=False).agg({'user_id': 'count'})\n",
    "\n",
    "events_count"
   ]
  },
  {
   "cell_type": "markdown",
   "metadata": {},
   "source": [
    "Удалим из полученной выше таблицы и таблицы tables_mix пользователей, которые не совершали событий, тк их последующи анализ бессмысленнен, тк мы не сможем рассчитать их конверсии, что и яляется основной из целей исследования."
   ]
  },
  {
   "cell_type": "code",
   "execution_count": 29,
   "metadata": {},
   "outputs": [],
   "source": [
    "events_count = events_count.query('event_name != 0')"
   ]
  },
  {
   "cell_type": "code",
   "execution_count": 30,
   "metadata": {},
   "outputs": [
    {
     "name": "stdout",
     "output_type": "stream",
     "text": [
      "3128\n"
     ]
    }
   ],
   "source": [
    "t=tables_mix.groupby(['user_id'], as_index=False).agg({'event_name': 'count'})\n",
    "t = t.query('event_name == 0')\n",
    "nan = t['user_id']\n",
    "tables_mix = tables_mix.query('user_id not in @nan')\n",
    "print(tables_mix['user_id'].nunique())"
   ]
  },
  {
   "cell_type": "markdown",
   "metadata": {},
   "source": [
    "В итоге, в общей таблице (tables_mix) осталось 3128 пользователей для анализа, из 6000 желаемых в тз."
   ]
  },
  {
   "cell_type": "code",
   "execution_count": 31,
   "metadata": {},
   "outputs": [
    {
     "data": {
      "application/vnd.plotly.v1+json": {
       "config": {
        "plotlyServerURL": "https://plot.ly"
       },
       "data": [
        {
         "alignmentgroup": "True",
         "hovertemplate": "group=A<br>Количество событий=%{x}<br>Количество пользователей=%{y}<extra></extra>",
         "legendgroup": "A",
         "marker": {
          "color": "#636efa",
          "pattern": {
           "shape": ""
          }
         },
         "name": "A",
         "offsetgroup": "A",
         "orientation": "v",
         "showlegend": true,
         "textposition": "auto",
         "type": "bar",
         "x": [
          1,
          2,
          3,
          4,
          5,
          6,
          7,
          8,
          9,
          10,
          11,
          12,
          13,
          14,
          15,
          16,
          18,
          20,
          21,
          24
         ],
         "xaxis": "x",
         "y": [
          33,
          188,
          212,
          404,
          39,
          529,
          1,
          295,
          246,
          84,
          2,
          233,
          1,
          10,
          69,
          32,
          19,
          21,
          2,
          2
         ],
         "yaxis": "y"
        },
        {
         "alignmentgroup": "True",
         "hovertemplate": "group=B<br>Количество событий=%{x}<br>Количество пользователей=%{y}<extra></extra>",
         "legendgroup": "B",
         "marker": {
          "color": "#EF553B",
          "pattern": {
           "shape": ""
          }
         },
         "name": "B",
         "offsetgroup": "B",
         "orientation": "v",
         "showlegend": true,
         "textposition": "auto",
         "type": "bar",
         "x": [
          1,
          2,
          3,
          4,
          5,
          6,
          7,
          8,
          9,
          10,
          11,
          12,
          13,
          14,
          15,
          16,
          20,
          21,
          24
         ],
         "xaxis": "x",
         "y": [
          20,
          88,
          107,
          149,
          21,
          141,
          5,
          60,
          50,
          14,
          1,
          34,
          1,
          1,
          6,
          1,
          4,
          1,
          2
         ],
         "yaxis": "y"
        }
       ],
       "layout": {
        "barmode": "group",
        "legend": {
         "title": {
          "text": "group"
         },
         "tracegroupgap": 0
        },
        "template": {
         "data": {
          "bar": [
           {
            "error_x": {
             "color": "#2a3f5f"
            },
            "error_y": {
             "color": "#2a3f5f"
            },
            "marker": {
             "line": {
              "color": "#E5ECF6",
              "width": 0.5
             },
             "pattern": {
              "fillmode": "overlay",
              "size": 10,
              "solidity": 0.2
             }
            },
            "type": "bar"
           }
          ],
          "barpolar": [
           {
            "marker": {
             "line": {
              "color": "#E5ECF6",
              "width": 0.5
             },
             "pattern": {
              "fillmode": "overlay",
              "size": 10,
              "solidity": 0.2
             }
            },
            "type": "barpolar"
           }
          ],
          "carpet": [
           {
            "aaxis": {
             "endlinecolor": "#2a3f5f",
             "gridcolor": "white",
             "linecolor": "white",
             "minorgridcolor": "white",
             "startlinecolor": "#2a3f5f"
            },
            "baxis": {
             "endlinecolor": "#2a3f5f",
             "gridcolor": "white",
             "linecolor": "white",
             "minorgridcolor": "white",
             "startlinecolor": "#2a3f5f"
            },
            "type": "carpet"
           }
          ],
          "choropleth": [
           {
            "colorbar": {
             "outlinewidth": 0,
             "ticks": ""
            },
            "type": "choropleth"
           }
          ],
          "contour": [
           {
            "colorbar": {
             "outlinewidth": 0,
             "ticks": ""
            },
            "colorscale": [
             [
              0,
              "#0d0887"
             ],
             [
              0.1111111111111111,
              "#46039f"
             ],
             [
              0.2222222222222222,
              "#7201a8"
             ],
             [
              0.3333333333333333,
              "#9c179e"
             ],
             [
              0.4444444444444444,
              "#bd3786"
             ],
             [
              0.5555555555555556,
              "#d8576b"
             ],
             [
              0.6666666666666666,
              "#ed7953"
             ],
             [
              0.7777777777777778,
              "#fb9f3a"
             ],
             [
              0.8888888888888888,
              "#fdca26"
             ],
             [
              1,
              "#f0f921"
             ]
            ],
            "type": "contour"
           }
          ],
          "contourcarpet": [
           {
            "colorbar": {
             "outlinewidth": 0,
             "ticks": ""
            },
            "type": "contourcarpet"
           }
          ],
          "heatmap": [
           {
            "colorbar": {
             "outlinewidth": 0,
             "ticks": ""
            },
            "colorscale": [
             [
              0,
              "#0d0887"
             ],
             [
              0.1111111111111111,
              "#46039f"
             ],
             [
              0.2222222222222222,
              "#7201a8"
             ],
             [
              0.3333333333333333,
              "#9c179e"
             ],
             [
              0.4444444444444444,
              "#bd3786"
             ],
             [
              0.5555555555555556,
              "#d8576b"
             ],
             [
              0.6666666666666666,
              "#ed7953"
             ],
             [
              0.7777777777777778,
              "#fb9f3a"
             ],
             [
              0.8888888888888888,
              "#fdca26"
             ],
             [
              1,
              "#f0f921"
             ]
            ],
            "type": "heatmap"
           }
          ],
          "heatmapgl": [
           {
            "colorbar": {
             "outlinewidth": 0,
             "ticks": ""
            },
            "colorscale": [
             [
              0,
              "#0d0887"
             ],
             [
              0.1111111111111111,
              "#46039f"
             ],
             [
              0.2222222222222222,
              "#7201a8"
             ],
             [
              0.3333333333333333,
              "#9c179e"
             ],
             [
              0.4444444444444444,
              "#bd3786"
             ],
             [
              0.5555555555555556,
              "#d8576b"
             ],
             [
              0.6666666666666666,
              "#ed7953"
             ],
             [
              0.7777777777777778,
              "#fb9f3a"
             ],
             [
              0.8888888888888888,
              "#fdca26"
             ],
             [
              1,
              "#f0f921"
             ]
            ],
            "type": "heatmapgl"
           }
          ],
          "histogram": [
           {
            "marker": {
             "pattern": {
              "fillmode": "overlay",
              "size": 10,
              "solidity": 0.2
             }
            },
            "type": "histogram"
           }
          ],
          "histogram2d": [
           {
            "colorbar": {
             "outlinewidth": 0,
             "ticks": ""
            },
            "colorscale": [
             [
              0,
              "#0d0887"
             ],
             [
              0.1111111111111111,
              "#46039f"
             ],
             [
              0.2222222222222222,
              "#7201a8"
             ],
             [
              0.3333333333333333,
              "#9c179e"
             ],
             [
              0.4444444444444444,
              "#bd3786"
             ],
             [
              0.5555555555555556,
              "#d8576b"
             ],
             [
              0.6666666666666666,
              "#ed7953"
             ],
             [
              0.7777777777777778,
              "#fb9f3a"
             ],
             [
              0.8888888888888888,
              "#fdca26"
             ],
             [
              1,
              "#f0f921"
             ]
            ],
            "type": "histogram2d"
           }
          ],
          "histogram2dcontour": [
           {
            "colorbar": {
             "outlinewidth": 0,
             "ticks": ""
            },
            "colorscale": [
             [
              0,
              "#0d0887"
             ],
             [
              0.1111111111111111,
              "#46039f"
             ],
             [
              0.2222222222222222,
              "#7201a8"
             ],
             [
              0.3333333333333333,
              "#9c179e"
             ],
             [
              0.4444444444444444,
              "#bd3786"
             ],
             [
              0.5555555555555556,
              "#d8576b"
             ],
             [
              0.6666666666666666,
              "#ed7953"
             ],
             [
              0.7777777777777778,
              "#fb9f3a"
             ],
             [
              0.8888888888888888,
              "#fdca26"
             ],
             [
              1,
              "#f0f921"
             ]
            ],
            "type": "histogram2dcontour"
           }
          ],
          "mesh3d": [
           {
            "colorbar": {
             "outlinewidth": 0,
             "ticks": ""
            },
            "type": "mesh3d"
           }
          ],
          "parcoords": [
           {
            "line": {
             "colorbar": {
              "outlinewidth": 0,
              "ticks": ""
             }
            },
            "type": "parcoords"
           }
          ],
          "pie": [
           {
            "automargin": true,
            "type": "pie"
           }
          ],
          "scatter": [
           {
            "fillpattern": {
             "fillmode": "overlay",
             "size": 10,
             "solidity": 0.2
            },
            "type": "scatter"
           }
          ],
          "scatter3d": [
           {
            "line": {
             "colorbar": {
              "outlinewidth": 0,
              "ticks": ""
             }
            },
            "marker": {
             "colorbar": {
              "outlinewidth": 0,
              "ticks": ""
             }
            },
            "type": "scatter3d"
           }
          ],
          "scattercarpet": [
           {
            "marker": {
             "colorbar": {
              "outlinewidth": 0,
              "ticks": ""
             }
            },
            "type": "scattercarpet"
           }
          ],
          "scattergeo": [
           {
            "marker": {
             "colorbar": {
              "outlinewidth": 0,
              "ticks": ""
             }
            },
            "type": "scattergeo"
           }
          ],
          "scattergl": [
           {
            "marker": {
             "colorbar": {
              "outlinewidth": 0,
              "ticks": ""
             }
            },
            "type": "scattergl"
           }
          ],
          "scattermapbox": [
           {
            "marker": {
             "colorbar": {
              "outlinewidth": 0,
              "ticks": ""
             }
            },
            "type": "scattermapbox"
           }
          ],
          "scatterpolar": [
           {
            "marker": {
             "colorbar": {
              "outlinewidth": 0,
              "ticks": ""
             }
            },
            "type": "scatterpolar"
           }
          ],
          "scatterpolargl": [
           {
            "marker": {
             "colorbar": {
              "outlinewidth": 0,
              "ticks": ""
             }
            },
            "type": "scatterpolargl"
           }
          ],
          "scatterternary": [
           {
            "marker": {
             "colorbar": {
              "outlinewidth": 0,
              "ticks": ""
             }
            },
            "type": "scatterternary"
           }
          ],
          "surface": [
           {
            "colorbar": {
             "outlinewidth": 0,
             "ticks": ""
            },
            "colorscale": [
             [
              0,
              "#0d0887"
             ],
             [
              0.1111111111111111,
              "#46039f"
             ],
             [
              0.2222222222222222,
              "#7201a8"
             ],
             [
              0.3333333333333333,
              "#9c179e"
             ],
             [
              0.4444444444444444,
              "#bd3786"
             ],
             [
              0.5555555555555556,
              "#d8576b"
             ],
             [
              0.6666666666666666,
              "#ed7953"
             ],
             [
              0.7777777777777778,
              "#fb9f3a"
             ],
             [
              0.8888888888888888,
              "#fdca26"
             ],
             [
              1,
              "#f0f921"
             ]
            ],
            "type": "surface"
           }
          ],
          "table": [
           {
            "cells": {
             "fill": {
              "color": "#EBF0F8"
             },
             "line": {
              "color": "white"
             }
            },
            "header": {
             "fill": {
              "color": "#C8D4E3"
             },
             "line": {
              "color": "white"
             }
            },
            "type": "table"
           }
          ]
         },
         "layout": {
          "annotationdefaults": {
           "arrowcolor": "#2a3f5f",
           "arrowhead": 0,
           "arrowwidth": 1
          },
          "autotypenumbers": "strict",
          "coloraxis": {
           "colorbar": {
            "outlinewidth": 0,
            "ticks": ""
           }
          },
          "colorscale": {
           "diverging": [
            [
             0,
             "#8e0152"
            ],
            [
             0.1,
             "#c51b7d"
            ],
            [
             0.2,
             "#de77ae"
            ],
            [
             0.3,
             "#f1b6da"
            ],
            [
             0.4,
             "#fde0ef"
            ],
            [
             0.5,
             "#f7f7f7"
            ],
            [
             0.6,
             "#e6f5d0"
            ],
            [
             0.7,
             "#b8e186"
            ],
            [
             0.8,
             "#7fbc41"
            ],
            [
             0.9,
             "#4d9221"
            ],
            [
             1,
             "#276419"
            ]
           ],
           "sequential": [
            [
             0,
             "#0d0887"
            ],
            [
             0.1111111111111111,
             "#46039f"
            ],
            [
             0.2222222222222222,
             "#7201a8"
            ],
            [
             0.3333333333333333,
             "#9c179e"
            ],
            [
             0.4444444444444444,
             "#bd3786"
            ],
            [
             0.5555555555555556,
             "#d8576b"
            ],
            [
             0.6666666666666666,
             "#ed7953"
            ],
            [
             0.7777777777777778,
             "#fb9f3a"
            ],
            [
             0.8888888888888888,
             "#fdca26"
            ],
            [
             1,
             "#f0f921"
            ]
           ],
           "sequentialminus": [
            [
             0,
             "#0d0887"
            ],
            [
             0.1111111111111111,
             "#46039f"
            ],
            [
             0.2222222222222222,
             "#7201a8"
            ],
            [
             0.3333333333333333,
             "#9c179e"
            ],
            [
             0.4444444444444444,
             "#bd3786"
            ],
            [
             0.5555555555555556,
             "#d8576b"
            ],
            [
             0.6666666666666666,
             "#ed7953"
            ],
            [
             0.7777777777777778,
             "#fb9f3a"
            ],
            [
             0.8888888888888888,
             "#fdca26"
            ],
            [
             1,
             "#f0f921"
            ]
           ]
          },
          "colorway": [
           "#636efa",
           "#EF553B",
           "#00cc96",
           "#ab63fa",
           "#FFA15A",
           "#19d3f3",
           "#FF6692",
           "#B6E880",
           "#FF97FF",
           "#FECB52"
          ],
          "font": {
           "color": "#2a3f5f"
          },
          "geo": {
           "bgcolor": "white",
           "lakecolor": "white",
           "landcolor": "#E5ECF6",
           "showlakes": true,
           "showland": true,
           "subunitcolor": "white"
          },
          "hoverlabel": {
           "align": "left"
          },
          "hovermode": "closest",
          "mapbox": {
           "style": "light"
          },
          "paper_bgcolor": "white",
          "plot_bgcolor": "#E5ECF6",
          "polar": {
           "angularaxis": {
            "gridcolor": "white",
            "linecolor": "white",
            "ticks": ""
           },
           "bgcolor": "#E5ECF6",
           "radialaxis": {
            "gridcolor": "white",
            "linecolor": "white",
            "ticks": ""
           }
          },
          "scene": {
           "xaxis": {
            "backgroundcolor": "#E5ECF6",
            "gridcolor": "white",
            "gridwidth": 2,
            "linecolor": "white",
            "showbackground": true,
            "ticks": "",
            "zerolinecolor": "white"
           },
           "yaxis": {
            "backgroundcolor": "#E5ECF6",
            "gridcolor": "white",
            "gridwidth": 2,
            "linecolor": "white",
            "showbackground": true,
            "ticks": "",
            "zerolinecolor": "white"
           },
           "zaxis": {
            "backgroundcolor": "#E5ECF6",
            "gridcolor": "white",
            "gridwidth": 2,
            "linecolor": "white",
            "showbackground": true,
            "ticks": "",
            "zerolinecolor": "white"
           }
          },
          "shapedefaults": {
           "line": {
            "color": "#2a3f5f"
           }
          },
          "ternary": {
           "aaxis": {
            "gridcolor": "white",
            "linecolor": "white",
            "ticks": ""
           },
           "baxis": {
            "gridcolor": "white",
            "linecolor": "white",
            "ticks": ""
           },
           "bgcolor": "#E5ECF6",
           "caxis": {
            "gridcolor": "white",
            "linecolor": "white",
            "ticks": ""
           }
          },
          "title": {
           "x": 0.05
          },
          "xaxis": {
           "automargin": true,
           "gridcolor": "white",
           "linecolor": "white",
           "ticks": "",
           "title": {
            "standoff": 15
           },
           "zerolinecolor": "white",
           "zerolinewidth": 2
          },
          "yaxis": {
           "automargin": true,
           "gridcolor": "white",
           "linecolor": "white",
           "ticks": "",
           "title": {
            "standoff": 15
           },
           "zerolinecolor": "white",
           "zerolinewidth": 2
          }
         }
        },
        "title": {
         "text": "Диаграмма количества событий на пользователя"
        },
        "xaxis": {
         "anchor": "y",
         "domain": [
          0,
          1
         ],
         "title": {
          "text": "Количество событий"
         }
        },
        "yaxis": {
         "anchor": "x",
         "domain": [
          0,
          1
         ],
         "title": {
          "text": "Количество пользователей"
         }
        }
       }
      }
     },
     "metadata": {},
     "output_type": "display_data"
    }
   ],
   "source": [
    "g = px.bar(events_count, x = 'event_name', y = 'user_id', color=\"group\", barmode=\"group\", \n",
    "           labels={'user_id':'Количество пользователей', 'event_name': 'Количество событий'},\n",
    "          title=\"Диаграмма количества событий на пользователя\")\n",
    "\n",
    "g.show()\n"
   ]
  },
  {
   "cell_type": "markdown",
   "metadata": {},
   "source": [
    "Показатель в 6 событий сильно выбивается вперед. В целом можно сказать, что в среднем пользователь совершает от 2 до 12 событий."
   ]
  },
  {
   "cell_type": "markdown",
   "metadata": {},
   "source": [
    "- Рассчитаем как число событий в выборках распределено по дням"
   ]
  },
  {
   "cell_type": "code",
   "execution_count": 32,
   "metadata": {},
   "outputs": [
    {
     "data": {
      "text/html": [
       "<div>\n",
       "<style scoped>\n",
       "    .dataframe tbody tr th:only-of-type {\n",
       "        vertical-align: middle;\n",
       "    }\n",
       "\n",
       "    .dataframe tbody tr th {\n",
       "        vertical-align: top;\n",
       "    }\n",
       "\n",
       "    .dataframe thead th {\n",
       "        text-align: right;\n",
       "    }\n",
       "</style>\n",
       "<table border=\"1\" class=\"dataframe\">\n",
       "  <thead>\n",
       "    <tr style=\"text-align: right;\">\n",
       "      <th></th>\n",
       "      <th>event_dt</th>\n",
       "      <th>group</th>\n",
       "      <th>event_name</th>\n",
       "    </tr>\n",
       "  </thead>\n",
       "  <tbody>\n",
       "    <tr>\n",
       "      <th>0</th>\n",
       "      <td>2020-12-07</td>\n",
       "      <td>A</td>\n",
       "      <td>276</td>\n",
       "    </tr>\n",
       "    <tr>\n",
       "      <th>1</th>\n",
       "      <td>2020-12-07</td>\n",
       "      <td>B</td>\n",
       "      <td>290</td>\n",
       "    </tr>\n",
       "    <tr>\n",
       "      <th>2</th>\n",
       "      <td>2020-12-08</td>\n",
       "      <td>A</td>\n",
       "      <td>311</td>\n",
       "    </tr>\n",
       "    <tr>\n",
       "      <th>3</th>\n",
       "      <td>2020-12-08</td>\n",
       "      <td>B</td>\n",
       "      <td>183</td>\n",
       "    </tr>\n",
       "    <tr>\n",
       "      <th>4</th>\n",
       "      <td>2020-12-09</td>\n",
       "      <td>A</td>\n",
       "      <td>345</td>\n",
       "    </tr>\n",
       "    <tr>\n",
       "      <th>5</th>\n",
       "      <td>2020-12-09</td>\n",
       "      <td>B</td>\n",
       "      <td>273</td>\n",
       "    </tr>\n",
       "    <tr>\n",
       "      <th>6</th>\n",
       "      <td>2020-12-10</td>\n",
       "      <td>A</td>\n",
       "      <td>313</td>\n",
       "    </tr>\n",
       "    <tr>\n",
       "      <th>7</th>\n",
       "      <td>2020-12-10</td>\n",
       "      <td>B</td>\n",
       "      <td>196</td>\n",
       "    </tr>\n",
       "    <tr>\n",
       "      <th>8</th>\n",
       "      <td>2020-12-11</td>\n",
       "      <td>A</td>\n",
       "      <td>327</td>\n",
       "    </tr>\n",
       "    <tr>\n",
       "      <th>9</th>\n",
       "      <td>2020-12-11</td>\n",
       "      <td>B</td>\n",
       "      <td>122</td>\n",
       "    </tr>\n",
       "    <tr>\n",
       "      <th>10</th>\n",
       "      <td>2020-12-12</td>\n",
       "      <td>A</td>\n",
       "      <td>328</td>\n",
       "    </tr>\n",
       "    <tr>\n",
       "      <th>11</th>\n",
       "      <td>2020-12-12</td>\n",
       "      <td>B</td>\n",
       "      <td>154</td>\n",
       "    </tr>\n",
       "    <tr>\n",
       "      <th>12</th>\n",
       "      <td>2020-12-13</td>\n",
       "      <td>A</td>\n",
       "      <td>293</td>\n",
       "    </tr>\n",
       "    <tr>\n",
       "      <th>13</th>\n",
       "      <td>2020-12-13</td>\n",
       "      <td>B</td>\n",
       "      <td>115</td>\n",
       "    </tr>\n",
       "    <tr>\n",
       "      <th>14</th>\n",
       "      <td>2020-12-14</td>\n",
       "      <td>A</td>\n",
       "      <td>948</td>\n",
       "    </tr>\n",
       "    <tr>\n",
       "      <th>15</th>\n",
       "      <td>2020-12-14</td>\n",
       "      <td>B</td>\n",
       "      <td>217</td>\n",
       "    </tr>\n",
       "    <tr>\n",
       "      <th>16</th>\n",
       "      <td>2020-12-15</td>\n",
       "      <td>A</td>\n",
       "      <td>969</td>\n",
       "    </tr>\n",
       "    <tr>\n",
       "      <th>17</th>\n",
       "      <td>2020-12-15</td>\n",
       "      <td>B</td>\n",
       "      <td>174</td>\n",
       "    </tr>\n",
       "    <tr>\n",
       "      <th>18</th>\n",
       "      <td>2020-12-16</td>\n",
       "      <td>A</td>\n",
       "      <td>932</td>\n",
       "    </tr>\n",
       "    <tr>\n",
       "      <th>19</th>\n",
       "      <td>2020-12-16</td>\n",
       "      <td>B</td>\n",
       "      <td>291</td>\n",
       "    </tr>\n",
       "    <tr>\n",
       "      <th>20</th>\n",
       "      <td>2020-12-17</td>\n",
       "      <td>A</td>\n",
       "      <td>1098</td>\n",
       "    </tr>\n",
       "    <tr>\n",
       "      <th>21</th>\n",
       "      <td>2020-12-17</td>\n",
       "      <td>B</td>\n",
       "      <td>209</td>\n",
       "    </tr>\n",
       "    <tr>\n",
       "      <th>22</th>\n",
       "      <td>2020-12-18</td>\n",
       "      <td>A</td>\n",
       "      <td>1153</td>\n",
       "    </tr>\n",
       "    <tr>\n",
       "      <th>23</th>\n",
       "      <td>2020-12-18</td>\n",
       "      <td>B</td>\n",
       "      <td>213</td>\n",
       "    </tr>\n",
       "    <tr>\n",
       "      <th>24</th>\n",
       "      <td>2020-12-19</td>\n",
       "      <td>A</td>\n",
       "      <td>1338</td>\n",
       "    </tr>\n",
       "    <tr>\n",
       "      <th>25</th>\n",
       "      <td>2020-12-19</td>\n",
       "      <td>B</td>\n",
       "      <td>228</td>\n",
       "    </tr>\n",
       "    <tr>\n",
       "      <th>26</th>\n",
       "      <td>2020-12-20</td>\n",
       "      <td>A</td>\n",
       "      <td>1392</td>\n",
       "    </tr>\n",
       "    <tr>\n",
       "      <th>27</th>\n",
       "      <td>2020-12-20</td>\n",
       "      <td>B</td>\n",
       "      <td>249</td>\n",
       "    </tr>\n",
       "    <tr>\n",
       "      <th>28</th>\n",
       "      <td>2020-12-21</td>\n",
       "      <td>A</td>\n",
       "      <td>1798</td>\n",
       "    </tr>\n",
       "    <tr>\n",
       "      <th>29</th>\n",
       "      <td>2020-12-21</td>\n",
       "      <td>B</td>\n",
       "      <td>337</td>\n",
       "    </tr>\n",
       "    <tr>\n",
       "      <th>30</th>\n",
       "      <td>2020-12-22</td>\n",
       "      <td>A</td>\n",
       "      <td>1168</td>\n",
       "    </tr>\n",
       "    <tr>\n",
       "      <th>31</th>\n",
       "      <td>2020-12-22</td>\n",
       "      <td>B</td>\n",
       "      <td>133</td>\n",
       "    </tr>\n",
       "    <tr>\n",
       "      <th>32</th>\n",
       "      <td>2020-12-23</td>\n",
       "      <td>A</td>\n",
       "      <td>875</td>\n",
       "    </tr>\n",
       "    <tr>\n",
       "      <th>33</th>\n",
       "      <td>2020-12-23</td>\n",
       "      <td>B</td>\n",
       "      <td>134</td>\n",
       "    </tr>\n",
       "    <tr>\n",
       "      <th>34</th>\n",
       "      <td>2020-12-24</td>\n",
       "      <td>A</td>\n",
       "      <td>744</td>\n",
       "    </tr>\n",
       "    <tr>\n",
       "      <th>35</th>\n",
       "      <td>2020-12-24</td>\n",
       "      <td>B</td>\n",
       "      <td>94</td>\n",
       "    </tr>\n",
       "    <tr>\n",
       "      <th>36</th>\n",
       "      <td>2020-12-25</td>\n",
       "      <td>A</td>\n",
       "      <td>560</td>\n",
       "    </tr>\n",
       "    <tr>\n",
       "      <th>37</th>\n",
       "      <td>2020-12-25</td>\n",
       "      <td>B</td>\n",
       "      <td>63</td>\n",
       "    </tr>\n",
       "    <tr>\n",
       "      <th>38</th>\n",
       "      <td>2020-12-26</td>\n",
       "      <td>A</td>\n",
       "      <td>499</td>\n",
       "    </tr>\n",
       "    <tr>\n",
       "      <th>39</th>\n",
       "      <td>2020-12-26</td>\n",
       "      <td>B</td>\n",
       "      <td>54</td>\n",
       "    </tr>\n",
       "    <tr>\n",
       "      <th>40</th>\n",
       "      <td>2020-12-27</td>\n",
       "      <td>A</td>\n",
       "      <td>472</td>\n",
       "    </tr>\n",
       "    <tr>\n",
       "      <th>41</th>\n",
       "      <td>2020-12-27</td>\n",
       "      <td>B</td>\n",
       "      <td>58</td>\n",
       "    </tr>\n",
       "    <tr>\n",
       "      <th>42</th>\n",
       "      <td>2020-12-28</td>\n",
       "      <td>A</td>\n",
       "      <td>407</td>\n",
       "    </tr>\n",
       "    <tr>\n",
       "      <th>43</th>\n",
       "      <td>2020-12-28</td>\n",
       "      <td>B</td>\n",
       "      <td>50</td>\n",
       "    </tr>\n",
       "    <tr>\n",
       "      <th>44</th>\n",
       "      <td>2020-12-29</td>\n",
       "      <td>A</td>\n",
       "      <td>275</td>\n",
       "    </tr>\n",
       "    <tr>\n",
       "      <th>45</th>\n",
       "      <td>2020-12-29</td>\n",
       "      <td>B</td>\n",
       "      <td>33</td>\n",
       "    </tr>\n",
       "  </tbody>\n",
       "</table>\n",
       "</div>"
      ],
      "text/plain": [
       "     event_dt group  event_name\n",
       "0  2020-12-07     A         276\n",
       "1  2020-12-07     B         290\n",
       "2  2020-12-08     A         311\n",
       "3  2020-12-08     B         183\n",
       "4  2020-12-09     A         345\n",
       "5  2020-12-09     B         273\n",
       "6  2020-12-10     A         313\n",
       "7  2020-12-10     B         196\n",
       "8  2020-12-11     A         327\n",
       "9  2020-12-11     B         122\n",
       "10 2020-12-12     A         328\n",
       "11 2020-12-12     B         154\n",
       "12 2020-12-13     A         293\n",
       "13 2020-12-13     B         115\n",
       "14 2020-12-14     A         948\n",
       "15 2020-12-14     B         217\n",
       "16 2020-12-15     A         969\n",
       "17 2020-12-15     B         174\n",
       "18 2020-12-16     A         932\n",
       "19 2020-12-16     B         291\n",
       "20 2020-12-17     A        1098\n",
       "21 2020-12-17     B         209\n",
       "22 2020-12-18     A        1153\n",
       "23 2020-12-18     B         213\n",
       "24 2020-12-19     A        1338\n",
       "25 2020-12-19     B         228\n",
       "26 2020-12-20     A        1392\n",
       "27 2020-12-20     B         249\n",
       "28 2020-12-21     A        1798\n",
       "29 2020-12-21     B         337\n",
       "30 2020-12-22     A        1168\n",
       "31 2020-12-22     B         133\n",
       "32 2020-12-23     A         875\n",
       "33 2020-12-23     B         134\n",
       "34 2020-12-24     A         744\n",
       "35 2020-12-24     B          94\n",
       "36 2020-12-25     A         560\n",
       "37 2020-12-25     B          63\n",
       "38 2020-12-26     A         499\n",
       "39 2020-12-26     B          54\n",
       "40 2020-12-27     A         472\n",
       "41 2020-12-27     B          58\n",
       "42 2020-12-28     A         407\n",
       "43 2020-12-28     B          50\n",
       "44 2020-12-29     A         275\n",
       "45 2020-12-29     B          33"
      ]
     },
     "execution_count": 32,
     "metadata": {},
     "output_type": "execute_result"
    }
   ],
   "source": [
    "days = tables_mix.groupby(['event_dt', 'group'], as_index=False).agg({'event_name': 'count'})\n",
    "days"
   ]
  },
  {
   "cell_type": "code",
   "execution_count": 45,
   "metadata": {},
   "outputs": [
    {
     "name": "stderr",
     "output_type": "stream",
     "text": [
      "/Users/olya/Library/Python/3.11/lib/python/site-packages/_plotly_utils/basevalidators.py:105: FutureWarning:\n",
      "\n",
      "The behavior of DatetimeProperties.to_pydatetime is deprecated, in a future version this will return a Series containing python datetime objects instead of an ndarray. To retain the old behavior, call `np.array` on the result\n",
      "\n"
     ]
    },
    {
     "data": {
      "application/vnd.plotly.v1+json": {
       "config": {
        "plotlyServerURL": "https://plot.ly"
       },
       "data": [
        {
         "alignmentgroup": "True",
         "hovertemplate": "group=A<br>День=%{x}<br>Количество событий=%{y}<extra></extra>",
         "legendgroup": "A",
         "marker": {
          "color": "#636efa",
          "pattern": {
           "shape": ""
          }
         },
         "name": "A",
         "offsetgroup": "A",
         "orientation": "v",
         "showlegend": true,
         "textposition": "auto",
         "type": "bar",
         "x": [
          "2020-12-07T00:00:00",
          "2020-12-08T00:00:00",
          "2020-12-09T00:00:00",
          "2020-12-10T00:00:00",
          "2020-12-11T00:00:00",
          "2020-12-12T00:00:00",
          "2020-12-13T00:00:00",
          "2020-12-14T00:00:00",
          "2020-12-15T00:00:00",
          "2020-12-16T00:00:00",
          "2020-12-17T00:00:00",
          "2020-12-18T00:00:00",
          "2020-12-19T00:00:00",
          "2020-12-20T00:00:00",
          "2020-12-21T00:00:00",
          "2020-12-22T00:00:00",
          "2020-12-23T00:00:00",
          "2020-12-24T00:00:00",
          "2020-12-25T00:00:00",
          "2020-12-26T00:00:00",
          "2020-12-27T00:00:00",
          "2020-12-28T00:00:00",
          "2020-12-29T00:00:00"
         ],
         "xaxis": "x",
         "y": [
          276,
          311,
          345,
          313,
          327,
          328,
          293,
          948,
          969,
          932,
          1098,
          1153,
          1338,
          1392,
          1798,
          1168,
          875,
          744,
          560,
          499,
          472,
          407,
          275
         ],
         "yaxis": "y"
        },
        {
         "alignmentgroup": "True",
         "hovertemplate": "group=B<br>День=%{x}<br>Количество событий=%{y}<extra></extra>",
         "legendgroup": "B",
         "marker": {
          "color": "#EF553B",
          "pattern": {
           "shape": ""
          }
         },
         "name": "B",
         "offsetgroup": "B",
         "orientation": "v",
         "showlegend": true,
         "textposition": "auto",
         "type": "bar",
         "x": [
          "2020-12-07T00:00:00",
          "2020-12-08T00:00:00",
          "2020-12-09T00:00:00",
          "2020-12-10T00:00:00",
          "2020-12-11T00:00:00",
          "2020-12-12T00:00:00",
          "2020-12-13T00:00:00",
          "2020-12-14T00:00:00",
          "2020-12-15T00:00:00",
          "2020-12-16T00:00:00",
          "2020-12-17T00:00:00",
          "2020-12-18T00:00:00",
          "2020-12-19T00:00:00",
          "2020-12-20T00:00:00",
          "2020-12-21T00:00:00",
          "2020-12-22T00:00:00",
          "2020-12-23T00:00:00",
          "2020-12-24T00:00:00",
          "2020-12-25T00:00:00",
          "2020-12-26T00:00:00",
          "2020-12-27T00:00:00",
          "2020-12-28T00:00:00",
          "2020-12-29T00:00:00"
         ],
         "xaxis": "x",
         "y": [
          290,
          183,
          273,
          196,
          122,
          154,
          115,
          217,
          174,
          291,
          209,
          213,
          228,
          249,
          337,
          133,
          134,
          94,
          63,
          54,
          58,
          50,
          33
         ],
         "yaxis": "y"
        }
       ],
       "layout": {
        "barmode": "group",
        "legend": {
         "title": {
          "text": "group"
         },
         "tracegroupgap": 0
        },
        "template": {
         "data": {
          "bar": [
           {
            "error_x": {
             "color": "#2a3f5f"
            },
            "error_y": {
             "color": "#2a3f5f"
            },
            "marker": {
             "line": {
              "color": "#E5ECF6",
              "width": 0.5
             },
             "pattern": {
              "fillmode": "overlay",
              "size": 10,
              "solidity": 0.2
             }
            },
            "type": "bar"
           }
          ],
          "barpolar": [
           {
            "marker": {
             "line": {
              "color": "#E5ECF6",
              "width": 0.5
             },
             "pattern": {
              "fillmode": "overlay",
              "size": 10,
              "solidity": 0.2
             }
            },
            "type": "barpolar"
           }
          ],
          "carpet": [
           {
            "aaxis": {
             "endlinecolor": "#2a3f5f",
             "gridcolor": "white",
             "linecolor": "white",
             "minorgridcolor": "white",
             "startlinecolor": "#2a3f5f"
            },
            "baxis": {
             "endlinecolor": "#2a3f5f",
             "gridcolor": "white",
             "linecolor": "white",
             "minorgridcolor": "white",
             "startlinecolor": "#2a3f5f"
            },
            "type": "carpet"
           }
          ],
          "choropleth": [
           {
            "colorbar": {
             "outlinewidth": 0,
             "ticks": ""
            },
            "type": "choropleth"
           }
          ],
          "contour": [
           {
            "colorbar": {
             "outlinewidth": 0,
             "ticks": ""
            },
            "colorscale": [
             [
              0,
              "#0d0887"
             ],
             [
              0.1111111111111111,
              "#46039f"
             ],
             [
              0.2222222222222222,
              "#7201a8"
             ],
             [
              0.3333333333333333,
              "#9c179e"
             ],
             [
              0.4444444444444444,
              "#bd3786"
             ],
             [
              0.5555555555555556,
              "#d8576b"
             ],
             [
              0.6666666666666666,
              "#ed7953"
             ],
             [
              0.7777777777777778,
              "#fb9f3a"
             ],
             [
              0.8888888888888888,
              "#fdca26"
             ],
             [
              1,
              "#f0f921"
             ]
            ],
            "type": "contour"
           }
          ],
          "contourcarpet": [
           {
            "colorbar": {
             "outlinewidth": 0,
             "ticks": ""
            },
            "type": "contourcarpet"
           }
          ],
          "heatmap": [
           {
            "colorbar": {
             "outlinewidth": 0,
             "ticks": ""
            },
            "colorscale": [
             [
              0,
              "#0d0887"
             ],
             [
              0.1111111111111111,
              "#46039f"
             ],
             [
              0.2222222222222222,
              "#7201a8"
             ],
             [
              0.3333333333333333,
              "#9c179e"
             ],
             [
              0.4444444444444444,
              "#bd3786"
             ],
             [
              0.5555555555555556,
              "#d8576b"
             ],
             [
              0.6666666666666666,
              "#ed7953"
             ],
             [
              0.7777777777777778,
              "#fb9f3a"
             ],
             [
              0.8888888888888888,
              "#fdca26"
             ],
             [
              1,
              "#f0f921"
             ]
            ],
            "type": "heatmap"
           }
          ],
          "heatmapgl": [
           {
            "colorbar": {
             "outlinewidth": 0,
             "ticks": ""
            },
            "colorscale": [
             [
              0,
              "#0d0887"
             ],
             [
              0.1111111111111111,
              "#46039f"
             ],
             [
              0.2222222222222222,
              "#7201a8"
             ],
             [
              0.3333333333333333,
              "#9c179e"
             ],
             [
              0.4444444444444444,
              "#bd3786"
             ],
             [
              0.5555555555555556,
              "#d8576b"
             ],
             [
              0.6666666666666666,
              "#ed7953"
             ],
             [
              0.7777777777777778,
              "#fb9f3a"
             ],
             [
              0.8888888888888888,
              "#fdca26"
             ],
             [
              1,
              "#f0f921"
             ]
            ],
            "type": "heatmapgl"
           }
          ],
          "histogram": [
           {
            "marker": {
             "pattern": {
              "fillmode": "overlay",
              "size": 10,
              "solidity": 0.2
             }
            },
            "type": "histogram"
           }
          ],
          "histogram2d": [
           {
            "colorbar": {
             "outlinewidth": 0,
             "ticks": ""
            },
            "colorscale": [
             [
              0,
              "#0d0887"
             ],
             [
              0.1111111111111111,
              "#46039f"
             ],
             [
              0.2222222222222222,
              "#7201a8"
             ],
             [
              0.3333333333333333,
              "#9c179e"
             ],
             [
              0.4444444444444444,
              "#bd3786"
             ],
             [
              0.5555555555555556,
              "#d8576b"
             ],
             [
              0.6666666666666666,
              "#ed7953"
             ],
             [
              0.7777777777777778,
              "#fb9f3a"
             ],
             [
              0.8888888888888888,
              "#fdca26"
             ],
             [
              1,
              "#f0f921"
             ]
            ],
            "type": "histogram2d"
           }
          ],
          "histogram2dcontour": [
           {
            "colorbar": {
             "outlinewidth": 0,
             "ticks": ""
            },
            "colorscale": [
             [
              0,
              "#0d0887"
             ],
             [
              0.1111111111111111,
              "#46039f"
             ],
             [
              0.2222222222222222,
              "#7201a8"
             ],
             [
              0.3333333333333333,
              "#9c179e"
             ],
             [
              0.4444444444444444,
              "#bd3786"
             ],
             [
              0.5555555555555556,
              "#d8576b"
             ],
             [
              0.6666666666666666,
              "#ed7953"
             ],
             [
              0.7777777777777778,
              "#fb9f3a"
             ],
             [
              0.8888888888888888,
              "#fdca26"
             ],
             [
              1,
              "#f0f921"
             ]
            ],
            "type": "histogram2dcontour"
           }
          ],
          "mesh3d": [
           {
            "colorbar": {
             "outlinewidth": 0,
             "ticks": ""
            },
            "type": "mesh3d"
           }
          ],
          "parcoords": [
           {
            "line": {
             "colorbar": {
              "outlinewidth": 0,
              "ticks": ""
             }
            },
            "type": "parcoords"
           }
          ],
          "pie": [
           {
            "automargin": true,
            "type": "pie"
           }
          ],
          "scatter": [
           {
            "fillpattern": {
             "fillmode": "overlay",
             "size": 10,
             "solidity": 0.2
            },
            "type": "scatter"
           }
          ],
          "scatter3d": [
           {
            "line": {
             "colorbar": {
              "outlinewidth": 0,
              "ticks": ""
             }
            },
            "marker": {
             "colorbar": {
              "outlinewidth": 0,
              "ticks": ""
             }
            },
            "type": "scatter3d"
           }
          ],
          "scattercarpet": [
           {
            "marker": {
             "colorbar": {
              "outlinewidth": 0,
              "ticks": ""
             }
            },
            "type": "scattercarpet"
           }
          ],
          "scattergeo": [
           {
            "marker": {
             "colorbar": {
              "outlinewidth": 0,
              "ticks": ""
             }
            },
            "type": "scattergeo"
           }
          ],
          "scattergl": [
           {
            "marker": {
             "colorbar": {
              "outlinewidth": 0,
              "ticks": ""
             }
            },
            "type": "scattergl"
           }
          ],
          "scattermapbox": [
           {
            "marker": {
             "colorbar": {
              "outlinewidth": 0,
              "ticks": ""
             }
            },
            "type": "scattermapbox"
           }
          ],
          "scatterpolar": [
           {
            "marker": {
             "colorbar": {
              "outlinewidth": 0,
              "ticks": ""
             }
            },
            "type": "scatterpolar"
           }
          ],
          "scatterpolargl": [
           {
            "marker": {
             "colorbar": {
              "outlinewidth": 0,
              "ticks": ""
             }
            },
            "type": "scatterpolargl"
           }
          ],
          "scatterternary": [
           {
            "marker": {
             "colorbar": {
              "outlinewidth": 0,
              "ticks": ""
             }
            },
            "type": "scatterternary"
           }
          ],
          "surface": [
           {
            "colorbar": {
             "outlinewidth": 0,
             "ticks": ""
            },
            "colorscale": [
             [
              0,
              "#0d0887"
             ],
             [
              0.1111111111111111,
              "#46039f"
             ],
             [
              0.2222222222222222,
              "#7201a8"
             ],
             [
              0.3333333333333333,
              "#9c179e"
             ],
             [
              0.4444444444444444,
              "#bd3786"
             ],
             [
              0.5555555555555556,
              "#d8576b"
             ],
             [
              0.6666666666666666,
              "#ed7953"
             ],
             [
              0.7777777777777778,
              "#fb9f3a"
             ],
             [
              0.8888888888888888,
              "#fdca26"
             ],
             [
              1,
              "#f0f921"
             ]
            ],
            "type": "surface"
           }
          ],
          "table": [
           {
            "cells": {
             "fill": {
              "color": "#EBF0F8"
             },
             "line": {
              "color": "white"
             }
            },
            "header": {
             "fill": {
              "color": "#C8D4E3"
             },
             "line": {
              "color": "white"
             }
            },
            "type": "table"
           }
          ]
         },
         "layout": {
          "annotationdefaults": {
           "arrowcolor": "#2a3f5f",
           "arrowhead": 0,
           "arrowwidth": 1
          },
          "autotypenumbers": "strict",
          "coloraxis": {
           "colorbar": {
            "outlinewidth": 0,
            "ticks": ""
           }
          },
          "colorscale": {
           "diverging": [
            [
             0,
             "#8e0152"
            ],
            [
             0.1,
             "#c51b7d"
            ],
            [
             0.2,
             "#de77ae"
            ],
            [
             0.3,
             "#f1b6da"
            ],
            [
             0.4,
             "#fde0ef"
            ],
            [
             0.5,
             "#f7f7f7"
            ],
            [
             0.6,
             "#e6f5d0"
            ],
            [
             0.7,
             "#b8e186"
            ],
            [
             0.8,
             "#7fbc41"
            ],
            [
             0.9,
             "#4d9221"
            ],
            [
             1,
             "#276419"
            ]
           ],
           "sequential": [
            [
             0,
             "#0d0887"
            ],
            [
             0.1111111111111111,
             "#46039f"
            ],
            [
             0.2222222222222222,
             "#7201a8"
            ],
            [
             0.3333333333333333,
             "#9c179e"
            ],
            [
             0.4444444444444444,
             "#bd3786"
            ],
            [
             0.5555555555555556,
             "#d8576b"
            ],
            [
             0.6666666666666666,
             "#ed7953"
            ],
            [
             0.7777777777777778,
             "#fb9f3a"
            ],
            [
             0.8888888888888888,
             "#fdca26"
            ],
            [
             1,
             "#f0f921"
            ]
           ],
           "sequentialminus": [
            [
             0,
             "#0d0887"
            ],
            [
             0.1111111111111111,
             "#46039f"
            ],
            [
             0.2222222222222222,
             "#7201a8"
            ],
            [
             0.3333333333333333,
             "#9c179e"
            ],
            [
             0.4444444444444444,
             "#bd3786"
            ],
            [
             0.5555555555555556,
             "#d8576b"
            ],
            [
             0.6666666666666666,
             "#ed7953"
            ],
            [
             0.7777777777777778,
             "#fb9f3a"
            ],
            [
             0.8888888888888888,
             "#fdca26"
            ],
            [
             1,
             "#f0f921"
            ]
           ]
          },
          "colorway": [
           "#636efa",
           "#EF553B",
           "#00cc96",
           "#ab63fa",
           "#FFA15A",
           "#19d3f3",
           "#FF6692",
           "#B6E880",
           "#FF97FF",
           "#FECB52"
          ],
          "font": {
           "color": "#2a3f5f"
          },
          "geo": {
           "bgcolor": "white",
           "lakecolor": "white",
           "landcolor": "#E5ECF6",
           "showlakes": true,
           "showland": true,
           "subunitcolor": "white"
          },
          "hoverlabel": {
           "align": "left"
          },
          "hovermode": "closest",
          "mapbox": {
           "style": "light"
          },
          "paper_bgcolor": "white",
          "plot_bgcolor": "#E5ECF6",
          "polar": {
           "angularaxis": {
            "gridcolor": "white",
            "linecolor": "white",
            "ticks": ""
           },
           "bgcolor": "#E5ECF6",
           "radialaxis": {
            "gridcolor": "white",
            "linecolor": "white",
            "ticks": ""
           }
          },
          "scene": {
           "xaxis": {
            "backgroundcolor": "#E5ECF6",
            "gridcolor": "white",
            "gridwidth": 2,
            "linecolor": "white",
            "showbackground": true,
            "ticks": "",
            "zerolinecolor": "white"
           },
           "yaxis": {
            "backgroundcolor": "#E5ECF6",
            "gridcolor": "white",
            "gridwidth": 2,
            "linecolor": "white",
            "showbackground": true,
            "ticks": "",
            "zerolinecolor": "white"
           },
           "zaxis": {
            "backgroundcolor": "#E5ECF6",
            "gridcolor": "white",
            "gridwidth": 2,
            "linecolor": "white",
            "showbackground": true,
            "ticks": "",
            "zerolinecolor": "white"
           }
          },
          "shapedefaults": {
           "line": {
            "color": "#2a3f5f"
           }
          },
          "ternary": {
           "aaxis": {
            "gridcolor": "white",
            "linecolor": "white",
            "ticks": ""
           },
           "baxis": {
            "gridcolor": "white",
            "linecolor": "white",
            "ticks": ""
           },
           "bgcolor": "#E5ECF6",
           "caxis": {
            "gridcolor": "white",
            "linecolor": "white",
            "ticks": ""
           }
          },
          "title": {
           "x": 0.05
          },
          "xaxis": {
           "automargin": true,
           "gridcolor": "white",
           "linecolor": "white",
           "ticks": "",
           "title": {
            "standoff": 15
           },
           "zerolinecolor": "white",
           "zerolinewidth": 2
          },
          "yaxis": {
           "automargin": true,
           "gridcolor": "white",
           "linecolor": "white",
           "ticks": "",
           "title": {
            "standoff": 15
           },
           "zerolinecolor": "white",
           "zerolinewidth": 2
          }
         }
        },
        "title": {
         "text": "Диаграмма количества событий по дням"
        },
        "xaxis": {
         "anchor": "y",
         "domain": [
          0,
          1
         ],
         "title": {
          "text": "День"
         }
        },
        "yaxis": {
         "anchor": "x",
         "domain": [
          0,
          1
         ],
         "title": {
          "text": "Количество событий"
         }
        }
       }
      }
     },
     "metadata": {},
     "output_type": "display_data"
    }
   ],
   "source": [
    "g = px.bar(days, x = 'event_dt', y = 'event_name', color=\"group\", barmode=\"group\", \n",
    "           labels={'event_dt':'День', 'event_name': 'Количество событий'},\n",
    "          title=\"Диаграмма количества событий по дням\")\n",
    "\n",
    "\n",
    "g.show();"
   ]
  },
  {
   "cell_type": "markdown",
   "metadata": {},
   "source": [
    "Видим скачок в количестве событий у группы А 14 декабря и 21 декабря, у группы В таких больших скачков не наблюдается. Данный всплеск может быть связан с предновогодней суматохой."
   ]
  },
  {
   "cell_type": "markdown",
   "metadata": {},
   "source": [
    "<div class=\"alert alert-info\"> <b>Комментарии студента:\n",
    "    \n",
    "</b> Ниже рассмотрела динамику набора пользоваталей\n",
    "</div>"
   ]
  },
  {
   "cell_type": "code",
   "execution_count": 34,
   "metadata": {},
   "outputs": [
    {
     "data": {
      "text/html": [
       "<div>\n",
       "<style scoped>\n",
       "    .dataframe tbody tr th:only-of-type {\n",
       "        vertical-align: middle;\n",
       "    }\n",
       "\n",
       "    .dataframe tbody tr th {\n",
       "        vertical-align: top;\n",
       "    }\n",
       "\n",
       "    .dataframe thead th {\n",
       "        text-align: right;\n",
       "    }\n",
       "</style>\n",
       "<table border=\"1\" class=\"dataframe\">\n",
       "  <thead>\n",
       "    <tr style=\"text-align: right;\">\n",
       "      <th></th>\n",
       "      <th>first_date</th>\n",
       "      <th>group</th>\n",
       "      <th>user_id</th>\n",
       "    </tr>\n",
       "  </thead>\n",
       "  <tbody>\n",
       "    <tr>\n",
       "      <th>0</th>\n",
       "      <td>2020-12-07</td>\n",
       "      <td>A</td>\n",
       "      <td>845</td>\n",
       "    </tr>\n",
       "    <tr>\n",
       "      <th>1</th>\n",
       "      <td>2020-12-07</td>\n",
       "      <td>B</td>\n",
       "      <td>935</td>\n",
       "    </tr>\n",
       "    <tr>\n",
       "      <th>2</th>\n",
       "      <td>2020-12-08</td>\n",
       "      <td>A</td>\n",
       "      <td>568</td>\n",
       "    </tr>\n",
       "    <tr>\n",
       "      <th>3</th>\n",
       "      <td>2020-12-08</td>\n",
       "      <td>B</td>\n",
       "      <td>176</td>\n",
       "    </tr>\n",
       "    <tr>\n",
       "      <th>4</th>\n",
       "      <td>2020-12-09</td>\n",
       "      <td>A</td>\n",
       "      <td>475</td>\n",
       "    </tr>\n",
       "    <tr>\n",
       "      <th>5</th>\n",
       "      <td>2020-12-09</td>\n",
       "      <td>B</td>\n",
       "      <td>331</td>\n",
       "    </tr>\n",
       "    <tr>\n",
       "      <th>6</th>\n",
       "      <td>2020-12-10</td>\n",
       "      <td>A</td>\n",
       "      <td>295</td>\n",
       "    </tr>\n",
       "    <tr>\n",
       "      <th>7</th>\n",
       "      <td>2020-12-10</td>\n",
       "      <td>B</td>\n",
       "      <td>121</td>\n",
       "    </tr>\n",
       "    <tr>\n",
       "      <th>8</th>\n",
       "      <td>2020-12-11</td>\n",
       "      <td>A</td>\n",
       "      <td>469</td>\n",
       "    </tr>\n",
       "    <tr>\n",
       "      <th>9</th>\n",
       "      <td>2020-12-11</td>\n",
       "      <td>B</td>\n",
       "      <td>48</td>\n",
       "    </tr>\n",
       "    <tr>\n",
       "      <th>10</th>\n",
       "      <td>2020-12-12</td>\n",
       "      <td>A</td>\n",
       "      <td>287</td>\n",
       "    </tr>\n",
       "    <tr>\n",
       "      <th>11</th>\n",
       "      <td>2020-12-12</td>\n",
       "      <td>B</td>\n",
       "      <td>201</td>\n",
       "    </tr>\n",
       "    <tr>\n",
       "      <th>12</th>\n",
       "      <td>2020-12-13</td>\n",
       "      <td>A</td>\n",
       "      <td>228</td>\n",
       "    </tr>\n",
       "    <tr>\n",
       "      <th>13</th>\n",
       "      <td>2020-12-13</td>\n",
       "      <td>B</td>\n",
       "      <td>36</td>\n",
       "    </tr>\n",
       "    <tr>\n",
       "      <th>14</th>\n",
       "      <td>2020-12-14</td>\n",
       "      <td>A</td>\n",
       "      <td>2702</td>\n",
       "    </tr>\n",
       "    <tr>\n",
       "      <th>15</th>\n",
       "      <td>2020-12-14</td>\n",
       "      <td>B</td>\n",
       "      <td>278</td>\n",
       "    </tr>\n",
       "    <tr>\n",
       "      <th>16</th>\n",
       "      <td>2020-12-15</td>\n",
       "      <td>A</td>\n",
       "      <td>1453</td>\n",
       "    </tr>\n",
       "    <tr>\n",
       "      <th>17</th>\n",
       "      <td>2020-12-15</td>\n",
       "      <td>B</td>\n",
       "      <td>103</td>\n",
       "    </tr>\n",
       "    <tr>\n",
       "      <th>18</th>\n",
       "      <td>2020-12-16</td>\n",
       "      <td>A</td>\n",
       "      <td>1112</td>\n",
       "    </tr>\n",
       "    <tr>\n",
       "      <th>19</th>\n",
       "      <td>2020-12-16</td>\n",
       "      <td>B</td>\n",
       "      <td>543</td>\n",
       "    </tr>\n",
       "    <tr>\n",
       "      <th>20</th>\n",
       "      <td>2020-12-17</td>\n",
       "      <td>A</td>\n",
       "      <td>1378</td>\n",
       "    </tr>\n",
       "    <tr>\n",
       "      <th>21</th>\n",
       "      <td>2020-12-17</td>\n",
       "      <td>B</td>\n",
       "      <td>135</td>\n",
       "    </tr>\n",
       "    <tr>\n",
       "      <th>22</th>\n",
       "      <td>2020-12-18</td>\n",
       "      <td>A</td>\n",
       "      <td>1510</td>\n",
       "    </tr>\n",
       "    <tr>\n",
       "      <th>23</th>\n",
       "      <td>2020-12-18</td>\n",
       "      <td>B</td>\n",
       "      <td>216</td>\n",
       "    </tr>\n",
       "    <tr>\n",
       "      <th>24</th>\n",
       "      <td>2020-12-19</td>\n",
       "      <td>A</td>\n",
       "      <td>1445</td>\n",
       "    </tr>\n",
       "    <tr>\n",
       "      <th>25</th>\n",
       "      <td>2020-12-19</td>\n",
       "      <td>B</td>\n",
       "      <td>166</td>\n",
       "    </tr>\n",
       "    <tr>\n",
       "      <th>26</th>\n",
       "      <td>2020-12-20</td>\n",
       "      <td>A</td>\n",
       "      <td>1651</td>\n",
       "    </tr>\n",
       "    <tr>\n",
       "      <th>27</th>\n",
       "      <td>2020-12-20</td>\n",
       "      <td>B</td>\n",
       "      <td>230</td>\n",
       "    </tr>\n",
       "    <tr>\n",
       "      <th>28</th>\n",
       "      <td>2020-12-21</td>\n",
       "      <td>A</td>\n",
       "      <td>2403</td>\n",
       "    </tr>\n",
       "    <tr>\n",
       "      <th>29</th>\n",
       "      <td>2020-12-21</td>\n",
       "      <td>B</td>\n",
       "      <td>351</td>\n",
       "    </tr>\n",
       "  </tbody>\n",
       "</table>\n",
       "</div>"
      ],
      "text/plain": [
       "   first_date group  user_id\n",
       "0  2020-12-07     A      845\n",
       "1  2020-12-07     B      935\n",
       "2  2020-12-08     A      568\n",
       "3  2020-12-08     B      176\n",
       "4  2020-12-09     A      475\n",
       "5  2020-12-09     B      331\n",
       "6  2020-12-10     A      295\n",
       "7  2020-12-10     B      121\n",
       "8  2020-12-11     A      469\n",
       "9  2020-12-11     B       48\n",
       "10 2020-12-12     A      287\n",
       "11 2020-12-12     B      201\n",
       "12 2020-12-13     A      228\n",
       "13 2020-12-13     B       36\n",
       "14 2020-12-14     A     2702\n",
       "15 2020-12-14     B      278\n",
       "16 2020-12-15     A     1453\n",
       "17 2020-12-15     B      103\n",
       "18 2020-12-16     A     1112\n",
       "19 2020-12-16     B      543\n",
       "20 2020-12-17     A     1378\n",
       "21 2020-12-17     B      135\n",
       "22 2020-12-18     A     1510\n",
       "23 2020-12-18     B      216\n",
       "24 2020-12-19     A     1445\n",
       "25 2020-12-19     B      166\n",
       "26 2020-12-20     A     1651\n",
       "27 2020-12-20     B      230\n",
       "28 2020-12-21     A     2403\n",
       "29 2020-12-21     B      351"
      ]
     },
     "execution_count": 34,
     "metadata": {},
     "output_type": "execute_result"
    }
   ],
   "source": [
    "first_days = tables_mix.groupby(['first_date', 'group'], as_index=False).agg({'user_id': 'count'})\n",
    "first_days"
   ]
  },
  {
   "cell_type": "code",
   "execution_count": 35,
   "metadata": {},
   "outputs": [
    {
     "name": "stderr",
     "output_type": "stream",
     "text": [
      "/Users/olya/Library/Python/3.11/lib/python/site-packages/_plotly_utils/basevalidators.py:105: FutureWarning:\n",
      "\n",
      "The behavior of DatetimeProperties.to_pydatetime is deprecated, in a future version this will return a Series containing python datetime objects instead of an ndarray. To retain the old behavior, call `np.array` on the result\n",
      "\n"
     ]
    },
    {
     "data": {
      "application/vnd.plotly.v1+json": {
       "config": {
        "plotlyServerURL": "https://plot.ly"
       },
       "data": [
        {
         "alignmentgroup": "True",
         "hovertemplate": "group=A<br>День=%{x}<br>Количество пользователей=%{y}<extra></extra>",
         "legendgroup": "A",
         "marker": {
          "color": "#636efa",
          "pattern": {
           "shape": ""
          }
         },
         "name": "A",
         "offsetgroup": "A",
         "orientation": "v",
         "showlegend": true,
         "textposition": "auto",
         "type": "bar",
         "x": [
          "2020-12-07T00:00:00",
          "2020-12-08T00:00:00",
          "2020-12-09T00:00:00",
          "2020-12-10T00:00:00",
          "2020-12-11T00:00:00",
          "2020-12-12T00:00:00",
          "2020-12-13T00:00:00",
          "2020-12-14T00:00:00",
          "2020-12-15T00:00:00",
          "2020-12-16T00:00:00",
          "2020-12-17T00:00:00",
          "2020-12-18T00:00:00",
          "2020-12-19T00:00:00",
          "2020-12-20T00:00:00",
          "2020-12-21T00:00:00"
         ],
         "xaxis": "x",
         "y": [
          845,
          568,
          475,
          295,
          469,
          287,
          228,
          2702,
          1453,
          1112,
          1378,
          1510,
          1445,
          1651,
          2403
         ],
         "yaxis": "y"
        },
        {
         "alignmentgroup": "True",
         "hovertemplate": "group=B<br>День=%{x}<br>Количество пользователей=%{y}<extra></extra>",
         "legendgroup": "B",
         "marker": {
          "color": "#EF553B",
          "pattern": {
           "shape": ""
          }
         },
         "name": "B",
         "offsetgroup": "B",
         "orientation": "v",
         "showlegend": true,
         "textposition": "auto",
         "type": "bar",
         "x": [
          "2020-12-07T00:00:00",
          "2020-12-08T00:00:00",
          "2020-12-09T00:00:00",
          "2020-12-10T00:00:00",
          "2020-12-11T00:00:00",
          "2020-12-12T00:00:00",
          "2020-12-13T00:00:00",
          "2020-12-14T00:00:00",
          "2020-12-15T00:00:00",
          "2020-12-16T00:00:00",
          "2020-12-17T00:00:00",
          "2020-12-18T00:00:00",
          "2020-12-19T00:00:00",
          "2020-12-20T00:00:00",
          "2020-12-21T00:00:00"
         ],
         "xaxis": "x",
         "y": [
          935,
          176,
          331,
          121,
          48,
          201,
          36,
          278,
          103,
          543,
          135,
          216,
          166,
          230,
          351
         ],
         "yaxis": "y"
        }
       ],
       "layout": {
        "barmode": "group",
        "legend": {
         "title": {
          "text": "group"
         },
         "tracegroupgap": 0
        },
        "template": {
         "data": {
          "bar": [
           {
            "error_x": {
             "color": "#2a3f5f"
            },
            "error_y": {
             "color": "#2a3f5f"
            },
            "marker": {
             "line": {
              "color": "#E5ECF6",
              "width": 0.5
             },
             "pattern": {
              "fillmode": "overlay",
              "size": 10,
              "solidity": 0.2
             }
            },
            "type": "bar"
           }
          ],
          "barpolar": [
           {
            "marker": {
             "line": {
              "color": "#E5ECF6",
              "width": 0.5
             },
             "pattern": {
              "fillmode": "overlay",
              "size": 10,
              "solidity": 0.2
             }
            },
            "type": "barpolar"
           }
          ],
          "carpet": [
           {
            "aaxis": {
             "endlinecolor": "#2a3f5f",
             "gridcolor": "white",
             "linecolor": "white",
             "minorgridcolor": "white",
             "startlinecolor": "#2a3f5f"
            },
            "baxis": {
             "endlinecolor": "#2a3f5f",
             "gridcolor": "white",
             "linecolor": "white",
             "minorgridcolor": "white",
             "startlinecolor": "#2a3f5f"
            },
            "type": "carpet"
           }
          ],
          "choropleth": [
           {
            "colorbar": {
             "outlinewidth": 0,
             "ticks": ""
            },
            "type": "choropleth"
           }
          ],
          "contour": [
           {
            "colorbar": {
             "outlinewidth": 0,
             "ticks": ""
            },
            "colorscale": [
             [
              0,
              "#0d0887"
             ],
             [
              0.1111111111111111,
              "#46039f"
             ],
             [
              0.2222222222222222,
              "#7201a8"
             ],
             [
              0.3333333333333333,
              "#9c179e"
             ],
             [
              0.4444444444444444,
              "#bd3786"
             ],
             [
              0.5555555555555556,
              "#d8576b"
             ],
             [
              0.6666666666666666,
              "#ed7953"
             ],
             [
              0.7777777777777778,
              "#fb9f3a"
             ],
             [
              0.8888888888888888,
              "#fdca26"
             ],
             [
              1,
              "#f0f921"
             ]
            ],
            "type": "contour"
           }
          ],
          "contourcarpet": [
           {
            "colorbar": {
             "outlinewidth": 0,
             "ticks": ""
            },
            "type": "contourcarpet"
           }
          ],
          "heatmap": [
           {
            "colorbar": {
             "outlinewidth": 0,
             "ticks": ""
            },
            "colorscale": [
             [
              0,
              "#0d0887"
             ],
             [
              0.1111111111111111,
              "#46039f"
             ],
             [
              0.2222222222222222,
              "#7201a8"
             ],
             [
              0.3333333333333333,
              "#9c179e"
             ],
             [
              0.4444444444444444,
              "#bd3786"
             ],
             [
              0.5555555555555556,
              "#d8576b"
             ],
             [
              0.6666666666666666,
              "#ed7953"
             ],
             [
              0.7777777777777778,
              "#fb9f3a"
             ],
             [
              0.8888888888888888,
              "#fdca26"
             ],
             [
              1,
              "#f0f921"
             ]
            ],
            "type": "heatmap"
           }
          ],
          "heatmapgl": [
           {
            "colorbar": {
             "outlinewidth": 0,
             "ticks": ""
            },
            "colorscale": [
             [
              0,
              "#0d0887"
             ],
             [
              0.1111111111111111,
              "#46039f"
             ],
             [
              0.2222222222222222,
              "#7201a8"
             ],
             [
              0.3333333333333333,
              "#9c179e"
             ],
             [
              0.4444444444444444,
              "#bd3786"
             ],
             [
              0.5555555555555556,
              "#d8576b"
             ],
             [
              0.6666666666666666,
              "#ed7953"
             ],
             [
              0.7777777777777778,
              "#fb9f3a"
             ],
             [
              0.8888888888888888,
              "#fdca26"
             ],
             [
              1,
              "#f0f921"
             ]
            ],
            "type": "heatmapgl"
           }
          ],
          "histogram": [
           {
            "marker": {
             "pattern": {
              "fillmode": "overlay",
              "size": 10,
              "solidity": 0.2
             }
            },
            "type": "histogram"
           }
          ],
          "histogram2d": [
           {
            "colorbar": {
             "outlinewidth": 0,
             "ticks": ""
            },
            "colorscale": [
             [
              0,
              "#0d0887"
             ],
             [
              0.1111111111111111,
              "#46039f"
             ],
             [
              0.2222222222222222,
              "#7201a8"
             ],
             [
              0.3333333333333333,
              "#9c179e"
             ],
             [
              0.4444444444444444,
              "#bd3786"
             ],
             [
              0.5555555555555556,
              "#d8576b"
             ],
             [
              0.6666666666666666,
              "#ed7953"
             ],
             [
              0.7777777777777778,
              "#fb9f3a"
             ],
             [
              0.8888888888888888,
              "#fdca26"
             ],
             [
              1,
              "#f0f921"
             ]
            ],
            "type": "histogram2d"
           }
          ],
          "histogram2dcontour": [
           {
            "colorbar": {
             "outlinewidth": 0,
             "ticks": ""
            },
            "colorscale": [
             [
              0,
              "#0d0887"
             ],
             [
              0.1111111111111111,
              "#46039f"
             ],
             [
              0.2222222222222222,
              "#7201a8"
             ],
             [
              0.3333333333333333,
              "#9c179e"
             ],
             [
              0.4444444444444444,
              "#bd3786"
             ],
             [
              0.5555555555555556,
              "#d8576b"
             ],
             [
              0.6666666666666666,
              "#ed7953"
             ],
             [
              0.7777777777777778,
              "#fb9f3a"
             ],
             [
              0.8888888888888888,
              "#fdca26"
             ],
             [
              1,
              "#f0f921"
             ]
            ],
            "type": "histogram2dcontour"
           }
          ],
          "mesh3d": [
           {
            "colorbar": {
             "outlinewidth": 0,
             "ticks": ""
            },
            "type": "mesh3d"
           }
          ],
          "parcoords": [
           {
            "line": {
             "colorbar": {
              "outlinewidth": 0,
              "ticks": ""
             }
            },
            "type": "parcoords"
           }
          ],
          "pie": [
           {
            "automargin": true,
            "type": "pie"
           }
          ],
          "scatter": [
           {
            "fillpattern": {
             "fillmode": "overlay",
             "size": 10,
             "solidity": 0.2
            },
            "type": "scatter"
           }
          ],
          "scatter3d": [
           {
            "line": {
             "colorbar": {
              "outlinewidth": 0,
              "ticks": ""
             }
            },
            "marker": {
             "colorbar": {
              "outlinewidth": 0,
              "ticks": ""
             }
            },
            "type": "scatter3d"
           }
          ],
          "scattercarpet": [
           {
            "marker": {
             "colorbar": {
              "outlinewidth": 0,
              "ticks": ""
             }
            },
            "type": "scattercarpet"
           }
          ],
          "scattergeo": [
           {
            "marker": {
             "colorbar": {
              "outlinewidth": 0,
              "ticks": ""
             }
            },
            "type": "scattergeo"
           }
          ],
          "scattergl": [
           {
            "marker": {
             "colorbar": {
              "outlinewidth": 0,
              "ticks": ""
             }
            },
            "type": "scattergl"
           }
          ],
          "scattermapbox": [
           {
            "marker": {
             "colorbar": {
              "outlinewidth": 0,
              "ticks": ""
             }
            },
            "type": "scattermapbox"
           }
          ],
          "scatterpolar": [
           {
            "marker": {
             "colorbar": {
              "outlinewidth": 0,
              "ticks": ""
             }
            },
            "type": "scatterpolar"
           }
          ],
          "scatterpolargl": [
           {
            "marker": {
             "colorbar": {
              "outlinewidth": 0,
              "ticks": ""
             }
            },
            "type": "scatterpolargl"
           }
          ],
          "scatterternary": [
           {
            "marker": {
             "colorbar": {
              "outlinewidth": 0,
              "ticks": ""
             }
            },
            "type": "scatterternary"
           }
          ],
          "surface": [
           {
            "colorbar": {
             "outlinewidth": 0,
             "ticks": ""
            },
            "colorscale": [
             [
              0,
              "#0d0887"
             ],
             [
              0.1111111111111111,
              "#46039f"
             ],
             [
              0.2222222222222222,
              "#7201a8"
             ],
             [
              0.3333333333333333,
              "#9c179e"
             ],
             [
              0.4444444444444444,
              "#bd3786"
             ],
             [
              0.5555555555555556,
              "#d8576b"
             ],
             [
              0.6666666666666666,
              "#ed7953"
             ],
             [
              0.7777777777777778,
              "#fb9f3a"
             ],
             [
              0.8888888888888888,
              "#fdca26"
             ],
             [
              1,
              "#f0f921"
             ]
            ],
            "type": "surface"
           }
          ],
          "table": [
           {
            "cells": {
             "fill": {
              "color": "#EBF0F8"
             },
             "line": {
              "color": "white"
             }
            },
            "header": {
             "fill": {
              "color": "#C8D4E3"
             },
             "line": {
              "color": "white"
             }
            },
            "type": "table"
           }
          ]
         },
         "layout": {
          "annotationdefaults": {
           "arrowcolor": "#2a3f5f",
           "arrowhead": 0,
           "arrowwidth": 1
          },
          "autotypenumbers": "strict",
          "coloraxis": {
           "colorbar": {
            "outlinewidth": 0,
            "ticks": ""
           }
          },
          "colorscale": {
           "diverging": [
            [
             0,
             "#8e0152"
            ],
            [
             0.1,
             "#c51b7d"
            ],
            [
             0.2,
             "#de77ae"
            ],
            [
             0.3,
             "#f1b6da"
            ],
            [
             0.4,
             "#fde0ef"
            ],
            [
             0.5,
             "#f7f7f7"
            ],
            [
             0.6,
             "#e6f5d0"
            ],
            [
             0.7,
             "#b8e186"
            ],
            [
             0.8,
             "#7fbc41"
            ],
            [
             0.9,
             "#4d9221"
            ],
            [
             1,
             "#276419"
            ]
           ],
           "sequential": [
            [
             0,
             "#0d0887"
            ],
            [
             0.1111111111111111,
             "#46039f"
            ],
            [
             0.2222222222222222,
             "#7201a8"
            ],
            [
             0.3333333333333333,
             "#9c179e"
            ],
            [
             0.4444444444444444,
             "#bd3786"
            ],
            [
             0.5555555555555556,
             "#d8576b"
            ],
            [
             0.6666666666666666,
             "#ed7953"
            ],
            [
             0.7777777777777778,
             "#fb9f3a"
            ],
            [
             0.8888888888888888,
             "#fdca26"
            ],
            [
             1,
             "#f0f921"
            ]
           ],
           "sequentialminus": [
            [
             0,
             "#0d0887"
            ],
            [
             0.1111111111111111,
             "#46039f"
            ],
            [
             0.2222222222222222,
             "#7201a8"
            ],
            [
             0.3333333333333333,
             "#9c179e"
            ],
            [
             0.4444444444444444,
             "#bd3786"
            ],
            [
             0.5555555555555556,
             "#d8576b"
            ],
            [
             0.6666666666666666,
             "#ed7953"
            ],
            [
             0.7777777777777778,
             "#fb9f3a"
            ],
            [
             0.8888888888888888,
             "#fdca26"
            ],
            [
             1,
             "#f0f921"
            ]
           ]
          },
          "colorway": [
           "#636efa",
           "#EF553B",
           "#00cc96",
           "#ab63fa",
           "#FFA15A",
           "#19d3f3",
           "#FF6692",
           "#B6E880",
           "#FF97FF",
           "#FECB52"
          ],
          "font": {
           "color": "#2a3f5f"
          },
          "geo": {
           "bgcolor": "white",
           "lakecolor": "white",
           "landcolor": "#E5ECF6",
           "showlakes": true,
           "showland": true,
           "subunitcolor": "white"
          },
          "hoverlabel": {
           "align": "left"
          },
          "hovermode": "closest",
          "mapbox": {
           "style": "light"
          },
          "paper_bgcolor": "white",
          "plot_bgcolor": "#E5ECF6",
          "polar": {
           "angularaxis": {
            "gridcolor": "white",
            "linecolor": "white",
            "ticks": ""
           },
           "bgcolor": "#E5ECF6",
           "radialaxis": {
            "gridcolor": "white",
            "linecolor": "white",
            "ticks": ""
           }
          },
          "scene": {
           "xaxis": {
            "backgroundcolor": "#E5ECF6",
            "gridcolor": "white",
            "gridwidth": 2,
            "linecolor": "white",
            "showbackground": true,
            "ticks": "",
            "zerolinecolor": "white"
           },
           "yaxis": {
            "backgroundcolor": "#E5ECF6",
            "gridcolor": "white",
            "gridwidth": 2,
            "linecolor": "white",
            "showbackground": true,
            "ticks": "",
            "zerolinecolor": "white"
           },
           "zaxis": {
            "backgroundcolor": "#E5ECF6",
            "gridcolor": "white",
            "gridwidth": 2,
            "linecolor": "white",
            "showbackground": true,
            "ticks": "",
            "zerolinecolor": "white"
           }
          },
          "shapedefaults": {
           "line": {
            "color": "#2a3f5f"
           }
          },
          "ternary": {
           "aaxis": {
            "gridcolor": "white",
            "linecolor": "white",
            "ticks": ""
           },
           "baxis": {
            "gridcolor": "white",
            "linecolor": "white",
            "ticks": ""
           },
           "bgcolor": "#E5ECF6",
           "caxis": {
            "gridcolor": "white",
            "linecolor": "white",
            "ticks": ""
           }
          },
          "title": {
           "x": 0.05
          },
          "xaxis": {
           "automargin": true,
           "gridcolor": "white",
           "linecolor": "white",
           "ticks": "",
           "title": {
            "standoff": 15
           },
           "zerolinecolor": "white",
           "zerolinewidth": 2
          },
          "yaxis": {
           "automargin": true,
           "gridcolor": "white",
           "linecolor": "white",
           "ticks": "",
           "title": {
            "standoff": 15
           },
           "zerolinecolor": "white",
           "zerolinewidth": 2
          }
         }
        },
        "title": {
         "text": "Диаграмма динамики набора пользоваталей"
        },
        "xaxis": {
         "anchor": "y",
         "domain": [
          0,
          1
         ],
         "title": {
          "text": "День"
         }
        },
        "yaxis": {
         "anchor": "x",
         "domain": [
          0,
          1
         ],
         "title": {
          "text": "Количество пользователей"
         }
        }
       }
      }
     },
     "metadata": {},
     "output_type": "display_data"
    }
   ],
   "source": [
    "g = px.bar(first_days, x = 'first_date', y = 'user_id', color=\"group\", barmode=\"group\", \n",
    "           labels={'first_date':'День', 'user_id': 'Количество пользователей'},\n",
    "          title=\"Диаграмма динамики набора пользоваталей\")\n",
    "\n",
    "\n",
    "g.show();"
   ]
  },
  {
   "cell_type": "markdown",
   "metadata": {},
   "source": [
    " По графику виден резкий скачок в количестве пользователей группы А 14 декабря, с этим же и связан аналогичный скачок в кол-ве событий. Динамика в бОльшем по отношению к датам 7- 13 декабря количестве новых пользователей сохраняется по 21 декабря, и 21 декабря тоже виден небольшой скачок, с чем и связан скачок в кол-ве событий.\n"
   ]
  },
  {
   "cell_type": "markdown",
   "metadata": {},
   "source": [
    "- Как меняется конверсия в воронке в выборках на разных этапах?"
   ]
  },
  {
   "cell_type": "code",
   "execution_count": 36,
   "metadata": {
    "scrolled": true
   },
   "outputs": [
    {
     "data": {
      "text/html": [
       "<div>\n",
       "<style scoped>\n",
       "    .dataframe tbody tr th:only-of-type {\n",
       "        vertical-align: middle;\n",
       "    }\n",
       "\n",
       "    .dataframe tbody tr th {\n",
       "        vertical-align: top;\n",
       "    }\n",
       "\n",
       "    .dataframe thead th {\n",
       "        text-align: right;\n",
       "    }\n",
       "</style>\n",
       "<table border=\"1\" class=\"dataframe\">\n",
       "  <thead>\n",
       "    <tr style=\"text-align: right;\">\n",
       "      <th>group</th>\n",
       "      <th>A</th>\n",
       "      <th>B</th>\n",
       "    </tr>\n",
       "    <tr>\n",
       "      <th>event_name</th>\n",
       "      <th></th>\n",
       "      <th></th>\n",
       "    </tr>\n",
       "  </thead>\n",
       "  <tbody>\n",
       "    <tr>\n",
       "      <th>login</th>\n",
       "      <td>2422</td>\n",
       "      <td>705</td>\n",
       "    </tr>\n",
       "    <tr>\n",
       "      <th>product_page</th>\n",
       "      <td>1571</td>\n",
       "      <td>397</td>\n",
       "    </tr>\n",
       "    <tr>\n",
       "      <th>product_cart</th>\n",
       "      <td>728</td>\n",
       "      <td>195</td>\n",
       "    </tr>\n",
       "    <tr>\n",
       "      <th>purchase</th>\n",
       "      <td>773</td>\n",
       "      <td>198</td>\n",
       "    </tr>\n",
       "  </tbody>\n",
       "</table>\n",
       "</div>"
      ],
      "text/plain": [
       "group            A    B\n",
       "event_name             \n",
       "login         2422  705\n",
       "product_page  1571  397\n",
       "product_cart   728  195\n",
       "purchase       773  198"
      ]
     },
     "execution_count": 36,
     "metadata": {},
     "output_type": "execute_result"
    }
   ],
   "source": [
    "ev = pd.pivot_table(tables_mix, index = 'event_name', columns = 'group', values = 'user_id', aggfunc = 'nunique')\n",
    "ev = ev.reindex(['login', 'product_page', 'product_cart', 'purchase'])\n",
    "\n",
    "ev"
   ]
  },
  {
   "cell_type": "code",
   "execution_count": 46,
   "metadata": {},
   "outputs": [
    {
     "name": "stderr",
     "output_type": "stream",
     "text": [
      "/var/folders/0f/4q2pc10x42v3yxwznsr5ljk00000gn/T/ipykernel_2027/1903661581.py:1: FutureWarning:\n",
      "\n",
      "Series.__getitem__ treating keys as positions is deprecated. In a future version, integer keys will always be treated as labels (consistent with DataFrame behavior). To access a value by position, use `ser.iloc[pos]`\n",
      "\n",
      "/var/folders/0f/4q2pc10x42v3yxwznsr5ljk00000gn/T/ipykernel_2027/1903661581.py:2: FutureWarning:\n",
      "\n",
      "Series.__getitem__ treating keys as positions is deprecated. In a future version, integer keys will always be treated as labels (consistent with DataFrame behavior). To access a value by position, use `ser.iloc[pos]`\n",
      "\n"
     ]
    },
    {
     "data": {
      "text/html": [
       "<div>\n",
       "<style scoped>\n",
       "    .dataframe tbody tr th:only-of-type {\n",
       "        vertical-align: middle;\n",
       "    }\n",
       "\n",
       "    .dataframe tbody tr th {\n",
       "        vertical-align: top;\n",
       "    }\n",
       "\n",
       "    .dataframe thead th {\n",
       "        text-align: right;\n",
       "    }\n",
       "</style>\n",
       "<table border=\"1\" class=\"dataframe\">\n",
       "  <thead>\n",
       "    <tr style=\"text-align: right;\">\n",
       "      <th>group</th>\n",
       "      <th>A</th>\n",
       "      <th>B</th>\n",
       "      <th>cov_A</th>\n",
       "      <th>cov_B</th>\n",
       "    </tr>\n",
       "    <tr>\n",
       "      <th>event_name</th>\n",
       "      <th></th>\n",
       "      <th></th>\n",
       "      <th></th>\n",
       "      <th></th>\n",
       "    </tr>\n",
       "  </thead>\n",
       "  <tbody>\n",
       "    <tr>\n",
       "      <th>login</th>\n",
       "      <td>2422</td>\n",
       "      <td>705</td>\n",
       "      <td>100.0</td>\n",
       "      <td>100.0</td>\n",
       "    </tr>\n",
       "    <tr>\n",
       "      <th>product_page</th>\n",
       "      <td>1571</td>\n",
       "      <td>397</td>\n",
       "      <td>64.9</td>\n",
       "      <td>56.3</td>\n",
       "    </tr>\n",
       "    <tr>\n",
       "      <th>product_cart</th>\n",
       "      <td>728</td>\n",
       "      <td>195</td>\n",
       "      <td>30.1</td>\n",
       "      <td>27.7</td>\n",
       "    </tr>\n",
       "    <tr>\n",
       "      <th>purchase</th>\n",
       "      <td>773</td>\n",
       "      <td>198</td>\n",
       "      <td>31.9</td>\n",
       "      <td>28.1</td>\n",
       "    </tr>\n",
       "  </tbody>\n",
       "</table>\n",
       "</div>"
      ],
      "text/plain": [
       "group            A    B  cov_A  cov_B\n",
       "event_name                           \n",
       "login         2422  705  100.0  100.0\n",
       "product_page  1571  397   64.9   56.3\n",
       "product_cart   728  195   30.1   27.7\n",
       "purchase       773  198   31.9   28.1"
      ]
     },
     "execution_count": 46,
     "metadata": {},
     "output_type": "execute_result"
    }
   ],
   "source": [
    "ev['cov_A'] = round((ev['A']/ev['A'][0] * 100),1)\n",
    "ev['cov_B'] = round((ev['B']/ev['B'][0] * 100),1)\n",
    "ev"
   ]
  },
  {
   "cell_type": "code",
   "execution_count": 38,
   "metadata": {
    "scrolled": false
   },
   "outputs": [
    {
     "data": {
      "application/vnd.plotly.v1+json": {
       "config": {
        "plotlyServerURL": "https://plot.ly"
       },
       "data": [
        {
         "name": "А",
         "textinfo": "value+percent initial",
         "type": "funnel",
         "x": [
          2422,
          1571,
          728,
          773
         ],
         "y": [
          "login",
          "product_page",
          "product_cart",
          "purchase"
         ]
        },
        {
         "name": "B",
         "orientation": "h",
         "textinfo": "value+percent initial",
         "textposition": "inside",
         "type": "funnel",
         "x": [
          705,
          397,
          195,
          198
         ],
         "y": [
          "login",
          "product_page",
          "product_cart",
          "purchase"
         ]
        }
       ],
       "layout": {
        "template": {
         "data": {
          "bar": [
           {
            "error_x": {
             "color": "#2a3f5f"
            },
            "error_y": {
             "color": "#2a3f5f"
            },
            "marker": {
             "line": {
              "color": "#E5ECF6",
              "width": 0.5
             },
             "pattern": {
              "fillmode": "overlay",
              "size": 10,
              "solidity": 0.2
             }
            },
            "type": "bar"
           }
          ],
          "barpolar": [
           {
            "marker": {
             "line": {
              "color": "#E5ECF6",
              "width": 0.5
             },
             "pattern": {
              "fillmode": "overlay",
              "size": 10,
              "solidity": 0.2
             }
            },
            "type": "barpolar"
           }
          ],
          "carpet": [
           {
            "aaxis": {
             "endlinecolor": "#2a3f5f",
             "gridcolor": "white",
             "linecolor": "white",
             "minorgridcolor": "white",
             "startlinecolor": "#2a3f5f"
            },
            "baxis": {
             "endlinecolor": "#2a3f5f",
             "gridcolor": "white",
             "linecolor": "white",
             "minorgridcolor": "white",
             "startlinecolor": "#2a3f5f"
            },
            "type": "carpet"
           }
          ],
          "choropleth": [
           {
            "colorbar": {
             "outlinewidth": 0,
             "ticks": ""
            },
            "type": "choropleth"
           }
          ],
          "contour": [
           {
            "colorbar": {
             "outlinewidth": 0,
             "ticks": ""
            },
            "colorscale": [
             [
              0,
              "#0d0887"
             ],
             [
              0.1111111111111111,
              "#46039f"
             ],
             [
              0.2222222222222222,
              "#7201a8"
             ],
             [
              0.3333333333333333,
              "#9c179e"
             ],
             [
              0.4444444444444444,
              "#bd3786"
             ],
             [
              0.5555555555555556,
              "#d8576b"
             ],
             [
              0.6666666666666666,
              "#ed7953"
             ],
             [
              0.7777777777777778,
              "#fb9f3a"
             ],
             [
              0.8888888888888888,
              "#fdca26"
             ],
             [
              1,
              "#f0f921"
             ]
            ],
            "type": "contour"
           }
          ],
          "contourcarpet": [
           {
            "colorbar": {
             "outlinewidth": 0,
             "ticks": ""
            },
            "type": "contourcarpet"
           }
          ],
          "heatmap": [
           {
            "colorbar": {
             "outlinewidth": 0,
             "ticks": ""
            },
            "colorscale": [
             [
              0,
              "#0d0887"
             ],
             [
              0.1111111111111111,
              "#46039f"
             ],
             [
              0.2222222222222222,
              "#7201a8"
             ],
             [
              0.3333333333333333,
              "#9c179e"
             ],
             [
              0.4444444444444444,
              "#bd3786"
             ],
             [
              0.5555555555555556,
              "#d8576b"
             ],
             [
              0.6666666666666666,
              "#ed7953"
             ],
             [
              0.7777777777777778,
              "#fb9f3a"
             ],
             [
              0.8888888888888888,
              "#fdca26"
             ],
             [
              1,
              "#f0f921"
             ]
            ],
            "type": "heatmap"
           }
          ],
          "heatmapgl": [
           {
            "colorbar": {
             "outlinewidth": 0,
             "ticks": ""
            },
            "colorscale": [
             [
              0,
              "#0d0887"
             ],
             [
              0.1111111111111111,
              "#46039f"
             ],
             [
              0.2222222222222222,
              "#7201a8"
             ],
             [
              0.3333333333333333,
              "#9c179e"
             ],
             [
              0.4444444444444444,
              "#bd3786"
             ],
             [
              0.5555555555555556,
              "#d8576b"
             ],
             [
              0.6666666666666666,
              "#ed7953"
             ],
             [
              0.7777777777777778,
              "#fb9f3a"
             ],
             [
              0.8888888888888888,
              "#fdca26"
             ],
             [
              1,
              "#f0f921"
             ]
            ],
            "type": "heatmapgl"
           }
          ],
          "histogram": [
           {
            "marker": {
             "pattern": {
              "fillmode": "overlay",
              "size": 10,
              "solidity": 0.2
             }
            },
            "type": "histogram"
           }
          ],
          "histogram2d": [
           {
            "colorbar": {
             "outlinewidth": 0,
             "ticks": ""
            },
            "colorscale": [
             [
              0,
              "#0d0887"
             ],
             [
              0.1111111111111111,
              "#46039f"
             ],
             [
              0.2222222222222222,
              "#7201a8"
             ],
             [
              0.3333333333333333,
              "#9c179e"
             ],
             [
              0.4444444444444444,
              "#bd3786"
             ],
             [
              0.5555555555555556,
              "#d8576b"
             ],
             [
              0.6666666666666666,
              "#ed7953"
             ],
             [
              0.7777777777777778,
              "#fb9f3a"
             ],
             [
              0.8888888888888888,
              "#fdca26"
             ],
             [
              1,
              "#f0f921"
             ]
            ],
            "type": "histogram2d"
           }
          ],
          "histogram2dcontour": [
           {
            "colorbar": {
             "outlinewidth": 0,
             "ticks": ""
            },
            "colorscale": [
             [
              0,
              "#0d0887"
             ],
             [
              0.1111111111111111,
              "#46039f"
             ],
             [
              0.2222222222222222,
              "#7201a8"
             ],
             [
              0.3333333333333333,
              "#9c179e"
             ],
             [
              0.4444444444444444,
              "#bd3786"
             ],
             [
              0.5555555555555556,
              "#d8576b"
             ],
             [
              0.6666666666666666,
              "#ed7953"
             ],
             [
              0.7777777777777778,
              "#fb9f3a"
             ],
             [
              0.8888888888888888,
              "#fdca26"
             ],
             [
              1,
              "#f0f921"
             ]
            ],
            "type": "histogram2dcontour"
           }
          ],
          "mesh3d": [
           {
            "colorbar": {
             "outlinewidth": 0,
             "ticks": ""
            },
            "type": "mesh3d"
           }
          ],
          "parcoords": [
           {
            "line": {
             "colorbar": {
              "outlinewidth": 0,
              "ticks": ""
             }
            },
            "type": "parcoords"
           }
          ],
          "pie": [
           {
            "automargin": true,
            "type": "pie"
           }
          ],
          "scatter": [
           {
            "fillpattern": {
             "fillmode": "overlay",
             "size": 10,
             "solidity": 0.2
            },
            "type": "scatter"
           }
          ],
          "scatter3d": [
           {
            "line": {
             "colorbar": {
              "outlinewidth": 0,
              "ticks": ""
             }
            },
            "marker": {
             "colorbar": {
              "outlinewidth": 0,
              "ticks": ""
             }
            },
            "type": "scatter3d"
           }
          ],
          "scattercarpet": [
           {
            "marker": {
             "colorbar": {
              "outlinewidth": 0,
              "ticks": ""
             }
            },
            "type": "scattercarpet"
           }
          ],
          "scattergeo": [
           {
            "marker": {
             "colorbar": {
              "outlinewidth": 0,
              "ticks": ""
             }
            },
            "type": "scattergeo"
           }
          ],
          "scattergl": [
           {
            "marker": {
             "colorbar": {
              "outlinewidth": 0,
              "ticks": ""
             }
            },
            "type": "scattergl"
           }
          ],
          "scattermapbox": [
           {
            "marker": {
             "colorbar": {
              "outlinewidth": 0,
              "ticks": ""
             }
            },
            "type": "scattermapbox"
           }
          ],
          "scatterpolar": [
           {
            "marker": {
             "colorbar": {
              "outlinewidth": 0,
              "ticks": ""
             }
            },
            "type": "scatterpolar"
           }
          ],
          "scatterpolargl": [
           {
            "marker": {
             "colorbar": {
              "outlinewidth": 0,
              "ticks": ""
             }
            },
            "type": "scatterpolargl"
           }
          ],
          "scatterternary": [
           {
            "marker": {
             "colorbar": {
              "outlinewidth": 0,
              "ticks": ""
             }
            },
            "type": "scatterternary"
           }
          ],
          "surface": [
           {
            "colorbar": {
             "outlinewidth": 0,
             "ticks": ""
            },
            "colorscale": [
             [
              0,
              "#0d0887"
             ],
             [
              0.1111111111111111,
              "#46039f"
             ],
             [
              0.2222222222222222,
              "#7201a8"
             ],
             [
              0.3333333333333333,
              "#9c179e"
             ],
             [
              0.4444444444444444,
              "#bd3786"
             ],
             [
              0.5555555555555556,
              "#d8576b"
             ],
             [
              0.6666666666666666,
              "#ed7953"
             ],
             [
              0.7777777777777778,
              "#fb9f3a"
             ],
             [
              0.8888888888888888,
              "#fdca26"
             ],
             [
              1,
              "#f0f921"
             ]
            ],
            "type": "surface"
           }
          ],
          "table": [
           {
            "cells": {
             "fill": {
              "color": "#EBF0F8"
             },
             "line": {
              "color": "white"
             }
            },
            "header": {
             "fill": {
              "color": "#C8D4E3"
             },
             "line": {
              "color": "white"
             }
            },
            "type": "table"
           }
          ]
         },
         "layout": {
          "annotationdefaults": {
           "arrowcolor": "#2a3f5f",
           "arrowhead": 0,
           "arrowwidth": 1
          },
          "autotypenumbers": "strict",
          "coloraxis": {
           "colorbar": {
            "outlinewidth": 0,
            "ticks": ""
           }
          },
          "colorscale": {
           "diverging": [
            [
             0,
             "#8e0152"
            ],
            [
             0.1,
             "#c51b7d"
            ],
            [
             0.2,
             "#de77ae"
            ],
            [
             0.3,
             "#f1b6da"
            ],
            [
             0.4,
             "#fde0ef"
            ],
            [
             0.5,
             "#f7f7f7"
            ],
            [
             0.6,
             "#e6f5d0"
            ],
            [
             0.7,
             "#b8e186"
            ],
            [
             0.8,
             "#7fbc41"
            ],
            [
             0.9,
             "#4d9221"
            ],
            [
             1,
             "#276419"
            ]
           ],
           "sequential": [
            [
             0,
             "#0d0887"
            ],
            [
             0.1111111111111111,
             "#46039f"
            ],
            [
             0.2222222222222222,
             "#7201a8"
            ],
            [
             0.3333333333333333,
             "#9c179e"
            ],
            [
             0.4444444444444444,
             "#bd3786"
            ],
            [
             0.5555555555555556,
             "#d8576b"
            ],
            [
             0.6666666666666666,
             "#ed7953"
            ],
            [
             0.7777777777777778,
             "#fb9f3a"
            ],
            [
             0.8888888888888888,
             "#fdca26"
            ],
            [
             1,
             "#f0f921"
            ]
           ],
           "sequentialminus": [
            [
             0,
             "#0d0887"
            ],
            [
             0.1111111111111111,
             "#46039f"
            ],
            [
             0.2222222222222222,
             "#7201a8"
            ],
            [
             0.3333333333333333,
             "#9c179e"
            ],
            [
             0.4444444444444444,
             "#bd3786"
            ],
            [
             0.5555555555555556,
             "#d8576b"
            ],
            [
             0.6666666666666666,
             "#ed7953"
            ],
            [
             0.7777777777777778,
             "#fb9f3a"
            ],
            [
             0.8888888888888888,
             "#fdca26"
            ],
            [
             1,
             "#f0f921"
            ]
           ]
          },
          "colorway": [
           "#636efa",
           "#EF553B",
           "#00cc96",
           "#ab63fa",
           "#FFA15A",
           "#19d3f3",
           "#FF6692",
           "#B6E880",
           "#FF97FF",
           "#FECB52"
          ],
          "font": {
           "color": "#2a3f5f"
          },
          "geo": {
           "bgcolor": "white",
           "lakecolor": "white",
           "landcolor": "#E5ECF6",
           "showlakes": true,
           "showland": true,
           "subunitcolor": "white"
          },
          "hoverlabel": {
           "align": "left"
          },
          "hovermode": "closest",
          "mapbox": {
           "style": "light"
          },
          "paper_bgcolor": "white",
          "plot_bgcolor": "#E5ECF6",
          "polar": {
           "angularaxis": {
            "gridcolor": "white",
            "linecolor": "white",
            "ticks": ""
           },
           "bgcolor": "#E5ECF6",
           "radialaxis": {
            "gridcolor": "white",
            "linecolor": "white",
            "ticks": ""
           }
          },
          "scene": {
           "xaxis": {
            "backgroundcolor": "#E5ECF6",
            "gridcolor": "white",
            "gridwidth": 2,
            "linecolor": "white",
            "showbackground": true,
            "ticks": "",
            "zerolinecolor": "white"
           },
           "yaxis": {
            "backgroundcolor": "#E5ECF6",
            "gridcolor": "white",
            "gridwidth": 2,
            "linecolor": "white",
            "showbackground": true,
            "ticks": "",
            "zerolinecolor": "white"
           },
           "zaxis": {
            "backgroundcolor": "#E5ECF6",
            "gridcolor": "white",
            "gridwidth": 2,
            "linecolor": "white",
            "showbackground": true,
            "ticks": "",
            "zerolinecolor": "white"
           }
          },
          "shapedefaults": {
           "line": {
            "color": "#2a3f5f"
           }
          },
          "ternary": {
           "aaxis": {
            "gridcolor": "white",
            "linecolor": "white",
            "ticks": ""
           },
           "baxis": {
            "gridcolor": "white",
            "linecolor": "white",
            "ticks": ""
           },
           "bgcolor": "#E5ECF6",
           "caxis": {
            "gridcolor": "white",
            "linecolor": "white",
            "ticks": ""
           }
          },
          "title": {
           "x": 0.05
          },
          "xaxis": {
           "automargin": true,
           "gridcolor": "white",
           "linecolor": "white",
           "ticks": "",
           "title": {
            "standoff": 15
           },
           "zerolinecolor": "white",
           "zerolinewidth": 2
          },
          "yaxis": {
           "automargin": true,
           "gridcolor": "white",
           "linecolor": "white",
           "ticks": "",
           "title": {
            "standoff": 15
           },
           "zerolinecolor": "white",
           "zerolinewidth": 2
          }
         }
        },
        "title": {
         "text": "Конверсия в воронке в выборках на разных этапах"
        }
       }
      }
     },
     "metadata": {},
     "output_type": "display_data"
    }
   ],
   "source": [
    "fig = go.Figure()\n",
    "\n",
    "fig.add_trace(go.Funnel(\n",
    "    name = 'А',\n",
    "    y = [\"login\", \"product_page\", \"product_cart\", \"purchase\"],\n",
    "    x = ev['A'],\n",
    "    textinfo = \"value + percent initial\"))\n",
    "\n",
    "fig.add_trace(go.Funnel(\n",
    "    name = 'B',\n",
    "    orientation = \"h\",\n",
    "    y = [\"login\", \"product_page\", \"product_cart\", \"purchase\"],\n",
    "    x = ev['B'],\n",
    "    textposition = \"inside\",\n",
    "    textinfo = \"value + percent initial\"))\n",
    "\n",
    "fig.update_layout(title = 'Конверсия в воронке в выборках на разных этапах')"
   ]
  },
  {
   "cell_type": "markdown",
   "metadata": {},
   "source": [
    "Группа В показала хуже результаты в конверсии, чем группа А. Конверсия в покупку у группы А составила 32%, у группы В в 28%. Так же можно заметить нюанс, что имеются пользователи, которые совершили платёж не заходя в корзину. Вероятнее всего, они купили только 1 товар Это может говорить о том, что на платформе нестрогая воронка продаж и можно приобрести продукт минуя некоторые этапы."
   ]
  },
  {
   "cell_type": "markdown",
   "metadata": {},
   "source": [
    "- Какие особенности данных нужно учесть, прежде чем приступать к A/B-тестированию?"
   ]
  },
  {
   "cell_type": "markdown",
   "metadata": {},
   "source": [
    "1) Выборки А и Б не равны по количеству\n",
    "\n",
    "2) Максимальная дата в столбце с датой и временем события: 2020-12-30, хотя в тз планировалось 2021-01-04\n",
    "\n",
    "3) После \"чистки\" данных участников теста осталось 3128, хотя ожидалось 6000\n",
    "\n",
    "4) Время проведения теста совпало с приближением нового года, что тоже могло исказить результаты\n",
    "\n",
    "5) Были найдены и исключены из теста пользователи попавшие и в А и в В группы"
   ]
  },
  {
   "cell_type": "markdown",
   "metadata": {},
   "source": [
    "# 5. Оценка результатов A/B-тестирования"
   ]
  },
  {
   "cell_type": "markdown",
   "metadata": {},
   "source": [
    "- Что можно сказать про результаты A/B-тестирования?"
   ]
  },
  {
   "cell_type": "markdown",
   "metadata": {},
   "source": [
    "Результаты A/B-тестирования не можем считать корректными, тк имеются расхождения с пунктами тз (подробнее описано в абзаце выше). "
   ]
  },
  {
   "cell_type": "markdown",
   "metadata": {},
   "source": [
    "- Проверим статистическую разницу долей z-критерием"
   ]
  },
  {
   "cell_type": "markdown",
   "metadata": {},
   "source": [
    "Посмотрим равна ли конверсия групп А и В с помошью z-теста для долей сравнив доли пользователей из каждой группы. \n",
    "\n",
    "За критический уровень статистической значимости при проверке гипотез примем alpha = .05, чтобы уменьшить вероятность получения ошибки второго рода."
   ]
  },
  {
   "cell_type": "markdown",
   "metadata": {},
   "source": [
    "1. Гипотеза о равенстве долей пользователей, совершивших покупку.\n",
    "\n",
    "Н0: Доли пользователей, совершивших покупку, в обоих группах одинаковы.\n",
    "\n",
    "Н1: Доли пользователей, совершивших покупку, в обоих группах разные."
   ]
  },
  {
   "cell_type": "code",
   "execution_count": 39,
   "metadata": {},
   "outputs": [
    {
     "name": "stdout",
     "output_type": "stream",
     "text": [
      "773 198 2422 705\n"
     ]
    },
    {
     "name": "stderr",
     "output_type": "stream",
     "text": [
      "/var/folders/0f/4q2pc10x42v3yxwznsr5ljk00000gn/T/ipykernel_2027/431140639.py:3: FutureWarning:\n",
      "\n",
      "Series.__getitem__ treating keys as positions is deprecated. In a future version, integer keys will always be treated as labels (consistent with DataFrame behavior). To access a value by position, use `ser.iloc[pos]`\n",
      "\n",
      "/var/folders/0f/4q2pc10x42v3yxwznsr5ljk00000gn/T/ipykernel_2027/431140639.py:4: FutureWarning:\n",
      "\n",
      "Series.__getitem__ treating keys as positions is deprecated. In a future version, integer keys will always be treated as labels (consistent with DataFrame behavior). To access a value by position, use `ser.iloc[pos]`\n",
      "\n"
     ]
    }
   ],
   "source": [
    "alpha = .05 # критический уровень статистической значимости\n",
    "\n",
    "successes = np.array([ev['A'][3], ev['B'][3]])\n",
    "trials = np.array([ev['A'][0], ev['B'][0]])\n",
    "\n",
    "# пропорция успехов в первой группе:\n",
    "p1 = successes[0]/trials[0]\n",
    "\n",
    "# пропорция успехов во второй группе:\n",
    "p2 = successes[1]/trials[1]\n",
    "\n",
    "print(successes[0], successes[1], trials[0], trials[1])\n",
    "\n",
    "# пропорция успехов в комбинированном датасете:\n",
    "p_combined = (successes[0] + successes[1]) / (trials[0] + trials[1])\n",
    "\n",
    "# разница пропорций в датасетах\n",
    "difference = p1 - p2 "
   ]
  },
  {
   "cell_type": "code",
   "execution_count": 40,
   "metadata": {},
   "outputs": [],
   "source": [
    "# считаем статистику в ст.отклонениях стандартного нормального распределения\n",
    "z_value = difference / mth.sqrt(p_combined * (1 - p_combined) * (1/trials[0] + 1/trials[1]))\n",
    "\n",
    "# задаем стандартное нормальное распределение (среднее 0, ст.отклонение 1)\n",
    "distr = st.norm(0, 1) "
   ]
  },
  {
   "cell_type": "markdown",
   "metadata": {},
   "source": [
    "Если бы пропорции были равны, разница между ними была бы равна нулю. Посчитаем, как далеко статистика уехала от нуля. Какова вероятность получить такое отличие или больше?"
   ]
  },
  {
   "cell_type": "code",
   "execution_count": 41,
   "metadata": {},
   "outputs": [
    {
     "name": "stdout",
     "output_type": "stream",
     "text": [
      "p-значение:  0.05304232927356467\n",
      "Не получилось отвергнуть нулевую гипотезу, нет оснований считать доли разными\n"
     ]
    }
   ],
   "source": [
    "p_value = (1 - distr.cdf(abs(z_value))) * 2\n",
    "\n",
    "print('p-значение: ', p_value)\n",
    "\n",
    "if p_value < alpha:\n",
    "    print('Отвергаем нулевую гипотезу: между долями есть значимая разница')\n",
    "else:\n",
    "    print(\n",
    "        'Не получилось отвергнуть нулевую гипотезу, нет оснований считать доли разными'\n",
    "    )"
   ]
  },
  {
   "cell_type": "markdown",
   "metadata": {},
   "source": [
    "Вывод: доли пользователей, совершивших покупку, в обоих группах одинаковы."
   ]
  },
  {
   "cell_type": "markdown",
   "metadata": {},
   "source": [
    "2. Гипотеза о равенстве долей пользователей, перешедших на окно просмотра корзины.\n",
    "\n",
    "Н0: Доли пользователей, перешедших на окно просмотра корзины, в обоих группах одинаковы.\n",
    "\n",
    "Н1: Доли пользователей, перешедших на окно просмотра корзины, в обоих группах разные."
   ]
  },
  {
   "cell_type": "code",
   "execution_count": 42,
   "metadata": {},
   "outputs": [
    {
     "name": "stdout",
     "output_type": "stream",
     "text": [
      "p-значение:  0.21920158714376603\n",
      "Не получилось отвергнуть нулевую гипотезу, нет оснований считать доли разными\n"
     ]
    },
    {
     "name": "stderr",
     "output_type": "stream",
     "text": [
      "/var/folders/0f/4q2pc10x42v3yxwznsr5ljk00000gn/T/ipykernel_2027/4270396007.py:1: FutureWarning:\n",
      "\n",
      "Series.__getitem__ treating keys as positions is deprecated. In a future version, integer keys will always be treated as labels (consistent with DataFrame behavior). To access a value by position, use `ser.iloc[pos]`\n",
      "\n",
      "/var/folders/0f/4q2pc10x42v3yxwznsr5ljk00000gn/T/ipykernel_2027/4270396007.py:2: FutureWarning:\n",
      "\n",
      "Series.__getitem__ treating keys as positions is deprecated. In a future version, integer keys will always be treated as labels (consistent with DataFrame behavior). To access a value by position, use `ser.iloc[pos]`\n",
      "\n"
     ]
    }
   ],
   "source": [
    "successes = np.array([ev['A'][2], ev['B'][2]])\n",
    "trials = np.array([ev['A'][0], ev['B'][0]])\n",
    "\n",
    "# пропорция успехов в первой группе:\n",
    "p1 = successes[0]/trials[0]\n",
    "\n",
    "# пропорция успехов во второй группе:\n",
    "p2 = successes[1]/trials[1]\n",
    "\n",
    "# пропорция успехов в комбинированном датасете:\n",
    "p_combined = (successes[0] + successes[1]) / (trials[0] + trials[1])\n",
    "\n",
    "# разница пропорций в датасетах\n",
    "difference = p1 - p2 \n",
    "\n",
    "# считаем статистику в ст.отклонениях стандартного нормального распределения\n",
    "z_value = difference / mth.sqrt(p_combined * (1 - p_combined) * (1/trials[0] + 1/trials[1]))\n",
    "\n",
    "# задаем стандартное нормальное распределение (среднее 0, ст.отклонение 1)\n",
    "distr = st.norm(0, 1) \n",
    "\n",
    "p_value = (1 - distr.cdf(abs(z_value))) * 2\n",
    "\n",
    "print('p-значение: ', p_value)\n",
    "\n",
    "if p_value < alpha:\n",
    "    print('Отвергаем нулевую гипотезу: между долями есть значимая разница')\n",
    "else:\n",
    "    print(\n",
    "        'Не получилось отвергнуть нулевую гипотезу, нет оснований считать доли разными'\n",
    "    )"
   ]
  },
  {
   "cell_type": "markdown",
   "metadata": {},
   "source": [
    "Вывод: доли пользователей, перешедших на окно просмотра корзины, в обоих группах одинаковы."
   ]
  },
  {
   "cell_type": "markdown",
   "metadata": {},
   "source": [
    "2. Гипотеза о равенстве долей пользователей, перешедших на окно просмотра карточки товара.\n",
    "\n",
    "Н0: Доли пользователей, перешедших на окно просмотра карточки товара, в обоих группах одинаковы.\n",
    "\n",
    "Н1: Доли пользователей, перешедших на окно просмотра карточки товара, в обоих группах разные."
   ]
  },
  {
   "cell_type": "code",
   "execution_count": 43,
   "metadata": {},
   "outputs": [
    {
     "name": "stdout",
     "output_type": "stream",
     "text": [
      "p-значение:  3.5103235332289984e-05\n",
      "Отвергаем нулевую гипотезу: между долями есть значимая разница\n"
     ]
    },
    {
     "name": "stderr",
     "output_type": "stream",
     "text": [
      "/var/folders/0f/4q2pc10x42v3yxwznsr5ljk00000gn/T/ipykernel_2027/1481202242.py:1: FutureWarning:\n",
      "\n",
      "Series.__getitem__ treating keys as positions is deprecated. In a future version, integer keys will always be treated as labels (consistent with DataFrame behavior). To access a value by position, use `ser.iloc[pos]`\n",
      "\n",
      "/var/folders/0f/4q2pc10x42v3yxwznsr5ljk00000gn/T/ipykernel_2027/1481202242.py:2: FutureWarning:\n",
      "\n",
      "Series.__getitem__ treating keys as positions is deprecated. In a future version, integer keys will always be treated as labels (consistent with DataFrame behavior). To access a value by position, use `ser.iloc[pos]`\n",
      "\n"
     ]
    }
   ],
   "source": [
    "successes = np.array([ev['A'][1], ev['B'][1]])\n",
    "trials = np.array([ev['A'][0], ev['B'][0]])\n",
    "\n",
    "# пропорция успехов в первой группе:\n",
    "p1 = successes[0]/trials[0]\n",
    "\n",
    "# пропорция успехов во второй группе:\n",
    "p2 = successes[1]/trials[1]\n",
    "\n",
    "# пропорция успехов в комбинированном датасете:\n",
    "p_combined = (successes[0] + successes[1]) / (trials[0] + trials[1])\n",
    "\n",
    "# разница пропорций в датасетах\n",
    "difference = p1 - p2 \n",
    "\n",
    "# считаем статистику в ст.отклонениях стандартного нормального распределения\n",
    "z_value = difference / mth.sqrt(p_combined * (1 - p_combined) * (1/trials[0] + 1/trials[1]))\n",
    "\n",
    "# задаем стандартное нормальное распределение (среднее 0, ст.отклонение 1)\n",
    "distr = st.norm(0, 1) \n",
    "\n",
    "p_value = (1 - distr.cdf(abs(z_value))) * 2\n",
    "\n",
    "print('p-значение: ', p_value)\n",
    "\n",
    "if p_value < alpha:\n",
    "    print('Отвергаем нулевую гипотезу: между долями есть значимая разница')\n",
    "else:\n",
    "    print(\n",
    "        'Не получилось отвергнуть нулевую гипотезу, нет оснований считать доли разными'\n",
    "    )"
   ]
  },
  {
   "cell_type": "markdown",
   "metadata": {},
   "source": [
    "Вывод: доли пользователей, перешедших на окно просмотра карточки товара, в обоих группах разные."
   ]
  },
  {
   "cell_type": "markdown",
   "metadata": {},
   "source": [
    "Обший вывод по гипотезам: хоть и доля пользователей, перешедших на окно просмотра карточки в группах А и В не равна, в общей картине, мы все равно не можем сказать что конверсия пользователей изменилась + по графику воронки видим, что группа В все равно показала хуже результат конверсии."
   ]
  },
  {
   "cell_type": "markdown",
   "metadata": {},
   "source": [
    "<div class=\"alert alert-block alert-warning\">📝\n",
    "    \n",
    "\n",
    "__Комментарий от ревьюера №1__\n",
    "\n",
    "Мы рассматриваем проверки в рамках одного датасета. При каждой проверке какой-либо выборки из данных, мы увеличиваем вероятность получить ошибку.   \n",
    "  \n",
    "К тому же, события в воронке зависимы друг от друга, иначе это не было бы воронкой. У тебя несколько проверок на каждый этап воронки.\n",
    "  \n",
    "Соответственно у нас получаются сравнения внутри группы и между групп = 1*3 = 3 события. Именно на столько и нужно сделать корректировку.\n",
    "    "
   ]
  },
  {
   "cell_type": "markdown",
   "metadata": {},
   "source": [
    "# Вывод"
   ]
  },
  {
   "cell_type": "markdown",
   "metadata": {},
   "source": [
    "В результате исследования выявлены следующие пункты несоответствия с тз:\n",
    "- Число активных (совершивших хотя бы одно событие) пользователей составило 3128, планировалось - 600\n",
    "- Ожидаемый эффект: за 14 дней с момента регистрации в системе пользователи покажут улучшение каждой метрики не менее, чем на 10%, результаты исследования показали, что улучшение метрик не произошло\n",
    "\n",
    "А также \n",
    "- были выявлены и удалены пользователи, отнесенные одновременно к группе А и В\n",
    "- были выявлены и удалены пользователи группы В участвовавшие не только в тесте recommender_system_test\n",
    "- кол-во пользователей в группе В на треть меньше, чем пользователей группы А\n",
    "- тест совпал с приближающимся новым годом и проведением новогодней акции\n",
    "\n",
    "Считаем, что тест проведен неккорректно, рекомендуется провести его повторно, с соблюдением требований технического задания, с учетом отсутствия промо акций и праздников и, конечно, с учетом чистоты сбора данных.\n"
   ]
  }
 ],
 "metadata": {
  "ExecuteTimeLog": [
   {
    "duration": 433,
    "start_time": "2023-04-07T11:56:55.264Z"
   },
   {
    "duration": 127,
    "start_time": "2023-04-07T11:56:55.699Z"
   },
   {
    "duration": 0,
    "start_time": "2023-04-07T11:56:55.828Z"
   },
   {
    "duration": 0,
    "start_time": "2023-04-07T11:56:55.830Z"
   },
   {
    "duration": 0,
    "start_time": "2023-04-07T11:56:55.832Z"
   },
   {
    "duration": 0,
    "start_time": "2023-04-07T11:56:55.834Z"
   },
   {
    "duration": 0,
    "start_time": "2023-04-07T11:56:55.836Z"
   },
   {
    "duration": 0,
    "start_time": "2023-04-07T11:56:55.837Z"
   },
   {
    "duration": 62,
    "start_time": "2023-04-07T11:57:37.817Z"
   },
   {
    "duration": 122,
    "start_time": "2023-04-07T12:00:18.060Z"
   },
   {
    "duration": 1183,
    "start_time": "2023-04-07T12:00:33.914Z"
   },
   {
    "duration": 404,
    "start_time": "2023-04-07T12:00:44.535Z"
   },
   {
    "duration": 595,
    "start_time": "2023-04-07T12:00:44.941Z"
   },
   {
    "duration": 117,
    "start_time": "2023-04-07T12:00:45.537Z"
   },
   {
    "duration": 15,
    "start_time": "2023-04-07T12:00:45.655Z"
   },
   {
    "duration": 20,
    "start_time": "2023-04-07T12:00:45.672Z"
   },
   {
    "duration": 319,
    "start_time": "2023-04-07T12:00:45.694Z"
   },
   {
    "duration": 14,
    "start_time": "2023-04-07T12:00:46.015Z"
   },
   {
    "duration": 112,
    "start_time": "2023-04-07T12:00:46.031Z"
   },
   {
    "duration": 43,
    "start_time": "2023-04-07T12:08:33.775Z"
   },
   {
    "duration": 54,
    "start_time": "2023-04-07T12:08:43.833Z"
   },
   {
    "duration": 47,
    "start_time": "2023-04-07T12:10:33.314Z"
   },
   {
    "duration": 64,
    "start_time": "2023-04-07T12:11:21.519Z"
   },
   {
    "duration": 371,
    "start_time": "2023-04-07T12:11:26.136Z"
   },
   {
    "duration": 527,
    "start_time": "2023-04-07T12:11:26.508Z"
   },
   {
    "duration": 109,
    "start_time": "2023-04-07T12:11:27.036Z"
   },
   {
    "duration": 4,
    "start_time": "2023-04-07T12:11:27.147Z"
   },
   {
    "duration": 16,
    "start_time": "2023-04-07T12:11:27.152Z"
   },
   {
    "duration": 261,
    "start_time": "2023-04-07T12:11:27.170Z"
   },
   {
    "duration": 11,
    "start_time": "2023-04-07T12:11:27.433Z"
   },
   {
    "duration": 96,
    "start_time": "2023-04-07T12:11:27.445Z"
   },
   {
    "duration": 63,
    "start_time": "2023-04-07T12:11:27.542Z"
   },
   {
    "duration": 43,
    "start_time": "2023-04-07T12:13:15.911Z"
   },
   {
    "duration": 194,
    "start_time": "2023-04-07T12:24:20.059Z"
   },
   {
    "duration": 164,
    "start_time": "2023-04-07T12:26:47.788Z"
   },
   {
    "duration": 93,
    "start_time": "2023-04-07T12:27:07.589Z"
   },
   {
    "duration": 297,
    "start_time": "2023-04-07T12:27:10.948Z"
   },
   {
    "duration": 363,
    "start_time": "2023-04-07T13:11:21.197Z"
   },
   {
    "duration": 367,
    "start_time": "2023-04-07T13:11:29.896Z"
   },
   {
    "duration": 322,
    "start_time": "2023-04-07T13:11:40.962Z"
   },
   {
    "duration": 375,
    "start_time": "2023-04-07T13:19:17.098Z"
   },
   {
    "duration": 555,
    "start_time": "2023-04-07T13:19:17.475Z"
   },
   {
    "duration": 104,
    "start_time": "2023-04-07T13:19:18.031Z"
   },
   {
    "duration": 3,
    "start_time": "2023-04-07T13:19:18.137Z"
   },
   {
    "duration": 7,
    "start_time": "2023-04-07T13:19:18.142Z"
   },
   {
    "duration": 290,
    "start_time": "2023-04-07T13:19:18.151Z"
   },
   {
    "duration": 12,
    "start_time": "2023-04-07T13:19:18.443Z"
   },
   {
    "duration": 115,
    "start_time": "2023-04-07T13:19:18.456Z"
   },
   {
    "duration": 50,
    "start_time": "2023-04-07T13:19:18.573Z"
   },
   {
    "duration": 206,
    "start_time": "2023-04-07T13:19:18.625Z"
   },
   {
    "duration": 356,
    "start_time": "2023-04-07T13:19:18.833Z"
   },
   {
    "duration": 429,
    "start_time": "2023-04-07T13:19:19.191Z"
   },
   {
    "duration": 382,
    "start_time": "2023-04-07T13:21:32.663Z"
   },
   {
    "duration": 8,
    "start_time": "2023-04-07T13:24:10.376Z"
   },
   {
    "duration": 73,
    "start_time": "2023-04-07T13:24:26.169Z"
   },
   {
    "duration": 6,
    "start_time": "2023-04-07T13:24:29.604Z"
   },
   {
    "duration": 7,
    "start_time": "2023-04-07T13:24:49.310Z"
   },
   {
    "duration": 87,
    "start_time": "2023-04-07T13:26:26.222Z"
   },
   {
    "duration": 8,
    "start_time": "2023-04-07T13:26:33.300Z"
   },
   {
    "duration": 89,
    "start_time": "2023-04-07T13:28:03.793Z"
   },
   {
    "duration": 131,
    "start_time": "2023-04-07T13:28:13.704Z"
   },
   {
    "duration": 48,
    "start_time": "2023-04-07T13:28:21.946Z"
   },
   {
    "duration": 39,
    "start_time": "2023-04-07T13:28:32.400Z"
   },
   {
    "duration": 9,
    "start_time": "2023-04-07T13:33:16.793Z"
   },
   {
    "duration": 384,
    "start_time": "2023-04-07T13:34:24.541Z"
   },
   {
    "duration": 261,
    "start_time": "2023-04-07T13:40:17.116Z"
   },
   {
    "duration": 170,
    "start_time": "2023-04-07T13:41:00.890Z"
   },
   {
    "duration": 110,
    "start_time": "2023-04-07T13:55:45.176Z"
   },
   {
    "duration": 38,
    "start_time": "2023-04-07T14:03:50.881Z"
   },
   {
    "duration": 83,
    "start_time": "2023-04-07T14:04:51.466Z"
   },
   {
    "duration": 36,
    "start_time": "2023-04-07T14:05:37.107Z"
   },
   {
    "duration": 40,
    "start_time": "2023-04-07T14:05:46.427Z"
   },
   {
    "duration": 411,
    "start_time": "2023-04-07T14:05:54.248Z"
   },
   {
    "duration": 589,
    "start_time": "2023-04-07T14:05:54.661Z"
   },
   {
    "duration": 116,
    "start_time": "2023-04-07T14:05:55.252Z"
   },
   {
    "duration": 4,
    "start_time": "2023-04-07T14:05:55.370Z"
   },
   {
    "duration": 4,
    "start_time": "2023-04-07T14:05:55.377Z"
   },
   {
    "duration": 303,
    "start_time": "2023-04-07T14:05:55.383Z"
   },
   {
    "duration": 11,
    "start_time": "2023-04-07T14:05:55.688Z"
   },
   {
    "duration": 117,
    "start_time": "2023-04-07T14:05:55.700Z"
   },
   {
    "duration": 69,
    "start_time": "2023-04-07T14:05:55.819Z"
   },
   {
    "duration": 207,
    "start_time": "2023-04-07T14:05:55.890Z"
   },
   {
    "duration": 322,
    "start_time": "2023-04-07T14:05:56.098Z"
   },
   {
    "duration": 408,
    "start_time": "2023-04-07T14:05:56.422Z"
   },
   {
    "duration": 9,
    "start_time": "2023-04-07T14:05:56.831Z"
   },
   {
    "duration": 133,
    "start_time": "2023-04-07T14:05:56.841Z"
   },
   {
    "duration": 99,
    "start_time": "2023-04-07T14:05:56.976Z"
   },
   {
    "duration": 0,
    "start_time": "2023-04-07T14:05:57.078Z"
   },
   {
    "duration": 37,
    "start_time": "2023-04-07T14:06:16.813Z"
   },
   {
    "duration": 23,
    "start_time": "2023-04-07T14:07:22.076Z"
   },
   {
    "duration": 31,
    "start_time": "2023-04-07T14:08:08.576Z"
   },
   {
    "duration": 28,
    "start_time": "2023-04-07T14:15:40.325Z"
   },
   {
    "duration": 15,
    "start_time": "2023-04-07T14:16:26.735Z"
   },
   {
    "duration": 19,
    "start_time": "2023-04-07T14:16:52.595Z"
   },
   {
    "duration": 6,
    "start_time": "2023-04-07T14:17:14.919Z"
   },
   {
    "duration": 7,
    "start_time": "2023-04-07T14:17:48.490Z"
   },
   {
    "duration": 10,
    "start_time": "2023-04-07T14:17:54.339Z"
   },
   {
    "duration": 26,
    "start_time": "2023-04-07T14:18:08.281Z"
   },
   {
    "duration": 14,
    "start_time": "2023-04-07T14:18:20.136Z"
   },
   {
    "duration": 6,
    "start_time": "2023-04-07T14:18:25.207Z"
   },
   {
    "duration": 7,
    "start_time": "2023-04-07T14:18:52.150Z"
   },
   {
    "duration": 6,
    "start_time": "2023-04-07T14:19:01.281Z"
   },
   {
    "duration": 19,
    "start_time": "2023-04-07T14:19:11.118Z"
   },
   {
    "duration": 19,
    "start_time": "2023-04-07T14:19:26.079Z"
   },
   {
    "duration": 393,
    "start_time": "2023-04-07T14:19:31.650Z"
   },
   {
    "duration": 545,
    "start_time": "2023-04-07T14:19:32.045Z"
   },
   {
    "duration": 121,
    "start_time": "2023-04-07T14:19:32.591Z"
   },
   {
    "duration": 5,
    "start_time": "2023-04-07T14:19:32.714Z"
   },
   {
    "duration": 4,
    "start_time": "2023-04-07T14:19:32.722Z"
   },
   {
    "duration": 333,
    "start_time": "2023-04-07T14:19:32.727Z"
   },
   {
    "duration": 13,
    "start_time": "2023-04-07T14:19:33.061Z"
   },
   {
    "duration": 102,
    "start_time": "2023-04-07T14:19:33.076Z"
   },
   {
    "duration": 47,
    "start_time": "2023-04-07T14:19:33.180Z"
   },
   {
    "duration": 202,
    "start_time": "2023-04-07T14:19:33.230Z"
   },
   {
    "duration": 322,
    "start_time": "2023-04-07T14:19:33.434Z"
   },
   {
    "duration": 397,
    "start_time": "2023-04-07T14:19:33.758Z"
   },
   {
    "duration": 20,
    "start_time": "2023-04-07T14:19:34.156Z"
   },
   {
    "duration": 121,
    "start_time": "2023-04-07T14:19:34.177Z"
   },
   {
    "duration": 75,
    "start_time": "2023-04-07T14:19:34.300Z"
   },
   {
    "duration": 0,
    "start_time": "2023-04-07T14:19:34.377Z"
   },
   {
    "duration": 0,
    "start_time": "2023-04-07T14:19:34.378Z"
   },
   {
    "duration": 0,
    "start_time": "2023-04-07T14:19:34.379Z"
   },
   {
    "duration": 29,
    "start_time": "2023-04-07T14:20:04.910Z"
   },
   {
    "duration": 6,
    "start_time": "2023-04-07T14:20:30.038Z"
   },
   {
    "duration": 13,
    "start_time": "2023-04-07T14:20:39.590Z"
   },
   {
    "duration": 7,
    "start_time": "2023-04-07T14:20:40.585Z"
   },
   {
    "duration": 4,
    "start_time": "2023-04-07T14:20:46.362Z"
   },
   {
    "duration": 38,
    "start_time": "2023-04-07T14:20:50.773Z"
   },
   {
    "duration": 19,
    "start_time": "2023-04-07T14:20:53.238Z"
   },
   {
    "duration": 3,
    "start_time": "2023-04-07T14:20:54.058Z"
   },
   {
    "duration": 3,
    "start_time": "2023-04-07T14:21:17.994Z"
   },
   {
    "duration": 28,
    "start_time": "2023-04-07T14:21:58.057Z"
   },
   {
    "duration": 68,
    "start_time": "2023-04-07T14:23:37.047Z"
   },
   {
    "duration": 4,
    "start_time": "2023-04-07T14:23:43.979Z"
   },
   {
    "duration": 4,
    "start_time": "2023-04-07T14:23:51.338Z"
   },
   {
    "duration": 5,
    "start_time": "2023-04-07T14:23:55.939Z"
   },
   {
    "duration": 17,
    "start_time": "2023-04-07T14:25:34.680Z"
   },
   {
    "duration": 29,
    "start_time": "2023-04-07T14:27:23.105Z"
   },
   {
    "duration": 6,
    "start_time": "2023-04-07T14:28:58.214Z"
   },
   {
    "duration": 10,
    "start_time": "2023-04-07T14:29:14.628Z"
   },
   {
    "duration": 89,
    "start_time": "2023-04-07T14:41:21.580Z"
   },
   {
    "duration": 75,
    "start_time": "2023-04-07T14:41:27.381Z"
   },
   {
    "duration": 12,
    "start_time": "2023-04-07T14:42:19.640Z"
   },
   {
    "duration": 17,
    "start_time": "2023-04-07T14:42:58.472Z"
   },
   {
    "duration": 22,
    "start_time": "2023-04-07T14:43:14.879Z"
   },
   {
    "duration": 22,
    "start_time": "2023-04-07T14:44:05.281Z"
   },
   {
    "duration": 24,
    "start_time": "2023-04-07T14:44:56.468Z"
   },
   {
    "duration": 35,
    "start_time": "2023-04-07T14:48:31.106Z"
   },
   {
    "duration": 19,
    "start_time": "2023-04-07T14:50:29.087Z"
   },
   {
    "duration": 21,
    "start_time": "2023-04-07T14:50:49.391Z"
   },
   {
    "duration": 20,
    "start_time": "2023-04-07T16:23:15.156Z"
   },
   {
    "duration": 23,
    "start_time": "2023-04-07T16:23:51.322Z"
   },
   {
    "duration": 21,
    "start_time": "2023-04-07T16:24:07.463Z"
   },
   {
    "duration": 21,
    "start_time": "2023-04-07T16:24:11.542Z"
   },
   {
    "duration": 11,
    "start_time": "2023-04-07T16:24:14.461Z"
   },
   {
    "duration": 12,
    "start_time": "2023-04-07T16:24:18.206Z"
   },
   {
    "duration": 37,
    "start_time": "2023-04-07T16:26:55.350Z"
   },
   {
    "duration": 27,
    "start_time": "2023-04-07T16:27:56.863Z"
   },
   {
    "duration": 80,
    "start_time": "2023-04-07T16:28:31.866Z"
   },
   {
    "duration": 26,
    "start_time": "2023-04-07T16:28:37.966Z"
   },
   {
    "duration": 27,
    "start_time": "2023-04-07T16:29:45.850Z"
   },
   {
    "duration": 31,
    "start_time": "2023-04-07T16:30:05.198Z"
   },
   {
    "duration": 30,
    "start_time": "2023-04-07T16:30:14.367Z"
   },
   {
    "duration": 28,
    "start_time": "2023-04-07T16:30:19.527Z"
   },
   {
    "duration": 26,
    "start_time": "2023-04-07T16:30:29.158Z"
   },
   {
    "duration": 1787,
    "start_time": "2023-04-07T16:56:12.205Z"
   },
   {
    "duration": 1100,
    "start_time": "2023-04-07T16:57:25.054Z"
   },
   {
    "duration": 1196,
    "start_time": "2023-04-07T16:57:39.178Z"
   },
   {
    "duration": 20,
    "start_time": "2023-04-07T16:59:06.658Z"
   },
   {
    "duration": 354,
    "start_time": "2023-04-07T17:00:59.716Z"
   },
   {
    "duration": 541,
    "start_time": "2023-04-07T17:01:00.072Z"
   },
   {
    "duration": 104,
    "start_time": "2023-04-07T17:01:00.614Z"
   },
   {
    "duration": 4,
    "start_time": "2023-04-07T17:01:00.719Z"
   },
   {
    "duration": 33,
    "start_time": "2023-04-07T17:01:00.725Z"
   },
   {
    "duration": 288,
    "start_time": "2023-04-07T17:01:00.759Z"
   },
   {
    "duration": 11,
    "start_time": "2023-04-07T17:01:01.049Z"
   },
   {
    "duration": 149,
    "start_time": "2023-04-07T17:01:01.068Z"
   },
   {
    "duration": 60,
    "start_time": "2023-04-07T17:01:01.218Z"
   },
   {
    "duration": 191,
    "start_time": "2023-04-07T17:01:01.280Z"
   },
   {
    "duration": 320,
    "start_time": "2023-04-07T17:01:01.472Z"
   },
   {
    "duration": 401,
    "start_time": "2023-04-07T17:01:01.794Z"
   },
   {
    "duration": 18,
    "start_time": "2023-04-07T17:01:02.196Z"
   },
   {
    "duration": 126,
    "start_time": "2023-04-07T17:01:02.216Z"
   },
   {
    "duration": 5,
    "start_time": "2023-04-07T17:01:02.344Z"
   },
   {
    "duration": 49,
    "start_time": "2023-04-07T17:01:02.350Z"
   },
   {
    "duration": 38,
    "start_time": "2023-04-07T17:01:02.401Z"
   },
   {
    "duration": 13,
    "start_time": "2023-04-07T17:01:02.441Z"
   },
   {
    "duration": 24,
    "start_time": "2023-04-07T17:01:02.456Z"
   },
   {
    "duration": 23,
    "start_time": "2023-04-07T17:01:02.481Z"
   },
   {
    "duration": 11,
    "start_time": "2023-04-07T17:01:02.506Z"
   },
   {
    "duration": 93,
    "start_time": "2023-04-07T17:01:02.518Z"
   },
   {
    "duration": 0,
    "start_time": "2023-04-07T17:01:02.613Z"
   },
   {
    "duration": 0,
    "start_time": "2023-04-07T17:01:02.614Z"
   },
   {
    "duration": 20,
    "start_time": "2023-04-07T17:02:05.060Z"
   },
   {
    "duration": 19,
    "start_time": "2023-04-07T17:03:18.216Z"
   },
   {
    "duration": 25,
    "start_time": "2023-04-07T17:09:26.657Z"
   },
   {
    "duration": 27,
    "start_time": "2023-04-07T17:10:40.884Z"
   },
   {
    "duration": 23,
    "start_time": "2023-04-07T17:12:10.268Z"
   },
   {
    "duration": 26,
    "start_time": "2023-04-07T17:12:42.500Z"
   },
   {
    "duration": 20,
    "start_time": "2023-04-07T17:13:29.636Z"
   },
   {
    "duration": 30,
    "start_time": "2023-04-07T17:16:10.422Z"
   },
   {
    "duration": 11,
    "start_time": "2023-04-07T17:16:16.632Z"
   },
   {
    "duration": 12,
    "start_time": "2023-04-07T17:18:53.741Z"
   },
   {
    "duration": 41,
    "start_time": "2023-04-07T17:21:40.718Z"
   },
   {
    "duration": 13,
    "start_time": "2023-04-07T17:21:52.804Z"
   },
   {
    "duration": 8,
    "start_time": "2023-04-07T17:22:47.993Z"
   },
   {
    "duration": 33,
    "start_time": "2023-04-07T17:43:58.868Z"
   },
   {
    "duration": 32,
    "start_time": "2023-04-07T17:44:07.139Z"
   },
   {
    "duration": 1214,
    "start_time": "2023-04-07T17:45:14.174Z"
   },
   {
    "duration": 1253,
    "start_time": "2023-04-07T17:46:14.949Z"
   },
   {
    "duration": 1224,
    "start_time": "2023-04-07T17:47:19.380Z"
   },
   {
    "duration": 1178,
    "start_time": "2023-04-07T17:48:30.101Z"
   },
   {
    "duration": 1311,
    "start_time": "2023-04-07T17:48:46.326Z"
   },
   {
    "duration": 10,
    "start_time": "2023-04-07T17:48:59.911Z"
   },
   {
    "duration": 26,
    "start_time": "2023-04-07T17:49:06.003Z"
   },
   {
    "duration": 10,
    "start_time": "2023-04-07T17:49:09.742Z"
   },
   {
    "duration": 295,
    "start_time": "2023-04-07T17:55:16.847Z"
   },
   {
    "duration": 269,
    "start_time": "2023-04-07T17:55:39.182Z"
   },
   {
    "duration": 145,
    "start_time": "2023-04-07T17:56:29.849Z"
   },
   {
    "duration": 172,
    "start_time": "2023-04-07T17:56:38.033Z"
   },
   {
    "duration": 22,
    "start_time": "2023-04-07T17:58:05.148Z"
   },
   {
    "duration": 982,
    "start_time": "2023-04-07T18:03:42.690Z"
   },
   {
    "duration": 39,
    "start_time": "2023-04-07T18:04:19.220Z"
   },
   {
    "duration": 45,
    "start_time": "2023-04-07T18:06:38.097Z"
   },
   {
    "duration": 20,
    "start_time": "2023-04-07T18:08:07.606Z"
   },
   {
    "duration": 38,
    "start_time": "2023-04-07T18:08:18.194Z"
   },
   {
    "duration": 78,
    "start_time": "2023-04-07T18:10:09.402Z"
   },
   {
    "duration": 17,
    "start_time": "2023-04-07T18:10:20.432Z"
   },
   {
    "duration": 16,
    "start_time": "2023-04-07T18:11:45.719Z"
   },
   {
    "duration": 22,
    "start_time": "2023-04-07T18:16:58.242Z"
   },
   {
    "duration": 21,
    "start_time": "2023-04-07T18:17:09.233Z"
   },
   {
    "duration": 297,
    "start_time": "2023-04-07T18:17:38.084Z"
   },
   {
    "duration": 129,
    "start_time": "2023-04-07T18:18:40.253Z"
   },
   {
    "duration": 300,
    "start_time": "2023-04-07T18:19:26.683Z"
   },
   {
    "duration": 107,
    "start_time": "2023-04-07T18:19:30.671Z"
   },
   {
    "duration": 304,
    "start_time": "2023-04-07T18:27:44.295Z"
   },
   {
    "duration": 19,
    "start_time": "2023-04-07T18:29:30.895Z"
   },
   {
    "duration": 83,
    "start_time": "2023-04-07T18:30:21.146Z"
   },
   {
    "duration": 138,
    "start_time": "2023-04-07T18:30:28.036Z"
   },
   {
    "duration": 4,
    "start_time": "2023-04-07T18:31:03.635Z"
   },
   {
    "duration": 48,
    "start_time": "2023-04-07T18:31:13.442Z"
   },
   {
    "duration": 33,
    "start_time": "2023-04-07T18:31:26.510Z"
   },
   {
    "duration": 40,
    "start_time": "2023-04-07T18:33:54.815Z"
   },
   {
    "duration": 55,
    "start_time": "2023-04-07T18:34:37.129Z"
   },
   {
    "duration": 46,
    "start_time": "2023-04-07T18:35:31.802Z"
   },
   {
    "duration": 48,
    "start_time": "2023-04-07T18:35:58.670Z"
   },
   {
    "duration": 45,
    "start_time": "2023-04-07T18:37:39.120Z"
   },
   {
    "duration": 62,
    "start_time": "2023-04-07T18:38:13.788Z"
   },
   {
    "duration": 38,
    "start_time": "2023-04-07T18:38:40.091Z"
   },
   {
    "duration": 42,
    "start_time": "2023-04-07T18:40:21.213Z"
   },
   {
    "duration": 26,
    "start_time": "2023-04-07T18:42:01.791Z"
   },
   {
    "duration": 44,
    "start_time": "2023-04-07T18:42:25.603Z"
   },
   {
    "duration": 44,
    "start_time": "2023-04-07T18:43:56.337Z"
   },
   {
    "duration": 41,
    "start_time": "2023-04-07T18:44:29.143Z"
   },
   {
    "duration": 47,
    "start_time": "2023-04-07T18:46:05.565Z"
   },
   {
    "duration": 47,
    "start_time": "2023-04-07T19:45:16.327Z"
   },
   {
    "duration": 11,
    "start_time": "2023-04-07T19:49:28.692Z"
   },
   {
    "duration": 322,
    "start_time": "2023-04-07T19:49:35.390Z"
   },
   {
    "duration": 276,
    "start_time": "2023-04-07T19:49:50.696Z"
   },
   {
    "duration": 295,
    "start_time": "2023-04-07T19:50:03.173Z"
   },
   {
    "duration": 57,
    "start_time": "2023-04-07T19:53:58.039Z"
   },
   {
    "duration": 1171,
    "start_time": "2023-04-07T19:56:03.742Z"
   },
   {
    "duration": 646,
    "start_time": "2023-04-07T19:56:04.915Z"
   },
   {
    "duration": 112,
    "start_time": "2023-04-07T19:56:05.563Z"
   },
   {
    "duration": 4,
    "start_time": "2023-04-07T19:56:05.677Z"
   },
   {
    "duration": 35,
    "start_time": "2023-04-07T19:56:05.683Z"
   },
   {
    "duration": 305,
    "start_time": "2023-04-07T19:56:05.719Z"
   },
   {
    "duration": 12,
    "start_time": "2023-04-07T19:56:06.026Z"
   },
   {
    "duration": 99,
    "start_time": "2023-04-07T19:56:06.039Z"
   },
   {
    "duration": 67,
    "start_time": "2023-04-07T19:56:06.140Z"
   },
   {
    "duration": 193,
    "start_time": "2023-04-07T19:56:06.208Z"
   },
   {
    "duration": 366,
    "start_time": "2023-04-07T19:56:06.402Z"
   },
   {
    "duration": 383,
    "start_time": "2023-04-07T19:56:06.770Z"
   },
   {
    "duration": 20,
    "start_time": "2023-04-07T19:56:07.154Z"
   },
   {
    "duration": 103,
    "start_time": "2023-04-07T19:56:07.177Z"
   },
   {
    "duration": 7,
    "start_time": "2023-04-07T19:56:07.282Z"
   },
   {
    "duration": 15,
    "start_time": "2023-04-07T19:56:07.290Z"
   },
   {
    "duration": 35,
    "start_time": "2023-04-07T19:56:07.307Z"
   },
   {
    "duration": 36,
    "start_time": "2023-04-07T19:56:07.344Z"
   },
   {
    "duration": 4,
    "start_time": "2023-04-07T19:56:07.382Z"
   },
   {
    "duration": 23,
    "start_time": "2023-04-07T19:56:07.388Z"
   },
   {
    "duration": 10,
    "start_time": "2023-04-07T19:56:07.413Z"
   },
   {
    "duration": 125,
    "start_time": "2023-04-07T19:56:07.425Z"
   },
   {
    "duration": 0,
    "start_time": "2023-04-07T19:56:07.552Z"
   },
   {
    "duration": 0,
    "start_time": "2023-04-07T19:56:07.553Z"
   },
   {
    "duration": 0,
    "start_time": "2023-04-07T19:56:07.554Z"
   },
   {
    "duration": 0,
    "start_time": "2023-04-07T19:56:07.555Z"
   },
   {
    "duration": 0,
    "start_time": "2023-04-07T19:56:07.556Z"
   },
   {
    "duration": 0,
    "start_time": "2023-04-07T19:56:07.568Z"
   },
   {
    "duration": 1217,
    "start_time": "2023-04-07T19:56:28.962Z"
   },
   {
    "duration": 18,
    "start_time": "2023-04-07T19:56:31.003Z"
   },
   {
    "duration": 34,
    "start_time": "2023-04-07T19:56:34.111Z"
   },
   {
    "duration": 1061,
    "start_time": "2023-04-07T19:56:40.499Z"
   },
   {
    "duration": 538,
    "start_time": "2023-04-07T19:56:41.562Z"
   },
   {
    "duration": 151,
    "start_time": "2023-04-07T19:56:42.102Z"
   },
   {
    "duration": 16,
    "start_time": "2023-04-07T19:56:42.256Z"
   },
   {
    "duration": 5,
    "start_time": "2023-04-07T19:56:42.274Z"
   },
   {
    "duration": 322,
    "start_time": "2023-04-07T19:56:42.281Z"
   },
   {
    "duration": 14,
    "start_time": "2023-04-07T19:56:42.605Z"
   },
   {
    "duration": 123,
    "start_time": "2023-04-07T19:56:42.620Z"
   },
   {
    "duration": 60,
    "start_time": "2023-04-07T19:56:42.745Z"
   },
   {
    "duration": 204,
    "start_time": "2023-04-07T19:56:42.808Z"
   },
   {
    "duration": 336,
    "start_time": "2023-04-07T19:56:43.013Z"
   },
   {
    "duration": 409,
    "start_time": "2023-04-07T19:56:43.350Z"
   },
   {
    "duration": 31,
    "start_time": "2023-04-07T19:56:43.761Z"
   },
   {
    "duration": 112,
    "start_time": "2023-04-07T19:56:43.794Z"
   },
   {
    "duration": 6,
    "start_time": "2023-04-07T19:56:43.907Z"
   },
   {
    "duration": 10,
    "start_time": "2023-04-07T19:56:43.915Z"
   },
   {
    "duration": 50,
    "start_time": "2023-04-07T19:56:43.926Z"
   },
   {
    "duration": 17,
    "start_time": "2023-04-07T19:56:43.978Z"
   },
   {
    "duration": 4,
    "start_time": "2023-04-07T19:56:43.996Z"
   },
   {
    "duration": 33,
    "start_time": "2023-04-07T19:56:44.001Z"
   },
   {
    "duration": 36,
    "start_time": "2023-04-07T19:56:44.036Z"
   },
   {
    "duration": 1152,
    "start_time": "2023-04-07T19:56:44.074Z"
   },
   {
    "duration": 11,
    "start_time": "2023-04-07T19:56:45.228Z"
   },
   {
    "duration": 37,
    "start_time": "2023-04-07T19:56:45.240Z"
   },
   {
    "duration": 7,
    "start_time": "2023-04-07T19:56:45.278Z"
   },
   {
    "duration": 42,
    "start_time": "2023-04-07T19:56:45.286Z"
   },
   {
    "duration": 0,
    "start_time": "2023-04-07T19:56:45.331Z"
   },
   {
    "duration": 0,
    "start_time": "2023-04-07T19:56:45.332Z"
   },
   {
    "duration": 52,
    "start_time": "2023-04-07T19:58:03.807Z"
   },
   {
    "duration": 45,
    "start_time": "2023-04-07T20:05:20.189Z"
   },
   {
    "duration": 182,
    "start_time": "2023-04-07T20:05:50.927Z"
   },
   {
    "duration": 1561,
    "start_time": "2023-04-07T20:15:09.544Z"
   },
   {
    "duration": 89,
    "start_time": "2023-04-07T20:17:47.247Z"
   },
   {
    "duration": 752,
    "start_time": "2023-04-07T20:19:21.988Z"
   },
   {
    "duration": 160,
    "start_time": "2023-04-07T20:19:45.435Z"
   },
   {
    "duration": 51,
    "start_time": "2023-04-07T20:23:40.520Z"
   },
   {
    "duration": 54,
    "start_time": "2023-04-07T20:23:51.558Z"
   },
   {
    "duration": 128,
    "start_time": "2023-04-07T20:27:09.373Z"
   },
   {
    "duration": 105,
    "start_time": "2023-04-07T20:32:23.717Z"
   },
   {
    "duration": 79,
    "start_time": "2023-04-07T20:32:29.698Z"
   },
   {
    "duration": 91,
    "start_time": "2023-04-07T20:36:30.634Z"
   },
   {
    "duration": 48,
    "start_time": "2023-04-07T20:36:34.563Z"
   },
   {
    "duration": 56,
    "start_time": "2023-04-07T20:39:33.921Z"
   },
   {
    "duration": 2,
    "start_time": "2023-04-07T20:41:26.405Z"
   },
   {
    "duration": 150,
    "start_time": "2023-04-07T20:41:33.121Z"
   },
   {
    "duration": 43,
    "start_time": "2023-04-07T20:43:04.471Z"
   },
   {
    "duration": 45,
    "start_time": "2023-04-07T20:44:06.794Z"
   },
   {
    "duration": 71,
    "start_time": "2023-04-07T20:50:15.835Z"
   },
   {
    "duration": 34,
    "start_time": "2023-04-07T20:50:51.251Z"
   },
   {
    "duration": 6,
    "start_time": "2023-04-07T20:51:31.724Z"
   },
   {
    "duration": 11,
    "start_time": "2023-04-07T20:51:40.940Z"
   },
   {
    "duration": 12,
    "start_time": "2023-04-07T20:53:20.124Z"
   },
   {
    "duration": 13,
    "start_time": "2023-04-07T20:53:34.304Z"
   },
   {
    "duration": 11,
    "start_time": "2023-04-07T20:54:05.667Z"
   },
   {
    "duration": 788,
    "start_time": "2023-04-07T20:54:11.141Z"
   },
   {
    "duration": 1096,
    "start_time": "2023-04-07T20:54:11.931Z"
   },
   {
    "duration": 115,
    "start_time": "2023-04-07T20:54:13.029Z"
   },
   {
    "duration": 4,
    "start_time": "2023-04-07T20:54:13.146Z"
   },
   {
    "duration": 25,
    "start_time": "2023-04-07T20:54:13.152Z"
   },
   {
    "duration": 299,
    "start_time": "2023-04-07T20:54:13.182Z"
   },
   {
    "duration": 12,
    "start_time": "2023-04-07T20:54:13.483Z"
   },
   {
    "duration": 115,
    "start_time": "2023-04-07T20:54:13.497Z"
   },
   {
    "duration": 69,
    "start_time": "2023-04-07T20:54:13.614Z"
   },
   {
    "duration": 236,
    "start_time": "2023-04-07T20:54:13.686Z"
   },
   {
    "duration": 357,
    "start_time": "2023-04-07T20:54:13.923Z"
   },
   {
    "duration": 412,
    "start_time": "2023-04-07T20:54:14.282Z"
   },
   {
    "duration": 20,
    "start_time": "2023-04-07T20:54:14.695Z"
   },
   {
    "duration": 93,
    "start_time": "2023-04-07T20:54:14.717Z"
   },
   {
    "duration": 5,
    "start_time": "2023-04-07T20:54:14.812Z"
   },
   {
    "duration": 9,
    "start_time": "2023-04-07T20:54:14.819Z"
   },
   {
    "duration": 52,
    "start_time": "2023-04-07T20:54:14.830Z"
   },
   {
    "duration": 13,
    "start_time": "2023-04-07T20:54:14.884Z"
   },
   {
    "duration": 4,
    "start_time": "2023-04-07T20:54:14.898Z"
   },
   {
    "duration": 20,
    "start_time": "2023-04-07T20:54:14.904Z"
   },
   {
    "duration": 12,
    "start_time": "2023-04-07T20:54:14.926Z"
   },
   {
    "duration": 1416,
    "start_time": "2023-04-07T20:54:14.939Z"
   },
   {
    "duration": 19,
    "start_time": "2023-04-07T20:54:16.357Z"
   },
   {
    "duration": 47,
    "start_time": "2023-04-07T20:54:16.378Z"
   },
   {
    "duration": 8,
    "start_time": "2023-04-07T20:54:16.427Z"
   },
   {
    "duration": 36,
    "start_time": "2023-04-07T20:54:16.437Z"
   },
   {
    "duration": 37,
    "start_time": "2023-04-07T20:54:16.475Z"
   },
   {
    "duration": 403,
    "start_time": "2023-04-07T20:54:16.515Z"
   },
   {
    "duration": 868,
    "start_time": "2023-04-08T09:41:25.935Z"
   },
   {
    "duration": 1912,
    "start_time": "2023-04-08T09:41:26.806Z"
   },
   {
    "duration": 115,
    "start_time": "2023-04-08T09:41:28.720Z"
   },
   {
    "duration": 4,
    "start_time": "2023-04-08T09:41:28.837Z"
   },
   {
    "duration": 9,
    "start_time": "2023-04-08T09:41:28.843Z"
   },
   {
    "duration": 274,
    "start_time": "2023-04-08T09:41:28.853Z"
   },
   {
    "duration": 14,
    "start_time": "2023-04-08T09:41:29.129Z"
   },
   {
    "duration": 116,
    "start_time": "2023-04-08T09:41:29.145Z"
   },
   {
    "duration": 51,
    "start_time": "2023-04-08T09:41:29.263Z"
   },
   {
    "duration": 189,
    "start_time": "2023-04-08T09:41:29.335Z"
   },
   {
    "duration": 309,
    "start_time": "2023-04-08T09:41:29.526Z"
   },
   {
    "duration": 395,
    "start_time": "2023-04-08T09:41:29.836Z"
   },
   {
    "duration": 20,
    "start_time": "2023-04-08T09:41:30.233Z"
   },
   {
    "duration": 115,
    "start_time": "2023-04-08T09:41:30.255Z"
   },
   {
    "duration": 6,
    "start_time": "2023-04-08T09:41:30.372Z"
   },
   {
    "duration": 62,
    "start_time": "2023-04-08T09:41:30.380Z"
   },
   {
    "duration": 62,
    "start_time": "2023-04-08T09:41:30.444Z"
   },
   {
    "duration": 14,
    "start_time": "2023-04-08T09:41:30.508Z"
   },
   {
    "duration": 29,
    "start_time": "2023-04-08T09:41:30.523Z"
   },
   {
    "duration": 41,
    "start_time": "2023-04-08T09:41:30.554Z"
   },
   {
    "duration": 35,
    "start_time": "2023-04-08T09:41:30.597Z"
   },
   {
    "duration": 1441,
    "start_time": "2023-04-08T09:41:30.634Z"
   },
   {
    "duration": 10,
    "start_time": "2023-04-08T09:41:32.077Z"
   },
   {
    "duration": 59,
    "start_time": "2023-04-08T09:41:32.088Z"
   },
   {
    "duration": 23,
    "start_time": "2023-04-08T09:41:32.149Z"
   },
   {
    "duration": 27,
    "start_time": "2023-04-08T09:41:32.174Z"
   },
   {
    "duration": 53,
    "start_time": "2023-04-08T09:41:32.202Z"
   },
   {
    "duration": 382,
    "start_time": "2023-04-08T09:41:32.259Z"
   },
   {
    "duration": 265,
    "start_time": "2023-04-08T09:49:38.035Z"
   },
   {
    "duration": 31,
    "start_time": "2023-04-08T09:49:45.347Z"
   },
   {
    "duration": 32,
    "start_time": "2023-04-08T09:49:55.612Z"
   },
   {
    "duration": 5,
    "start_time": "2023-04-08T09:50:00.464Z"
   },
   {
    "duration": 13,
    "start_time": "2023-04-08T09:54:50.405Z"
   },
   {
    "duration": 24,
    "start_time": "2023-04-08T09:54:54.095Z"
   },
   {
    "duration": 192,
    "start_time": "2023-04-08T09:55:26.545Z"
   },
   {
    "duration": 28,
    "start_time": "2023-04-08T09:55:32.842Z"
   },
   {
    "duration": 24,
    "start_time": "2023-04-08T09:55:39.901Z"
   },
   {
    "duration": 55,
    "start_time": "2023-04-08T09:56:59.762Z"
   },
   {
    "duration": 17,
    "start_time": "2023-04-08T09:57:50.298Z"
   },
   {
    "duration": 21,
    "start_time": "2023-04-08T09:58:13.700Z"
   },
   {
    "duration": 29,
    "start_time": "2023-04-08T09:58:48.758Z"
   },
   {
    "duration": 47,
    "start_time": "2023-04-08T10:00:05.107Z"
   },
   {
    "duration": 15,
    "start_time": "2023-04-08T10:02:51.746Z"
   },
   {
    "duration": 26,
    "start_time": "2023-04-08T10:02:59.450Z"
   },
   {
    "duration": 17,
    "start_time": "2023-04-08T10:04:15.638Z"
   },
   {
    "duration": 742,
    "start_time": "2023-04-08T10:05:31.235Z"
   },
   {
    "duration": 622,
    "start_time": "2023-04-08T10:05:31.979Z"
   },
   {
    "duration": 110,
    "start_time": "2023-04-08T10:05:32.603Z"
   },
   {
    "duration": 5,
    "start_time": "2023-04-08T10:05:32.715Z"
   },
   {
    "duration": 10,
    "start_time": "2023-04-08T10:05:32.733Z"
   },
   {
    "duration": 285,
    "start_time": "2023-04-08T10:05:32.744Z"
   },
   {
    "duration": 12,
    "start_time": "2023-04-08T10:05:33.030Z"
   },
   {
    "duration": 118,
    "start_time": "2023-04-08T10:05:33.044Z"
   },
   {
    "duration": 83,
    "start_time": "2023-04-08T10:05:33.164Z"
   },
   {
    "duration": 206,
    "start_time": "2023-04-08T10:05:33.249Z"
   },
   {
    "duration": 384,
    "start_time": "2023-04-08T10:05:33.457Z"
   },
   {
    "duration": 419,
    "start_time": "2023-04-08T10:05:33.843Z"
   },
   {
    "duration": 19,
    "start_time": "2023-04-08T10:05:34.264Z"
   },
   {
    "duration": 109,
    "start_time": "2023-04-08T10:05:34.284Z"
   },
   {
    "duration": 6,
    "start_time": "2023-04-08T10:05:34.394Z"
   },
   {
    "duration": 12,
    "start_time": "2023-04-08T10:05:34.402Z"
   },
   {
    "duration": 41,
    "start_time": "2023-04-08T10:05:34.415Z"
   },
   {
    "duration": 13,
    "start_time": "2023-04-08T10:05:34.457Z"
   },
   {
    "duration": 7,
    "start_time": "2023-04-08T10:05:34.472Z"
   },
   {
    "duration": 26,
    "start_time": "2023-04-08T10:05:34.481Z"
   },
   {
    "duration": 27,
    "start_time": "2023-04-08T10:05:34.509Z"
   },
   {
    "duration": 1702,
    "start_time": "2023-04-08T10:05:34.537Z"
   },
   {
    "duration": 12,
    "start_time": "2023-04-08T10:05:36.241Z"
   },
   {
    "duration": 48,
    "start_time": "2023-04-08T10:05:36.255Z"
   },
   {
    "duration": 8,
    "start_time": "2023-04-08T10:05:36.304Z"
   },
   {
    "duration": 32,
    "start_time": "2023-04-08T10:05:36.314Z"
   },
   {
    "duration": 44,
    "start_time": "2023-04-08T10:05:36.347Z"
   },
   {
    "duration": 5,
    "start_time": "2023-04-08T10:05:36.395Z"
   },
   {
    "duration": 48,
    "start_time": "2023-04-08T10:05:36.401Z"
   },
   {
    "duration": 386,
    "start_time": "2023-04-08T10:05:36.451Z"
   },
   {
    "duration": 28,
    "start_time": "2023-04-08T10:05:36.839Z"
   },
   {
    "duration": 212,
    "start_time": "2023-04-08T10:05:36.868Z"
   },
   {
    "duration": 34,
    "start_time": "2023-04-08T10:05:59.926Z"
   },
   {
    "duration": 268,
    "start_time": "2023-04-08T10:06:01.587Z"
   },
   {
    "duration": 33,
    "start_time": "2023-04-08T10:06:41.612Z"
   },
   {
    "duration": 38,
    "start_time": "2023-04-08T10:07:02.239Z"
   },
   {
    "duration": 36,
    "start_time": "2023-04-08T10:07:10.050Z"
   },
   {
    "duration": 29,
    "start_time": "2023-04-08T10:07:55.248Z"
   },
   {
    "duration": 25,
    "start_time": "2023-04-08T10:08:00.690Z"
   },
   {
    "duration": 30,
    "start_time": "2023-04-08T10:08:08.820Z"
   },
   {
    "duration": 21,
    "start_time": "2023-04-08T10:09:30.605Z"
   },
   {
    "duration": 21,
    "start_time": "2023-04-08T10:10:22.236Z"
   },
   {
    "duration": 19,
    "start_time": "2023-04-08T10:10:27.881Z"
   },
   {
    "duration": 58,
    "start_time": "2023-04-08T10:10:46.542Z"
   },
   {
    "duration": 17,
    "start_time": "2023-04-08T10:21:10.358Z"
   },
   {
    "duration": 69,
    "start_time": "2023-04-08T10:26:15.947Z"
   },
   {
    "duration": 12,
    "start_time": "2023-04-08T10:35:28.093Z"
   },
   {
    "duration": 16,
    "start_time": "2023-04-08T10:35:33.976Z"
   },
   {
    "duration": 19,
    "start_time": "2023-04-08T10:38:25.904Z"
   },
   {
    "duration": 13,
    "start_time": "2023-04-08T10:40:58.513Z"
   },
   {
    "duration": 19,
    "start_time": "2023-04-08T10:41:08.734Z"
   },
   {
    "duration": 22,
    "start_time": "2023-04-08T10:41:23.731Z"
   },
   {
    "duration": 12,
    "start_time": "2023-04-08T10:41:36.173Z"
   },
   {
    "duration": 20,
    "start_time": "2023-04-08T10:41:38.522Z"
   },
   {
    "duration": 13,
    "start_time": "2023-04-08T10:42:50.579Z"
   },
   {
    "duration": 13,
    "start_time": "2023-04-08T10:43:02.832Z"
   },
   {
    "duration": 18,
    "start_time": "2023-04-08T10:44:04.810Z"
   },
   {
    "duration": 10,
    "start_time": "2023-04-08T10:50:43.038Z"
   },
   {
    "duration": 3,
    "start_time": "2023-04-08T10:51:41.990Z"
   },
   {
    "duration": 11,
    "start_time": "2023-04-08T10:53:01.263Z"
   },
   {
    "duration": 26,
    "start_time": "2023-04-08T10:54:04.227Z"
   },
   {
    "duration": 13,
    "start_time": "2023-04-08T10:54:11.221Z"
   },
   {
    "duration": 11,
    "start_time": "2023-04-08T10:56:27.837Z"
   },
   {
    "duration": 54,
    "start_time": "2023-04-08T11:25:46.298Z"
   },
   {
    "duration": 1244,
    "start_time": "2023-04-08T11:25:55.090Z"
   },
   {
    "duration": 8,
    "start_time": "2023-04-08T11:26:16.662Z"
   },
   {
    "duration": 736,
    "start_time": "2023-04-08T11:27:16.246Z"
   },
   {
    "duration": 570,
    "start_time": "2023-04-08T11:27:16.984Z"
   },
   {
    "duration": 146,
    "start_time": "2023-04-08T11:27:17.555Z"
   },
   {
    "duration": 4,
    "start_time": "2023-04-08T11:27:17.703Z"
   },
   {
    "duration": 24,
    "start_time": "2023-04-08T11:27:17.710Z"
   },
   {
    "duration": 264,
    "start_time": "2023-04-08T11:27:17.735Z"
   },
   {
    "duration": 15,
    "start_time": "2023-04-08T11:27:18.002Z"
   },
   {
    "duration": 95,
    "start_time": "2023-04-08T11:27:18.019Z"
   },
   {
    "duration": 49,
    "start_time": "2023-04-08T11:27:18.133Z"
   },
   {
    "duration": 191,
    "start_time": "2023-04-08T11:27:18.184Z"
   },
   {
    "duration": 293,
    "start_time": "2023-04-08T11:27:18.377Z"
   },
   {
    "duration": 405,
    "start_time": "2023-04-08T11:27:18.671Z"
   },
   {
    "duration": 20,
    "start_time": "2023-04-08T11:27:19.077Z"
   },
   {
    "duration": 89,
    "start_time": "2023-04-08T11:27:19.099Z"
   },
   {
    "duration": 5,
    "start_time": "2023-04-08T11:27:19.190Z"
   },
   {
    "duration": 27,
    "start_time": "2023-04-08T11:27:19.197Z"
   },
   {
    "duration": 31,
    "start_time": "2023-04-08T11:27:19.226Z"
   },
   {
    "duration": 12,
    "start_time": "2023-04-08T11:27:19.259Z"
   },
   {
    "duration": 5,
    "start_time": "2023-04-08T11:27:19.273Z"
   },
   {
    "duration": 30,
    "start_time": "2023-04-08T11:27:19.279Z"
   },
   {
    "duration": 9,
    "start_time": "2023-04-08T11:27:19.310Z"
   },
   {
    "duration": 1348,
    "start_time": "2023-04-08T11:27:19.320Z"
   },
   {
    "duration": 11,
    "start_time": "2023-04-08T11:27:20.670Z"
   },
   {
    "duration": 30,
    "start_time": "2023-04-08T11:27:20.682Z"
   },
   {
    "duration": 22,
    "start_time": "2023-04-08T11:27:20.713Z"
   },
   {
    "duration": 16,
    "start_time": "2023-04-08T11:27:20.736Z"
   },
   {
    "duration": 16,
    "start_time": "2023-04-08T11:27:20.753Z"
   },
   {
    "duration": 31,
    "start_time": "2023-04-08T11:27:20.771Z"
   },
   {
    "duration": 5,
    "start_time": "2023-04-08T11:27:20.803Z"
   },
   {
    "duration": 31,
    "start_time": "2023-04-08T11:27:20.810Z"
   },
   {
    "duration": 419,
    "start_time": "2023-04-08T11:27:20.843Z"
   },
   {
    "duration": 19,
    "start_time": "2023-04-08T11:27:21.263Z"
   },
   {
    "duration": 88,
    "start_time": "2023-04-08T11:27:21.284Z"
   },
   {
    "duration": 69,
    "start_time": "2023-04-08T11:27:21.373Z"
   },
   {
    "duration": 13,
    "start_time": "2023-04-08T11:27:21.444Z"
   },
   {
    "duration": 9,
    "start_time": "2023-04-08T11:29:26.433Z"
   },
   {
    "duration": 9,
    "start_time": "2023-04-08T11:29:27.970Z"
   },
   {
    "duration": 3,
    "start_time": "2023-04-08T12:00:22.897Z"
   },
   {
    "duration": 196,
    "start_time": "2023-04-08T12:00:39.771Z"
   },
   {
    "duration": 24,
    "start_time": "2023-04-08T12:04:52.145Z"
   },
   {
    "duration": 4,
    "start_time": "2023-04-08T12:19:04.587Z"
   },
   {
    "duration": 11,
    "start_time": "2023-04-08T12:19:09.142Z"
   },
   {
    "duration": 7,
    "start_time": "2023-04-08T12:20:50.930Z"
   },
   {
    "duration": 9,
    "start_time": "2023-04-08T12:22:12.600Z"
   },
   {
    "duration": 11,
    "start_time": "2023-04-08T12:23:20.946Z"
   },
   {
    "duration": 10,
    "start_time": "2023-04-08T12:24:07.435Z"
   },
   {
    "duration": 11,
    "start_time": "2023-04-08T12:25:10.479Z"
   },
   {
    "duration": 11,
    "start_time": "2023-04-08T12:25:21.251Z"
   },
   {
    "duration": 748,
    "start_time": "2023-04-08T12:25:27.846Z"
   },
   {
    "duration": 574,
    "start_time": "2023-04-08T12:25:28.596Z"
   },
   {
    "duration": 106,
    "start_time": "2023-04-08T12:25:29.171Z"
   },
   {
    "duration": 4,
    "start_time": "2023-04-08T12:25:29.279Z"
   },
   {
    "duration": 12,
    "start_time": "2023-04-08T12:25:29.284Z"
   },
   {
    "duration": 270,
    "start_time": "2023-04-08T12:25:29.297Z"
   },
   {
    "duration": 12,
    "start_time": "2023-04-08T12:25:29.569Z"
   },
   {
    "duration": 120,
    "start_time": "2023-04-08T12:25:29.582Z"
   },
   {
    "duration": 63,
    "start_time": "2023-04-08T12:25:29.704Z"
   },
   {
    "duration": 193,
    "start_time": "2023-04-08T12:25:29.770Z"
   },
   {
    "duration": 339,
    "start_time": "2023-04-08T12:25:29.965Z"
   },
   {
    "duration": 398,
    "start_time": "2023-04-08T12:25:30.306Z"
   },
   {
    "duration": 20,
    "start_time": "2023-04-08T12:25:30.706Z"
   },
   {
    "duration": 120,
    "start_time": "2023-04-08T12:25:30.734Z"
   },
   {
    "duration": 6,
    "start_time": "2023-04-08T12:25:30.856Z"
   },
   {
    "duration": 45,
    "start_time": "2023-04-08T12:25:30.864Z"
   },
   {
    "duration": 38,
    "start_time": "2023-04-08T12:25:30.911Z"
   },
   {
    "duration": 14,
    "start_time": "2023-04-08T12:25:30.950Z"
   },
   {
    "duration": 30,
    "start_time": "2023-04-08T12:25:30.965Z"
   },
   {
    "duration": 48,
    "start_time": "2023-04-08T12:25:30.996Z"
   },
   {
    "duration": 9,
    "start_time": "2023-04-08T12:25:31.046Z"
   },
   {
    "duration": 1391,
    "start_time": "2023-04-08T12:25:31.056Z"
   },
   {
    "duration": 10,
    "start_time": "2023-04-08T12:25:32.449Z"
   },
   {
    "duration": 29,
    "start_time": "2023-04-08T12:25:32.461Z"
   },
   {
    "duration": 11,
    "start_time": "2023-04-08T12:25:32.491Z"
   },
   {
    "duration": 16,
    "start_time": "2023-04-08T12:25:32.503Z"
   },
   {
    "duration": 25,
    "start_time": "2023-04-08T12:25:32.521Z"
   },
   {
    "duration": 37,
    "start_time": "2023-04-08T12:25:32.549Z"
   },
   {
    "duration": 4,
    "start_time": "2023-04-08T12:25:32.588Z"
   },
   {
    "duration": 31,
    "start_time": "2023-04-08T12:25:32.594Z"
   },
   {
    "duration": 386,
    "start_time": "2023-04-08T12:25:32.627Z"
   },
   {
    "duration": 18,
    "start_time": "2023-04-08T12:25:33.015Z"
   },
   {
    "duration": 99,
    "start_time": "2023-04-08T12:25:33.035Z"
   },
   {
    "duration": 24,
    "start_time": "2023-04-08T12:25:33.136Z"
   },
   {
    "duration": 11,
    "start_time": "2023-04-08T12:25:33.162Z"
   },
   {
    "duration": 19,
    "start_time": "2023-04-08T12:25:33.175Z"
   },
   {
    "duration": 123,
    "start_time": "2023-04-08T12:26:28.225Z"
   },
   {
    "duration": 16,
    "start_time": "2023-04-08T12:27:57.901Z"
   },
   {
    "duration": 18,
    "start_time": "2023-04-08T12:28:20.732Z"
   },
   {
    "duration": 12,
    "start_time": "2023-04-08T12:30:25.029Z"
   },
   {
    "duration": 52,
    "start_time": "2023-04-08T12:32:12.458Z"
   },
   {
    "duration": 60,
    "start_time": "2023-04-08T12:32:28.308Z"
   },
   {
    "duration": 13,
    "start_time": "2023-04-08T12:35:10.801Z"
   },
   {
    "duration": 13,
    "start_time": "2023-04-08T13:37:27.021Z"
   },
   {
    "duration": 12,
    "start_time": "2023-04-08T13:40:17.215Z"
   },
   {
    "duration": 10,
    "start_time": "2023-04-08T13:42:29.018Z"
   },
   {
    "duration": 732,
    "start_time": "2023-04-08T13:53:34.784Z"
   },
   {
    "duration": 703,
    "start_time": "2023-04-08T13:53:35.518Z"
   },
   {
    "duration": 127,
    "start_time": "2023-04-08T13:53:36.223Z"
   },
   {
    "duration": 4,
    "start_time": "2023-04-08T13:53:36.352Z"
   },
   {
    "duration": 8,
    "start_time": "2023-04-08T13:53:36.359Z"
   },
   {
    "duration": 328,
    "start_time": "2023-04-08T13:53:36.368Z"
   },
   {
    "duration": 15,
    "start_time": "2023-04-08T13:53:36.699Z"
   },
   {
    "duration": 152,
    "start_time": "2023-04-08T13:53:36.717Z"
   },
   {
    "duration": 75,
    "start_time": "2023-04-08T13:53:36.871Z"
   },
   {
    "duration": 228,
    "start_time": "2023-04-08T13:53:36.948Z"
   },
   {
    "duration": 350,
    "start_time": "2023-04-08T13:53:37.177Z"
   },
   {
    "duration": 386,
    "start_time": "2023-04-08T13:53:37.528Z"
   },
   {
    "duration": 21,
    "start_time": "2023-04-08T13:53:37.916Z"
   },
   {
    "duration": 110,
    "start_time": "2023-04-08T13:53:37.940Z"
   },
   {
    "duration": 5,
    "start_time": "2023-04-08T13:53:38.052Z"
   },
   {
    "duration": 19,
    "start_time": "2023-04-08T13:53:38.059Z"
   },
   {
    "duration": 27,
    "start_time": "2023-04-08T13:53:38.079Z"
   },
   {
    "duration": 32,
    "start_time": "2023-04-08T13:53:38.107Z"
   },
   {
    "duration": 4,
    "start_time": "2023-04-08T13:53:38.141Z"
   },
   {
    "duration": 29,
    "start_time": "2023-04-08T13:53:38.146Z"
   },
   {
    "duration": 10,
    "start_time": "2023-04-08T13:53:38.176Z"
   },
   {
    "duration": 1529,
    "start_time": "2023-04-08T13:53:38.187Z"
   },
   {
    "duration": 16,
    "start_time": "2023-04-08T13:53:39.718Z"
   },
   {
    "duration": 26,
    "start_time": "2023-04-08T13:53:39.735Z"
   },
   {
    "duration": 12,
    "start_time": "2023-04-08T13:53:39.762Z"
   },
   {
    "duration": 15,
    "start_time": "2023-04-08T13:53:39.776Z"
   },
   {
    "duration": 8,
    "start_time": "2023-04-08T13:53:39.793Z"
   },
   {
    "duration": 56,
    "start_time": "2023-04-08T13:53:39.802Z"
   },
   {
    "duration": 5,
    "start_time": "2023-04-08T13:53:39.860Z"
   },
   {
    "duration": 30,
    "start_time": "2023-04-08T13:53:39.867Z"
   },
   {
    "duration": 487,
    "start_time": "2023-04-08T13:53:39.899Z"
   },
   {
    "duration": 17,
    "start_time": "2023-04-08T13:53:40.388Z"
   },
   {
    "duration": 59,
    "start_time": "2023-04-08T13:53:40.407Z"
   },
   {
    "duration": 35,
    "start_time": "2023-04-08T13:53:40.468Z"
   },
   {
    "duration": 35,
    "start_time": "2023-04-08T13:53:40.505Z"
   },
   {
    "duration": 25,
    "start_time": "2023-04-08T13:53:40.542Z"
   },
   {
    "duration": 4,
    "start_time": "2023-04-08T14:11:57.671Z"
   },
   {
    "duration": 112,
    "start_time": "2023-04-08T14:12:19.698Z"
   },
   {
    "duration": 3,
    "start_time": "2023-04-08T14:12:48.046Z"
   },
   {
    "duration": 9,
    "start_time": "2023-04-08T14:12:54.363Z"
   },
   {
    "duration": 428,
    "start_time": "2023-04-08T14:13:16.814Z"
   },
   {
    "duration": 4,
    "start_time": "2023-04-08T14:13:22.666Z"
   },
   {
    "duration": 5,
    "start_time": "2023-04-08T14:14:17.074Z"
   },
   {
    "duration": 13,
    "start_time": "2023-04-08T14:21:38.652Z"
   },
   {
    "duration": 13,
    "start_time": "2023-04-08T14:21:45.900Z"
   },
   {
    "duration": 12,
    "start_time": "2023-04-08T14:21:49.723Z"
   },
   {
    "duration": 334,
    "start_time": "2023-04-08T14:40:58.836Z"
   },
   {
    "duration": 7,
    "start_time": "2023-04-08T14:48:42.698Z"
   },
   {
    "duration": 70,
    "start_time": "2023-04-08T14:49:07.614Z"
   },
   {
    "duration": 8,
    "start_time": "2023-04-08T14:50:52.034Z"
   },
   {
    "duration": 6,
    "start_time": "2023-04-08T14:51:10.434Z"
   },
   {
    "duration": 47,
    "start_time": "2023-04-08T14:51:53.461Z"
   },
   {
    "duration": 1148,
    "start_time": "2023-04-08T14:56:54.438Z"
   },
   {
    "duration": 604,
    "start_time": "2023-04-08T14:56:55.588Z"
   },
   {
    "duration": 107,
    "start_time": "2023-04-08T14:56:56.193Z"
   },
   {
    "duration": 4,
    "start_time": "2023-04-08T14:56:56.302Z"
   },
   {
    "duration": 8,
    "start_time": "2023-04-08T14:56:56.307Z"
   },
   {
    "duration": 299,
    "start_time": "2023-04-08T14:56:56.317Z"
   },
   {
    "duration": 20,
    "start_time": "2023-04-08T14:56:56.618Z"
   },
   {
    "duration": 139,
    "start_time": "2023-04-08T14:56:56.641Z"
   },
   {
    "duration": 67,
    "start_time": "2023-04-08T14:56:56.782Z"
   },
   {
    "duration": 193,
    "start_time": "2023-04-08T14:56:56.850Z"
   },
   {
    "duration": 309,
    "start_time": "2023-04-08T14:56:57.045Z"
   },
   {
    "duration": 396,
    "start_time": "2023-04-08T14:56:57.356Z"
   },
   {
    "duration": 23,
    "start_time": "2023-04-08T14:56:57.753Z"
   },
   {
    "duration": 122,
    "start_time": "2023-04-08T14:56:57.779Z"
   },
   {
    "duration": 7,
    "start_time": "2023-04-08T14:56:57.903Z"
   },
   {
    "duration": 23,
    "start_time": "2023-04-08T14:56:57.911Z"
   },
   {
    "duration": 32,
    "start_time": "2023-04-08T14:56:57.937Z"
   },
   {
    "duration": 13,
    "start_time": "2023-04-08T14:56:57.971Z"
   },
   {
    "duration": 4,
    "start_time": "2023-04-08T14:56:57.985Z"
   },
   {
    "duration": 51,
    "start_time": "2023-04-08T14:56:57.991Z"
   },
   {
    "duration": 10,
    "start_time": "2023-04-08T14:56:58.044Z"
   },
   {
    "duration": 1454,
    "start_time": "2023-04-08T14:56:58.056Z"
   },
   {
    "duration": 12,
    "start_time": "2023-04-08T14:56:59.511Z"
   },
   {
    "duration": 25,
    "start_time": "2023-04-08T14:56:59.534Z"
   },
   {
    "duration": 11,
    "start_time": "2023-04-08T14:56:59.560Z"
   },
   {
    "duration": 17,
    "start_time": "2023-04-08T14:56:59.572Z"
   },
   {
    "duration": 7,
    "start_time": "2023-04-08T14:56:59.591Z"
   },
   {
    "duration": 50,
    "start_time": "2023-04-08T14:56:59.600Z"
   },
   {
    "duration": 7,
    "start_time": "2023-04-08T14:56:59.652Z"
   },
   {
    "duration": 29,
    "start_time": "2023-04-08T14:56:59.660Z"
   },
   {
    "duration": 362,
    "start_time": "2023-04-08T14:56:59.691Z"
   },
   {
    "duration": 19,
    "start_time": "2023-04-08T14:57:00.055Z"
   },
   {
    "duration": 87,
    "start_time": "2023-04-08T14:57:00.076Z"
   },
   {
    "duration": 69,
    "start_time": "2023-04-08T14:57:00.164Z"
   },
   {
    "duration": 10,
    "start_time": "2023-04-08T14:57:00.235Z"
   },
   {
    "duration": 25,
    "start_time": "2023-04-08T14:57:00.247Z"
   },
   {
    "duration": 4,
    "start_time": "2023-04-08T14:57:00.274Z"
   },
   {
    "duration": 8,
    "start_time": "2023-04-08T14:57:00.280Z"
   },
   {
    "duration": 20,
    "start_time": "2023-04-08T14:57:00.289Z"
   },
   {
    "duration": 14,
    "start_time": "2023-04-08T14:57:00.310Z"
   },
   {
    "duration": 17,
    "start_time": "2023-04-08T14:57:00.327Z"
   },
   {
    "duration": 1256,
    "start_time": "2023-04-08T15:14:03.712Z"
   },
   {
    "duration": 595,
    "start_time": "2023-04-08T15:14:04.970Z"
   },
   {
    "duration": 127,
    "start_time": "2023-04-08T15:14:05.567Z"
   },
   {
    "duration": 4,
    "start_time": "2023-04-08T15:14:05.696Z"
   },
   {
    "duration": 5,
    "start_time": "2023-04-08T15:14:05.703Z"
   },
   {
    "duration": 345,
    "start_time": "2023-04-08T15:14:05.710Z"
   },
   {
    "duration": 13,
    "start_time": "2023-04-08T15:14:06.057Z"
   },
   {
    "duration": 123,
    "start_time": "2023-04-08T15:14:06.071Z"
   },
   {
    "duration": 69,
    "start_time": "2023-04-08T15:14:06.196Z"
   },
   {
    "duration": 203,
    "start_time": "2023-04-08T15:14:06.267Z"
   },
   {
    "duration": 328,
    "start_time": "2023-04-08T15:14:06.471Z"
   },
   {
    "duration": 406,
    "start_time": "2023-04-08T15:14:06.800Z"
   },
   {
    "duration": 31,
    "start_time": "2023-04-08T15:14:07.208Z"
   },
   {
    "duration": 101,
    "start_time": "2023-04-08T15:14:07.242Z"
   },
   {
    "duration": 7,
    "start_time": "2023-04-08T15:14:07.345Z"
   },
   {
    "duration": 10,
    "start_time": "2023-04-08T15:14:07.362Z"
   },
   {
    "duration": 45,
    "start_time": "2023-04-08T15:14:07.374Z"
   },
   {
    "duration": 42,
    "start_time": "2023-04-08T15:14:07.421Z"
   },
   {
    "duration": 4,
    "start_time": "2023-04-08T15:14:07.466Z"
   },
   {
    "duration": 22,
    "start_time": "2023-04-08T15:14:07.472Z"
   },
   {
    "duration": 10,
    "start_time": "2023-04-08T15:14:07.496Z"
   },
   {
    "duration": 1583,
    "start_time": "2023-04-08T15:14:07.508Z"
   },
   {
    "duration": 11,
    "start_time": "2023-04-08T15:14:09.093Z"
   },
   {
    "duration": 27,
    "start_time": "2023-04-08T15:14:09.105Z"
   },
   {
    "duration": 28,
    "start_time": "2023-04-08T15:14:09.134Z"
   },
   {
    "duration": 9,
    "start_time": "2023-04-08T15:14:09.163Z"
   },
   {
    "duration": 7,
    "start_time": "2023-04-08T15:14:09.174Z"
   },
   {
    "duration": 25,
    "start_time": "2023-04-08T15:14:09.183Z"
   },
   {
    "duration": 5,
    "start_time": "2023-04-08T15:14:09.209Z"
   },
   {
    "duration": 55,
    "start_time": "2023-04-08T15:14:09.216Z"
   },
   {
    "duration": 755,
    "start_time": "2023-04-08T15:14:09.273Z"
   },
   {
    "duration": 36,
    "start_time": "2023-04-08T15:14:10.030Z"
   },
   {
    "duration": 105,
    "start_time": "2023-04-08T15:14:10.068Z"
   },
   {
    "duration": 23,
    "start_time": "2023-04-08T15:14:10.174Z"
   },
   {
    "duration": 11,
    "start_time": "2023-04-08T15:14:10.199Z"
   },
   {
    "duration": 56,
    "start_time": "2023-04-08T15:14:10.211Z"
   },
   {
    "duration": 4,
    "start_time": "2023-04-08T15:14:10.269Z"
   },
   {
    "duration": 16,
    "start_time": "2023-04-08T15:14:10.274Z"
   },
   {
    "duration": 16,
    "start_time": "2023-04-08T15:14:10.292Z"
   },
   {
    "duration": 8,
    "start_time": "2023-04-08T15:14:10.309Z"
   },
   {
    "duration": 8,
    "start_time": "2023-04-08T15:14:10.320Z"
   },
   {
    "duration": 5,
    "start_time": "2023-04-08T15:23:10.174Z"
   },
   {
    "duration": 4,
    "start_time": "2023-04-08T15:23:11.774Z"
   },
   {
    "duration": 6,
    "start_time": "2023-04-08T15:23:13.061Z"
   },
   {
    "duration": 4,
    "start_time": "2023-04-08T16:32:25.116Z"
   },
   {
    "duration": 1405,
    "start_time": "2023-04-08T16:35:16.349Z"
   },
   {
    "duration": 2062,
    "start_time": "2023-04-08T16:35:17.756Z"
   },
   {
    "duration": 176,
    "start_time": "2023-04-08T16:35:19.821Z"
   },
   {
    "duration": 9,
    "start_time": "2023-04-08T16:35:20.001Z"
   },
   {
    "duration": 31,
    "start_time": "2023-04-08T16:35:20.012Z"
   },
   {
    "duration": 375,
    "start_time": "2023-04-08T16:35:20.045Z"
   },
   {
    "duration": 15,
    "start_time": "2023-04-08T16:35:20.423Z"
   },
   {
    "duration": 169,
    "start_time": "2023-04-08T16:35:20.440Z"
   },
   {
    "duration": 113,
    "start_time": "2023-04-08T16:35:20.611Z"
   },
   {
    "duration": 256,
    "start_time": "2023-04-08T16:35:20.726Z"
   },
   {
    "duration": 398,
    "start_time": "2023-04-08T16:35:20.987Z"
   },
   {
    "duration": 415,
    "start_time": "2023-04-08T16:35:21.387Z"
   },
   {
    "duration": 25,
    "start_time": "2023-04-08T16:35:21.805Z"
   },
   {
    "duration": 125,
    "start_time": "2023-04-08T16:35:21.834Z"
   },
   {
    "duration": 7,
    "start_time": "2023-04-08T16:35:21.961Z"
   },
   {
    "duration": 3,
    "start_time": "2023-04-08T16:35:21.969Z"
   },
   {
    "duration": 40,
    "start_time": "2023-04-08T16:35:21.987Z"
   },
   {
    "duration": 27,
    "start_time": "2023-04-08T16:35:22.029Z"
   },
   {
    "duration": 4,
    "start_time": "2023-04-08T16:35:22.057Z"
   },
   {
    "duration": 29,
    "start_time": "2023-04-08T16:35:22.063Z"
   },
   {
    "duration": 20,
    "start_time": "2023-04-08T16:35:22.094Z"
   },
   {
    "duration": 1861,
    "start_time": "2023-04-08T16:35:22.116Z"
   },
   {
    "duration": 23,
    "start_time": "2023-04-08T16:35:23.979Z"
   },
   {
    "duration": 30,
    "start_time": "2023-04-08T16:35:24.007Z"
   },
   {
    "duration": 13,
    "start_time": "2023-04-08T16:35:24.039Z"
   },
   {
    "duration": 11,
    "start_time": "2023-04-08T16:35:24.054Z"
   },
   {
    "duration": 39,
    "start_time": "2023-04-08T16:35:24.067Z"
   },
   {
    "duration": 35,
    "start_time": "2023-04-08T16:35:24.108Z"
   },
   {
    "duration": 6,
    "start_time": "2023-04-08T16:35:24.144Z"
   },
   {
    "duration": 25,
    "start_time": "2023-04-08T16:35:24.151Z"
   },
   {
    "duration": 430,
    "start_time": "2023-04-08T16:35:24.178Z"
   },
   {
    "duration": 21,
    "start_time": "2023-04-08T16:35:24.609Z"
   },
   {
    "duration": 182,
    "start_time": "2023-04-08T16:35:24.632Z"
   },
   {
    "duration": 27,
    "start_time": "2023-04-08T16:35:24.816Z"
   },
   {
    "duration": 14,
    "start_time": "2023-04-08T16:35:24.845Z"
   },
   {
    "duration": 49,
    "start_time": "2023-04-08T16:35:24.861Z"
   },
   {
    "duration": 7,
    "start_time": "2023-04-08T16:35:24.912Z"
   },
   {
    "duration": 14,
    "start_time": "2023-04-08T16:35:24.921Z"
   },
   {
    "duration": 7,
    "start_time": "2023-04-08T16:35:24.937Z"
   },
   {
    "duration": 30,
    "start_time": "2023-04-08T16:35:24.946Z"
   },
   {
    "duration": 11,
    "start_time": "2023-04-08T16:35:24.980Z"
   },
   {
    "duration": 1357,
    "start_time": "2023-04-08T16:44:40.883Z"
   },
   {
    "duration": 659,
    "start_time": "2023-04-08T16:44:42.242Z"
   },
   {
    "duration": 138,
    "start_time": "2023-04-08T16:44:42.904Z"
   },
   {
    "duration": 4,
    "start_time": "2023-04-08T16:44:43.044Z"
   },
   {
    "duration": 9,
    "start_time": "2023-04-08T16:44:43.051Z"
   },
   {
    "duration": 355,
    "start_time": "2023-04-08T16:44:43.062Z"
   },
   {
    "duration": 15,
    "start_time": "2023-04-08T16:44:43.419Z"
   },
   {
    "duration": 152,
    "start_time": "2023-04-08T16:44:43.436Z"
   },
   {
    "duration": 62,
    "start_time": "2023-04-08T16:44:43.590Z"
   },
   {
    "duration": 322,
    "start_time": "2023-04-08T16:44:43.656Z"
   },
   {
    "duration": 415,
    "start_time": "2023-04-08T16:44:43.980Z"
   },
   {
    "duration": 468,
    "start_time": "2023-04-08T16:44:44.397Z"
   },
   {
    "duration": 49,
    "start_time": "2023-04-08T16:44:44.867Z"
   },
   {
    "duration": 142,
    "start_time": "2023-04-08T16:44:44.918Z"
   },
   {
    "duration": 9,
    "start_time": "2023-04-08T16:44:45.063Z"
   },
   {
    "duration": 129,
    "start_time": "2023-04-08T16:44:45.074Z"
   },
   {
    "duration": 41,
    "start_time": "2023-04-08T16:44:45.206Z"
   },
   {
    "duration": 18,
    "start_time": "2023-04-08T16:44:45.249Z"
   },
   {
    "duration": 6,
    "start_time": "2023-04-08T16:44:45.269Z"
   },
   {
    "duration": 53,
    "start_time": "2023-04-08T16:44:45.277Z"
   },
   {
    "duration": 17,
    "start_time": "2023-04-08T16:44:45.332Z"
   },
   {
    "duration": 1975,
    "start_time": "2023-04-08T16:44:45.351Z"
   },
   {
    "duration": 15,
    "start_time": "2023-04-08T16:44:47.328Z"
   },
   {
    "duration": 42,
    "start_time": "2023-04-08T16:44:47.345Z"
   },
   {
    "duration": 304,
    "start_time": "2023-04-08T16:44:47.391Z"
   },
   {
    "duration": 14,
    "start_time": "2023-04-08T16:44:47.703Z"
   },
   {
    "duration": 16,
    "start_time": "2023-04-08T16:44:47.719Z"
   },
   {
    "duration": 10,
    "start_time": "2023-04-08T16:44:47.739Z"
   },
   {
    "duration": 53,
    "start_time": "2023-04-08T16:44:47.751Z"
   },
   {
    "duration": 6,
    "start_time": "2023-04-08T16:44:47.806Z"
   },
   {
    "duration": 36,
    "start_time": "2023-04-08T16:44:47.814Z"
   },
   {
    "duration": 432,
    "start_time": "2023-04-08T16:44:47.852Z"
   },
   {
    "duration": 34,
    "start_time": "2023-04-08T16:44:48.286Z"
   },
   {
    "duration": 171,
    "start_time": "2023-04-08T16:44:48.322Z"
   },
   {
    "duration": 33,
    "start_time": "2023-04-08T16:44:48.495Z"
   },
   {
    "duration": 16,
    "start_time": "2023-04-08T16:44:48.531Z"
   },
   {
    "duration": 50,
    "start_time": "2023-04-08T16:44:48.549Z"
   },
   {
    "duration": 6,
    "start_time": "2023-04-08T16:44:48.605Z"
   },
   {
    "duration": 7,
    "start_time": "2023-04-08T16:44:48.613Z"
   },
   {
    "duration": 9,
    "start_time": "2023-04-08T16:44:48.622Z"
   },
   {
    "duration": 11,
    "start_time": "2023-04-08T16:44:48.633Z"
   },
   {
    "duration": 8,
    "start_time": "2023-04-08T16:44:48.646Z"
   },
   {
    "duration": 6,
    "start_time": "2023-04-08T16:46:47.325Z"
   },
   {
    "duration": 23,
    "start_time": "2023-04-08T16:51:58.185Z"
   },
   {
    "duration": 20,
    "start_time": "2023-04-08T16:53:02.422Z"
   },
   {
    "duration": 55,
    "start_time": "2023-04-08T16:53:29.804Z"
   },
   {
    "duration": 68,
    "start_time": "2023-04-08T16:53:52.415Z"
   },
   {
    "duration": 1798,
    "start_time": "2023-04-08T17:01:17.855Z"
   },
   {
    "duration": 2706,
    "start_time": "2023-04-08T17:01:19.655Z"
   },
   {
    "duration": 174,
    "start_time": "2023-04-08T17:01:22.363Z"
   },
   {
    "duration": 4,
    "start_time": "2023-04-08T17:01:22.540Z"
   },
   {
    "duration": 17,
    "start_time": "2023-04-08T17:01:22.545Z"
   },
   {
    "duration": 514,
    "start_time": "2023-04-08T17:01:22.564Z"
   },
   {
    "duration": 22,
    "start_time": "2023-04-08T17:01:23.080Z"
   },
   {
    "duration": 148,
    "start_time": "2023-04-08T17:01:23.109Z"
   },
   {
    "duration": 115,
    "start_time": "2023-04-08T17:01:23.258Z"
   },
   {
    "duration": 287,
    "start_time": "2023-04-08T17:01:23.377Z"
   },
   {
    "duration": 535,
    "start_time": "2023-04-08T17:01:23.666Z"
   },
   {
    "duration": 556,
    "start_time": "2023-04-08T17:01:24.210Z"
   },
   {
    "duration": 54,
    "start_time": "2023-04-08T17:01:24.768Z"
   },
   {
    "duration": 138,
    "start_time": "2023-04-08T17:01:24.833Z"
   },
   {
    "duration": 18,
    "start_time": "2023-04-08T17:01:24.973Z"
   },
   {
    "duration": 13,
    "start_time": "2023-04-08T17:01:24.995Z"
   },
   {
    "duration": 49,
    "start_time": "2023-04-08T17:01:25.017Z"
   },
   {
    "duration": 15,
    "start_time": "2023-04-08T17:01:25.068Z"
   },
   {
    "duration": 43,
    "start_time": "2023-04-08T17:01:25.086Z"
   },
   {
    "duration": 26,
    "start_time": "2023-04-08T17:01:25.134Z"
   },
   {
    "duration": 12,
    "start_time": "2023-04-08T17:01:25.162Z"
   },
   {
    "duration": 2130,
    "start_time": "2023-04-08T17:01:25.175Z"
   },
   {
    "duration": 18,
    "start_time": "2023-04-08T17:01:27.307Z"
   },
   {
    "duration": 39,
    "start_time": "2023-04-08T17:01:27.327Z"
   },
   {
    "duration": 314,
    "start_time": "2023-04-08T17:01:27.367Z"
   },
   {
    "duration": 12,
    "start_time": "2023-04-08T17:01:27.685Z"
   },
   {
    "duration": 51,
    "start_time": "2023-04-08T17:01:27.698Z"
   },
   {
    "duration": 10,
    "start_time": "2023-04-08T17:01:27.753Z"
   },
   {
    "duration": 11,
    "start_time": "2023-04-08T17:01:27.765Z"
   },
   {
    "duration": 47,
    "start_time": "2023-04-08T17:01:27.778Z"
   },
   {
    "duration": 12,
    "start_time": "2023-04-08T17:01:27.829Z"
   },
   {
    "duration": 27,
    "start_time": "2023-04-08T17:01:27.843Z"
   },
   {
    "duration": 5114,
    "start_time": "2023-04-08T17:01:27.872Z"
   },
   {
    "duration": 43,
    "start_time": "2023-04-08T17:01:33.003Z"
   },
   {
    "duration": 166,
    "start_time": "2023-04-08T17:01:33.047Z"
   },
   {
    "duration": 29,
    "start_time": "2023-04-08T17:01:33.215Z"
   },
   {
    "duration": 90,
    "start_time": "2023-04-08T17:01:33.248Z"
   },
   {
    "duration": 36,
    "start_time": "2023-04-08T17:01:33.340Z"
   },
   {
    "duration": 47,
    "start_time": "2023-04-08T17:01:33.378Z"
   },
   {
    "duration": 58,
    "start_time": "2023-04-08T17:01:33.427Z"
   },
   {
    "duration": 17,
    "start_time": "2023-04-08T17:01:33.499Z"
   },
   {
    "duration": 33,
    "start_time": "2023-04-08T17:01:33.520Z"
   },
   {
    "duration": 13,
    "start_time": "2023-04-08T17:01:33.555Z"
   },
   {
    "duration": 15,
    "start_time": "2023-04-08T17:01:33.570Z"
   },
   {
    "duration": 54,
    "start_time": "2023-04-08T17:01:33.587Z"
   }
  ],
  "kernelspec": {
   "display_name": "Python 3 (ipykernel)",
   "language": "python",
   "name": "python3"
  },
  "language_info": {
   "codemirror_mode": {
    "name": "ipython",
    "version": 3
   },
   "file_extension": ".py",
   "mimetype": "text/x-python",
   "name": "python",
   "nbconvert_exporter": "python",
   "pygments_lexer": "ipython3",
   "version": "3.11.5"
  },
  "toc": {
   "base_numbering": 1,
   "nav_menu": {},
   "number_sections": true,
   "sideBar": true,
   "skip_h1_title": true,
   "title_cell": "Table of Contents",
   "title_sidebar": "Contents",
   "toc_cell": false,
   "toc_position": {
    "height": "calc(100% - 180px)",
    "left": "10px",
    "top": "150px",
    "width": "165px"
   },
   "toc_section_display": true,
   "toc_window_display": true
  }
 },
 "nbformat": 4,
 "nbformat_minor": 2
}
