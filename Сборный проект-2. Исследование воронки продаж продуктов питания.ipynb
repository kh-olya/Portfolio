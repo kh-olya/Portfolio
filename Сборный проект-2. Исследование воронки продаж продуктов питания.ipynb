{
 "cells": [
  {
   "cell_type": "markdown",
   "metadata": {},
   "source": [
    "# Исследование воронки продаж продуктов питания #"
   ]
  },
  {
   "cell_type": "markdown",
   "metadata": {},
   "source": [
    "# Описание проекта"
   ]
  },
  {
   "cell_type": "markdown",
   "metadata": {},
   "source": [
    "Вы работаете в стартапе, который продаёт продукты питания. Нужно разобраться, как ведут себя пользователи вашего мобильного приложения. \n",
    "\n",
    "Для этого изучим воронку продаж. Узнаем, как пользователи доходят до покупки. Сколько пользователей доходит до покупки, а сколько — «застревает» на предыдущих шагах? На каких именно?\n",
    "\n",
    "После этого исследуем результаты A/A/B-эксперимента. Дизайнеры захотели поменять шрифты во всём приложении, а менеджеры испугались, что пользователям будет непривычно. Договорились принять решение по результатам A/A/B-теста. Пользователей разбили на 3 группы: 2 контрольные со старыми шрифтами и одну экспериментальную — с новыми. Выясним, какой шрифт лучше.\n",
    "\n",
    "Создание двух групп A вместо одной имеет определённые преимущества. Если две контрольные группы окажутся равны, мы можем быть уверены в точности проведенного тестирования. Если же между значениями A и A будут существенные различия, это поможет обнаружить факторы, которые привели к искажению результатов. Сравнение контрольных групп также помогает понять, сколько времени и данных потребуется для дальнейших тестов.\n",
    "\n",
    "В случае общей аналитики и A/A/B-эксперимента работаем с одними и теми же данными."
   ]
  },
  {
   "cell_type": "markdown",
   "metadata": {},
   "source": [
    "**Описание данных**\n",
    "\n",
    "- *EventName* — название события;\n",
    "- *DeviceIDHash* — уникальный идентификатор пользователя;\n",
    "- *EventTimestamp* — время события;\n",
    "- *ExpId* — номер эксперимента: 246 и 247 — контрольные группы, а 248 — экспериментальная.\n",
    "\n",
    "Каждая запись в логе — это действие пользователя, или событие. "
   ]
  },
  {
   "cell_type": "markdown",
   "metadata": {},
   "source": [
    "## 1 шаг. Откроем файл с данными и изучим общую информацию"
   ]
  },
  {
   "cell_type": "code",
   "execution_count": 1,
   "metadata": {},
   "outputs": [],
   "source": [
    "#импорт библиотек\n",
    "import pandas as pd\n",
    "from datetime import datetime as dt, timedelta\n",
    "import seaborn as sns\n",
    "import matplotlib.pyplot as plt\n",
    "from scipy import stats as st\n",
    "import numpy as np\n",
    "import math as mth\n",
    "import plotly.express as px"
   ]
  },
  {
   "cell_type": "code",
   "execution_count": 2,
   "metadata": {},
   "outputs": [
    {
     "data": {
      "text/html": [
       "<div>\n",
       "<style scoped>\n",
       "    .dataframe tbody tr th:only-of-type {\n",
       "        vertical-align: middle;\n",
       "    }\n",
       "\n",
       "    .dataframe tbody tr th {\n",
       "        vertical-align: top;\n",
       "    }\n",
       "\n",
       "    .dataframe thead th {\n",
       "        text-align: right;\n",
       "    }\n",
       "</style>\n",
       "<table border=\"1\" class=\"dataframe\">\n",
       "  <thead>\n",
       "    <tr style=\"text-align: right;\">\n",
       "      <th></th>\n",
       "      <th>EventName</th>\n",
       "      <th>DeviceIDHash</th>\n",
       "      <th>EventTimestamp</th>\n",
       "      <th>ExpId</th>\n",
       "    </tr>\n",
       "  </thead>\n",
       "  <tbody>\n",
       "    <tr>\n",
       "      <th>0</th>\n",
       "      <td>MainScreenAppear</td>\n",
       "      <td>4575588528974610257</td>\n",
       "      <td>1564029816</td>\n",
       "      <td>246</td>\n",
       "    </tr>\n",
       "    <tr>\n",
       "      <th>1</th>\n",
       "      <td>MainScreenAppear</td>\n",
       "      <td>7416695313311560658</td>\n",
       "      <td>1564053102</td>\n",
       "      <td>246</td>\n",
       "    </tr>\n",
       "    <tr>\n",
       "      <th>2</th>\n",
       "      <td>PaymentScreenSuccessful</td>\n",
       "      <td>3518123091307005509</td>\n",
       "      <td>1564054127</td>\n",
       "      <td>248</td>\n",
       "    </tr>\n",
       "    <tr>\n",
       "      <th>3</th>\n",
       "      <td>CartScreenAppear</td>\n",
       "      <td>3518123091307005509</td>\n",
       "      <td>1564054127</td>\n",
       "      <td>248</td>\n",
       "    </tr>\n",
       "    <tr>\n",
       "      <th>4</th>\n",
       "      <td>PaymentScreenSuccessful</td>\n",
       "      <td>6217807653094995999</td>\n",
       "      <td>1564055322</td>\n",
       "      <td>248</td>\n",
       "    </tr>\n",
       "    <tr>\n",
       "      <th>5</th>\n",
       "      <td>CartScreenAppear</td>\n",
       "      <td>6217807653094995999</td>\n",
       "      <td>1564055323</td>\n",
       "      <td>248</td>\n",
       "    </tr>\n",
       "    <tr>\n",
       "      <th>6</th>\n",
       "      <td>OffersScreenAppear</td>\n",
       "      <td>8351860793733343758</td>\n",
       "      <td>1564066242</td>\n",
       "      <td>246</td>\n",
       "    </tr>\n",
       "    <tr>\n",
       "      <th>7</th>\n",
       "      <td>MainScreenAppear</td>\n",
       "      <td>5682100281902512875</td>\n",
       "      <td>1564085677</td>\n",
       "      <td>246</td>\n",
       "    </tr>\n",
       "    <tr>\n",
       "      <th>8</th>\n",
       "      <td>MainScreenAppear</td>\n",
       "      <td>1850981295691852772</td>\n",
       "      <td>1564086702</td>\n",
       "      <td>247</td>\n",
       "    </tr>\n",
       "    <tr>\n",
       "      <th>9</th>\n",
       "      <td>MainScreenAppear</td>\n",
       "      <td>5407636962369102641</td>\n",
       "      <td>1564112112</td>\n",
       "      <td>246</td>\n",
       "    </tr>\n",
       "  </tbody>\n",
       "</table>\n",
       "</div>"
      ],
      "text/plain": [
       "                 EventName         DeviceIDHash  EventTimestamp  ExpId\n",
       "0         MainScreenAppear  4575588528974610257      1564029816    246\n",
       "1         MainScreenAppear  7416695313311560658      1564053102    246\n",
       "2  PaymentScreenSuccessful  3518123091307005509      1564054127    248\n",
       "3         CartScreenAppear  3518123091307005509      1564054127    248\n",
       "4  PaymentScreenSuccessful  6217807653094995999      1564055322    248\n",
       "5         CartScreenAppear  6217807653094995999      1564055323    248\n",
       "6       OffersScreenAppear  8351860793733343758      1564066242    246\n",
       "7         MainScreenAppear  5682100281902512875      1564085677    246\n",
       "8         MainScreenAppear  1850981295691852772      1564086702    247\n",
       "9         MainScreenAppear  5407636962369102641      1564112112    246"
      ]
     },
     "metadata": {},
     "output_type": "display_data"
    }
   ],
   "source": [
    "data = pd.read_csv('/datasets/logs_exp.csv', sep = '\\t')\n",
    "display(data.head(10))"
   ]
  },
  {
   "cell_type": "code",
   "execution_count": 3,
   "metadata": {},
   "outputs": [
    {
     "name": "stdout",
     "output_type": "stream",
     "text": [
      "<class 'pandas.core.frame.DataFrame'>\n",
      "RangeIndex: 244126 entries, 0 to 244125\n",
      "Data columns (total 4 columns):\n",
      " #   Column          Non-Null Count   Dtype \n",
      "---  ------          --------------   ----- \n",
      " 0   EventName       244126 non-null  object\n",
      " 1   DeviceIDHash    244126 non-null  int64 \n",
      " 2   EventTimestamp  244126 non-null  int64 \n",
      " 3   ExpId           244126 non-null  int64 \n",
      "dtypes: int64(3), object(1)\n",
      "memory usage: 7.5+ MB\n"
     ]
    }
   ],
   "source": [
    "data.info()"
   ]
  },
  {
   "cell_type": "markdown",
   "metadata": {},
   "source": [
    "Количество значений в столбцах одинаково, значит пропусков нет."
   ]
  },
  {
   "cell_type": "markdown",
   "metadata": {},
   "source": [
    "## 2 шаг. Подготовка данных"
   ]
  },
  {
   "cell_type": "markdown",
   "metadata": {},
   "source": [
    "- Изменим названия столбцов"
   ]
  },
  {
   "cell_type": "code",
   "execution_count": 4,
   "metadata": {
    "scrolled": true
   },
   "outputs": [
    {
     "data": {
      "text/html": [
       "<div>\n",
       "<style scoped>\n",
       "    .dataframe tbody tr th:only-of-type {\n",
       "        vertical-align: middle;\n",
       "    }\n",
       "\n",
       "    .dataframe tbody tr th {\n",
       "        vertical-align: top;\n",
       "    }\n",
       "\n",
       "    .dataframe thead th {\n",
       "        text-align: right;\n",
       "    }\n",
       "</style>\n",
       "<table border=\"1\" class=\"dataframe\">\n",
       "  <thead>\n",
       "    <tr style=\"text-align: right;\">\n",
       "      <th></th>\n",
       "      <th>event_name</th>\n",
       "      <th>user_id</th>\n",
       "      <th>event_timestamp</th>\n",
       "      <th>exp_id</th>\n",
       "    </tr>\n",
       "  </thead>\n",
       "  <tbody>\n",
       "    <tr>\n",
       "      <th>0</th>\n",
       "      <td>MainScreenAppear</td>\n",
       "      <td>4575588528974610257</td>\n",
       "      <td>1564029816</td>\n",
       "      <td>246</td>\n",
       "    </tr>\n",
       "    <tr>\n",
       "      <th>1</th>\n",
       "      <td>MainScreenAppear</td>\n",
       "      <td>7416695313311560658</td>\n",
       "      <td>1564053102</td>\n",
       "      <td>246</td>\n",
       "    </tr>\n",
       "    <tr>\n",
       "      <th>2</th>\n",
       "      <td>PaymentScreenSuccessful</td>\n",
       "      <td>3518123091307005509</td>\n",
       "      <td>1564054127</td>\n",
       "      <td>248</td>\n",
       "    </tr>\n",
       "    <tr>\n",
       "      <th>3</th>\n",
       "      <td>CartScreenAppear</td>\n",
       "      <td>3518123091307005509</td>\n",
       "      <td>1564054127</td>\n",
       "      <td>248</td>\n",
       "    </tr>\n",
       "    <tr>\n",
       "      <th>4</th>\n",
       "      <td>PaymentScreenSuccessful</td>\n",
       "      <td>6217807653094995999</td>\n",
       "      <td>1564055322</td>\n",
       "      <td>248</td>\n",
       "    </tr>\n",
       "  </tbody>\n",
       "</table>\n",
       "</div>"
      ],
      "text/plain": [
       "                event_name              user_id  event_timestamp  exp_id\n",
       "0         MainScreenAppear  4575588528974610257       1564029816     246\n",
       "1         MainScreenAppear  7416695313311560658       1564053102     246\n",
       "2  PaymentScreenSuccessful  3518123091307005509       1564054127     248\n",
       "3         CartScreenAppear  3518123091307005509       1564054127     248\n",
       "4  PaymentScreenSuccessful  6217807653094995999       1564055322     248"
      ]
     },
     "execution_count": 4,
     "metadata": {},
     "output_type": "execute_result"
    }
   ],
   "source": [
    "data = data.rename(columns = {'EventName': 'event_name', 'DeviceIDHash': 'user_id', 'EventTimestamp': 'event_timestamp', \n",
    "                              'ExpId': 'exp_id'})\n",
    "data.head()#проверка"
   ]
  },
  {
   "cell_type": "markdown",
   "metadata": {},
   "source": [
    "- Преобразуем тип данных в столбце с датой и создадим новый столбец"
   ]
  },
  {
   "cell_type": "code",
   "execution_count": 5,
   "metadata": {},
   "outputs": [
    {
     "data": {
      "text/html": [
       "<div>\n",
       "<style scoped>\n",
       "    .dataframe tbody tr th:only-of-type {\n",
       "        vertical-align: middle;\n",
       "    }\n",
       "\n",
       "    .dataframe tbody tr th {\n",
       "        vertical-align: top;\n",
       "    }\n",
       "\n",
       "    .dataframe thead th {\n",
       "        text-align: right;\n",
       "    }\n",
       "</style>\n",
       "<table border=\"1\" class=\"dataframe\">\n",
       "  <thead>\n",
       "    <tr style=\"text-align: right;\">\n",
       "      <th></th>\n",
       "      <th>event_name</th>\n",
       "      <th>user_id</th>\n",
       "      <th>event_timestamp</th>\n",
       "      <th>exp_id</th>\n",
       "      <th>event_time</th>\n",
       "    </tr>\n",
       "  </thead>\n",
       "  <tbody>\n",
       "    <tr>\n",
       "      <th>0</th>\n",
       "      <td>MainScreenAppear</td>\n",
       "      <td>4575588528974610257</td>\n",
       "      <td>1564029816</td>\n",
       "      <td>246</td>\n",
       "      <td>2019-07-25 04:43:36</td>\n",
       "    </tr>\n",
       "    <tr>\n",
       "      <th>1</th>\n",
       "      <td>MainScreenAppear</td>\n",
       "      <td>7416695313311560658</td>\n",
       "      <td>1564053102</td>\n",
       "      <td>246</td>\n",
       "      <td>2019-07-25 11:11:42</td>\n",
       "    </tr>\n",
       "    <tr>\n",
       "      <th>2</th>\n",
       "      <td>PaymentScreenSuccessful</td>\n",
       "      <td>3518123091307005509</td>\n",
       "      <td>1564054127</td>\n",
       "      <td>248</td>\n",
       "      <td>2019-07-25 11:28:47</td>\n",
       "    </tr>\n",
       "    <tr>\n",
       "      <th>3</th>\n",
       "      <td>CartScreenAppear</td>\n",
       "      <td>3518123091307005509</td>\n",
       "      <td>1564054127</td>\n",
       "      <td>248</td>\n",
       "      <td>2019-07-25 11:28:47</td>\n",
       "    </tr>\n",
       "    <tr>\n",
       "      <th>4</th>\n",
       "      <td>PaymentScreenSuccessful</td>\n",
       "      <td>6217807653094995999</td>\n",
       "      <td>1564055322</td>\n",
       "      <td>248</td>\n",
       "      <td>2019-07-25 11:48:42</td>\n",
       "    </tr>\n",
       "  </tbody>\n",
       "</table>\n",
       "</div>"
      ],
      "text/plain": [
       "                event_name              user_id  event_timestamp  exp_id  \\\n",
       "0         MainScreenAppear  4575588528974610257       1564029816     246   \n",
       "1         MainScreenAppear  7416695313311560658       1564053102     246   \n",
       "2  PaymentScreenSuccessful  3518123091307005509       1564054127     248   \n",
       "3         CartScreenAppear  3518123091307005509       1564054127     248   \n",
       "4  PaymentScreenSuccessful  6217807653094995999       1564055322     248   \n",
       "\n",
       "           event_time  \n",
       "0 2019-07-25 04:43:36  \n",
       "1 2019-07-25 11:11:42  \n",
       "2 2019-07-25 11:28:47  \n",
       "3 2019-07-25 11:28:47  \n",
       "4 2019-07-25 11:48:42  "
      ]
     },
     "execution_count": 5,
     "metadata": {},
     "output_type": "execute_result"
    }
   ],
   "source": [
    "data['event_time'] = pd.to_datetime(data['event_timestamp'], unit='s')\n",
    "data.head()"
   ]
  },
  {
   "cell_type": "code",
   "execution_count": 6,
   "metadata": {},
   "outputs": [
    {
     "name": "stdout",
     "output_type": "stream",
     "text": [
      "<class 'pandas.core.frame.DataFrame'>\n",
      "RangeIndex: 244126 entries, 0 to 244125\n",
      "Data columns (total 5 columns):\n",
      " #   Column           Non-Null Count   Dtype         \n",
      "---  ------           --------------   -----         \n",
      " 0   event_name       244126 non-null  object        \n",
      " 1   user_id          244126 non-null  int64         \n",
      " 2   event_timestamp  244126 non-null  int64         \n",
      " 3   exp_id           244126 non-null  int64         \n",
      " 4   event_time       244126 non-null  datetime64[ns]\n",
      "dtypes: datetime64[ns](1), int64(3), object(1)\n",
      "memory usage: 9.3+ MB\n"
     ]
    }
   ],
   "source": [
    "data.info()#проверка"
   ]
  },
  {
   "cell_type": "markdown",
   "metadata": {},
   "source": [
    "- Добавим столбец только с датой без времени"
   ]
  },
  {
   "cell_type": "code",
   "execution_count": 7,
   "metadata": {},
   "outputs": [
    {
     "data": {
      "text/html": [
       "<div>\n",
       "<style scoped>\n",
       "    .dataframe tbody tr th:only-of-type {\n",
       "        vertical-align: middle;\n",
       "    }\n",
       "\n",
       "    .dataframe tbody tr th {\n",
       "        vertical-align: top;\n",
       "    }\n",
       "\n",
       "    .dataframe thead th {\n",
       "        text-align: right;\n",
       "    }\n",
       "</style>\n",
       "<table border=\"1\" class=\"dataframe\">\n",
       "  <thead>\n",
       "    <tr style=\"text-align: right;\">\n",
       "      <th></th>\n",
       "      <th>event_name</th>\n",
       "      <th>user_id</th>\n",
       "      <th>event_timestamp</th>\n",
       "      <th>exp_id</th>\n",
       "      <th>event_time</th>\n",
       "      <th>event_day</th>\n",
       "    </tr>\n",
       "  </thead>\n",
       "  <tbody>\n",
       "    <tr>\n",
       "      <th>0</th>\n",
       "      <td>MainScreenAppear</td>\n",
       "      <td>4575588528974610257</td>\n",
       "      <td>1564029816</td>\n",
       "      <td>246</td>\n",
       "      <td>2019-07-25 04:43:36</td>\n",
       "      <td>2019-07-25</td>\n",
       "    </tr>\n",
       "    <tr>\n",
       "      <th>1</th>\n",
       "      <td>MainScreenAppear</td>\n",
       "      <td>7416695313311560658</td>\n",
       "      <td>1564053102</td>\n",
       "      <td>246</td>\n",
       "      <td>2019-07-25 11:11:42</td>\n",
       "      <td>2019-07-25</td>\n",
       "    </tr>\n",
       "    <tr>\n",
       "      <th>2</th>\n",
       "      <td>PaymentScreenSuccessful</td>\n",
       "      <td>3518123091307005509</td>\n",
       "      <td>1564054127</td>\n",
       "      <td>248</td>\n",
       "      <td>2019-07-25 11:28:47</td>\n",
       "      <td>2019-07-25</td>\n",
       "    </tr>\n",
       "    <tr>\n",
       "      <th>3</th>\n",
       "      <td>CartScreenAppear</td>\n",
       "      <td>3518123091307005509</td>\n",
       "      <td>1564054127</td>\n",
       "      <td>248</td>\n",
       "      <td>2019-07-25 11:28:47</td>\n",
       "      <td>2019-07-25</td>\n",
       "    </tr>\n",
       "    <tr>\n",
       "      <th>4</th>\n",
       "      <td>PaymentScreenSuccessful</td>\n",
       "      <td>6217807653094995999</td>\n",
       "      <td>1564055322</td>\n",
       "      <td>248</td>\n",
       "      <td>2019-07-25 11:48:42</td>\n",
       "      <td>2019-07-25</td>\n",
       "    </tr>\n",
       "  </tbody>\n",
       "</table>\n",
       "</div>"
      ],
      "text/plain": [
       "                event_name              user_id  event_timestamp  exp_id  \\\n",
       "0         MainScreenAppear  4575588528974610257       1564029816     246   \n",
       "1         MainScreenAppear  7416695313311560658       1564053102     246   \n",
       "2  PaymentScreenSuccessful  3518123091307005509       1564054127     248   \n",
       "3         CartScreenAppear  3518123091307005509       1564054127     248   \n",
       "4  PaymentScreenSuccessful  6217807653094995999       1564055322     248   \n",
       "\n",
       "           event_time   event_day  \n",
       "0 2019-07-25 04:43:36  2019-07-25  \n",
       "1 2019-07-25 11:11:42  2019-07-25  \n",
       "2 2019-07-25 11:28:47  2019-07-25  \n",
       "3 2019-07-25 11:28:47  2019-07-25  \n",
       "4 2019-07-25 11:48:42  2019-07-25  "
      ]
     },
     "execution_count": 7,
     "metadata": {},
     "output_type": "execute_result"
    }
   ],
   "source": [
    "data['event_day'] = data['event_time'].dt.date #оставляем только дату\n",
    "data.head()"
   ]
  },
  {
   "cell_type": "code",
   "execution_count": 8,
   "metadata": {},
   "outputs": [],
   "source": [
    "data['event_day'] = pd.to_datetime(data['event_day']) #меняем тип данных на datetime"
   ]
  },
  {
   "cell_type": "code",
   "execution_count": 9,
   "metadata": {},
   "outputs": [
    {
     "name": "stdout",
     "output_type": "stream",
     "text": [
      "<class 'pandas.core.frame.DataFrame'>\n",
      "RangeIndex: 244126 entries, 0 to 244125\n",
      "Data columns (total 6 columns):\n",
      " #   Column           Non-Null Count   Dtype         \n",
      "---  ------           --------------   -----         \n",
      " 0   event_name       244126 non-null  object        \n",
      " 1   user_id          244126 non-null  int64         \n",
      " 2   event_timestamp  244126 non-null  int64         \n",
      " 3   exp_id           244126 non-null  int64         \n",
      " 4   event_time       244126 non-null  datetime64[ns]\n",
      " 5   event_day        244126 non-null  datetime64[ns]\n",
      "dtypes: datetime64[ns](2), int64(3), object(1)\n",
      "memory usage: 11.2+ MB\n"
     ]
    }
   ],
   "source": [
    "data.info()"
   ]
  },
  {
   "cell_type": "markdown",
   "metadata": {},
   "source": [
    "- Проверим, есть ли в данных дубликаты:"
   ]
  },
  {
   "cell_type": "code",
   "execution_count": 10,
   "metadata": {},
   "outputs": [
    {
     "name": "stdout",
     "output_type": "stream",
     "text": [
      "Всего дубликатов: 413\n",
      "Доля дубликатов от общего числа событий 0.0017\n"
     ]
    }
   ],
   "source": [
    "print('Всего дубликатов:', data.duplicated().sum())\n",
    "print('Доля дубликатов от общего числа событий', round(data.duplicated().sum()/data['user_id'].count(), 4))"
   ]
  },
  {
   "cell_type": "markdown",
   "metadata": {},
   "source": [
    "Обнаружили 413 дубликатов, что составляет всего лишь 00,17% от всех пользователей, поэтому можем их удалить (они могли возникнуть из-за технической ошибки)."
   ]
  },
  {
   "cell_type": "code",
   "execution_count": 11,
   "metadata": {},
   "outputs": [
    {
     "data": {
      "text/plain": [
       "0"
      ]
     },
     "execution_count": 11,
     "metadata": {},
     "output_type": "execute_result"
    }
   ],
   "source": [
    "data = data.drop_duplicates()\n",
    "data.duplicated().sum() #проверка"
   ]
  },
  {
   "cell_type": "markdown",
   "metadata": {},
   "source": [
    "- Проверим, есть ли пересечения среди групп:"
   ]
  },
  {
   "cell_type": "code",
   "execution_count": 12,
   "metadata": {},
   "outputs": [
    {
     "name": "stdout",
     "output_type": "stream",
     "text": [
      "(0, 1)\n"
     ]
    }
   ],
   "source": [
    "cross = data.groupby('user_id').agg({'exp_id':'nunique'})\n",
    "cross = cross[cross['exp_id'] > 1]\n",
    "print(cross.shape)"
   ]
  },
  {
   "cell_type": "markdown",
   "metadata": {},
   "source": [
    "Пересечений не обнаружили."
   ]
  },
  {
   "cell_type": "markdown",
   "metadata": {},
   "source": [
    "## 3 шаг. Изучим и проверим данные "
   ]
  },
  {
   "cell_type": "markdown",
   "metadata": {},
   "source": [
    "- Сколько всего событий в логе?"
   ]
  },
  {
   "cell_type": "code",
   "execution_count": 13,
   "metadata": {},
   "outputs": [
    {
     "name": "stdout",
     "output_type": "stream",
     "text": [
      "Всего событий в логе: 5\n"
     ]
    }
   ],
   "source": [
    "event_name_count = data['event_name'].nunique()\n",
    "print('Всего событий в логе:', event_name_count)"
   ]
  },
  {
   "cell_type": "code",
   "execution_count": 14,
   "metadata": {},
   "outputs": [
    {
     "name": "stdout",
     "output_type": "stream",
     "text": [
      "['MainScreenAppear' 'PaymentScreenSuccessful' 'CartScreenAppear'\n",
      " 'OffersScreenAppear' 'Tutorial']\n"
     ]
    }
   ],
   "source": [
    "event_name_which = data['event_name'].unique()\n",
    "print(event_name_which)"
   ]
  },
  {
   "cell_type": "markdown",
   "metadata": {},
   "source": [
    "У нас всего 5 событий: MainScreenAppear - появление главного экрана, PaymentScreenSuccessful - экран с подтверждением платежа, CartScreenAppear - экран корзины, OffersScreenAppear - экран предложений, Tutorial - экран с обучением (тут не уверена с переводом)."
   ]
  },
  {
   "cell_type": "markdown",
   "metadata": {},
   "source": [
    "- Сколько всего пользователей в логе?"
   ]
  },
  {
   "cell_type": "code",
   "execution_count": 15,
   "metadata": {},
   "outputs": [
    {
     "name": "stdout",
     "output_type": "stream",
     "text": [
      "Всего пользователей в логе: 7551\n"
     ]
    }
   ],
   "source": [
    "user_count = data['user_id'].nunique()\n",
    "print('Всего пользователей в логе:', user_count)"
   ]
  },
  {
   "cell_type": "markdown",
   "metadata": {},
   "source": [
    "- Сколько в среднем событий приходится на пользователя?"
   ]
  },
  {
   "cell_type": "code",
   "execution_count": 16,
   "metadata": {},
   "outputs": [
    {
     "name": "stdout",
     "output_type": "stream",
     "text": [
      "32 события в среднем приходится на пользователя.\n"
     ]
    }
   ],
   "source": [
    "avg_event = round(data['event_name'].count()/user_count)\n",
    "print(avg_event, 'события в среднем приходится на пользователя.')"
   ]
  },
  {
   "cell_type": "markdown",
   "metadata": {},
   "source": [
    "- Данными за какой период вы располагаете? Найдите максимальную и минимальную дату. Постройте гистограмму по дате и времени. Можно ли быть уверенным, что у вас одинаково полные данные за весь период? Технически в логи новых дней по некоторым пользователям могут «доезжать» события из прошлого — это может «перекашивать данные». Определите, с какого момента данные полные и отбросьте более старые. Данными за какой период времени вы располагаете на самом деле?"
   ]
  },
  {
   "cell_type": "code",
   "execution_count": 17,
   "metadata": {},
   "outputs": [
    {
     "name": "stdout",
     "output_type": "stream",
     "text": [
      "2019-07-25 00:00:00 2019-08-07 00:00:00\n"
     ]
    }
   ],
   "source": [
    "day_min = data['event_day'].min()\n",
    "day_max = data['event_day'].max()\n",
    "print(day_min, day_max)"
   ]
  },
  {
   "cell_type": "markdown",
   "metadata": {},
   "source": [
    "Мы имеем данные начиная с 25 июля 2019 года по 7 августа 2019 года."
   ]
  },
  {
   "cell_type": "markdown",
   "metadata": {},
   "source": [
    "Построим гистограмму по дате и времени."
   ]
  },
  {
   "cell_type": "code",
   "execution_count": 18,
   "metadata": {},
   "outputs": [
    {
     "data": {
      "image/png": "[encoded data removed]",
      "text/plain": [
       "<Figure size 720x360 with 1 Axes>"
      ]
     },
     "metadata": {
      "needs_background": "light"
     },
     "output_type": "display_data"
    }
   ],
   "source": [
    "data.hist('event_time', bins = 70,  figsize=(10, 5))\n",
    "\n",
    "plt.title('Гистограмма по дате и времени')\n",
    "plt.xticks(rotation=45)\n",
    "plt.xlabel('Дата') \n",
    "plt.ylabel('Количество событий');"
   ]
  },
  {
   "cell_type": "markdown",
   "metadata": {},
   "source": [
    "Мы не можем быть уверенными, что у вас одинаково полные данные за весь период. С 25 июля по 31 июля мы получали крайне мало данных, чтобы суметь их правильно проанализировать. Дейстительно мы располагаем данными лишь за первую неделю августа. "
   ]
  },
  {
   "cell_type": "code",
   "execution_count": 19,
   "metadata": {},
   "outputs": [
    {
     "name": "stdout",
     "output_type": "stream",
     "text": [
      "2019-07-25 00:00:00\n"
     ]
    }
   ],
   "source": [
    "#исключим данные за период 25 июля - 31 июля\n",
    "data_new = data[(data['event_day']>'2019-07-31')]\n",
    "day_min = data['event_day'].min()\n",
    "print(day_min)"
   ]
  },
  {
   "cell_type": "code",
   "execution_count": 20,
   "metadata": {},
   "outputs": [
    {
     "data": {
      "image/png": "[encoded data removed]",
      "text/plain": [
       "<Figure size 720x360 with 1 Axes>"
      ]
     },
     "metadata": {
      "needs_background": "light"
     },
     "output_type": "display_data"
    }
   ],
   "source": [
    "data_new.hist('event_time', bins = 70,  figsize=(10, 5))\n",
    "plt.title('Гистограмма по дате и времени')\n",
    "plt.xticks(rotation=45)\n",
    "plt.xlabel('Дата') \n",
    "plt.ylabel('Количество событий');"
   ]
  },
  {
   "cell_type": "markdown",
   "metadata": {},
   "source": [
    "По гистограмме видно, что пользователи в основном посещают мобильное приложение в дневное время."
   ]
  },
  {
   "cell_type": "markdown",
   "metadata": {},
   "source": [
    "- Много ли событий и пользователей вы потеряли, отбросив старые данные?"
   ]
  },
  {
   "cell_type": "markdown",
   "metadata": {},
   "source": [
    "Проверим какой процент событий мы отсеяли:"
   ]
  },
  {
   "cell_type": "code",
   "execution_count": 21,
   "metadata": {},
   "outputs": [
    {
     "name": "stdout",
     "output_type": "stream",
     "text": [
      "1.16% событий отсеяли.\n"
     ]
    }
   ],
   "source": [
    "event_del = (data['event_time'].count()-data_new['event_time'].count())/data['event_time'].count()\n",
    "print(f'{(event_del):.2%} событий отсеяли.')"
   ]
  },
  {
   "cell_type": "markdown",
   "metadata": {},
   "source": [
    "Отсеяли чуть больше 1 процента."
   ]
  },
  {
   "cell_type": "markdown",
   "metadata": {},
   "source": [
    "Сколько пользователей потеряли:"
   ]
  },
  {
   "cell_type": "code",
   "execution_count": 22,
   "metadata": {},
   "outputs": [
    {
     "name": "stdout",
     "output_type": "stream",
     "text": [
      "0.23% пользователей потеряли\n"
     ]
    }
   ],
   "source": [
    "users_count_new = data_new['user_id'].nunique() #кол-во пользователей после удаления данных\n",
    "\n",
    "print(f'{((user_count-users_count_new)/user_count):.2%} пользователей потеряли')"
   ]
  },
  {
   "cell_type": "markdown",
   "metadata": {},
   "source": [
    "Потеряли меньше 1 процента."
   ]
  },
  {
   "cell_type": "markdown",
   "metadata": {},
   "source": [
    "Доля отсеяных пользователей и событий мала, поэтому не повнияет на результаты эксперимента. "
   ]
  },
  {
   "cell_type": "markdown",
   "metadata": {},
   "source": [
    "- Проверьте, что у вас есть пользователи из всех трёх экспериментальных групп."
   ]
  },
  {
   "cell_type": "code",
   "execution_count": 23,
   "metadata": {},
   "outputs": [
    {
     "data": {
      "text/plain": [
       "exp_id\n",
       "246    2484\n",
       "247    2513\n",
       "248    2537\n",
       "Name: user_id, dtype: int64"
      ]
     },
     "execution_count": 23,
     "metadata": {},
     "output_type": "execute_result"
    }
   ],
   "source": [
    "data_new.groupby('exp_id')['user_id'].agg('nunique')"
   ]
  },
  {
   "cell_type": "markdown",
   "metadata": {},
   "source": [
    "Есть пользователи из всех трех экспериментальных групп и их количество примерно одинаково."
   ]
  },
  {
   "cell_type": "code",
   "execution_count": 24,
   "metadata": {},
   "outputs": [],
   "source": [
    "data = data_new #переименуем таблицу с данными"
   ]
  },
  {
   "cell_type": "markdown",
   "metadata": {},
   "source": [
    "## 4  шаг. Изучите воронку событий"
   ]
  },
  {
   "cell_type": "markdown",
   "metadata": {},
   "source": [
    "- Посмотрите, какие события есть в логах, как часто они встречаются. Отсортируйте события по частоте."
   ]
  },
  {
   "cell_type": "code",
   "execution_count": 25,
   "metadata": {},
   "outputs": [
    {
     "data": {
      "text/html": [
       "<div>\n",
       "<style scoped>\n",
       "    .dataframe tbody tr th:only-of-type {\n",
       "        vertical-align: middle;\n",
       "    }\n",
       "\n",
       "    .dataframe tbody tr th {\n",
       "        vertical-align: top;\n",
       "    }\n",
       "\n",
       "    .dataframe thead th {\n",
       "        text-align: right;\n",
       "    }\n",
       "</style>\n",
       "<table border=\"1\" class=\"dataframe\">\n",
       "  <thead>\n",
       "    <tr style=\"text-align: right;\">\n",
       "      <th></th>\n",
       "      <th>count_event</th>\n",
       "    </tr>\n",
       "    <tr>\n",
       "      <th>event_name</th>\n",
       "      <th></th>\n",
       "    </tr>\n",
       "  </thead>\n",
       "  <tbody>\n",
       "    <tr>\n",
       "      <th>MainScreenAppear</th>\n",
       "      <td>117328</td>\n",
       "    </tr>\n",
       "    <tr>\n",
       "      <th>OffersScreenAppear</th>\n",
       "      <td>46333</td>\n",
       "    </tr>\n",
       "    <tr>\n",
       "      <th>CartScreenAppear</th>\n",
       "      <td>42303</td>\n",
       "    </tr>\n",
       "    <tr>\n",
       "      <th>PaymentScreenSuccessful</th>\n",
       "      <td>33918</td>\n",
       "    </tr>\n",
       "    <tr>\n",
       "      <th>Tutorial</th>\n",
       "      <td>1005</td>\n",
       "    </tr>\n",
       "  </tbody>\n",
       "</table>\n",
       "</div>"
      ],
      "text/plain": [
       "                         count_event\n",
       "event_name                          \n",
       "MainScreenAppear              117328\n",
       "OffersScreenAppear             46333\n",
       "CartScreenAppear               42303\n",
       "PaymentScreenSuccessful        33918\n",
       "Tutorial                        1005"
      ]
     },
     "execution_count": 25,
     "metadata": {},
     "output_type": "execute_result"
    }
   ],
   "source": [
    "events = data.groupby('event_name')['user_id'].agg('count')\n",
    "events = pd.DataFrame(events).sort_values(by = 'user_id', ascending = False)\n",
    "events = events.rename(columns = {'user_id': 'count_event'})\n",
    "events"
   ]
  },
  {
   "cell_type": "code",
   "execution_count": 26,
   "metadata": {},
   "outputs": [
    {
     "data": {
      "image/png": "[encoded data removed]",
      "text/plain": [
       "<Figure size 432x288 with 1 Axes>"
      ]
     },
     "metadata": {
      "needs_background": "light"
     },
     "output_type": "display_data"
    }
   ],
   "source": [
    "events.plot(kind='bar', title = 'Воронка продаж');\n",
    "plt.xticks(rotation=45)\n",
    "plt.xlabel('Событие') \n",
    "plt.ylabel('Частота');"
   ]
  },
  {
   "cell_type": "markdown",
   "metadata": {},
   "source": [
    "Наиболее часто встречается событие 'Появление главного экрана'"
   ]
  },
  {
   "cell_type": "markdown",
   "metadata": {},
   "source": [
    "- Посчитайте, сколько пользователей совершали каждое из этих событий. Отсортируйте события по числу пользователей. Посчитайте долю пользователей, которые хоть раз совершали событие."
   ]
  },
  {
   "cell_type": "markdown",
   "metadata": {},
   "source": [
    "Добавим в таблицу event_name долю пользователей, которые хоть раз совершали это событие:"
   ]
  },
  {
   "cell_type": "code",
   "execution_count": 27,
   "metadata": {},
   "outputs": [
    {
     "data": {
      "text/html": [
       "<div>\n",
       "<style scoped>\n",
       "    .dataframe tbody tr th:only-of-type {\n",
       "        vertical-align: middle;\n",
       "    }\n",
       "\n",
       "    .dataframe tbody tr th {\n",
       "        vertical-align: top;\n",
       "    }\n",
       "\n",
       "    .dataframe thead th {\n",
       "        text-align: right;\n",
       "    }\n",
       "</style>\n",
       "<table border=\"1\" class=\"dataframe\">\n",
       "  <thead>\n",
       "    <tr style=\"text-align: right;\">\n",
       "      <th></th>\n",
       "      <th>count_event</th>\n",
       "      <th>user_id</th>\n",
       "      <th>user_share</th>\n",
       "    </tr>\n",
       "    <tr>\n",
       "      <th>event_name</th>\n",
       "      <th></th>\n",
       "      <th></th>\n",
       "      <th></th>\n",
       "    </tr>\n",
       "  </thead>\n",
       "  <tbody>\n",
       "    <tr>\n",
       "      <th>MainScreenAppear</th>\n",
       "      <td>117328</td>\n",
       "      <td>7419</td>\n",
       "      <td>0.98</td>\n",
       "    </tr>\n",
       "    <tr>\n",
       "      <th>OffersScreenAppear</th>\n",
       "      <td>46333</td>\n",
       "      <td>4593</td>\n",
       "      <td>0.61</td>\n",
       "    </tr>\n",
       "    <tr>\n",
       "      <th>CartScreenAppear</th>\n",
       "      <td>42303</td>\n",
       "      <td>3734</td>\n",
       "      <td>0.50</td>\n",
       "    </tr>\n",
       "    <tr>\n",
       "      <th>PaymentScreenSuccessful</th>\n",
       "      <td>33918</td>\n",
       "      <td>3539</td>\n",
       "      <td>0.47</td>\n",
       "    </tr>\n",
       "    <tr>\n",
       "      <th>Tutorial</th>\n",
       "      <td>1005</td>\n",
       "      <td>840</td>\n",
       "      <td>0.11</td>\n",
       "    </tr>\n",
       "  </tbody>\n",
       "</table>\n",
       "</div>"
      ],
      "text/plain": [
       "                         count_event  user_id  user_share\n",
       "event_name                                               \n",
       "MainScreenAppear              117328     7419        0.98\n",
       "OffersScreenAppear             46333     4593        0.61\n",
       "CartScreenAppear               42303     3734        0.50\n",
       "PaymentScreenSuccessful        33918     3539        0.47\n",
       "Tutorial                        1005      840        0.11"
      ]
     },
     "execution_count": 27,
     "metadata": {},
     "output_type": "execute_result"
    }
   ],
   "source": [
    "count_user = data['user_id'].nunique() #всего уникальных пользователей\n",
    "#print(count_user)\n",
    "events['user_id'] = data.groupby('event_name')['user_id'].agg('nunique') #кол-во уникальных пользователей в каждом событии\n",
    "\n",
    "events['user_share'] = round(events['user_id']/count_user, 2)\n",
    "events"
   ]
  },
  {
   "cell_type": "markdown",
   "metadata": {},
   "source": [
    "Видим, что первый экран хотя бы раз посетили 0.98 пользователей, этот показатель не 1, те некоторые пользователи могли сразу переходить на другие экраны по сторонней ссылке. Самый маленький показатель составил 0.11 у Tutorial."
   ]
  },
  {
   "cell_type": "markdown",
   "metadata": {},
   "source": [
    "- Предположите, в каком порядке происходят события. Все ли они выстраиваются в последовательную цепочку? Их не нужно учитывать при расчёте воронки."
   ]
  },
  {
   "cell_type": "markdown",
   "metadata": {},
   "source": [
    "Цепочка для большинства пользователей: MainScreenAppear => OffersScreenAppear => CartScreenAppear => PaymentScreenSuccessful\n",
    "\n",
    "Tutorial, я считаю, что открывают вне цепочки, когда пользователи что-то не понятно о работе приложения."
   ]
  },
  {
   "cell_type": "markdown",
   "metadata": {},
   "source": [
    "- По воронке событий посчитайте, какая доля пользователей проходит на следующий шаг воронки (от числа пользователей на предыдущем). То есть для последовательности событий A → B → C посчитайте отношение числа пользователей с событием B к количеству пользователей с событием A, а также отношение числа пользователей с событием C к количеству пользователей с событием B."
   ]
  },
  {
   "cell_type": "code",
   "execution_count": 28,
   "metadata": {},
   "outputs": [
    {
     "data": {
      "text/html": [
       "<div>\n",
       "<style scoped>\n",
       "    .dataframe tbody tr th:only-of-type {\n",
       "        vertical-align: middle;\n",
       "    }\n",
       "\n",
       "    .dataframe tbody tr th {\n",
       "        vertical-align: top;\n",
       "    }\n",
       "\n",
       "    .dataframe thead th {\n",
       "        text-align: right;\n",
       "    }\n",
       "</style>\n",
       "<table border=\"1\" class=\"dataframe\">\n",
       "  <thead>\n",
       "    <tr style=\"text-align: right;\">\n",
       "      <th></th>\n",
       "      <th>count_event</th>\n",
       "      <th>user_id</th>\n",
       "      <th>user_share</th>\n",
       "      <th>funnel</th>\n",
       "    </tr>\n",
       "    <tr>\n",
       "      <th>event_name</th>\n",
       "      <th></th>\n",
       "      <th></th>\n",
       "      <th></th>\n",
       "      <th></th>\n",
       "    </tr>\n",
       "  </thead>\n",
       "  <tbody>\n",
       "    <tr>\n",
       "      <th>MainScreenAppear</th>\n",
       "      <td>117328</td>\n",
       "      <td>7419</td>\n",
       "      <td>0.98</td>\n",
       "      <td>NaN</td>\n",
       "    </tr>\n",
       "    <tr>\n",
       "      <th>OffersScreenAppear</th>\n",
       "      <td>46333</td>\n",
       "      <td>4593</td>\n",
       "      <td>0.61</td>\n",
       "      <td>0.619086</td>\n",
       "    </tr>\n",
       "    <tr>\n",
       "      <th>CartScreenAppear</th>\n",
       "      <td>42303</td>\n",
       "      <td>3734</td>\n",
       "      <td>0.50</td>\n",
       "      <td>0.812976</td>\n",
       "    </tr>\n",
       "    <tr>\n",
       "      <th>PaymentScreenSuccessful</th>\n",
       "      <td>33918</td>\n",
       "      <td>3539</td>\n",
       "      <td>0.47</td>\n",
       "      <td>0.947777</td>\n",
       "    </tr>\n",
       "  </tbody>\n",
       "</table>\n",
       "</div>"
      ],
      "text/plain": [
       "                         count_event  user_id  user_share    funnel\n",
       "event_name                                                         \n",
       "MainScreenAppear              117328     7419        0.98       NaN\n",
       "OffersScreenAppear             46333     4593        0.61  0.619086\n",
       "CartScreenAppear               42303     3734        0.50  0.812976\n",
       "PaymentScreenSuccessful        33918     3539        0.47  0.947777"
      ]
     },
     "execution_count": 28,
     "metadata": {},
     "output_type": "execute_result"
    }
   ],
   "source": [
    "events['funnel'] = events['user_id']/events['user_id'].shift(1)\n",
    "events = events.drop(['Tutorial'], axis = 0) #удалим строку Tutorial, тк она не входит в воронку\n",
    "events"
   ]
  },
  {
   "cell_type": "markdown",
   "metadata": {},
   "source": [
    "- На каком шаге теряете больше всего пользователей?"
   ]
  },
  {
   "cell_type": "markdown",
   "metadata": {},
   "source": [
    "Больше всего пользователей теряем при переходе с главного экрана на экран предложения. Меньше всего при оплате."
   ]
  },
  {
   "cell_type": "markdown",
   "metadata": {},
   "source": [
    "- Какая доля пользователей доходит от первого события до оплаты?"
   ]
  },
  {
   "cell_type": "code",
   "execution_count": 29,
   "metadata": {},
   "outputs": [
    {
     "name": "stdout",
     "output_type": "stream",
     "text": [
      "0.48 - доля пользователей дошедших от первого события до оплаты\n"
     ]
    }
   ],
   "source": [
    "print(round(events['user_id']['PaymentScreenSuccessful']/events['user_id']['MainScreenAppear'], 2), \n",
    "      '- доля пользователей дошедших от первого события до оплаты' )\n",
    "\n"
   ]
  },
  {
   "cell_type": "markdown",
   "metadata": {},
   "source": [
    "## 5 шаг. Изучите результаты эксперимента"
   ]
  },
  {
   "cell_type": "markdown",
   "metadata": {},
   "source": [
    "- Сколько пользователей в каждой экспериментальной группе? "
   ]
  },
  {
   "cell_type": "code",
   "execution_count": 30,
   "metadata": {},
   "outputs": [
    {
     "data": {
      "text/html": [
       "<div>\n",
       "<style scoped>\n",
       "    .dataframe tbody tr th:only-of-type {\n",
       "        vertical-align: middle;\n",
       "    }\n",
       "\n",
       "    .dataframe tbody tr th {\n",
       "        vertical-align: top;\n",
       "    }\n",
       "\n",
       "    .dataframe thead th {\n",
       "        text-align: right;\n",
       "    }\n",
       "</style>\n",
       "<table border=\"1\" class=\"dataframe\">\n",
       "  <thead>\n",
       "    <tr style=\"text-align: right;\">\n",
       "      <th></th>\n",
       "      <th>user_id</th>\n",
       "    </tr>\n",
       "    <tr>\n",
       "      <th>exp_id</th>\n",
       "      <th></th>\n",
       "    </tr>\n",
       "  </thead>\n",
       "  <tbody>\n",
       "    <tr>\n",
       "      <th>246</th>\n",
       "      <td>2484</td>\n",
       "    </tr>\n",
       "    <tr>\n",
       "      <th>247</th>\n",
       "      <td>2513</td>\n",
       "    </tr>\n",
       "    <tr>\n",
       "      <th>248</th>\n",
       "      <td>2537</td>\n",
       "    </tr>\n",
       "  </tbody>\n",
       "</table>\n",
       "</div>"
      ],
      "text/plain": [
       "        user_id\n",
       "exp_id         \n",
       "246        2484\n",
       "247        2513\n",
       "248        2537"
      ]
     },
     "execution_count": 30,
     "metadata": {},
     "output_type": "execute_result"
    }
   ],
   "source": [
    "exp_an = data.groupby('exp_id')['user_id'].agg('nunique')\n",
    "exp_an = pd.DataFrame(exp_an)\n",
    "exp_an"
   ]
  },
  {
   "cell_type": "markdown",
   "metadata": {},
   "source": [
    "В каждой группе примерно 2500 пользователей."
   ]
  },
  {
   "cell_type": "markdown",
   "metadata": {},
   "source": [
    "- Есть 2 контрольные группы для А/А-эксперимента, чтобы проверить корректность всех механизмов и расчётов. Проверьте, находят ли статистические критерии разницу между выборками 246 и 247."
   ]
  },
  {
   "cell_type": "markdown",
   "metadata": {},
   "source": [
    "Сравним конверсии между выборками 246 и 247. Для начала узнаем, сколько пользователей в каждой группе посетило главный экран и сколько пользователей в каждой группе дошли до окна с успешной оплатой:"
   ]
  },
  {
   "cell_type": "code",
   "execution_count": 31,
   "metadata": {},
   "outputs": [],
   "source": [
    "total_246 = data.query(\"exp_id == 246 & event_name == 'MainScreenAppear'\")['user_id'].nunique()\n",
    "total_247 = data.query(\"exp_id == 247 & event_name == 'MainScreenAppear'\")['user_id'].nunique()\n",
    "pay_246 = data.query(\"exp_id == 246 & event_name == 'PaymentScreenSuccessful'\")['user_id'].nunique()\n",
    "pay_247 = data.query(\"exp_id == 247 & event_name == 'PaymentScreenSuccessful'\")['user_id'].nunique()\n",
    "#print(pay_246, pay_247)"
   ]
  },
  {
   "cell_type": "markdown",
   "metadata": {},
   "source": [
    "Посмотрим равна ли конверсия выборок 246 и 247 с помошью z-теста для долей сравнив доли пользователей из каждой группы. За критический уровень статистической значимости примем alpha = .05.\n",
    "\n",
    "Н0: Доли пользователей, сделавших заказ в обоих группах одинаковы.\n",
    "\n",
    "Н1: Доли пользователей, сделавших заказ в обоих группах разные."
   ]
  },
  {
   "cell_type": "code",
   "execution_count": 32,
   "metadata": {},
   "outputs": [],
   "source": [
    "alpha = .05 # критический уровень статистической значимости\n",
    "\n",
    "successes = np.array([pay_246, pay_247])\n",
    "trials = np.array([total_246, total_247])\n",
    "\n",
    "# пропорция успехов в первой группе:\n",
    "p1 = successes[0]/trials[0]\n",
    "\n",
    "# пропорция успехов во второй группе:\n",
    "p2 = successes[1]/trials[1]\n",
    "\n",
    "# пропорция успехов в комбинированном датасете:\n",
    "p_combined = (successes[0] + successes[1]) / (trials[0] + trials[1])\n",
    "\n",
    "# разница пропорций в датасетах\n",
    "difference = p1 - p2 "
   ]
  },
  {
   "cell_type": "code",
   "execution_count": 33,
   "metadata": {},
   "outputs": [],
   "source": [
    "# считаем статистику в ст.отклонениях стандартного нормального распределения\n",
    "z_value = difference / mth.sqrt(p_combined * (1 - p_combined) * (1/trials[0] + 1/trials[1]))\n",
    "\n",
    "# задаем стандартное нормальное распределение (среднее 0, ст.отклонение 1)\n",
    "distr = st.norm(0, 1) "
   ]
  },
  {
   "cell_type": "markdown",
   "metadata": {},
   "source": [
    "Если бы пропорции были равны, разница между ними была бы равна нулю. Посчитаем, как далеко статистика уехала от нуля. Какова вероятность получить такое отличие или больше?"
   ]
  },
  {
   "cell_type": "code",
   "execution_count": 34,
   "metadata": {},
   "outputs": [
    {
     "name": "stdout",
     "output_type": "stream",
     "text": [
      "p-значение:  0.12044299485641763\n",
      "Не получилось отвергнуть нулевую гипотезу, нет оснований считать доли разными\n"
     ]
    }
   ],
   "source": [
    "p_value = (1 - distr.cdf(abs(z_value))) * 2\n",
    "\n",
    "print('p-значение: ', p_value)\n",
    "\n",
    "if p_value < alpha:\n",
    "    print('Отвергаем нулевую гипотезу: между долями есть значимая разница')\n",
    "else:\n",
    "    print(\n",
    "        'Не получилось отвергнуть нулевую гипотезу, нет оснований считать доли разными'\n",
    "    )"
   ]
  },
  {
   "cell_type": "markdown",
   "metadata": {},
   "source": [
    "Вывод: между выборками 246 и 247 нет статистически значимых различий."
   ]
  },
  {
   "cell_type": "markdown",
   "metadata": {},
   "source": [
    "- Выберите самое популярное событие. Посчитайте число пользователей, совершивших это событие в каждой из контрольных групп. Посчитайте долю пользователей, совершивших это событие. Проверьте, будет ли отличие между группами статистически достоверным. Проделайте то же самое для всех других событий (удобно обернуть проверку в отдельную функцию). Можно ли сказать, что разбиение на группы работает корректно?"
   ]
  },
  {
   "cell_type": "markdown",
   "metadata": {},
   "source": [
    "Самое популярное событие: MainScreenAppear."
   ]
  },
  {
   "cell_type": "markdown",
   "metadata": {},
   "source": [
    "Число пользователей совершившее событие MainScreenAppear в каждой из контрольных групп (сюда же добавила и экспериментальную, чтобы не делать отдельную таблицу со всеми тремя группами):"
   ]
  },
  {
   "cell_type": "code",
   "execution_count": 35,
   "metadata": {},
   "outputs": [
    {
     "data": {
      "text/html": [
       "<div>\n",
       "<style scoped>\n",
       "    .dataframe tbody tr th:only-of-type {\n",
       "        vertical-align: middle;\n",
       "    }\n",
       "\n",
       "    .dataframe tbody tr th {\n",
       "        vertical-align: top;\n",
       "    }\n",
       "\n",
       "    .dataframe thead th {\n",
       "        text-align: right;\n",
       "    }\n",
       "</style>\n",
       "<table border=\"1\" class=\"dataframe\">\n",
       "  <thead>\n",
       "    <tr style=\"text-align: right;\">\n",
       "      <th></th>\n",
       "      <th>user_id</th>\n",
       "      <th>user_id_main</th>\n",
       "    </tr>\n",
       "    <tr>\n",
       "      <th>exp_id</th>\n",
       "      <th></th>\n",
       "      <th></th>\n",
       "    </tr>\n",
       "  </thead>\n",
       "  <tbody>\n",
       "    <tr>\n",
       "      <th>246</th>\n",
       "      <td>2484</td>\n",
       "      <td>2450</td>\n",
       "    </tr>\n",
       "    <tr>\n",
       "      <th>247</th>\n",
       "      <td>2513</td>\n",
       "      <td>2476</td>\n",
       "    </tr>\n",
       "    <tr>\n",
       "      <th>248</th>\n",
       "      <td>2537</td>\n",
       "      <td>2493</td>\n",
       "    </tr>\n",
       "  </tbody>\n",
       "</table>\n",
       "</div>"
      ],
      "text/plain": [
       "        user_id  user_id_main\n",
       "exp_id                       \n",
       "246        2484          2450\n",
       "247        2513          2476\n",
       "248        2537          2493"
      ]
     },
     "execution_count": 35,
     "metadata": {},
     "output_type": "execute_result"
    }
   ],
   "source": [
    "exp_an['user_id_main'] = data.query(\"event_name == 'MainScreenAppear'\").groupby('exp_id')['user_id'].agg('nunique')\n",
    "exp_an"
   ]
  },
  {
   "cell_type": "markdown",
   "metadata": {},
   "source": [
    "Доля пользователей, посетивших главный экран от общего числа пользователей:"
   ]
  },
  {
   "cell_type": "code",
   "execution_count": 36,
   "metadata": {},
   "outputs": [
    {
     "data": {
      "text/html": [
       "<div>\n",
       "<style scoped>\n",
       "    .dataframe tbody tr th:only-of-type {\n",
       "        vertical-align: middle;\n",
       "    }\n",
       "\n",
       "    .dataframe tbody tr th {\n",
       "        vertical-align: top;\n",
       "    }\n",
       "\n",
       "    .dataframe thead th {\n",
       "        text-align: right;\n",
       "    }\n",
       "</style>\n",
       "<table border=\"1\" class=\"dataframe\">\n",
       "  <thead>\n",
       "    <tr style=\"text-align: right;\">\n",
       "      <th></th>\n",
       "      <th>user_id</th>\n",
       "      <th>user_id_main</th>\n",
       "      <th>user_id_main_share</th>\n",
       "    </tr>\n",
       "    <tr>\n",
       "      <th>exp_id</th>\n",
       "      <th></th>\n",
       "      <th></th>\n",
       "      <th></th>\n",
       "    </tr>\n",
       "  </thead>\n",
       "  <tbody>\n",
       "    <tr>\n",
       "      <th>246</th>\n",
       "      <td>2484</td>\n",
       "      <td>2450</td>\n",
       "      <td>0.99</td>\n",
       "    </tr>\n",
       "    <tr>\n",
       "      <th>247</th>\n",
       "      <td>2513</td>\n",
       "      <td>2476</td>\n",
       "      <td>0.99</td>\n",
       "    </tr>\n",
       "    <tr>\n",
       "      <th>248</th>\n",
       "      <td>2537</td>\n",
       "      <td>2493</td>\n",
       "      <td>0.98</td>\n",
       "    </tr>\n",
       "  </tbody>\n",
       "</table>\n",
       "</div>"
      ],
      "text/plain": [
       "        user_id  user_id_main  user_id_main_share\n",
       "exp_id                                           \n",
       "246        2484          2450                0.99\n",
       "247        2513          2476                0.99\n",
       "248        2537          2493                0.98"
      ]
     },
     "execution_count": 36,
     "metadata": {},
     "output_type": "execute_result"
    }
   ],
   "source": [
    "exp_an['user_id_main_share'] = round(exp_an['user_id_main']/exp_an['user_id'], 2)\n",
    "exp_an"
   ]
  },
  {
   "cell_type": "markdown",
   "metadata": {},
   "source": [
    "Доля пользователей совершивших это событие примерно одинакова."
   ]
  },
  {
   "cell_type": "markdown",
   "metadata": {},
   "source": [
    "Проверим, будет ли отличие между группами статистически достоверным.\n",
    "\n",
    "Н0: Доли пользователей, перешедших на первый экран в обоих группах равны.\n",
    "\n",
    "Н1: Доли пользователей, перешедших на первый экран в обоих группах не равны."
   ]
  },
  {
   "cell_type": "code",
   "execution_count": 37,
   "metadata": {},
   "outputs": [
    {
     "name": "stdout",
     "output_type": "stream",
     "text": [
      "p-значение:  0.7570597232046099\n",
      "Не получилось отвергнуть нулевую гипотезу, нет оснований считать доли разными\n"
     ]
    }
   ],
   "source": [
    "alpha = .05 # критический уровень статистической значимости\n",
    "\n",
    "successes = np.array([exp_an['user_id_main'][246], exp_an['user_id_main'][247]])\n",
    "trials = np.array([exp_an['user_id'][246], exp_an['user_id'][247]])\n",
    "\n",
    "# пропорция успехов в первой группе:\n",
    "p1 = successes[0]/trials[0]\n",
    "\n",
    "# пропорция успехов во второй группе:\n",
    "p2 = successes[1]/trials[1]\n",
    "\n",
    "# пропорция успехов в комбинированном датасете:\n",
    "p_combined = (successes[0] + successes[1]) / (trials[0] + trials[1])\n",
    "\n",
    "# разница пропорций в датасетах\n",
    "difference = p1 - p2\n",
    "\n",
    "# считаем статистику в ст.отклонениях стандартного нормального распределения\n",
    "z_value = difference / mth.sqrt(p_combined * (1 - p_combined) * (1/trials[0] + 1/trials[1]))\n",
    "\n",
    "# задаем стандартное нормальное распределение (среднее 0, ст.отклонение 1)\n",
    "distr = st.norm(0, 1) \n",
    "\n",
    "p_value = (1 - distr.cdf(abs(z_value))) * 2\n",
    "\n",
    "print('p-значение: ', p_value)\n",
    "\n",
    "if p_value < alpha:\n",
    "    print('Отвергаем нулевую гипотезу: между долями есть значимая разница')\n",
    "else:\n",
    "    print(\n",
    "        'Не получилось отвергнуть нулевую гипотезу, нет оснований считать доли разными'\n",
    "    )"
   ]
  },
  {
   "cell_type": "markdown",
   "metadata": {},
   "source": [
    "Доли пользователей посетивших главный экран одинаковы."
   ]
  },
  {
   "cell_type": "markdown",
   "metadata": {},
   "source": [
    "Проделайте то же самое для всех других событий (удобно обернуть проверку в отдельную функцию). Можно ли сказать, что разбиение на группы работает корректно?\n",
    "\n",
    "\n",
    "Н0: Доли пользователей обоих группах равны\n",
    "\n",
    "Н1: Доли пользователей обоих группах не равны"
   ]
  },
  {
   "cell_type": "code",
   "execution_count": 38,
   "metadata": {},
   "outputs": [],
   "source": [
    "def z_test(alpha, total_1, total_2, n1, n2):\n",
    "    alpha = alpha # критический уровень статистической значимости\n",
    "\n",
    "    successes = np.array([n1, n2])\n",
    "    trials = np.array([total_1, total_2])\n",
    "\n",
    "    # пропорция успехов в первой группе:\n",
    "    p1 = successes[0]/trials[0]\n",
    "\n",
    "    # пропорция успехов во второй группе:\n",
    "    p2 = successes[1]/trials[1]\n",
    "\n",
    "    # пропорция успехов в комбинированном датасете:\n",
    "    p_combined = (successes[0] + successes[1]) / (trials[0] + trials[1])\n",
    "\n",
    "    # разница пропорций в датасетах\n",
    "    difference = p1 - p2\n",
    "\n",
    "    # считаем статистику в ст.отклонениях стандартного нормального распределения\n",
    "    z_value = difference / mth.sqrt(p_combined * (1 - p_combined) * (1/trials[0] + 1/trials[1]))\n",
    "\n",
    "    # задаем стандартное нормальное распределение (среднее 0, ст.отклонение 1)\n",
    "    distr = st.norm(0, 1) \n",
    "\n",
    "    p_value = (1 - distr.cdf(abs(z_value))) * 2\n",
    "\n",
    "\n",
    "    print('p-значение: ', p_value)\n",
    "\n",
    "    if p_value < alpha:\n",
    "        print('Отвергаем нулевую гипотезу: между долями есть значимая разница')\n",
    "    else:\n",
    "         print(\n",
    "        'Не получилось отвергнуть нулевую гипотезу, нет оснований считать доли разными'\n",
    "    )\n"
   ]
  },
  {
   "cell_type": "markdown",
   "metadata": {},
   "source": [
    "Сделаем общую таблицу для проведения z-теста для долей:"
   ]
  },
  {
   "cell_type": "code",
   "execution_count": 39,
   "metadata": {},
   "outputs": [
    {
     "data": {
      "text/html": [
       "<div>\n",
       "<style scoped>\n",
       "    .dataframe tbody tr th:only-of-type {\n",
       "        vertical-align: middle;\n",
       "    }\n",
       "\n",
       "    .dataframe tbody tr th {\n",
       "        vertical-align: top;\n",
       "    }\n",
       "\n",
       "    .dataframe thead th {\n",
       "        text-align: right;\n",
       "    }\n",
       "</style>\n",
       "<table border=\"1\" class=\"dataframe\">\n",
       "  <thead>\n",
       "    <tr style=\"text-align: right;\">\n",
       "      <th></th>\n",
       "      <th>user_id</th>\n",
       "      <th>user_id_main</th>\n",
       "      <th>user_id_off</th>\n",
       "      <th>user_id_cart</th>\n",
       "      <th>user_id_pay</th>\n",
       "    </tr>\n",
       "    <tr>\n",
       "      <th>exp_id</th>\n",
       "      <th></th>\n",
       "      <th></th>\n",
       "      <th></th>\n",
       "      <th></th>\n",
       "      <th></th>\n",
       "    </tr>\n",
       "  </thead>\n",
       "  <tbody>\n",
       "    <tr>\n",
       "      <th>246</th>\n",
       "      <td>2484</td>\n",
       "      <td>2450</td>\n",
       "      <td>1542</td>\n",
       "      <td>1266</td>\n",
       "      <td>1200</td>\n",
       "    </tr>\n",
       "    <tr>\n",
       "      <th>247</th>\n",
       "      <td>2513</td>\n",
       "      <td>2476</td>\n",
       "      <td>1520</td>\n",
       "      <td>1238</td>\n",
       "      <td>1158</td>\n",
       "    </tr>\n",
       "    <tr>\n",
       "      <th>248</th>\n",
       "      <td>2537</td>\n",
       "      <td>2493</td>\n",
       "      <td>1531</td>\n",
       "      <td>1230</td>\n",
       "      <td>1181</td>\n",
       "    </tr>\n",
       "  </tbody>\n",
       "</table>\n",
       "</div>"
      ],
      "text/plain": [
       "        user_id  user_id_main  user_id_off  user_id_cart  user_id_pay\n",
       "exp_id                                                               \n",
       "246        2484          2450         1542          1266         1200\n",
       "247        2513          2476         1520          1238         1158\n",
       "248        2537          2493         1531          1230         1181"
      ]
     },
     "execution_count": 39,
     "metadata": {},
     "output_type": "execute_result"
    }
   ],
   "source": [
    "total_ex = exp_an.drop(['user_id_main_share'], axis = 1)\n",
    "total_ex['user_id_off'] = data.query(\"event_name == 'OffersScreenAppear'\").groupby('exp_id')['user_id'].agg('nunique')\n",
    "total_ex['user_id_cart'] = data.query(\"event_name == 'CartScreenAppear'\").groupby('exp_id')['user_id'].agg('nunique')\n",
    "total_ex['user_id_pay'] = data.query(\"event_name == 'PaymentScreenSuccessful'\").groupby('exp_id')['user_id'].agg('nunique')\n",
    "total_ex"
   ]
  },
  {
   "cell_type": "markdown",
   "metadata": {},
   "source": [
    "Проведем z-тест для проверки статистически значимых различий для переходов к OffersScreenAppear, CartScreenAppear, PaymentScreenSuccessful:"
   ]
  },
  {
   "cell_type": "code",
   "execution_count": 40,
   "metadata": {},
   "outputs": [
    {
     "name": "stdout",
     "output_type": "stream",
     "text": [
      "['user_id', 'user_id_main', 'user_id_off', 'user_id_cart', 'user_id_pay']\n"
     ]
    }
   ],
   "source": [
    "column_title = total_ex.columns.values.tolist()\n",
    "print(column_title)"
   ]
  },
  {
   "cell_type": "code",
   "execution_count": 41,
   "metadata": {},
   "outputs": [
    {
     "name": "stdout",
     "output_type": "stream",
     "text": [
      "Для переходов к OffersScreenAppear:\n",
      "p-значение:  0.2480954578522181\n",
      "Не получилось отвергнуть нулевую гипотезу, нет оснований считать доли разными\n",
      "\n",
      "Для переходов к CartScreenAppear:\n",
      "p-значение:  0.22883372237997213\n",
      "Не получилось отвергнуть нулевую гипотезу, нет оснований считать доли разными\n",
      "\n",
      "Для переходов к PaymentScreenSuccessful:\n",
      "p-значение:  0.11456679313141849\n",
      "Не получилось отвергнуть нулевую гипотезу, нет оснований считать доли разными\n",
      "\n"
     ]
    }
   ],
   "source": [
    "column_dict = {'user_id_off': 'OffersScreenAppear', 'user_id_cart': 'CartScreenAppear', 'user_id_pay': 'PaymentScreenSuccessful'}\n",
    "\n",
    "for column in column_dict:\n",
    "    print(f'Для переходов к {column_dict[column]}:')\n",
    "    z_test(.05, total_ex['user_id'][246], total_ex['user_id'][247], total_ex[column][246], total_ex[column][247])\n",
    "    print('')"
   ]
  },
  {
   "cell_type": "markdown",
   "metadata": {},
   "source": [
    "Приходим к выводу, что выборки 246 и 247 статистически равны и разбиение на группы работает корректно."
   ]
  },
  {
   "cell_type": "markdown",
   "metadata": {},
   "source": [
    "- Аналогично поступите с группой с изменённым шрифтом. Сравните результаты с каждой из контрольных групп в отдельности по каждому событию. Сравните результаты с объединённой контрольной группой. Какие выводы из эксперимента можно сделать?"
   ]
  },
  {
   "cell_type": "markdown",
   "metadata": {},
   "source": [
    "z-тест для долей для групп 246 и 248:"
   ]
  },
  {
   "cell_type": "code",
   "execution_count": 42,
   "metadata": {},
   "outputs": [
    {
     "name": "stdout",
     "output_type": "stream",
     "text": [
      "Для переходов к MainScreenAppear:\n",
      "p-значение:  0.2949721933554552\n",
      "Не получилось отвергнуть нулевую гипотезу, нет оснований считать доли разными\n",
      "\n",
      "Для переходов к OffersScreenAppear:\n",
      "p-значение:  0.20836205402738917\n",
      "Не получилось отвергнуть нулевую гипотезу, нет оснований считать доли разными\n",
      "\n",
      "Для переходов к CartScreenAppear:\n",
      "p-значение:  0.07842923237520116\n",
      "Не получилось отвергнуть нулевую гипотезу, нет оснований считать доли разными\n",
      "\n",
      "Для переходов к PaymentScreenSuccessful:\n",
      "p-значение:  0.2122553275697796\n",
      "Не получилось отвергнуть нулевую гипотезу, нет оснований считать доли разными\n",
      "\n"
     ]
    }
   ],
   "source": [
    "column_dict = {'user_id_main': 'MainScreenAppear', 'user_id_off': 'OffersScreenAppear', 'user_id_cart': 'CartScreenAppear', 'user_id_pay': 'PaymentScreenSuccessful'}\n",
    "\n",
    "for column in column_dict:\n",
    "    print(f'Для переходов к {column_dict[column]}:')\n",
    "    z_test(.05, total_ex['user_id'][246], total_ex['user_id'][248], total_ex[column][246], total_ex[column][248])\n",
    "    print('')"
   ]
  },
  {
   "cell_type": "markdown",
   "metadata": {},
   "source": [
    "z-тест для долей для групп 247 и 248:"
   ]
  },
  {
   "cell_type": "code",
   "execution_count": 43,
   "metadata": {},
   "outputs": [
    {
     "name": "stdout",
     "output_type": "stream",
     "text": [
      "Для переходов к MainScreenAppear:\n",
      "p-значение:  0.4587053616621515\n",
      "Не получилось отвергнуть нулевую гипотезу, нет оснований считать доли разными\n",
      "\n",
      "Для переходов к OffersScreenAppear:\n",
      "p-значение:  0.9197817830592261\n",
      "Не получилось отвергнуть нулевую гипотезу, нет оснований считать доли разными\n",
      "\n",
      "Для переходов к CartScreenAppear:\n",
      "p-значение:  0.5786197879539783\n",
      "Не получилось отвергнуть нулевую гипотезу, нет оснований считать доли разными\n",
      "\n",
      "Для переходов к PaymentScreenSuccessful:\n",
      "p-значение:  0.7373415053803964\n",
      "Не получилось отвергнуть нулевую гипотезу, нет оснований считать доли разными\n",
      "\n"
     ]
    }
   ],
   "source": [
    "column_dict = {'user_id_main': 'MainScreenAppear', 'user_id_off': 'OffersScreenAppear', 'user_id_cart': 'CartScreenAppear', 'user_id_pay': 'PaymentScreenSuccessful'}\n",
    "\n",
    "for column in column_dict:\n",
    "    print(f'Для переходов к {column_dict[column]}:')\n",
    "    z_test(.05, total_ex['user_id'][247], total_ex['user_id'][248], total_ex[column][247], total_ex[column][248])\n",
    "    print('')"
   ]
  },
  {
   "cell_type": "markdown",
   "metadata": {},
   "source": [
    "z-тест для долей для объедененной контрольной группы и 248:"
   ]
  },
  {
   "cell_type": "code",
   "execution_count": 44,
   "metadata": {},
   "outputs": [
    {
     "name": "stdout",
     "output_type": "stream",
     "text": [
      "Для переходов к MainScreenAppear:\n",
      "p-значение:  0.29424526837179577\n",
      "Не получилось отвергнуть нулевую гипотезу, нет оснований считать доли разными\n",
      "\n",
      "Для переходов к OffersScreenAppear:\n",
      "p-значение:  0.43425549655188256\n",
      "Не получилось отвергнуть нулевую гипотезу, нет оснований считать доли разными\n",
      "\n",
      "Для переходов к CartScreenAppear:\n",
      "p-значение:  0.18175875284404386\n",
      "Не получилось отвергнуть нулевую гипотезу, нет оснований считать доли разными\n",
      "\n",
      "Для переходов к PaymentScreenSuccessful:\n",
      "p-значение:  0.6004294282308704\n",
      "Не получилось отвергнуть нулевую гипотезу, нет оснований считать доли разными\n",
      "\n"
     ]
    }
   ],
   "source": [
    "column_dict = {'user_id_main': 'MainScreenAppear', 'user_id_off': 'OffersScreenAppear', 'user_id_cart': 'CartScreenAppear', 'user_id_pay': 'PaymentScreenSuccessful'}\n",
    "\n",
    "for column in column_dict:\n",
    "    print(f'Для переходов к {column_dict[column]}:')\n",
    "    z_test(.05, total_ex['user_id'][246]+total_ex['user_id'][247], total_ex['user_id'][248], total_ex[column][246]+total_ex[column][247], total_ex[column][248])\n",
    "    print('')"
   ]
  },
  {
   "cell_type": "markdown",
   "metadata": {},
   "source": [
    "Конверсия пользователей у группы с измеренным шрифтом от группы до апгрейта не изменилась, суммирование контрольных групп не привело к измерению результатов."
   ]
  },
  {
   "cell_type": "markdown",
   "metadata": {},
   "source": [
    "- Какой уровень значимости вы выбрали при проверке статистических гипотез выше? Посчитайте, сколько проверок статистических гипотез вы сделали. При уровне значимости 0.1 каждый десятый раз можно получать ложный результат. Какой уровень значимости стоит применить? Если вы хотите изменить его, проделайте предыдущие пункты и проверьте свои выводы."
   ]
  },
  {
   "cell_type": "markdown",
   "metadata": {},
   "source": [
    "При проверке статистических гипотез выше был выбран уровень статистической значимости равным alpha = .05. Всего было сделано 17 проверок статистических гипотез. При моем уровне значимости каждый  20 раз можно получать ложный результат, таким образом результаты теста будут достовернее. "
   ]
  },
  {
   "cell_type": "markdown",
   "metadata": {},
   "source": [
    "## Вывод: \n",
    "\n",
    "В ходе работы изучили воронку продаж. Путь до покупки у большинства пользователей имеет следующий вид: MainScreenAppear => OffersScreenAppear => CartScreenAppear => PaymentScreenSuccessful. Доля пользователей дошедших от первого события до оплаты составила 0.48. Больше всего пользователей теряем при переходе с главного экрана на экран предложения. Меньше всего при оплате.\n",
    "\n",
    "Для исследования A/A/B-эксперимента провели z-тест для проверки статистически значимых различий для переходов к OffersScreenAppear, CartScreenAppear, PaymentScreenSuccessfu. В рузельтате пришли к выводу, что изменение шрифта не повлияло на конверсию пользователей."
   ]
  }
 ],
 "metadata": {
  "ExecuteTimeLog": [
   {
    "duration": 463,
    "start_time": "2023-02-12T19:18:28.507Z"
   },
   {
    "duration": 51,
    "start_time": "2023-02-12T19:19:01.723Z"
   },
   {
    "duration": 676,
    "start_time": "2023-02-12T19:19:29.960Z"
   },
   {
    "duration": 336,
    "start_time": "2023-02-12T19:26:11.495Z"
   },
   {
    "duration": 89,
    "start_time": "2023-02-12T19:27:58.487Z"
   },
   {
    "duration": 8,
    "start_time": "2023-02-12T19:28:03.713Z"
   },
   {
    "duration": 168,
    "start_time": "2023-02-12T19:28:13.625Z"
   },
   {
    "duration": 27,
    "start_time": "2023-02-12T19:28:57.949Z"
   },
   {
    "duration": 22,
    "start_time": "2023-02-12T19:38:02.477Z"
   },
   {
    "duration": 21,
    "start_time": "2023-02-12T19:38:14.028Z"
   },
   {
    "duration": 13,
    "start_time": "2023-02-12T19:41:06.954Z"
   },
   {
    "duration": 103,
    "start_time": "2023-02-12T19:43:21.818Z"
   },
   {
    "duration": 127,
    "start_time": "2023-02-12T19:43:34.439Z"
   },
   {
    "duration": 119,
    "start_time": "2023-02-12T19:44:24.019Z"
   },
   {
    "duration": 111,
    "start_time": "2023-02-12T19:44:30.009Z"
   },
   {
    "duration": 103,
    "start_time": "2023-02-12T19:44:39.001Z"
   },
   {
    "duration": 20,
    "start_time": "2023-02-12T19:44:49.264Z"
   },
   {
    "duration": 188,
    "start_time": "2023-02-12T19:45:34.439Z"
   },
   {
    "duration": 437,
    "start_time": "2023-02-12T19:45:47.214Z"
   },
   {
    "duration": 186,
    "start_time": "2023-02-12T19:45:47.654Z"
   },
   {
    "duration": 20,
    "start_time": "2023-02-12T19:45:47.842Z"
   },
   {
    "duration": 15,
    "start_time": "2023-02-12T19:45:47.865Z"
   },
   {
    "duration": 18,
    "start_time": "2023-02-12T19:45:47.882Z"
   },
   {
    "duration": 20,
    "start_time": "2023-02-12T19:47:20.184Z"
   },
   {
    "duration": 57,
    "start_time": "2023-02-12T19:47:25.796Z"
   },
   {
    "duration": 452,
    "start_time": "2023-02-12T19:47:38.396Z"
   },
   {
    "duration": 170,
    "start_time": "2023-02-12T19:47:38.851Z"
   },
   {
    "duration": 26,
    "start_time": "2023-02-12T19:47:39.025Z"
   },
   {
    "duration": 14,
    "start_time": "2023-02-12T19:47:39.053Z"
   },
   {
    "duration": 29,
    "start_time": "2023-02-12T19:47:39.068Z"
   },
   {
    "duration": 20,
    "start_time": "2023-02-12T19:51:14.333Z"
   },
   {
    "duration": 69,
    "start_time": "2023-02-12T19:54:23.131Z"
   },
   {
    "duration": 732,
    "start_time": "2023-02-12T19:57:26.804Z"
   },
   {
    "duration": 76,
    "start_time": "2023-02-12T19:57:44.098Z"
   },
   {
    "duration": 18,
    "start_time": "2023-02-12T19:57:56.836Z"
   },
   {
    "duration": 106,
    "start_time": "2023-02-12T19:59:17.659Z"
   },
   {
    "duration": 7,
    "start_time": "2023-02-12T20:02:41.040Z"
   },
   {
    "duration": 45,
    "start_time": "2023-02-12T20:03:01.658Z"
   },
   {
    "duration": 30,
    "start_time": "2023-02-12T20:03:28.414Z"
   },
   {
    "duration": 26,
    "start_time": "2023-02-12T20:04:21.827Z"
   },
   {
    "duration": 18,
    "start_time": "2023-02-12T20:04:30.424Z"
   },
   {
    "duration": 7,
    "start_time": "2023-02-12T20:11:57.621Z"
   },
   {
    "duration": 7,
    "start_time": "2023-02-12T20:12:08.573Z"
   },
   {
    "duration": 55,
    "start_time": "2023-02-12T20:12:33.273Z"
   },
   {
    "duration": 7,
    "start_time": "2023-02-12T20:12:37.256Z"
   },
   {
    "duration": 27,
    "start_time": "2023-02-12T20:14:14.109Z"
   },
   {
    "duration": 29,
    "start_time": "2023-02-12T20:14:21.854Z"
   },
   {
    "duration": 17,
    "start_time": "2023-02-12T20:14:47.804Z"
   },
   {
    "duration": 14,
    "start_time": "2023-02-12T20:15:06.850Z"
   },
   {
    "duration": 11,
    "start_time": "2023-02-12T20:15:36.447Z"
   },
   {
    "duration": 12,
    "start_time": "2023-02-12T20:15:41.401Z"
   },
   {
    "duration": 19,
    "start_time": "2023-02-12T20:17:55.933Z"
   },
   {
    "duration": 27,
    "start_time": "2023-02-12T20:18:32.508Z"
   },
   {
    "duration": 887,
    "start_time": "2023-02-12T20:20:51.618Z"
   },
   {
    "duration": 81,
    "start_time": "2023-02-12T20:22:53.093Z"
   },
   {
    "duration": 4,
    "start_time": "2023-02-12T20:23:30.353Z"
   },
   {
    "duration": 18,
    "start_time": "2023-02-12T20:23:34.832Z"
   },
   {
    "duration": 20,
    "start_time": "2023-02-12T20:24:17.172Z"
   },
   {
    "duration": 120,
    "start_time": "2023-02-12T20:24:58.449Z"
   },
   {
    "duration": 138,
    "start_time": "2023-02-12T20:26:15.139Z"
   },
   {
    "duration": 184,
    "start_time": "2023-02-12T20:26:24.528Z"
   },
   {
    "duration": 297,
    "start_time": "2023-02-12T20:26:37.792Z"
   },
   {
    "duration": 209,
    "start_time": "2023-02-12T20:27:08.501Z"
   },
   {
    "duration": 12,
    "start_time": "2023-02-12T20:30:38.246Z"
   },
   {
    "duration": 206,
    "start_time": "2023-02-12T20:30:53.180Z"
   },
   {
    "duration": 212,
    "start_time": "2023-02-12T20:31:16.997Z"
   },
   {
    "duration": 199,
    "start_time": "2023-02-12T20:31:25.712Z"
   },
   {
    "duration": 265,
    "start_time": "2023-02-12T20:32:58.331Z"
   },
   {
    "duration": 218,
    "start_time": "2023-02-12T20:33:08.971Z"
   },
   {
    "duration": 50,
    "start_time": "2023-02-12T20:47:57.844Z"
   },
   {
    "duration": 22,
    "start_time": "2023-02-12T20:51:17.462Z"
   },
   {
    "duration": 97,
    "start_time": "2023-02-12T20:52:07.208Z"
   },
   {
    "duration": 1251,
    "start_time": "2023-02-12T20:52:23.027Z"
   },
   {
    "duration": 194,
    "start_time": "2023-02-12T20:52:24.280Z"
   },
   {
    "duration": 25,
    "start_time": "2023-02-12T20:52:24.476Z"
   },
   {
    "duration": 34,
    "start_time": "2023-02-12T20:52:24.503Z"
   },
   {
    "duration": 20,
    "start_time": "2023-02-12T20:52:24.540Z"
   },
   {
    "duration": 21,
    "start_time": "2023-02-12T20:52:24.562Z"
   },
   {
    "duration": 122,
    "start_time": "2023-02-12T20:52:24.585Z"
   },
   {
    "duration": 41,
    "start_time": "2023-02-12T20:52:24.708Z"
   },
   {
    "duration": 19,
    "start_time": "2023-02-12T20:52:24.751Z"
   },
   {
    "duration": 13,
    "start_time": "2023-02-12T20:52:24.772Z"
   },
   {
    "duration": 19,
    "start_time": "2023-02-12T20:52:24.786Z"
   },
   {
    "duration": 33,
    "start_time": "2023-02-12T20:52:24.807Z"
   },
   {
    "duration": 303,
    "start_time": "2023-02-12T20:52:24.842Z"
   },
   {
    "duration": 15,
    "start_time": "2023-02-12T20:52:25.147Z"
   },
   {
    "duration": 81,
    "start_time": "2023-02-12T20:52:39.908Z"
   },
   {
    "duration": 117,
    "start_time": "2023-02-12T20:52:52.579Z"
   },
   {
    "duration": 293,
    "start_time": "2023-02-12T20:54:28.838Z"
   },
   {
    "duration": 3,
    "start_time": "2023-02-12T20:55:26.498Z"
   },
   {
    "duration": 180,
    "start_time": "2023-02-12T20:55:35.838Z"
   },
   {
    "duration": 1300,
    "start_time": "2023-02-12T20:56:22.568Z"
   },
   {
    "duration": 181,
    "start_time": "2023-02-12T20:56:23.870Z"
   },
   {
    "duration": 22,
    "start_time": "2023-02-12T20:56:24.053Z"
   },
   {
    "duration": 16,
    "start_time": "2023-02-12T20:56:24.079Z"
   },
   {
    "duration": 50,
    "start_time": "2023-02-12T20:56:24.098Z"
   },
   {
    "duration": 30,
    "start_time": "2023-02-12T20:56:24.150Z"
   },
   {
    "duration": 877,
    "start_time": "2023-02-12T20:56:24.182Z"
   },
   {
    "duration": 0,
    "start_time": "2023-02-12T20:56:25.061Z"
   },
   {
    "duration": 0,
    "start_time": "2023-02-12T20:56:25.063Z"
   },
   {
    "duration": 0,
    "start_time": "2023-02-12T20:56:25.065Z"
   },
   {
    "duration": 0,
    "start_time": "2023-02-12T20:56:25.067Z"
   },
   {
    "duration": 1,
    "start_time": "2023-02-12T20:56:25.069Z"
   },
   {
    "duration": 0,
    "start_time": "2023-02-12T20:56:25.077Z"
   },
   {
    "duration": 0,
    "start_time": "2023-02-12T20:56:25.079Z"
   },
   {
    "duration": 982,
    "start_time": "2023-02-12T21:01:29.972Z"
   },
   {
    "duration": 1188,
    "start_time": "2023-02-12T21:15:57.001Z"
   },
   {
    "duration": 200,
    "start_time": "2023-02-12T21:15:58.191Z"
   },
   {
    "duration": 27,
    "start_time": "2023-02-12T21:15:58.393Z"
   },
   {
    "duration": 25,
    "start_time": "2023-02-12T21:15:58.424Z"
   },
   {
    "duration": 25,
    "start_time": "2023-02-12T21:15:58.451Z"
   },
   {
    "duration": 54,
    "start_time": "2023-02-12T21:15:58.478Z"
   },
   {
    "duration": 43,
    "start_time": "2023-02-12T21:15:58.534Z"
   },
   {
    "duration": 56,
    "start_time": "2023-02-12T21:15:58.580Z"
   },
   {
    "duration": 27,
    "start_time": "2023-02-12T21:15:58.639Z"
   },
   {
    "duration": 10,
    "start_time": "2023-02-12T21:15:58.669Z"
   },
   {
    "duration": 18,
    "start_time": "2023-02-12T21:15:58.681Z"
   },
   {
    "duration": 36,
    "start_time": "2023-02-12T21:15:58.700Z"
   },
   {
    "duration": 318,
    "start_time": "2023-02-12T21:15:58.739Z"
   },
   {
    "duration": 17,
    "start_time": "2023-02-12T21:15:59.059Z"
   },
   {
    "duration": 12,
    "start_time": "2023-02-12T21:16:25.777Z"
   },
   {
    "duration": 1214,
    "start_time": "2023-02-12T21:16:40.102Z"
   },
   {
    "duration": 177,
    "start_time": "2023-02-12T21:16:41.319Z"
   },
   {
    "duration": 23,
    "start_time": "2023-02-12T21:16:41.498Z"
   },
   {
    "duration": 15,
    "start_time": "2023-02-12T21:16:41.536Z"
   },
   {
    "duration": 40,
    "start_time": "2023-02-12T21:16:41.553Z"
   },
   {
    "duration": 30,
    "start_time": "2023-02-12T21:16:41.595Z"
   },
   {
    "duration": 46,
    "start_time": "2023-02-12T21:16:41.636Z"
   },
   {
    "duration": 9,
    "start_time": "2023-02-12T21:16:41.685Z"
   },
   {
    "duration": 61,
    "start_time": "2023-02-12T21:16:41.696Z"
   },
   {
    "duration": 30,
    "start_time": "2023-02-12T21:16:41.760Z"
   },
   {
    "duration": 27,
    "start_time": "2023-02-12T21:16:41.792Z"
   },
   {
    "duration": 25,
    "start_time": "2023-02-12T21:16:41.822Z"
   },
   {
    "duration": 17,
    "start_time": "2023-02-12T21:16:41.849Z"
   },
   {
    "duration": 375,
    "start_time": "2023-02-12T21:16:41.868Z"
   },
   {
    "duration": 24,
    "start_time": "2023-02-12T21:16:42.246Z"
   },
   {
    "duration": 29,
    "start_time": "2023-02-12T21:17:45.785Z"
   },
   {
    "duration": 10,
    "start_time": "2023-02-12T21:17:47.582Z"
   },
   {
    "duration": 108,
    "start_time": "2023-02-12T21:23:05.312Z"
   },
   {
    "duration": 120,
    "start_time": "2023-02-12T21:30:02.060Z"
   },
   {
    "duration": 14,
    "start_time": "2023-02-12T21:30:42.370Z"
   },
   {
    "duration": 1236,
    "start_time": "2023-02-12T21:31:17.875Z"
   },
   {
    "duration": 193,
    "start_time": "2023-02-12T21:31:19.114Z"
   },
   {
    "duration": 37,
    "start_time": "2023-02-12T21:31:19.310Z"
   },
   {
    "duration": 18,
    "start_time": "2023-02-12T21:31:19.350Z"
   },
   {
    "duration": 28,
    "start_time": "2023-02-12T21:31:19.372Z"
   },
   {
    "duration": 46,
    "start_time": "2023-02-12T21:31:19.402Z"
   },
   {
    "duration": 122,
    "start_time": "2023-02-12T21:31:19.450Z"
   },
   {
    "duration": 0,
    "start_time": "2023-02-12T21:31:19.574Z"
   },
   {
    "duration": 0,
    "start_time": "2023-02-12T21:31:19.575Z"
   },
   {
    "duration": 0,
    "start_time": "2023-02-12T21:31:19.577Z"
   },
   {
    "duration": 0,
    "start_time": "2023-02-12T21:31:19.578Z"
   },
   {
    "duration": 0,
    "start_time": "2023-02-12T21:31:19.579Z"
   },
   {
    "duration": 0,
    "start_time": "2023-02-12T21:31:19.580Z"
   },
   {
    "duration": 0,
    "start_time": "2023-02-12T21:31:19.581Z"
   },
   {
    "duration": 0,
    "start_time": "2023-02-12T21:31:19.583Z"
   },
   {
    "duration": 20,
    "start_time": "2023-02-12T21:35:53.606Z"
   },
   {
    "duration": 18,
    "start_time": "2023-02-12T21:36:17.536Z"
   },
   {
    "duration": 726,
    "start_time": "2023-02-12T21:36:31.143Z"
   },
   {
    "duration": 1255,
    "start_time": "2023-02-12T21:36:53.406Z"
   },
   {
    "duration": 177,
    "start_time": "2023-02-12T21:36:54.664Z"
   },
   {
    "duration": 22,
    "start_time": "2023-02-12T21:36:54.843Z"
   },
   {
    "duration": 28,
    "start_time": "2023-02-12T21:36:54.867Z"
   },
   {
    "duration": 47,
    "start_time": "2023-02-12T21:36:54.898Z"
   },
   {
    "duration": 30,
    "start_time": "2023-02-12T21:36:54.947Z"
   },
   {
    "duration": 122,
    "start_time": "2023-02-12T21:36:54.978Z"
   },
   {
    "duration": 0,
    "start_time": "2023-02-12T21:36:55.102Z"
   },
   {
    "duration": 0,
    "start_time": "2023-02-12T21:36:55.104Z"
   },
   {
    "duration": 0,
    "start_time": "2023-02-12T21:36:55.105Z"
   },
   {
    "duration": 0,
    "start_time": "2023-02-12T21:36:55.106Z"
   },
   {
    "duration": 0,
    "start_time": "2023-02-12T21:36:55.107Z"
   },
   {
    "duration": 0,
    "start_time": "2023-02-12T21:36:55.109Z"
   },
   {
    "duration": 0,
    "start_time": "2023-02-12T21:36:55.109Z"
   },
   {
    "duration": 0,
    "start_time": "2023-02-12T21:36:55.110Z"
   },
   {
    "duration": 139,
    "start_time": "2023-02-12T21:40:49.227Z"
   },
   {
    "duration": 86,
    "start_time": "2023-02-12T21:41:05.029Z"
   },
   {
    "duration": 55,
    "start_time": "2023-02-12T21:43:09.871Z"
   },
   {
    "duration": 15,
    "start_time": "2023-02-12T21:43:22.359Z"
   },
   {
    "duration": 31,
    "start_time": "2023-02-12T21:43:31.502Z"
   },
   {
    "duration": 40,
    "start_time": "2023-02-12T21:44:33.247Z"
   },
   {
    "duration": 28,
    "start_time": "2023-02-12T21:44:34.409Z"
   },
   {
    "duration": 10,
    "start_time": "2023-02-12T21:44:41.876Z"
   },
   {
    "duration": 19,
    "start_time": "2023-02-12T21:44:45.442Z"
   },
   {
    "duration": 7,
    "start_time": "2023-02-12T21:44:48.842Z"
   },
   {
    "duration": 1392,
    "start_time": "2023-02-12T21:45:09.589Z"
   },
   {
    "duration": 182,
    "start_time": "2023-02-12T21:45:10.983Z"
   },
   {
    "duration": 21,
    "start_time": "2023-02-12T21:45:11.166Z"
   },
   {
    "duration": 31,
    "start_time": "2023-02-12T21:45:11.189Z"
   },
   {
    "duration": 27,
    "start_time": "2023-02-12T21:45:11.224Z"
   },
   {
    "duration": 145,
    "start_time": "2023-02-12T21:45:11.253Z"
   },
   {
    "duration": 165,
    "start_time": "2023-02-12T21:45:11.400Z"
   },
   {
    "duration": 47,
    "start_time": "2023-02-12T21:45:11.568Z"
   },
   {
    "duration": 60,
    "start_time": "2023-02-12T21:45:11.617Z"
   },
   {
    "duration": 40,
    "start_time": "2023-02-12T21:45:11.679Z"
   },
   {
    "duration": 19,
    "start_time": "2023-02-12T21:45:11.721Z"
   },
   {
    "duration": 39,
    "start_time": "2023-02-12T21:45:11.742Z"
   },
   {
    "duration": 19,
    "start_time": "2023-02-12T21:45:11.783Z"
   },
   {
    "duration": 27,
    "start_time": "2023-02-12T21:45:11.805Z"
   },
   {
    "duration": 303,
    "start_time": "2023-02-12T21:45:11.834Z"
   },
   {
    "duration": 14,
    "start_time": "2023-02-12T21:45:12.139Z"
   },
   {
    "duration": 113,
    "start_time": "2023-02-12T21:46:16.470Z"
   },
   {
    "duration": 12,
    "start_time": "2023-02-12T21:46:47.197Z"
   },
   {
    "duration": 6,
    "start_time": "2023-02-12T21:47:27.508Z"
   },
   {
    "duration": 1138,
    "start_time": "2023-02-12T21:49:11.837Z"
   },
   {
    "duration": 170,
    "start_time": "2023-02-12T21:49:12.977Z"
   },
   {
    "duration": 18,
    "start_time": "2023-02-12T21:49:13.149Z"
   },
   {
    "duration": 12,
    "start_time": "2023-02-12T21:49:13.169Z"
   },
   {
    "duration": 16,
    "start_time": "2023-02-12T21:49:13.183Z"
   },
   {
    "duration": 46,
    "start_time": "2023-02-12T21:49:13.201Z"
   },
   {
    "duration": 98,
    "start_time": "2023-02-12T21:49:13.248Z"
   },
   {
    "duration": 53,
    "start_time": "2023-02-12T21:49:13.348Z"
   },
   {
    "duration": 46,
    "start_time": "2023-02-12T21:49:13.404Z"
   },
   {
    "duration": 31,
    "start_time": "2023-02-12T21:49:13.452Z"
   },
   {
    "duration": 19,
    "start_time": "2023-02-12T21:49:13.485Z"
   },
   {
    "duration": 36,
    "start_time": "2023-02-12T21:49:13.506Z"
   },
   {
    "duration": 11,
    "start_time": "2023-02-12T21:49:13.544Z"
   },
   {
    "duration": 8,
    "start_time": "2023-02-12T21:49:13.558Z"
   },
   {
    "duration": 319,
    "start_time": "2023-02-12T21:49:13.568Z"
   },
   {
    "duration": 15,
    "start_time": "2023-02-12T21:49:13.889Z"
   },
   {
    "duration": 204,
    "start_time": "2023-02-12T21:50:07.287Z"
   },
   {
    "duration": 48,
    "start_time": "2023-02-13T07:16:45.326Z"
   },
   {
    "duration": 1308,
    "start_time": "2023-02-13T07:16:50.457Z"
   },
   {
    "duration": 769,
    "start_time": "2023-02-13T07:16:51.767Z"
   },
   {
    "duration": 20,
    "start_time": "2023-02-13T07:16:52.538Z"
   },
   {
    "duration": 37,
    "start_time": "2023-02-13T07:16:52.560Z"
   },
   {
    "duration": 16,
    "start_time": "2023-02-13T07:16:52.599Z"
   },
   {
    "duration": 19,
    "start_time": "2023-02-13T07:16:52.617Z"
   },
   {
    "duration": 82,
    "start_time": "2023-02-13T07:16:52.637Z"
   },
   {
    "duration": 39,
    "start_time": "2023-02-13T07:16:52.727Z"
   },
   {
    "duration": 24,
    "start_time": "2023-02-13T07:16:52.767Z"
   },
   {
    "duration": 45,
    "start_time": "2023-02-13T07:16:52.795Z"
   },
   {
    "duration": 18,
    "start_time": "2023-02-13T07:16:52.842Z"
   },
   {
    "duration": 8,
    "start_time": "2023-02-13T07:16:52.862Z"
   },
   {
    "duration": 32,
    "start_time": "2023-02-13T07:16:52.871Z"
   },
   {
    "duration": 8,
    "start_time": "2023-02-13T07:16:52.905Z"
   },
   {
    "duration": 303,
    "start_time": "2023-02-13T07:16:52.915Z"
   },
   {
    "duration": 18,
    "start_time": "2023-02-13T07:16:53.220Z"
   },
   {
    "duration": 205,
    "start_time": "2023-02-13T07:24:01.622Z"
   },
   {
    "duration": 287,
    "start_time": "2023-02-13T07:25:17.278Z"
   },
   {
    "duration": 294,
    "start_time": "2023-02-13T07:25:34.252Z"
   },
   {
    "duration": 1238,
    "start_time": "2023-02-13T07:25:49.532Z"
   },
   {
    "duration": 170,
    "start_time": "2023-02-13T07:25:50.772Z"
   },
   {
    "duration": 21,
    "start_time": "2023-02-13T07:25:50.944Z"
   },
   {
    "duration": 14,
    "start_time": "2023-02-13T07:25:50.967Z"
   },
   {
    "duration": 23,
    "start_time": "2023-02-13T07:25:50.982Z"
   },
   {
    "duration": 21,
    "start_time": "2023-02-13T07:25:51.027Z"
   },
   {
    "duration": 96,
    "start_time": "2023-02-13T07:25:51.050Z"
   },
   {
    "duration": 47,
    "start_time": "2023-02-13T07:25:51.148Z"
   },
   {
    "duration": 35,
    "start_time": "2023-02-13T07:25:51.196Z"
   },
   {
    "duration": 33,
    "start_time": "2023-02-13T07:25:51.234Z"
   },
   {
    "duration": 20,
    "start_time": "2023-02-13T07:25:51.269Z"
   },
   {
    "duration": 41,
    "start_time": "2023-02-13T07:25:51.290Z"
   },
   {
    "duration": 11,
    "start_time": "2023-02-13T07:25:51.333Z"
   },
   {
    "duration": 10,
    "start_time": "2023-02-13T07:25:51.346Z"
   },
   {
    "duration": 469,
    "start_time": "2023-02-13T07:25:51.358Z"
   },
   {
    "duration": 14,
    "start_time": "2023-02-13T07:25:51.829Z"
   },
   {
    "duration": 280,
    "start_time": "2023-02-13T07:26:40.908Z"
   },
   {
    "duration": 1114,
    "start_time": "2023-02-13T07:36:36.356Z"
   },
   {
    "duration": 159,
    "start_time": "2023-02-13T07:36:37.472Z"
   },
   {
    "duration": 21,
    "start_time": "2023-02-13T07:36:37.633Z"
   },
   {
    "duration": 14,
    "start_time": "2023-02-13T07:36:37.655Z"
   },
   {
    "duration": 21,
    "start_time": "2023-02-13T07:36:37.671Z"
   },
   {
    "duration": 41,
    "start_time": "2023-02-13T07:36:37.694Z"
   },
   {
    "duration": 76,
    "start_time": "2023-02-13T07:36:37.737Z"
   },
   {
    "duration": 38,
    "start_time": "2023-02-13T07:36:37.828Z"
   },
   {
    "duration": 20,
    "start_time": "2023-02-13T07:36:37.867Z"
   },
   {
    "duration": 49,
    "start_time": "2023-02-13T07:36:37.889Z"
   },
   {
    "duration": 18,
    "start_time": "2023-02-13T07:36:37.940Z"
   },
   {
    "duration": 7,
    "start_time": "2023-02-13T07:36:37.960Z"
   },
   {
    "duration": 11,
    "start_time": "2023-02-13T07:36:37.968Z"
   },
   {
    "duration": 6,
    "start_time": "2023-02-13T07:36:37.982Z"
   },
   {
    "duration": 389,
    "start_time": "2023-02-13T07:36:37.990Z"
   },
   {
    "duration": 13,
    "start_time": "2023-02-13T07:36:38.381Z"
   },
   {
    "duration": 305,
    "start_time": "2023-02-13T07:36:38.395Z"
   },
   {
    "duration": 100,
    "start_time": "2023-02-13T07:38:57.267Z"
   },
   {
    "duration": 5,
    "start_time": "2023-02-13T07:39:05.807Z"
   },
   {
    "duration": 5,
    "start_time": "2023-02-13T07:40:00.854Z"
   },
   {
    "duration": 75,
    "start_time": "2023-02-13T07:44:22.754Z"
   },
   {
    "duration": 7,
    "start_time": "2023-02-13T07:47:29.084Z"
   },
   {
    "duration": 6,
    "start_time": "2023-02-13T07:49:10.092Z"
   },
   {
    "duration": 5,
    "start_time": "2023-02-13T07:50:54.557Z"
   },
   {
    "duration": 83,
    "start_time": "2023-02-13T07:51:10.271Z"
   },
   {
    "duration": 72,
    "start_time": "2023-02-13T07:51:17.192Z"
   },
   {
    "duration": 74,
    "start_time": "2023-02-13T07:51:20.247Z"
   },
   {
    "duration": 5,
    "start_time": "2023-02-13T07:51:23.959Z"
   },
   {
    "duration": 5,
    "start_time": "2023-02-13T07:51:54.140Z"
   },
   {
    "duration": 73,
    "start_time": "2023-02-13T07:53:44.622Z"
   },
   {
    "duration": 70,
    "start_time": "2023-02-13T07:54:00.226Z"
   },
   {
    "duration": 9,
    "start_time": "2023-02-13T07:54:55.221Z"
   },
   {
    "duration": 7,
    "start_time": "2023-02-13T07:55:07.138Z"
   },
   {
    "duration": 73,
    "start_time": "2023-02-13T07:56:38.591Z"
   },
   {
    "duration": 76,
    "start_time": "2023-02-13T07:56:50.723Z"
   },
   {
    "duration": 70,
    "start_time": "2023-02-13T07:57:27.365Z"
   },
   {
    "duration": 6,
    "start_time": "2023-02-13T07:58:08.894Z"
   },
   {
    "duration": 5,
    "start_time": "2023-02-13T07:58:29.070Z"
   },
   {
    "duration": 6,
    "start_time": "2023-02-13T07:59:27.364Z"
   },
   {
    "duration": 7,
    "start_time": "2023-02-13T08:00:23.170Z"
   },
   {
    "duration": 7,
    "start_time": "2023-02-13T08:01:35.488Z"
   },
   {
    "duration": 8,
    "start_time": "2023-02-13T08:01:50.102Z"
   },
   {
    "duration": 17,
    "start_time": "2023-02-13T08:51:20.840Z"
   },
   {
    "duration": 15,
    "start_time": "2023-02-13T08:51:56.039Z"
   },
   {
    "duration": 16,
    "start_time": "2023-02-13T08:52:21.815Z"
   },
   {
    "duration": 1126,
    "start_time": "2023-02-13T08:52:48.291Z"
   },
   {
    "duration": 157,
    "start_time": "2023-02-13T08:52:49.419Z"
   },
   {
    "duration": 20,
    "start_time": "2023-02-13T08:52:49.577Z"
   },
   {
    "duration": 30,
    "start_time": "2023-02-13T08:52:49.599Z"
   },
   {
    "duration": 15,
    "start_time": "2023-02-13T08:52:49.631Z"
   },
   {
    "duration": 18,
    "start_time": "2023-02-13T08:52:49.647Z"
   },
   {
    "duration": 92,
    "start_time": "2023-02-13T08:52:49.667Z"
   },
   {
    "duration": 36,
    "start_time": "2023-02-13T08:52:49.760Z"
   },
   {
    "duration": 40,
    "start_time": "2023-02-13T08:52:49.797Z"
   },
   {
    "duration": 30,
    "start_time": "2023-02-13T08:52:49.839Z"
   },
   {
    "duration": 21,
    "start_time": "2023-02-13T08:52:49.871Z"
   },
   {
    "duration": 7,
    "start_time": "2023-02-13T08:52:49.894Z"
   },
   {
    "duration": 11,
    "start_time": "2023-02-13T08:52:49.928Z"
   },
   {
    "duration": 8,
    "start_time": "2023-02-13T08:52:49.941Z"
   },
   {
    "duration": 400,
    "start_time": "2023-02-13T08:52:49.950Z"
   },
   {
    "duration": 14,
    "start_time": "2023-02-13T08:52:50.355Z"
   },
   {
    "duration": 319,
    "start_time": "2023-02-13T08:52:50.372Z"
   },
   {
    "duration": 6,
    "start_time": "2023-02-13T08:52:50.693Z"
   },
   {
    "duration": 26,
    "start_time": "2023-02-13T08:52:50.701Z"
   },
   {
    "duration": 47,
    "start_time": "2023-02-13T08:52:50.729Z"
   },
   {
    "duration": 11,
    "start_time": "2023-02-13T08:52:59.452Z"
   },
   {
    "duration": 11,
    "start_time": "2023-02-13T08:54:06.470Z"
   },
   {
    "duration": 10,
    "start_time": "2023-02-13T08:54:29.158Z"
   },
   {
    "duration": 6,
    "start_time": "2023-02-13T08:57:01.112Z"
   },
   {
    "duration": 7,
    "start_time": "2023-02-13T08:57:58.711Z"
   },
   {
    "duration": 1153,
    "start_time": "2023-02-13T08:58:09.478Z"
   },
   {
    "duration": 165,
    "start_time": "2023-02-13T08:58:10.633Z"
   },
   {
    "duration": 19,
    "start_time": "2023-02-13T08:58:10.799Z"
   },
   {
    "duration": 11,
    "start_time": "2023-02-13T08:58:10.827Z"
   },
   {
    "duration": 15,
    "start_time": "2023-02-13T08:58:10.840Z"
   },
   {
    "duration": 19,
    "start_time": "2023-02-13T08:58:10.857Z"
   },
   {
    "duration": 96,
    "start_time": "2023-02-13T08:58:10.878Z"
   },
   {
    "duration": 37,
    "start_time": "2023-02-13T08:58:10.976Z"
   },
   {
    "duration": 20,
    "start_time": "2023-02-13T08:58:11.028Z"
   },
   {
    "duration": 29,
    "start_time": "2023-02-13T08:58:11.049Z"
   },
   {
    "duration": 18,
    "start_time": "2023-02-13T08:58:11.079Z"
   },
   {
    "duration": 32,
    "start_time": "2023-02-13T08:58:11.098Z"
   },
   {
    "duration": 12,
    "start_time": "2023-02-13T08:58:11.132Z"
   },
   {
    "duration": 25,
    "start_time": "2023-02-13T08:58:11.146Z"
   },
   {
    "duration": 364,
    "start_time": "2023-02-13T08:58:11.173Z"
   },
   {
    "duration": 13,
    "start_time": "2023-02-13T08:58:11.538Z"
   },
   {
    "duration": 282,
    "start_time": "2023-02-13T08:58:11.552Z"
   },
   {
    "duration": 5,
    "start_time": "2023-02-13T08:58:11.836Z"
   },
   {
    "duration": 7,
    "start_time": "2023-02-13T08:58:11.843Z"
   },
   {
    "duration": 31,
    "start_time": "2023-02-13T08:58:11.852Z"
   },
   {
    "duration": 2,
    "start_time": "2023-02-13T09:02:41.064Z"
   },
   {
    "duration": 22,
    "start_time": "2023-02-13T09:09:58.738Z"
   },
   {
    "duration": 22,
    "start_time": "2023-02-13T09:12:48.525Z"
   },
   {
    "duration": 1110,
    "start_time": "2023-02-13T09:12:56.564Z"
   },
   {
    "duration": 153,
    "start_time": "2023-02-13T09:12:57.676Z"
   },
   {
    "duration": 18,
    "start_time": "2023-02-13T09:12:57.831Z"
   },
   {
    "duration": 13,
    "start_time": "2023-02-13T09:12:57.851Z"
   },
   {
    "duration": 16,
    "start_time": "2023-02-13T09:12:57.865Z"
   },
   {
    "duration": 45,
    "start_time": "2023-02-13T09:12:57.882Z"
   },
   {
    "duration": 71,
    "start_time": "2023-02-13T09:12:57.929Z"
   },
   {
    "duration": 47,
    "start_time": "2023-02-13T09:12:58.002Z"
   },
   {
    "duration": 29,
    "start_time": "2023-02-13T09:12:58.051Z"
   },
   {
    "duration": 27,
    "start_time": "2023-02-13T09:12:58.083Z"
   },
   {
    "duration": 24,
    "start_time": "2023-02-13T09:12:58.112Z"
   },
   {
    "duration": 7,
    "start_time": "2023-02-13T09:12:58.138Z"
   },
   {
    "duration": 10,
    "start_time": "2023-02-13T09:12:58.146Z"
   },
   {
    "duration": 6,
    "start_time": "2023-02-13T09:12:58.157Z"
   },
   {
    "duration": 384,
    "start_time": "2023-02-13T09:12:58.164Z"
   },
   {
    "duration": 14,
    "start_time": "2023-02-13T09:12:58.550Z"
   },
   {
    "duration": 290,
    "start_time": "2023-02-13T09:12:58.566Z"
   },
   {
    "duration": 6,
    "start_time": "2023-02-13T09:12:58.857Z"
   },
   {
    "duration": 9,
    "start_time": "2023-02-13T09:12:58.864Z"
   },
   {
    "duration": 30,
    "start_time": "2023-02-13T09:12:58.875Z"
   },
   {
    "duration": 21,
    "start_time": "2023-02-13T09:12:58.907Z"
   },
   {
    "duration": 22,
    "start_time": "2023-02-13T09:12:58.930Z"
   },
   {
    "duration": 25,
    "start_time": "2023-02-13T09:13:14.183Z"
   },
   {
    "duration": 50,
    "start_time": "2023-02-13T16:52:39.142Z"
   },
   {
    "duration": 1279,
    "start_time": "2023-02-13T16:52:45.760Z"
   },
   {
    "duration": 667,
    "start_time": "2023-02-13T16:52:47.041Z"
   },
   {
    "duration": 18,
    "start_time": "2023-02-13T16:52:47.710Z"
   },
   {
    "duration": 11,
    "start_time": "2023-02-13T16:52:47.730Z"
   },
   {
    "duration": 13,
    "start_time": "2023-02-13T16:52:47.742Z"
   },
   {
    "duration": 17,
    "start_time": "2023-02-13T16:52:47.757Z"
   },
   {
    "duration": 91,
    "start_time": "2023-02-13T16:52:47.775Z"
   },
   {
    "duration": 43,
    "start_time": "2023-02-13T16:52:47.867Z"
   },
   {
    "duration": 21,
    "start_time": "2023-02-13T16:52:47.912Z"
   },
   {
    "duration": 31,
    "start_time": "2023-02-13T16:52:47.935Z"
   },
   {
    "duration": 42,
    "start_time": "2023-02-13T16:52:47.968Z"
   },
   {
    "duration": 9,
    "start_time": "2023-02-13T16:52:48.011Z"
   },
   {
    "duration": 13,
    "start_time": "2023-02-13T16:52:48.022Z"
   },
   {
    "duration": 17,
    "start_time": "2023-02-13T16:52:48.036Z"
   },
   {
    "duration": 334,
    "start_time": "2023-02-13T16:52:48.054Z"
   },
   {
    "duration": 13,
    "start_time": "2023-02-13T16:52:48.389Z"
   },
   {
    "duration": 237,
    "start_time": "2023-02-13T16:52:48.410Z"
   },
   {
    "duration": 5,
    "start_time": "2023-02-13T16:52:48.649Z"
   },
   {
    "duration": 8,
    "start_time": "2023-02-13T16:52:48.655Z"
   },
   {
    "duration": 45,
    "start_time": "2023-02-13T16:52:48.665Z"
   },
   {
    "duration": 3,
    "start_time": "2023-02-13T16:52:48.712Z"
   },
   {
    "duration": 27,
    "start_time": "2023-02-13T16:52:48.716Z"
   },
   {
    "duration": 70,
    "start_time": "2023-02-13T16:52:48.745Z"
   },
   {
    "duration": 7,
    "start_time": "2023-02-13T17:13:13.610Z"
   },
   {
    "duration": 12,
    "start_time": "2023-02-13T17:13:53.596Z"
   },
   {
    "duration": 11,
    "start_time": "2023-02-13T17:14:25.639Z"
   },
   {
    "duration": 12,
    "start_time": "2023-02-13T17:14:42.945Z"
   },
   {
    "duration": 8,
    "start_time": "2023-02-13T17:33:58.495Z"
   },
   {
    "duration": 1223,
    "start_time": "2023-02-13T17:37:31.811Z"
   },
   {
    "duration": 1131,
    "start_time": "2023-02-13T17:38:02.983Z"
   },
   {
    "duration": 1120,
    "start_time": "2023-02-13T17:39:06.302Z"
   },
   {
    "duration": 155,
    "start_time": "2023-02-13T17:39:07.424Z"
   },
   {
    "duration": 19,
    "start_time": "2023-02-13T17:39:07.580Z"
   },
   {
    "duration": 19,
    "start_time": "2023-02-13T17:39:07.600Z"
   },
   {
    "duration": 23,
    "start_time": "2023-02-13T17:39:07.621Z"
   },
   {
    "duration": 18,
    "start_time": "2023-02-13T17:39:07.645Z"
   },
   {
    "duration": 76,
    "start_time": "2023-02-13T17:39:07.664Z"
   },
   {
    "duration": 37,
    "start_time": "2023-02-13T17:39:07.742Z"
   },
   {
    "duration": 35,
    "start_time": "2023-02-13T17:39:07.781Z"
   },
   {
    "duration": 31,
    "start_time": "2023-02-13T17:39:07.817Z"
   },
   {
    "duration": 19,
    "start_time": "2023-02-13T17:39:07.850Z"
   },
   {
    "duration": 8,
    "start_time": "2023-02-13T17:39:07.870Z"
   },
   {
    "duration": 32,
    "start_time": "2023-02-13T17:39:07.879Z"
   },
   {
    "duration": 6,
    "start_time": "2023-02-13T17:39:07.914Z"
   },
   {
    "duration": 335,
    "start_time": "2023-02-13T17:39:07.921Z"
   },
   {
    "duration": 13,
    "start_time": "2023-02-13T17:39:08.258Z"
   },
   {
    "duration": 240,
    "start_time": "2023-02-13T17:39:08.272Z"
   },
   {
    "duration": 5,
    "start_time": "2023-02-13T17:39:08.514Z"
   },
   {
    "duration": 6,
    "start_time": "2023-02-13T17:39:08.520Z"
   },
   {
    "duration": 27,
    "start_time": "2023-02-13T17:39:08.528Z"
   },
   {
    "duration": 2,
    "start_time": "2023-02-13T17:39:08.557Z"
   },
   {
    "duration": 55,
    "start_time": "2023-02-13T17:39:08.560Z"
   },
   {
    "duration": 12,
    "start_time": "2023-02-13T17:39:08.616Z"
   },
   {
    "duration": 1240,
    "start_time": "2023-02-13T17:39:08.629Z"
   },
   {
    "duration": 78,
    "start_time": "2023-02-13T17:39:56.084Z"
   },
   {
    "duration": 5165,
    "start_time": "2023-02-13T17:40:02.509Z"
   },
   {
    "duration": 9,
    "start_time": "2023-02-13T17:40:17.158Z"
   },
   {
    "duration": 10,
    "start_time": "2023-02-13T17:43:39.284Z"
   },
   {
    "duration": 25,
    "start_time": "2023-02-13T17:54:59.526Z"
   },
   {
    "duration": 1126,
    "start_time": "2023-02-13T17:55:11.536Z"
   },
   {
    "duration": 15,
    "start_time": "2023-02-13T17:57:26.964Z"
   },
   {
    "duration": 1083,
    "start_time": "2023-02-13T17:57:34.745Z"
   },
   {
    "duration": 155,
    "start_time": "2023-02-13T17:57:35.829Z"
   },
   {
    "duration": 20,
    "start_time": "2023-02-13T17:57:35.985Z"
   },
   {
    "duration": 10,
    "start_time": "2023-02-13T17:57:36.007Z"
   },
   {
    "duration": 16,
    "start_time": "2023-02-13T17:57:36.020Z"
   },
   {
    "duration": 19,
    "start_time": "2023-02-13T17:57:36.037Z"
   },
   {
    "duration": 89,
    "start_time": "2023-02-13T17:57:36.058Z"
   },
   {
    "duration": 45,
    "start_time": "2023-02-13T17:57:36.149Z"
   },
   {
    "duration": 21,
    "start_time": "2023-02-13T17:57:36.196Z"
   },
   {
    "duration": 34,
    "start_time": "2023-02-13T17:57:36.219Z"
   },
   {
    "duration": 19,
    "start_time": "2023-02-13T17:57:36.255Z"
   },
   {
    "duration": 10,
    "start_time": "2023-02-13T17:57:36.276Z"
   },
   {
    "duration": 12,
    "start_time": "2023-02-13T17:57:36.310Z"
   },
   {
    "duration": 6,
    "start_time": "2023-02-13T17:57:36.324Z"
   },
   {
    "duration": 402,
    "start_time": "2023-02-13T17:57:36.332Z"
   },
   {
    "duration": 17,
    "start_time": "2023-02-13T17:57:36.736Z"
   },
   {
    "duration": 274,
    "start_time": "2023-02-13T17:57:36.755Z"
   },
   {
    "duration": 5,
    "start_time": "2023-02-13T17:57:37.031Z"
   },
   {
    "duration": 8,
    "start_time": "2023-02-13T17:57:37.038Z"
   },
   {
    "duration": 30,
    "start_time": "2023-02-13T17:57:37.048Z"
   },
   {
    "duration": 3,
    "start_time": "2023-02-13T17:57:37.079Z"
   },
   {
    "duration": 49,
    "start_time": "2023-02-13T17:57:37.083Z"
   },
   {
    "duration": 11,
    "start_time": "2023-02-13T17:57:37.133Z"
   },
   {
    "duration": 14,
    "start_time": "2023-02-13T17:57:37.145Z"
   },
   {
    "duration": 1061,
    "start_time": "2023-02-13T17:58:10.966Z"
   },
   {
    "duration": 152,
    "start_time": "2023-02-13T17:58:12.028Z"
   },
   {
    "duration": 21,
    "start_time": "2023-02-13T17:58:12.182Z"
   },
   {
    "duration": 12,
    "start_time": "2023-02-13T17:58:12.209Z"
   },
   {
    "duration": 14,
    "start_time": "2023-02-13T17:58:12.223Z"
   },
   {
    "duration": 19,
    "start_time": "2023-02-13T17:58:12.239Z"
   },
   {
    "duration": 104,
    "start_time": "2023-02-13T17:58:12.259Z"
   },
   {
    "duration": 52,
    "start_time": "2023-02-13T17:58:12.364Z"
   },
   {
    "duration": 32,
    "start_time": "2023-02-13T17:58:12.418Z"
   },
   {
    "duration": 38,
    "start_time": "2023-02-13T17:58:12.454Z"
   },
   {
    "duration": 29,
    "start_time": "2023-02-13T17:58:12.509Z"
   },
   {
    "duration": 7,
    "start_time": "2023-02-13T17:58:12.540Z"
   },
   {
    "duration": 19,
    "start_time": "2023-02-13T17:58:12.548Z"
   },
   {
    "duration": 10,
    "start_time": "2023-02-13T17:58:12.568Z"
   },
   {
    "duration": 386,
    "start_time": "2023-02-13T17:58:12.579Z"
   },
   {
    "duration": 15,
    "start_time": "2023-02-13T17:58:12.967Z"
   },
   {
    "duration": 276,
    "start_time": "2023-02-13T17:58:12.984Z"
   },
   {
    "duration": 5,
    "start_time": "2023-02-13T17:58:13.262Z"
   },
   {
    "duration": 230,
    "start_time": "2023-02-13T17:58:13.269Z"
   },
   {
    "duration": 41,
    "start_time": "2023-02-13T17:58:13.501Z"
   },
   {
    "duration": 3,
    "start_time": "2023-02-13T17:58:13.545Z"
   },
   {
    "duration": 32,
    "start_time": "2023-02-13T17:58:13.549Z"
   },
   {
    "duration": 29,
    "start_time": "2023-02-13T17:58:13.583Z"
   },
   {
    "duration": 14,
    "start_time": "2023-02-13T17:58:13.613Z"
   },
   {
    "duration": 67,
    "start_time": "2023-02-13T17:59:37.433Z"
   },
   {
    "duration": 65,
    "start_time": "2023-02-13T18:00:39.280Z"
   },
   {
    "duration": 58,
    "start_time": "2023-02-13T18:00:49.691Z"
   },
   {
    "duration": 1071,
    "start_time": "2023-02-13T18:01:14.843Z"
   },
   {
    "duration": 151,
    "start_time": "2023-02-13T18:01:15.916Z"
   },
   {
    "duration": 18,
    "start_time": "2023-02-13T18:01:16.068Z"
   },
   {
    "duration": 11,
    "start_time": "2023-02-13T18:01:16.088Z"
   },
   {
    "duration": 15,
    "start_time": "2023-02-13T18:01:16.110Z"
   },
   {
    "duration": 18,
    "start_time": "2023-02-13T18:01:16.126Z"
   },
   {
    "duration": 82,
    "start_time": "2023-02-13T18:01:16.145Z"
   },
   {
    "duration": 36,
    "start_time": "2023-02-13T18:01:16.228Z"
   },
   {
    "duration": 22,
    "start_time": "2023-02-13T18:01:16.266Z"
   },
   {
    "duration": 45,
    "start_time": "2023-02-13T18:01:16.289Z"
   },
   {
    "duration": 17,
    "start_time": "2023-02-13T18:01:16.336Z"
   },
   {
    "duration": 6,
    "start_time": "2023-02-13T18:01:16.355Z"
   },
   {
    "duration": 10,
    "start_time": "2023-02-13T18:01:16.363Z"
   },
   {
    "duration": 34,
    "start_time": "2023-02-13T18:01:16.375Z"
   },
   {
    "duration": 348,
    "start_time": "2023-02-13T18:01:16.410Z"
   },
   {
    "duration": 15,
    "start_time": "2023-02-13T18:01:16.760Z"
   },
   {
    "duration": 282,
    "start_time": "2023-02-13T18:01:16.776Z"
   },
   {
    "duration": 6,
    "start_time": "2023-02-13T18:01:17.060Z"
   },
   {
    "duration": 13,
    "start_time": "2023-02-13T18:01:17.069Z"
   },
   {
    "duration": 49,
    "start_time": "2023-02-13T18:01:17.084Z"
   },
   {
    "duration": 3,
    "start_time": "2023-02-13T18:01:17.135Z"
   },
   {
    "duration": 27,
    "start_time": "2023-02-13T18:01:17.140Z"
   },
   {
    "duration": 78,
    "start_time": "2023-02-13T18:01:17.168Z"
   },
   {
    "duration": 9,
    "start_time": "2023-02-13T18:01:17.248Z"
   },
   {
    "duration": 1251,
    "start_time": "2023-02-13T18:05:20.360Z"
   },
   {
    "duration": 72,
    "start_time": "2023-02-13T18:06:02.782Z"
   },
   {
    "duration": 1075,
    "start_time": "2023-02-13T18:06:11.363Z"
   },
   {
    "duration": 1124,
    "start_time": "2023-02-13T18:06:16.786Z"
   },
   {
    "duration": 155,
    "start_time": "2023-02-13T18:06:17.911Z"
   },
   {
    "duration": 18,
    "start_time": "2023-02-13T18:06:18.068Z"
   },
   {
    "duration": 10,
    "start_time": "2023-02-13T18:06:18.088Z"
   },
   {
    "duration": 14,
    "start_time": "2023-02-13T18:06:18.111Z"
   },
   {
    "duration": 17,
    "start_time": "2023-02-13T18:06:18.126Z"
   },
   {
    "duration": 81,
    "start_time": "2023-02-13T18:06:18.145Z"
   },
   {
    "duration": 35,
    "start_time": "2023-02-13T18:06:18.228Z"
   },
   {
    "duration": 19,
    "start_time": "2023-02-13T18:06:18.264Z"
   },
   {
    "duration": 51,
    "start_time": "2023-02-13T18:06:18.285Z"
   },
   {
    "duration": 18,
    "start_time": "2023-02-13T18:06:18.337Z"
   },
   {
    "duration": 7,
    "start_time": "2023-02-13T18:06:18.357Z"
   },
   {
    "duration": 10,
    "start_time": "2023-02-13T18:06:18.365Z"
   },
   {
    "duration": 5,
    "start_time": "2023-02-13T18:06:18.409Z"
   },
   {
    "duration": 329,
    "start_time": "2023-02-13T18:06:18.415Z"
   },
   {
    "duration": 17,
    "start_time": "2023-02-13T18:06:18.746Z"
   },
   {
    "duration": 265,
    "start_time": "2023-02-13T18:06:18.764Z"
   },
   {
    "duration": 5,
    "start_time": "2023-02-13T18:06:19.030Z"
   },
   {
    "duration": 11,
    "start_time": "2023-02-13T18:06:19.037Z"
   },
   {
    "duration": 32,
    "start_time": "2023-02-13T18:06:19.050Z"
   },
   {
    "duration": 3,
    "start_time": "2023-02-13T18:06:19.083Z"
   },
   {
    "duration": 47,
    "start_time": "2023-02-13T18:06:19.087Z"
   },
   {
    "duration": 56,
    "start_time": "2023-02-13T18:06:19.135Z"
   },
   {
    "duration": 9,
    "start_time": "2023-02-13T18:06:19.210Z"
   },
   {
    "duration": 1164,
    "start_time": "2023-02-13T18:06:19.220Z"
   },
   {
    "duration": 1079,
    "start_time": "2023-02-13T18:09:39.201Z"
   },
   {
    "duration": 10,
    "start_time": "2023-02-13T18:11:43.249Z"
   },
   {
    "duration": 1064,
    "start_time": "2023-02-13T18:11:47.959Z"
   },
   {
    "duration": 156,
    "start_time": "2023-02-13T18:11:49.025Z"
   },
   {
    "duration": 26,
    "start_time": "2023-02-13T18:11:49.183Z"
   },
   {
    "duration": 12,
    "start_time": "2023-02-13T18:11:49.211Z"
   },
   {
    "duration": 15,
    "start_time": "2023-02-13T18:11:49.225Z"
   },
   {
    "duration": 24,
    "start_time": "2023-02-13T18:11:49.242Z"
   },
   {
    "duration": 87,
    "start_time": "2023-02-13T18:11:49.268Z"
   },
   {
    "duration": 35,
    "start_time": "2023-02-13T18:11:49.356Z"
   },
   {
    "duration": 27,
    "start_time": "2023-02-13T18:11:49.392Z"
   },
   {
    "duration": 31,
    "start_time": "2023-02-13T18:11:49.421Z"
   },
   {
    "duration": 18,
    "start_time": "2023-02-13T18:11:49.454Z"
   },
   {
    "duration": 7,
    "start_time": "2023-02-13T18:11:49.473Z"
   },
   {
    "duration": 31,
    "start_time": "2023-02-13T18:11:49.481Z"
   },
   {
    "duration": 9,
    "start_time": "2023-02-13T18:11:49.513Z"
   },
   {
    "duration": 344,
    "start_time": "2023-02-13T18:11:49.523Z"
   },
   {
    "duration": 14,
    "start_time": "2023-02-13T18:11:49.869Z"
   },
   {
    "duration": 249,
    "start_time": "2023-02-13T18:11:49.885Z"
   },
   {
    "duration": 5,
    "start_time": "2023-02-13T18:11:50.136Z"
   },
   {
    "duration": 13,
    "start_time": "2023-02-13T18:11:50.143Z"
   },
   {
    "duration": 30,
    "start_time": "2023-02-13T18:11:50.158Z"
   },
   {
    "duration": 20,
    "start_time": "2023-02-13T18:11:50.190Z"
   },
   {
    "duration": 26,
    "start_time": "2023-02-13T18:11:50.211Z"
   },
   {
    "duration": 73,
    "start_time": "2023-02-13T18:11:50.238Z"
   },
   {
    "duration": 12,
    "start_time": "2023-02-13T18:11:50.312Z"
   },
   {
    "duration": 119,
    "start_time": "2023-02-13T18:11:50.325Z"
   },
   {
    "duration": 86,
    "start_time": "2023-02-13T18:14:00.405Z"
   },
   {
    "duration": 5,
    "start_time": "2023-02-13T18:14:12.828Z"
   },
   {
    "duration": 7,
    "start_time": "2023-02-13T18:14:20.509Z"
   },
   {
    "duration": 5,
    "start_time": "2023-02-13T18:14:35.573Z"
   },
   {
    "duration": 7,
    "start_time": "2023-02-13T18:16:05.681Z"
   },
   {
    "duration": 13,
    "start_time": "2023-02-13T18:16:15.253Z"
   },
   {
    "duration": 8,
    "start_time": "2023-02-13T18:17:05.198Z"
   },
   {
    "duration": 10,
    "start_time": "2023-02-13T18:18:14.607Z"
   },
   {
    "duration": 1119,
    "start_time": "2023-02-13T18:19:08.419Z"
   },
   {
    "duration": 8,
    "start_time": "2023-02-13T18:19:44.592Z"
   },
   {
    "duration": 1223,
    "start_time": "2023-02-13T18:25:18.201Z"
   },
   {
    "duration": 1130,
    "start_time": "2023-02-13T18:25:44.564Z"
   },
   {
    "duration": 1097,
    "start_time": "2023-02-13T18:26:43.788Z"
   },
   {
    "duration": 8,
    "start_time": "2023-02-13T18:26:52.967Z"
   },
   {
    "duration": 6,
    "start_time": "2023-02-13T18:28:07.706Z"
   },
   {
    "duration": 1079,
    "start_time": "2023-02-13T18:28:39.239Z"
   },
   {
    "duration": 153,
    "start_time": "2023-02-13T18:28:40.319Z"
   },
   {
    "duration": 19,
    "start_time": "2023-02-13T18:28:40.473Z"
   },
   {
    "duration": 23,
    "start_time": "2023-02-13T18:28:40.493Z"
   },
   {
    "duration": 14,
    "start_time": "2023-02-13T18:28:40.517Z"
   },
   {
    "duration": 19,
    "start_time": "2023-02-13T18:28:40.533Z"
   },
   {
    "duration": 88,
    "start_time": "2023-02-13T18:28:40.554Z"
   },
   {
    "duration": 34,
    "start_time": "2023-02-13T18:28:40.643Z"
   },
   {
    "duration": 18,
    "start_time": "2023-02-13T18:28:40.679Z"
   },
   {
    "duration": 29,
    "start_time": "2023-02-13T18:28:40.710Z"
   },
   {
    "duration": 19,
    "start_time": "2023-02-13T18:28:40.741Z"
   },
   {
    "duration": 18,
    "start_time": "2023-02-13T18:28:40.761Z"
   },
   {
    "duration": 31,
    "start_time": "2023-02-13T18:28:40.780Z"
   },
   {
    "duration": 24,
    "start_time": "2023-02-13T18:28:40.812Z"
   },
   {
    "duration": 322,
    "start_time": "2023-02-13T18:28:40.837Z"
   },
   {
    "duration": 13,
    "start_time": "2023-02-13T18:28:41.160Z"
   },
   {
    "duration": 250,
    "start_time": "2023-02-13T18:28:41.175Z"
   },
   {
    "duration": 5,
    "start_time": "2023-02-13T18:28:41.427Z"
   },
   {
    "duration": 10,
    "start_time": "2023-02-13T18:28:41.433Z"
   },
   {
    "duration": 30,
    "start_time": "2023-02-13T18:28:41.444Z"
   },
   {
    "duration": 3,
    "start_time": "2023-02-13T18:28:41.475Z"
   },
   {
    "duration": 45,
    "start_time": "2023-02-13T18:28:41.479Z"
   },
   {
    "duration": 57,
    "start_time": "2023-02-13T18:28:41.526Z"
   },
   {
    "duration": 9,
    "start_time": "2023-02-13T18:28:41.585Z"
   },
   {
    "duration": 6,
    "start_time": "2023-02-13T18:28:41.609Z"
   },
   {
    "duration": 6,
    "start_time": "2023-02-13T18:30:04.936Z"
   },
   {
    "duration": 108,
    "start_time": "2023-02-13T18:31:53.768Z"
   },
   {
    "duration": 1134,
    "start_time": "2023-02-13T18:38:35.482Z"
   },
   {
    "duration": 1068,
    "start_time": "2023-02-13T18:39:03.564Z"
   },
   {
    "duration": 156,
    "start_time": "2023-02-13T18:39:04.634Z"
   },
   {
    "duration": 24,
    "start_time": "2023-02-13T18:39:04.791Z"
   },
   {
    "duration": 12,
    "start_time": "2023-02-13T18:39:04.817Z"
   },
   {
    "duration": 14,
    "start_time": "2023-02-13T18:39:04.830Z"
   },
   {
    "duration": 18,
    "start_time": "2023-02-13T18:39:04.845Z"
   },
   {
    "duration": 86,
    "start_time": "2023-02-13T18:39:04.864Z"
   },
   {
    "duration": 34,
    "start_time": "2023-02-13T18:39:04.952Z"
   },
   {
    "duration": 36,
    "start_time": "2023-02-13T18:39:04.988Z"
   },
   {
    "duration": 31,
    "start_time": "2023-02-13T18:39:05.026Z"
   },
   {
    "duration": 22,
    "start_time": "2023-02-13T18:39:05.058Z"
   },
   {
    "duration": 28,
    "start_time": "2023-02-13T18:39:05.082Z"
   },
   {
    "duration": 11,
    "start_time": "2023-02-13T18:39:05.111Z"
   },
   {
    "duration": 6,
    "start_time": "2023-02-13T18:39:05.124Z"
   },
   {
    "duration": 357,
    "start_time": "2023-02-13T18:39:05.131Z"
   },
   {
    "duration": 20,
    "start_time": "2023-02-13T18:39:05.490Z"
   },
   {
    "duration": 251,
    "start_time": "2023-02-13T18:39:05.512Z"
   },
   {
    "duration": 5,
    "start_time": "2023-02-13T18:39:05.764Z"
   },
   {
    "duration": 9,
    "start_time": "2023-02-13T18:39:05.771Z"
   },
   {
    "duration": 54,
    "start_time": "2023-02-13T18:39:05.782Z"
   },
   {
    "duration": 3,
    "start_time": "2023-02-13T18:39:05.838Z"
   },
   {
    "duration": 37,
    "start_time": "2023-02-13T18:39:05.843Z"
   },
   {
    "duration": 65,
    "start_time": "2023-02-13T18:39:05.882Z"
   },
   {
    "duration": 10,
    "start_time": "2023-02-13T18:39:05.949Z"
   },
   {
    "duration": 1237,
    "start_time": "2023-02-13T18:39:05.960Z"
   },
   {
    "duration": 4,
    "start_time": "2023-02-13T18:47:45.614Z"
   },
   {
    "duration": 1174,
    "start_time": "2023-02-13T18:48:15.560Z"
   },
   {
    "duration": 4,
    "start_time": "2023-02-13T18:49:31.383Z"
   },
   {
    "duration": 3,
    "start_time": "2023-02-13T18:49:45.272Z"
   },
   {
    "duration": 70,
    "start_time": "2023-02-13T18:51:07.551Z"
   },
   {
    "duration": 70,
    "start_time": "2023-02-13T18:51:58.476Z"
   },
   {
    "duration": 4,
    "start_time": "2023-02-13T18:52:57.586Z"
   },
   {
    "duration": 3,
    "start_time": "2023-02-13T18:53:35.392Z"
   },
   {
    "duration": 29,
    "start_time": "2023-02-13T19:20:25.816Z"
   },
   {
    "duration": 3,
    "start_time": "2023-02-13T19:49:06.314Z"
   },
   {
    "duration": 31,
    "start_time": "2023-02-13T19:54:36.075Z"
   },
   {
    "duration": 14,
    "start_time": "2023-02-13T19:55:50.309Z"
   },
   {
    "duration": 30,
    "start_time": "2023-02-13T19:58:26.773Z"
   },
   {
    "duration": 30,
    "start_time": "2023-02-13T19:58:32.762Z"
   },
   {
    "duration": 17,
    "start_time": "2023-02-13T20:01:10.680Z"
   },
   {
    "duration": 12,
    "start_time": "2023-02-13T20:01:17.577Z"
   },
   {
    "duration": 16,
    "start_time": "2023-02-13T20:01:25.048Z"
   },
   {
    "duration": 14,
    "start_time": "2023-02-13T20:01:39.660Z"
   },
   {
    "duration": 1146,
    "start_time": "2023-02-13T20:01:54.591Z"
   },
   {
    "duration": 153,
    "start_time": "2023-02-13T20:01:55.739Z"
   },
   {
    "duration": 22,
    "start_time": "2023-02-13T20:01:55.893Z"
   },
   {
    "duration": 11,
    "start_time": "2023-02-13T20:01:55.917Z"
   },
   {
    "duration": 13,
    "start_time": "2023-02-13T20:01:55.929Z"
   },
   {
    "duration": 16,
    "start_time": "2023-02-13T20:01:55.944Z"
   },
   {
    "duration": 85,
    "start_time": "2023-02-13T20:01:55.962Z"
   },
   {
    "duration": 41,
    "start_time": "2023-02-13T20:01:56.048Z"
   },
   {
    "duration": 32,
    "start_time": "2023-02-13T20:01:56.090Z"
   },
   {
    "duration": 31,
    "start_time": "2023-02-13T20:01:56.124Z"
   },
   {
    "duration": 20,
    "start_time": "2023-02-13T20:01:56.156Z"
   },
   {
    "duration": 8,
    "start_time": "2023-02-13T20:01:56.178Z"
   },
   {
    "duration": 11,
    "start_time": "2023-02-13T20:01:56.210Z"
   },
   {
    "duration": 5,
    "start_time": "2023-02-13T20:01:56.223Z"
   },
   {
    "duration": 339,
    "start_time": "2023-02-13T20:01:56.229Z"
   },
   {
    "duration": 13,
    "start_time": "2023-02-13T20:01:56.570Z"
   },
   {
    "duration": 309,
    "start_time": "2023-02-13T20:01:56.584Z"
   },
   {
    "duration": 6,
    "start_time": "2023-02-13T20:01:56.894Z"
   },
   {
    "duration": 10,
    "start_time": "2023-02-13T20:01:56.910Z"
   },
   {
    "duration": 36,
    "start_time": "2023-02-13T20:01:56.922Z"
   },
   {
    "duration": 3,
    "start_time": "2023-02-13T20:01:56.959Z"
   },
   {
    "duration": 31,
    "start_time": "2023-02-13T20:01:56.963Z"
   },
   {
    "duration": 70,
    "start_time": "2023-02-13T20:01:56.995Z"
   },
   {
    "duration": 10,
    "start_time": "2023-02-13T20:01:57.067Z"
   },
   {
    "duration": 7,
    "start_time": "2023-02-13T20:01:57.078Z"
   },
   {
    "duration": 43,
    "start_time": "2023-02-13T20:01:57.087Z"
   },
   {
    "duration": 15,
    "start_time": "2023-02-13T20:01:57.131Z"
   },
   {
    "duration": 18,
    "start_time": "2023-02-13T20:02:06.026Z"
   },
   {
    "duration": 42,
    "start_time": "2023-02-13T20:02:57.137Z"
   },
   {
    "duration": 59,
    "start_time": "2023-02-13T20:04:39.470Z"
   },
   {
    "duration": 21,
    "start_time": "2023-02-13T20:04:55.428Z"
   },
   {
    "duration": 19,
    "start_time": "2023-02-13T20:06:06.542Z"
   },
   {
    "duration": 14,
    "start_time": "2023-02-13T20:06:27.648Z"
   },
   {
    "duration": 15,
    "start_time": "2023-02-13T20:07:12.367Z"
   },
   {
    "duration": 23,
    "start_time": "2023-02-13T20:08:12.692Z"
   },
   {
    "duration": 105,
    "start_time": "2023-02-13T20:13:38.276Z"
   },
   {
    "duration": 46,
    "start_time": "2023-02-13T20:13:47.653Z"
   },
   {
    "duration": 6,
    "start_time": "2023-02-13T20:13:48.940Z"
   },
   {
    "duration": 3,
    "start_time": "2023-02-13T20:18:45.462Z"
   },
   {
    "duration": 4,
    "start_time": "2023-02-13T20:19:55.948Z"
   },
   {
    "duration": 32,
    "start_time": "2023-02-13T20:34:29.308Z"
   },
   {
    "duration": 30,
    "start_time": "2023-02-13T20:36:19.914Z"
   },
   {
    "duration": 33,
    "start_time": "2023-02-13T20:36:24.135Z"
   },
   {
    "duration": 29,
    "start_time": "2023-02-13T20:37:27.398Z"
   },
   {
    "duration": 32,
    "start_time": "2023-02-13T20:37:35.233Z"
   },
   {
    "duration": 34,
    "start_time": "2023-02-13T20:38:04.160Z"
   },
   {
    "duration": 8,
    "start_time": "2023-02-13T20:39:47.837Z"
   },
   {
    "duration": 9,
    "start_time": "2023-02-13T20:40:32.756Z"
   },
   {
    "duration": 8,
    "start_time": "2023-02-13T20:40:57.687Z"
   },
   {
    "duration": 31,
    "start_time": "2023-02-13T20:43:45.059Z"
   },
   {
    "duration": 1162,
    "start_time": "2023-02-13T20:52:34.506Z"
   },
   {
    "duration": 153,
    "start_time": "2023-02-13T20:52:35.671Z"
   },
   {
    "duration": 21,
    "start_time": "2023-02-13T20:52:35.826Z"
   },
   {
    "duration": 12,
    "start_time": "2023-02-13T20:52:35.849Z"
   },
   {
    "duration": 25,
    "start_time": "2023-02-13T20:52:35.863Z"
   },
   {
    "duration": 34,
    "start_time": "2023-02-13T20:52:35.890Z"
   },
   {
    "duration": 67,
    "start_time": "2023-02-13T20:52:35.925Z"
   },
   {
    "duration": 51,
    "start_time": "2023-02-13T20:52:35.994Z"
   },
   {
    "duration": 20,
    "start_time": "2023-02-13T20:52:36.047Z"
   },
   {
    "duration": 47,
    "start_time": "2023-02-13T20:52:36.068Z"
   },
   {
    "duration": 19,
    "start_time": "2023-02-13T20:52:36.117Z"
   },
   {
    "duration": 7,
    "start_time": "2023-02-13T20:52:36.138Z"
   },
   {
    "duration": 11,
    "start_time": "2023-02-13T20:52:36.146Z"
   },
   {
    "duration": 10,
    "start_time": "2023-02-13T20:52:36.159Z"
   },
   {
    "duration": 352,
    "start_time": "2023-02-13T20:52:36.170Z"
   },
   {
    "duration": 14,
    "start_time": "2023-02-13T20:52:36.523Z"
   },
   {
    "duration": 280,
    "start_time": "2023-02-13T20:52:36.539Z"
   },
   {
    "duration": 7,
    "start_time": "2023-02-13T20:52:36.822Z"
   },
   {
    "duration": 20,
    "start_time": "2023-02-13T20:52:36.831Z"
   },
   {
    "duration": 59,
    "start_time": "2023-02-13T20:52:36.854Z"
   },
   {
    "duration": 3,
    "start_time": "2023-02-13T20:52:36.915Z"
   },
   {
    "duration": 56,
    "start_time": "2023-02-13T20:52:36.920Z"
   },
   {
    "duration": 59,
    "start_time": "2023-02-13T20:52:36.978Z"
   },
   {
    "duration": 10,
    "start_time": "2023-02-13T20:52:37.039Z"
   },
   {
    "duration": 8,
    "start_time": "2023-02-13T20:52:37.051Z"
   },
   {
    "duration": 36,
    "start_time": "2023-02-13T20:52:37.061Z"
   },
   {
    "duration": 50,
    "start_time": "2023-02-13T20:52:37.109Z"
   },
   {
    "duration": 3,
    "start_time": "2023-02-13T20:52:37.161Z"
   },
   {
    "duration": 7,
    "start_time": "2023-02-13T20:52:37.166Z"
   },
   {
    "duration": 7,
    "start_time": "2023-02-13T20:52:37.175Z"
   },
   {
    "duration": 51,
    "start_time": "2023-02-13T20:52:37.183Z"
   },
   {
    "duration": 8,
    "start_time": "2023-02-13T20:52:37.235Z"
   },
   {
    "duration": 141,
    "start_time": "2023-02-13T20:55:25.446Z"
   },
   {
    "duration": 35,
    "start_time": "2023-02-13T20:55:35.594Z"
   },
   {
    "duration": 8,
    "start_time": "2023-02-13T20:55:51.849Z"
   },
   {
    "duration": 8,
    "start_time": "2023-02-13T21:15:40.485Z"
   },
   {
    "duration": 70,
    "start_time": "2023-02-13T21:23:53.932Z"
   },
   {
    "duration": 73,
    "start_time": "2023-02-13T21:24:09.962Z"
   },
   {
    "duration": 67,
    "start_time": "2023-02-13T21:24:21.070Z"
   },
   {
    "duration": 5,
    "start_time": "2023-02-13T21:26:27.941Z"
   },
   {
    "duration": 6,
    "start_time": "2023-02-13T21:27:23.855Z"
   },
   {
    "duration": 6,
    "start_time": "2023-02-13T21:28:37.567Z"
   },
   {
    "duration": 6,
    "start_time": "2023-02-13T21:35:37.353Z"
   },
   {
    "duration": 29,
    "start_time": "2023-02-13T21:40:47.807Z"
   },
   {
    "duration": 56,
    "start_time": "2023-02-13T21:45:41.926Z"
   },
   {
    "duration": 9,
    "start_time": "2023-02-13T21:52:31.103Z"
   },
   {
    "duration": 11,
    "start_time": "2023-02-13T21:55:44.894Z"
   },
   {
    "duration": 38,
    "start_time": "2023-02-13T22:06:19.758Z"
   },
   {
    "duration": 47,
    "start_time": "2023-02-13T22:06:34.537Z"
   },
   {
    "duration": 1181,
    "start_time": "2023-02-13T22:06:42.748Z"
   },
   {
    "duration": 155,
    "start_time": "2023-02-13T22:06:43.931Z"
   },
   {
    "duration": 23,
    "start_time": "2023-02-13T22:06:44.087Z"
   },
   {
    "duration": 22,
    "start_time": "2023-02-13T22:06:44.112Z"
   },
   {
    "duration": 19,
    "start_time": "2023-02-13T22:06:44.136Z"
   },
   {
    "duration": 20,
    "start_time": "2023-02-13T22:06:44.156Z"
   },
   {
    "duration": 83,
    "start_time": "2023-02-13T22:06:44.177Z"
   },
   {
    "duration": 48,
    "start_time": "2023-02-13T22:06:44.262Z"
   },
   {
    "duration": 22,
    "start_time": "2023-02-13T22:06:44.312Z"
   },
   {
    "duration": 31,
    "start_time": "2023-02-13T22:06:44.337Z"
   },
   {
    "duration": 20,
    "start_time": "2023-02-13T22:06:44.369Z"
   },
   {
    "duration": 27,
    "start_time": "2023-02-13T22:06:44.390Z"
   },
   {
    "duration": 12,
    "start_time": "2023-02-13T22:06:44.419Z"
   },
   {
    "duration": 5,
    "start_time": "2023-02-13T22:06:44.433Z"
   },
   {
    "duration": 342,
    "start_time": "2023-02-13T22:06:44.440Z"
   },
   {
    "duration": 26,
    "start_time": "2023-02-13T22:06:44.785Z"
   },
   {
    "duration": 244,
    "start_time": "2023-02-13T22:06:44.813Z"
   },
   {
    "duration": 5,
    "start_time": "2023-02-13T22:06:45.059Z"
   },
   {
    "duration": 28,
    "start_time": "2023-02-13T22:06:45.065Z"
   },
   {
    "duration": 29,
    "start_time": "2023-02-13T22:06:45.094Z"
   },
   {
    "duration": 2,
    "start_time": "2023-02-13T22:06:45.125Z"
   },
   {
    "duration": 37,
    "start_time": "2023-02-13T22:06:45.129Z"
   },
   {
    "duration": 60,
    "start_time": "2023-02-13T22:06:45.168Z"
   },
   {
    "duration": 10,
    "start_time": "2023-02-13T22:06:45.231Z"
   },
   {
    "duration": 7,
    "start_time": "2023-02-13T22:06:45.243Z"
   },
   {
    "duration": 44,
    "start_time": "2023-02-13T22:06:45.251Z"
   },
   {
    "duration": 53,
    "start_time": "2023-02-13T22:06:45.298Z"
   },
   {
    "duration": 4,
    "start_time": "2023-02-13T22:06:45.355Z"
   },
   {
    "duration": 16,
    "start_time": "2023-02-13T22:06:45.361Z"
   },
   {
    "duration": 12,
    "start_time": "2023-02-13T22:06:45.379Z"
   },
   {
    "duration": 45,
    "start_time": "2023-02-13T22:06:45.392Z"
   },
   {
    "duration": 8,
    "start_time": "2023-02-13T22:06:45.439Z"
   },
   {
    "duration": 10,
    "start_time": "2023-02-13T22:06:45.449Z"
   },
   {
    "duration": 9,
    "start_time": "2023-02-13T22:06:45.461Z"
   },
   {
    "duration": 81,
    "start_time": "2023-02-13T22:06:45.472Z"
   },
   {
    "duration": 10,
    "start_time": "2023-02-13T22:06:45.554Z"
   },
   {
    "duration": 5,
    "start_time": "2023-02-13T22:12:11.622Z"
   },
   {
    "duration": 5,
    "start_time": "2023-02-13T22:13:01.548Z"
   },
   {
    "duration": 108,
    "start_time": "2023-02-13T22:24:01.038Z"
   },
   {
    "duration": 3,
    "start_time": "2023-02-13T22:25:00.189Z"
   },
   {
    "duration": 3,
    "start_time": "2023-02-13T22:25:07.077Z"
   },
   {
    "duration": 3,
    "start_time": "2023-02-13T22:31:07.444Z"
   },
   {
    "duration": 3,
    "start_time": "2023-02-13T22:32:09.243Z"
   },
   {
    "duration": 1109,
    "start_time": "2023-02-13T22:34:28.433Z"
   },
   {
    "duration": 8,
    "start_time": "2023-02-13T22:35:54.429Z"
   },
   {
    "duration": 9,
    "start_time": "2023-02-13T22:39:45.881Z"
   },
   {
    "duration": 10,
    "start_time": "2023-02-13T22:41:39.333Z"
   },
   {
    "duration": 72,
    "start_time": "2023-02-13T22:42:59.088Z"
   },
   {
    "duration": 8,
    "start_time": "2023-02-13T22:43:59.669Z"
   },
   {
    "duration": 1106,
    "start_time": "2023-02-13T23:05:52.150Z"
   },
   {
    "duration": 161,
    "start_time": "2023-02-13T23:05:53.258Z"
   },
   {
    "duration": 19,
    "start_time": "2023-02-13T23:05:53.420Z"
   },
   {
    "duration": 11,
    "start_time": "2023-02-13T23:05:53.442Z"
   },
   {
    "duration": 14,
    "start_time": "2023-02-13T23:05:53.455Z"
   },
   {
    "duration": 45,
    "start_time": "2023-02-13T23:05:53.471Z"
   },
   {
    "duration": 62,
    "start_time": "2023-02-13T23:05:53.518Z"
   },
   {
    "duration": 50,
    "start_time": "2023-02-13T23:05:53.582Z"
   },
   {
    "duration": 21,
    "start_time": "2023-02-13T23:05:53.634Z"
   },
   {
    "duration": 51,
    "start_time": "2023-02-13T23:05:53.659Z"
   },
   {
    "duration": 20,
    "start_time": "2023-02-13T23:05:53.712Z"
   },
   {
    "duration": 8,
    "start_time": "2023-02-13T23:05:53.733Z"
   },
   {
    "duration": 10,
    "start_time": "2023-02-13T23:05:53.743Z"
   },
   {
    "duration": 7,
    "start_time": "2023-02-13T23:05:53.755Z"
   },
   {
    "duration": 362,
    "start_time": "2023-02-13T23:05:53.764Z"
   },
   {
    "duration": 15,
    "start_time": "2023-02-13T23:05:54.128Z"
   },
   {
    "duration": 265,
    "start_time": "2023-02-13T23:05:54.145Z"
   },
   {
    "duration": 6,
    "start_time": "2023-02-13T23:05:54.412Z"
   },
   {
    "duration": 8,
    "start_time": "2023-02-13T23:05:54.420Z"
   },
   {
    "duration": 31,
    "start_time": "2023-02-13T23:05:54.430Z"
   },
   {
    "duration": 2,
    "start_time": "2023-02-13T23:05:54.463Z"
   },
   {
    "duration": 55,
    "start_time": "2023-02-13T23:05:54.467Z"
   },
   {
    "duration": 57,
    "start_time": "2023-02-13T23:05:54.523Z"
   },
   {
    "duration": 10,
    "start_time": "2023-02-13T23:05:54.581Z"
   },
   {
    "duration": 5,
    "start_time": "2023-02-13T23:05:54.609Z"
   },
   {
    "duration": 32,
    "start_time": "2023-02-13T23:05:54.616Z"
   },
   {
    "duration": 41,
    "start_time": "2023-02-13T23:05:54.650Z"
   },
   {
    "duration": 18,
    "start_time": "2023-02-13T23:05:54.694Z"
   },
   {
    "duration": 5,
    "start_time": "2023-02-13T23:05:54.713Z"
   },
   {
    "duration": 6,
    "start_time": "2023-02-13T23:05:54.720Z"
   },
   {
    "duration": 34,
    "start_time": "2023-02-13T23:05:54.727Z"
   },
   {
    "duration": 7,
    "start_time": "2023-02-13T23:05:54.762Z"
   },
   {
    "duration": 8,
    "start_time": "2023-02-13T23:05:54.771Z"
   },
   {
    "duration": 32,
    "start_time": "2023-02-13T23:05:54.781Z"
   },
   {
    "duration": 53,
    "start_time": "2023-02-13T23:05:54.814Z"
   },
   {
    "duration": 3,
    "start_time": "2023-02-13T23:05:54.869Z"
   },
   {
    "duration": 10,
    "start_time": "2023-02-13T23:05:54.873Z"
   },
   {
    "duration": 30,
    "start_time": "2023-02-13T23:05:54.885Z"
   },
   {
    "duration": 9,
    "start_time": "2023-02-13T23:05:54.917Z"
   },
   {
    "duration": 11,
    "start_time": "2023-02-13T23:05:54.928Z"
   },
   {
    "duration": 243,
    "start_time": "2023-02-13T23:08:21.324Z"
   },
   {
    "duration": 241,
    "start_time": "2023-02-13T23:08:34.072Z"
   },
   {
    "duration": 665,
    "start_time": "2023-02-13T23:11:48.585Z"
   },
   {
    "duration": 1271,
    "start_time": "2023-02-13T23:13:40.137Z"
   },
   {
    "duration": 1121,
    "start_time": "2023-02-13T23:13:56.797Z"
   },
   {
    "duration": 152,
    "start_time": "2023-02-13T23:13:57.920Z"
   },
   {
    "duration": 18,
    "start_time": "2023-02-13T23:13:58.074Z"
   },
   {
    "duration": 16,
    "start_time": "2023-02-13T23:13:58.094Z"
   },
   {
    "duration": 13,
    "start_time": "2023-02-13T23:13:58.113Z"
   },
   {
    "duration": 17,
    "start_time": "2023-02-13T23:13:58.128Z"
   },
   {
    "duration": 82,
    "start_time": "2023-02-13T23:13:58.146Z"
   },
   {
    "duration": 36,
    "start_time": "2023-02-13T23:13:58.230Z"
   },
   {
    "duration": 20,
    "start_time": "2023-02-13T23:13:58.268Z"
   },
   {
    "duration": 29,
    "start_time": "2023-02-13T23:13:58.309Z"
   },
   {
    "duration": 19,
    "start_time": "2023-02-13T23:13:58.340Z"
   },
   {
    "duration": 7,
    "start_time": "2023-02-13T23:13:58.360Z"
   },
   {
    "duration": 11,
    "start_time": "2023-02-13T23:13:58.368Z"
   },
   {
    "duration": 5,
    "start_time": "2023-02-13T23:13:58.410Z"
   },
   {
    "duration": 353,
    "start_time": "2023-02-13T23:13:58.417Z"
   },
   {
    "duration": 12,
    "start_time": "2023-02-13T23:13:58.772Z"
   },
   {
    "duration": 278,
    "start_time": "2023-02-13T23:13:58.786Z"
   },
   {
    "duration": 5,
    "start_time": "2023-02-13T23:13:59.066Z"
   },
   {
    "duration": 8,
    "start_time": "2023-02-13T23:13:59.073Z"
   },
   {
    "duration": 49,
    "start_time": "2023-02-13T23:13:59.082Z"
   },
   {
    "duration": 3,
    "start_time": "2023-02-13T23:13:59.132Z"
   },
   {
    "duration": 41,
    "start_time": "2023-02-13T23:13:59.137Z"
   },
   {
    "duration": 1331,
    "start_time": "2023-02-13T23:13:59.181Z"
   },
   {
    "duration": 0,
    "start_time": "2023-02-13T23:14:00.513Z"
   },
   {
    "duration": 0,
    "start_time": "2023-02-13T23:14:00.515Z"
   },
   {
    "duration": 0,
    "start_time": "2023-02-13T23:14:00.516Z"
   },
   {
    "duration": 0,
    "start_time": "2023-02-13T23:14:00.517Z"
   },
   {
    "duration": 0,
    "start_time": "2023-02-13T23:14:00.517Z"
   },
   {
    "duration": 0,
    "start_time": "2023-02-13T23:14:00.519Z"
   },
   {
    "duration": 0,
    "start_time": "2023-02-13T23:14:00.520Z"
   },
   {
    "duration": 0,
    "start_time": "2023-02-13T23:14:00.522Z"
   },
   {
    "duration": 0,
    "start_time": "2023-02-13T23:14:00.522Z"
   },
   {
    "duration": 0,
    "start_time": "2023-02-13T23:14:00.523Z"
   },
   {
    "duration": 0,
    "start_time": "2023-02-13T23:14:00.524Z"
   },
   {
    "duration": 0,
    "start_time": "2023-02-13T23:14:00.525Z"
   },
   {
    "duration": 0,
    "start_time": "2023-02-13T23:14:00.526Z"
   },
   {
    "duration": 0,
    "start_time": "2023-02-13T23:14:00.527Z"
   },
   {
    "duration": 0,
    "start_time": "2023-02-13T23:14:00.527Z"
   },
   {
    "duration": 0,
    "start_time": "2023-02-13T23:14:00.528Z"
   },
   {
    "duration": 0,
    "start_time": "2023-02-13T23:14:00.529Z"
   },
   {
    "duration": 0,
    "start_time": "2023-02-13T23:14:00.530Z"
   },
   {
    "duration": 10,
    "start_time": "2023-02-13T23:17:45.723Z"
   },
   {
    "duration": 3,
    "start_time": "2023-02-13T23:18:06.823Z"
   },
   {
    "duration": 15,
    "start_time": "2023-02-13T23:18:23.536Z"
   },
   {
    "duration": 1139,
    "start_time": "2023-02-13T23:18:42.680Z"
   },
   {
    "duration": 148,
    "start_time": "2023-02-13T23:18:43.820Z"
   },
   {
    "duration": 18,
    "start_time": "2023-02-13T23:18:43.970Z"
   },
   {
    "duration": 10,
    "start_time": "2023-02-13T23:18:43.990Z"
   },
   {
    "duration": 14,
    "start_time": "2023-02-13T23:18:44.009Z"
   },
   {
    "duration": 18,
    "start_time": "2023-02-13T23:18:44.024Z"
   },
   {
    "duration": 75,
    "start_time": "2023-02-13T23:18:44.043Z"
   },
   {
    "duration": 37,
    "start_time": "2023-02-13T23:18:44.120Z"
   },
   {
    "duration": 20,
    "start_time": "2023-02-13T23:18:44.158Z"
   },
   {
    "duration": 48,
    "start_time": "2023-02-13T23:18:44.180Z"
   },
   {
    "duration": 19,
    "start_time": "2023-02-13T23:18:44.229Z"
   },
   {
    "duration": 7,
    "start_time": "2023-02-13T23:18:44.249Z"
   },
   {
    "duration": 10,
    "start_time": "2023-02-13T23:18:44.258Z"
   },
   {
    "duration": 10,
    "start_time": "2023-02-13T23:18:44.269Z"
   },
   {
    "duration": 365,
    "start_time": "2023-02-13T23:18:44.280Z"
   },
   {
    "duration": 12,
    "start_time": "2023-02-13T23:18:44.646Z"
   },
   {
    "duration": 255,
    "start_time": "2023-02-13T23:18:44.660Z"
   },
   {
    "duration": 5,
    "start_time": "2023-02-13T23:18:44.917Z"
   },
   {
    "duration": 7,
    "start_time": "2023-02-13T23:18:44.923Z"
   },
   {
    "duration": 30,
    "start_time": "2023-02-13T23:18:44.932Z"
   },
   {
    "duration": 2,
    "start_time": "2023-02-13T23:18:44.964Z"
   },
   {
    "duration": 55,
    "start_time": "2023-02-13T23:18:44.967Z"
   },
   {
    "duration": 119,
    "start_time": "2023-02-13T23:18:45.024Z"
   },
   {
    "duration": 0,
    "start_time": "2023-02-13T23:18:45.145Z"
   },
   {
    "duration": 0,
    "start_time": "2023-02-13T23:18:45.146Z"
   },
   {
    "duration": 1,
    "start_time": "2023-02-13T23:18:45.147Z"
   },
   {
    "duration": 0,
    "start_time": "2023-02-13T23:18:45.149Z"
   },
   {
    "duration": 0,
    "start_time": "2023-02-13T23:18:45.151Z"
   },
   {
    "duration": 0,
    "start_time": "2023-02-13T23:18:45.152Z"
   },
   {
    "duration": 0,
    "start_time": "2023-02-13T23:18:45.153Z"
   },
   {
    "duration": 0,
    "start_time": "2023-02-13T23:18:45.155Z"
   },
   {
    "duration": 0,
    "start_time": "2023-02-13T23:18:45.156Z"
   },
   {
    "duration": 0,
    "start_time": "2023-02-13T23:18:45.157Z"
   },
   {
    "duration": 0,
    "start_time": "2023-02-13T23:18:45.158Z"
   },
   {
    "duration": 0,
    "start_time": "2023-02-13T23:18:45.160Z"
   },
   {
    "duration": 0,
    "start_time": "2023-02-13T23:18:45.161Z"
   },
   {
    "duration": 0,
    "start_time": "2023-02-13T23:18:45.162Z"
   },
   {
    "duration": 0,
    "start_time": "2023-02-13T23:18:45.163Z"
   },
   {
    "duration": 0,
    "start_time": "2023-02-13T23:18:45.165Z"
   },
   {
    "duration": 0,
    "start_time": "2023-02-13T23:18:45.166Z"
   },
   {
    "duration": 0,
    "start_time": "2023-02-13T23:18:45.167Z"
   },
   {
    "duration": 1143,
    "start_time": "2023-02-13T23:18:56.178Z"
   },
   {
    "duration": 150,
    "start_time": "2023-02-13T23:18:57.323Z"
   },
   {
    "duration": 18,
    "start_time": "2023-02-13T23:18:57.475Z"
   },
   {
    "duration": 17,
    "start_time": "2023-02-13T23:18:57.495Z"
   },
   {
    "duration": 14,
    "start_time": "2023-02-13T23:18:57.514Z"
   },
   {
    "duration": 17,
    "start_time": "2023-02-13T23:18:57.530Z"
   },
   {
    "duration": 77,
    "start_time": "2023-02-13T23:18:57.548Z"
   },
   {
    "duration": 37,
    "start_time": "2023-02-13T23:18:57.626Z"
   },
   {
    "duration": 19,
    "start_time": "2023-02-13T23:18:57.664Z"
   },
   {
    "duration": 46,
    "start_time": "2023-02-13T23:18:57.684Z"
   },
   {
    "duration": 18,
    "start_time": "2023-02-13T23:18:57.732Z"
   },
   {
    "duration": 7,
    "start_time": "2023-02-13T23:18:57.751Z"
   },
   {
    "duration": 10,
    "start_time": "2023-02-13T23:18:57.760Z"
   },
   {
    "duration": 4,
    "start_time": "2023-02-13T23:18:57.773Z"
   },
   {
    "duration": 360,
    "start_time": "2023-02-13T23:18:57.778Z"
   },
   {
    "duration": 13,
    "start_time": "2023-02-13T23:18:58.139Z"
   },
   {
    "duration": 262,
    "start_time": "2023-02-13T23:18:58.153Z"
   },
   {
    "duration": 5,
    "start_time": "2023-02-13T23:18:58.417Z"
   },
   {
    "duration": 7,
    "start_time": "2023-02-13T23:18:58.423Z"
   },
   {
    "duration": 29,
    "start_time": "2023-02-13T23:18:58.432Z"
   },
   {
    "duration": 2,
    "start_time": "2023-02-13T23:18:58.462Z"
   },
   {
    "duration": 49,
    "start_time": "2023-02-13T23:18:58.466Z"
   },
   {
    "duration": 111,
    "start_time": "2023-02-13T23:18:58.517Z"
   },
   {
    "duration": 0,
    "start_time": "2023-02-13T23:18:58.630Z"
   },
   {
    "duration": 0,
    "start_time": "2023-02-13T23:18:58.631Z"
   },
   {
    "duration": 0,
    "start_time": "2023-02-13T23:18:58.632Z"
   },
   {
    "duration": 0,
    "start_time": "2023-02-13T23:18:58.633Z"
   },
   {
    "duration": 0,
    "start_time": "2023-02-13T23:18:58.634Z"
   },
   {
    "duration": 0,
    "start_time": "2023-02-13T23:18:58.635Z"
   },
   {
    "duration": 0,
    "start_time": "2023-02-13T23:18:58.636Z"
   },
   {
    "duration": 0,
    "start_time": "2023-02-13T23:18:58.636Z"
   },
   {
    "duration": 0,
    "start_time": "2023-02-13T23:18:58.637Z"
   },
   {
    "duration": 0,
    "start_time": "2023-02-13T23:18:58.638Z"
   },
   {
    "duration": 0,
    "start_time": "2023-02-13T23:18:58.639Z"
   },
   {
    "duration": 0,
    "start_time": "2023-02-13T23:18:58.640Z"
   },
   {
    "duration": 0,
    "start_time": "2023-02-13T23:18:58.641Z"
   },
   {
    "duration": 0,
    "start_time": "2023-02-13T23:18:58.642Z"
   },
   {
    "duration": 0,
    "start_time": "2023-02-13T23:18:58.643Z"
   },
   {
    "duration": 0,
    "start_time": "2023-02-13T23:18:58.644Z"
   },
   {
    "duration": 0,
    "start_time": "2023-02-13T23:18:58.645Z"
   },
   {
    "duration": 0,
    "start_time": "2023-02-13T23:18:58.646Z"
   },
   {
    "duration": 140,
    "start_time": "2023-02-13T23:22:32.790Z"
   },
   {
    "duration": 16,
    "start_time": "2023-02-13T23:22:45.853Z"
   },
   {
    "duration": 148,
    "start_time": "2023-02-13T23:24:05.115Z"
   },
   {
    "duration": 134,
    "start_time": "2023-02-13T23:24:43.360Z"
   },
   {
    "duration": 1139,
    "start_time": "2023-02-13T23:25:11.082Z"
   },
   {
    "duration": 151,
    "start_time": "2023-02-13T23:25:12.223Z"
   },
   {
    "duration": 19,
    "start_time": "2023-02-13T23:25:12.375Z"
   },
   {
    "duration": 18,
    "start_time": "2023-02-13T23:25:12.397Z"
   },
   {
    "duration": 15,
    "start_time": "2023-02-13T23:25:12.417Z"
   },
   {
    "duration": 17,
    "start_time": "2023-02-13T23:25:12.434Z"
   },
   {
    "duration": 84,
    "start_time": "2023-02-13T23:25:12.453Z"
   },
   {
    "duration": 32,
    "start_time": "2023-02-13T23:25:12.538Z"
   },
   {
    "duration": 21,
    "start_time": "2023-02-13T23:25:12.572Z"
   },
   {
    "duration": 28,
    "start_time": "2023-02-13T23:25:12.609Z"
   },
   {
    "duration": 17,
    "start_time": "2023-02-13T23:25:12.639Z"
   },
   {
    "duration": 7,
    "start_time": "2023-02-13T23:25:12.657Z"
   },
   {
    "duration": 11,
    "start_time": "2023-02-13T23:25:12.665Z"
   },
   {
    "duration": 5,
    "start_time": "2023-02-13T23:25:12.677Z"
   },
   {
    "duration": 370,
    "start_time": "2023-02-13T23:25:12.683Z"
   },
   {
    "duration": 14,
    "start_time": "2023-02-13T23:25:13.055Z"
   },
   {
    "duration": 262,
    "start_time": "2023-02-13T23:25:13.070Z"
   },
   {
    "duration": 7,
    "start_time": "2023-02-13T23:25:13.334Z"
   },
   {
    "duration": 6,
    "start_time": "2023-02-13T23:25:13.343Z"
   },
   {
    "duration": 38,
    "start_time": "2023-02-13T23:25:13.351Z"
   },
   {
    "duration": 19,
    "start_time": "2023-02-13T23:25:13.391Z"
   },
   {
    "duration": 27,
    "start_time": "2023-02-13T23:25:13.411Z"
   },
   {
    "duration": 148,
    "start_time": "2023-02-13T23:25:13.440Z"
   },
   {
    "duration": 65,
    "start_time": "2023-02-13T23:25:13.590Z"
   },
   {
    "duration": 9,
    "start_time": "2023-02-13T23:25:13.657Z"
   },
   {
    "duration": 5,
    "start_time": "2023-02-13T23:25:13.668Z"
   },
   {
    "duration": 52,
    "start_time": "2023-02-13T23:25:13.674Z"
   },
   {
    "duration": 43,
    "start_time": "2023-02-13T23:25:13.731Z"
   },
   {
    "duration": 4,
    "start_time": "2023-02-13T23:25:13.776Z"
   },
   {
    "duration": 7,
    "start_time": "2023-02-13T23:25:13.782Z"
   },
   {
    "duration": 21,
    "start_time": "2023-02-13T23:25:13.791Z"
   },
   {
    "duration": 36,
    "start_time": "2023-02-13T23:25:13.813Z"
   },
   {
    "duration": 7,
    "start_time": "2023-02-13T23:25:13.850Z"
   },
   {
    "duration": 14,
    "start_time": "2023-02-13T23:25:13.859Z"
   },
   {
    "duration": 9,
    "start_time": "2023-02-13T23:25:13.874Z"
   },
   {
    "duration": 66,
    "start_time": "2023-02-13T23:25:13.884Z"
   },
   {
    "duration": 3,
    "start_time": "2023-02-13T23:25:13.952Z"
   },
   {
    "duration": 12,
    "start_time": "2023-02-13T23:25:13.956Z"
   },
   {
    "duration": 10,
    "start_time": "2023-02-13T23:25:13.969Z"
   },
   {
    "duration": 10,
    "start_time": "2023-02-13T23:25:13.981Z"
   },
   {
    "duration": 10,
    "start_time": "2023-02-13T23:25:14.010Z"
   },
   {
    "duration": 170,
    "start_time": "2023-02-13T23:30:10.124Z"
   },
   {
    "duration": 1128,
    "start_time": "2023-02-13T23:30:25.282Z"
   },
   {
    "duration": 151,
    "start_time": "2023-02-13T23:30:26.411Z"
   },
   {
    "duration": 18,
    "start_time": "2023-02-13T23:30:26.564Z"
   },
   {
    "duration": 15,
    "start_time": "2023-02-13T23:30:26.583Z"
   },
   {
    "duration": 17,
    "start_time": "2023-02-13T23:30:26.611Z"
   },
   {
    "duration": 20,
    "start_time": "2023-02-13T23:30:26.631Z"
   },
   {
    "duration": 89,
    "start_time": "2023-02-13T23:30:26.653Z"
   },
   {
    "duration": 35,
    "start_time": "2023-02-13T23:30:26.743Z"
   },
   {
    "duration": 33,
    "start_time": "2023-02-13T23:30:26.780Z"
   },
   {
    "duration": 29,
    "start_time": "2023-02-13T23:30:26.815Z"
   },
   {
    "duration": 19,
    "start_time": "2023-02-13T23:30:26.845Z"
   },
   {
    "duration": 7,
    "start_time": "2023-02-13T23:30:26.866Z"
   },
   {
    "duration": 11,
    "start_time": "2023-02-13T23:30:26.874Z"
   },
   {
    "duration": 5,
    "start_time": "2023-02-13T23:30:26.910Z"
   },
   {
    "duration": 349,
    "start_time": "2023-02-13T23:30:26.916Z"
   },
   {
    "duration": 15,
    "start_time": "2023-02-13T23:30:27.267Z"
   },
   {
    "duration": 270,
    "start_time": "2023-02-13T23:30:27.284Z"
   },
   {
    "duration": 6,
    "start_time": "2023-02-13T23:30:27.556Z"
   },
   {
    "duration": 7,
    "start_time": "2023-02-13T23:30:27.564Z"
   },
   {
    "duration": 49,
    "start_time": "2023-02-13T23:30:27.573Z"
   },
   {
    "duration": 3,
    "start_time": "2023-02-13T23:30:27.624Z"
   },
   {
    "duration": 27,
    "start_time": "2023-02-13T23:30:27.629Z"
   },
   {
    "duration": 160,
    "start_time": "2023-02-13T23:30:27.658Z"
   },
   {
    "duration": 58,
    "start_time": "2023-02-13T23:30:27.819Z"
   },
   {
    "duration": 10,
    "start_time": "2023-02-13T23:30:27.878Z"
   },
   {
    "duration": 22,
    "start_time": "2023-02-13T23:30:27.889Z"
   },
   {
    "duration": 36,
    "start_time": "2023-02-13T23:30:27.912Z"
   },
   {
    "duration": 42,
    "start_time": "2023-02-13T23:30:27.950Z"
   },
   {
    "duration": 3,
    "start_time": "2023-02-13T23:30:27.994Z"
   },
   {
    "duration": 3,
    "start_time": "2023-02-13T23:30:28.009Z"
   },
   {
    "duration": 10,
    "start_time": "2023-02-13T23:30:28.014Z"
   },
   {
    "duration": 36,
    "start_time": "2023-02-13T23:30:28.025Z"
   },
   {
    "duration": 7,
    "start_time": "2023-02-13T23:30:28.063Z"
   },
   {
    "duration": 12,
    "start_time": "2023-02-13T23:30:28.071Z"
   },
   {
    "duration": 11,
    "start_time": "2023-02-13T23:30:28.084Z"
   },
   {
    "duration": 51,
    "start_time": "2023-02-13T23:30:28.110Z"
   },
   {
    "duration": 3,
    "start_time": "2023-02-13T23:30:28.162Z"
   },
   {
    "duration": 12,
    "start_time": "2023-02-13T23:30:28.166Z"
   },
   {
    "duration": 9,
    "start_time": "2023-02-13T23:30:28.180Z"
   },
   {
    "duration": 8,
    "start_time": "2023-02-13T23:30:28.210Z"
   },
   {
    "duration": 9,
    "start_time": "2023-02-13T23:30:28.222Z"
   },
   {
    "duration": 1105,
    "start_time": "2023-02-14T08:48:39.968Z"
   },
   {
    "duration": 551,
    "start_time": "2023-02-14T08:48:41.075Z"
   },
   {
    "duration": 21,
    "start_time": "2023-02-14T08:48:41.627Z"
   },
   {
    "duration": 12,
    "start_time": "2023-02-14T08:48:41.649Z"
   },
   {
    "duration": 16,
    "start_time": "2023-02-14T08:48:41.663Z"
   },
   {
    "duration": 20,
    "start_time": "2023-02-14T08:48:41.680Z"
   },
   {
    "duration": 94,
    "start_time": "2023-02-14T08:48:41.702Z"
   },
   {
    "duration": 53,
    "start_time": "2023-02-14T08:48:41.797Z"
   },
   {
    "duration": 23,
    "start_time": "2023-02-14T08:48:41.851Z"
   },
   {
    "duration": 32,
    "start_time": "2023-02-14T08:48:41.875Z"
   },
   {
    "duration": 41,
    "start_time": "2023-02-14T08:48:41.908Z"
   },
   {
    "duration": 7,
    "start_time": "2023-02-14T08:48:41.951Z"
   },
   {
    "duration": 12,
    "start_time": "2023-02-14T08:48:41.960Z"
   },
   {
    "duration": 8,
    "start_time": "2023-02-14T08:48:41.975Z"
   },
   {
    "duration": 380,
    "start_time": "2023-02-14T08:48:41.984Z"
   },
   {
    "duration": 13,
    "start_time": "2023-02-14T08:48:42.366Z"
   },
   {
    "duration": 296,
    "start_time": "2023-02-14T08:48:42.381Z"
   },
   {
    "duration": 6,
    "start_time": "2023-02-14T08:48:42.679Z"
   },
   {
    "duration": 11,
    "start_time": "2023-02-14T08:48:42.686Z"
   },
   {
    "duration": 50,
    "start_time": "2023-02-14T08:48:42.699Z"
   },
   {
    "duration": 3,
    "start_time": "2023-02-14T08:48:42.751Z"
   },
   {
    "duration": 29,
    "start_time": "2023-02-14T08:48:42.756Z"
   },
   {
    "duration": 166,
    "start_time": "2023-02-14T08:48:42.786Z"
   },
   {
    "duration": 86,
    "start_time": "2023-02-14T08:48:42.954Z"
   },
   {
    "duration": 15,
    "start_time": "2023-02-14T08:48:43.049Z"
   },
   {
    "duration": 6,
    "start_time": "2023-02-14T08:48:43.066Z"
   },
   {
    "duration": 43,
    "start_time": "2023-02-14T08:48:43.075Z"
   },
   {
    "duration": 74,
    "start_time": "2023-02-14T08:48:43.120Z"
   },
   {
    "duration": 4,
    "start_time": "2023-02-14T08:48:43.196Z"
   },
   {
    "duration": 6,
    "start_time": "2023-02-14T08:48:43.202Z"
   },
   {
    "duration": 7,
    "start_time": "2023-02-14T08:48:43.210Z"
   },
   {
    "duration": 49,
    "start_time": "2023-02-14T08:48:43.218Z"
   },
   {
    "duration": 8,
    "start_time": "2023-02-14T08:48:43.269Z"
   },
   {
    "duration": 14,
    "start_time": "2023-02-14T08:48:43.279Z"
   },
   {
    "duration": 6,
    "start_time": "2023-02-14T08:48:43.295Z"
   },
   {
    "duration": 79,
    "start_time": "2023-02-14T08:48:43.303Z"
   },
   {
    "duration": 5,
    "start_time": "2023-02-14T08:48:43.384Z"
   },
   {
    "duration": 26,
    "start_time": "2023-02-14T08:48:43.390Z"
   },
   {
    "duration": 40,
    "start_time": "2023-02-14T08:48:43.418Z"
   },
   {
    "duration": 18,
    "start_time": "2023-02-14T08:48:43.460Z"
   },
   {
    "duration": 15,
    "start_time": "2023-02-14T08:48:43.481Z"
   },
   {
    "duration": 1346,
    "start_time": "2023-02-14T15:27:29.188Z"
   },
   {
    "duration": 561,
    "start_time": "2023-02-14T15:27:30.536Z"
   },
   {
    "duration": 19,
    "start_time": "2023-02-14T15:27:31.099Z"
   },
   {
    "duration": 30,
    "start_time": "2023-02-14T15:27:31.120Z"
   },
   {
    "duration": 34,
    "start_time": "2023-02-14T15:27:31.152Z"
   },
   {
    "duration": 32,
    "start_time": "2023-02-14T15:27:31.188Z"
   },
   {
    "duration": 89,
    "start_time": "2023-02-14T15:27:31.223Z"
   },
   {
    "duration": 36,
    "start_time": "2023-02-14T15:27:31.314Z"
   },
   {
    "duration": 42,
    "start_time": "2023-02-14T15:27:31.352Z"
   },
   {
    "duration": 86,
    "start_time": "2023-02-14T15:27:31.398Z"
   },
   {
    "duration": 29,
    "start_time": "2023-02-14T15:27:31.485Z"
   },
   {
    "duration": 28,
    "start_time": "2023-02-14T15:27:31.516Z"
   },
   {
    "duration": 8,
    "start_time": "2023-02-14T15:27:31.546Z"
   },
   {
    "duration": 28,
    "start_time": "2023-02-14T15:27:31.555Z"
   },
   {
    "duration": 28,
    "start_time": "2023-02-14T15:27:31.585Z"
   },
   {
    "duration": 374,
    "start_time": "2023-02-14T15:27:31.614Z"
   },
   {
    "duration": 14,
    "start_time": "2023-02-14T15:27:31.990Z"
   },
   {
    "duration": 302,
    "start_time": "2023-02-14T15:27:32.005Z"
   },
   {
    "duration": 6,
    "start_time": "2023-02-14T15:27:32.309Z"
   },
   {
    "duration": 11,
    "start_time": "2023-02-14T15:27:32.316Z"
   },
   {
    "duration": 34,
    "start_time": "2023-02-14T15:27:32.328Z"
   },
   {
    "duration": 3,
    "start_time": "2023-02-14T15:27:32.363Z"
   },
   {
    "duration": 40,
    "start_time": "2023-02-14T15:27:32.367Z"
   },
   {
    "duration": 166,
    "start_time": "2023-02-14T15:27:32.409Z"
   },
   {
    "duration": 60,
    "start_time": "2023-02-14T15:27:32.577Z"
   },
   {
    "duration": 11,
    "start_time": "2023-02-14T15:27:32.639Z"
   },
   {
    "duration": 7,
    "start_time": "2023-02-14T15:27:32.651Z"
   },
   {
    "duration": 54,
    "start_time": "2023-02-14T15:27:32.661Z"
   },
   {
    "duration": 46,
    "start_time": "2023-02-14T15:27:32.716Z"
   },
   {
    "duration": 4,
    "start_time": "2023-02-14T15:27:32.764Z"
   },
   {
    "duration": 23,
    "start_time": "2023-02-14T15:27:32.769Z"
   },
   {
    "duration": 4,
    "start_time": "2023-02-14T15:27:32.794Z"
   },
   {
    "duration": 40,
    "start_time": "2023-02-14T15:27:32.799Z"
   },
   {
    "duration": 8,
    "start_time": "2023-02-14T15:27:32.841Z"
   },
   {
    "duration": 8,
    "start_time": "2023-02-14T15:27:32.851Z"
   },
   {
    "duration": 5,
    "start_time": "2023-02-14T15:27:32.861Z"
   },
   {
    "duration": 75,
    "start_time": "2023-02-14T15:27:32.868Z"
   },
   {
    "duration": 4,
    "start_time": "2023-02-14T15:27:32.945Z"
   },
   {
    "duration": 12,
    "start_time": "2023-02-14T15:27:32.951Z"
   },
   {
    "duration": 28,
    "start_time": "2023-02-14T15:27:32.965Z"
   },
   {
    "duration": 11,
    "start_time": "2023-02-14T15:27:32.994Z"
   },
   {
    "duration": 19,
    "start_time": "2023-02-14T15:27:33.007Z"
   },
   {
    "duration": 105,
    "start_time": "2023-02-14T15:39:14.642Z"
   },
   {
    "duration": 83,
    "start_time": "2023-02-14T15:39:34.800Z"
   },
   {
    "duration": 163,
    "start_time": "2023-02-14T15:39:50.037Z"
   },
   {
    "duration": 163,
    "start_time": "2023-02-14T15:40:19.286Z"
   },
   {
    "duration": 144,
    "start_time": "2023-02-14T15:40:39.608Z"
   },
   {
    "duration": 6,
    "start_time": "2023-02-14T15:43:20.216Z"
   },
   {
    "duration": 772,
    "start_time": "2023-02-14T15:44:12.032Z"
   },
   {
    "duration": 9,
    "start_time": "2023-02-14T16:14:08.910Z"
   },
   {
    "duration": 20,
    "start_time": "2023-02-14T16:22:03.114Z"
   },
   {
    "duration": 21,
    "start_time": "2023-02-14T16:22:12.406Z"
   },
   {
    "duration": 28,
    "start_time": "2023-02-14T16:30:52.539Z"
   },
   {
    "duration": 1117,
    "start_time": "2023-02-14T16:33:14.440Z"
   },
   {
    "duration": 181,
    "start_time": "2023-02-14T16:33:15.559Z"
   },
   {
    "duration": 19,
    "start_time": "2023-02-14T16:33:15.742Z"
   },
   {
    "duration": 29,
    "start_time": "2023-02-14T16:33:15.763Z"
   },
   {
    "duration": 15,
    "start_time": "2023-02-14T16:33:15.794Z"
   },
   {
    "duration": 18,
    "start_time": "2023-02-14T16:33:15.811Z"
   },
   {
    "duration": 93,
    "start_time": "2023-02-14T16:33:15.831Z"
   },
   {
    "duration": 47,
    "start_time": "2023-02-14T16:33:15.926Z"
   },
   {
    "duration": 47,
    "start_time": "2023-02-14T16:33:15.975Z"
   },
   {
    "duration": 106,
    "start_time": "2023-02-14T16:33:16.025Z"
   },
   {
    "duration": 186,
    "start_time": "2023-02-14T16:33:16.134Z"
   },
   {
    "duration": 135,
    "start_time": "2023-02-14T16:33:16.322Z"
   },
   {
    "duration": 0,
    "start_time": "2023-02-14T16:33:16.459Z"
   },
   {
    "duration": 0,
    "start_time": "2023-02-14T16:33:16.461Z"
   },
   {
    "duration": 0,
    "start_time": "2023-02-14T16:33:16.463Z"
   },
   {
    "duration": 0,
    "start_time": "2023-02-14T16:33:16.465Z"
   },
   {
    "duration": 0,
    "start_time": "2023-02-14T16:33:16.466Z"
   },
   {
    "duration": 0,
    "start_time": "2023-02-14T16:33:16.468Z"
   },
   {
    "duration": 0,
    "start_time": "2023-02-14T16:33:16.469Z"
   },
   {
    "duration": 0,
    "start_time": "2023-02-14T16:33:16.471Z"
   },
   {
    "duration": 0,
    "start_time": "2023-02-14T16:33:16.492Z"
   },
   {
    "duration": 0,
    "start_time": "2023-02-14T16:33:16.494Z"
   },
   {
    "duration": 0,
    "start_time": "2023-02-14T16:33:16.495Z"
   },
   {
    "duration": 0,
    "start_time": "2023-02-14T16:33:16.496Z"
   },
   {
    "duration": 0,
    "start_time": "2023-02-14T16:33:16.497Z"
   },
   {
    "duration": 0,
    "start_time": "2023-02-14T16:33:16.498Z"
   },
   {
    "duration": 0,
    "start_time": "2023-02-14T16:33:16.500Z"
   },
   {
    "duration": 0,
    "start_time": "2023-02-14T16:33:16.501Z"
   },
   {
    "duration": 0,
    "start_time": "2023-02-14T16:33:16.502Z"
   },
   {
    "duration": 0,
    "start_time": "2023-02-14T16:33:16.504Z"
   },
   {
    "duration": 0,
    "start_time": "2023-02-14T16:33:16.505Z"
   },
   {
    "duration": 0,
    "start_time": "2023-02-14T16:33:16.506Z"
   },
   {
    "duration": 0,
    "start_time": "2023-02-14T16:33:16.507Z"
   },
   {
    "duration": 0,
    "start_time": "2023-02-14T16:33:16.510Z"
   },
   {
    "duration": 0,
    "start_time": "2023-02-14T16:33:16.511Z"
   },
   {
    "duration": 0,
    "start_time": "2023-02-14T16:33:16.515Z"
   },
   {
    "duration": 0,
    "start_time": "2023-02-14T16:33:16.517Z"
   },
   {
    "duration": 0,
    "start_time": "2023-02-14T16:33:16.519Z"
   },
   {
    "duration": 0,
    "start_time": "2023-02-14T16:33:16.521Z"
   },
   {
    "duration": 0,
    "start_time": "2023-02-14T16:33:16.522Z"
   },
   {
    "duration": 0,
    "start_time": "2023-02-14T16:33:16.523Z"
   },
   {
    "duration": 0,
    "start_time": "2023-02-14T16:33:16.524Z"
   },
   {
    "duration": 0,
    "start_time": "2023-02-14T16:33:16.526Z"
   },
   {
    "duration": 0,
    "start_time": "2023-02-14T16:33:16.527Z"
   },
   {
    "duration": 26,
    "start_time": "2023-02-14T16:34:27.661Z"
   },
   {
    "duration": 28,
    "start_time": "2023-02-14T16:41:22.577Z"
   },
   {
    "duration": 52,
    "start_time": "2023-02-14T16:41:29.302Z"
   },
   {
    "duration": 1163,
    "start_time": "2023-02-14T16:41:56.259Z"
   },
   {
    "duration": 166,
    "start_time": "2023-02-14T16:41:57.424Z"
   },
   {
    "duration": 19,
    "start_time": "2023-02-14T16:41:57.592Z"
   },
   {
    "duration": 13,
    "start_time": "2023-02-14T16:41:57.613Z"
   },
   {
    "duration": 16,
    "start_time": "2023-02-14T16:41:57.628Z"
   },
   {
    "duration": 46,
    "start_time": "2023-02-14T16:41:57.646Z"
   },
   {
    "duration": 72,
    "start_time": "2023-02-14T16:41:57.694Z"
   },
   {
    "duration": 48,
    "start_time": "2023-02-14T16:41:57.769Z"
   },
   {
    "duration": 25,
    "start_time": "2023-02-14T16:41:57.818Z"
   },
   {
    "duration": 99,
    "start_time": "2023-02-14T16:41:57.846Z"
   },
   {
    "duration": 167,
    "start_time": "2023-02-14T16:41:57.947Z"
   },
   {
    "duration": 37,
    "start_time": "2023-02-14T16:41:58.116Z"
   },
   {
    "duration": 41,
    "start_time": "2023-02-14T16:41:58.154Z"
   },
   {
    "duration": 18,
    "start_time": "2023-02-14T16:41:58.196Z"
   },
   {
    "duration": 7,
    "start_time": "2023-02-14T16:41:58.215Z"
   },
   {
    "duration": 15,
    "start_time": "2023-02-14T16:41:58.224Z"
   },
   {
    "duration": 6,
    "start_time": "2023-02-14T16:41:58.241Z"
   },
   {
    "duration": 382,
    "start_time": "2023-02-14T16:41:58.249Z"
   },
   {
    "duration": 13,
    "start_time": "2023-02-14T16:41:58.633Z"
   },
   {
    "duration": 285,
    "start_time": "2023-02-14T16:41:58.648Z"
   },
   {
    "duration": 6,
    "start_time": "2023-02-14T16:41:58.936Z"
   },
   {
    "duration": 8,
    "start_time": "2023-02-14T16:41:58.944Z"
   },
   {
    "duration": 55,
    "start_time": "2023-02-14T16:41:58.954Z"
   },
   {
    "duration": 3,
    "start_time": "2023-02-14T16:41:59.011Z"
   },
   {
    "duration": 27,
    "start_time": "2023-02-14T16:41:59.016Z"
   },
   {
    "duration": 172,
    "start_time": "2023-02-14T16:41:59.045Z"
   },
   {
    "duration": 60,
    "start_time": "2023-02-14T16:41:59.219Z"
   },
   {
    "duration": 11,
    "start_time": "2023-02-14T16:41:59.294Z"
   },
   {
    "duration": 47,
    "start_time": "2023-02-14T16:41:59.306Z"
   },
   {
    "duration": 35,
    "start_time": "2023-02-14T16:41:59.354Z"
   },
   {
    "duration": 44,
    "start_time": "2023-02-14T16:41:59.391Z"
   },
   {
    "duration": 5,
    "start_time": "2023-02-14T16:41:59.437Z"
   },
   {
    "duration": 5,
    "start_time": "2023-02-14T16:41:59.444Z"
   },
   {
    "duration": 9,
    "start_time": "2023-02-14T16:41:59.451Z"
   },
   {
    "duration": 54,
    "start_time": "2023-02-14T16:41:59.462Z"
   },
   {
    "duration": 9,
    "start_time": "2023-02-14T16:41:59.518Z"
   },
   {
    "duration": 9,
    "start_time": "2023-02-14T16:41:59.529Z"
   },
   {
    "duration": 10,
    "start_time": "2023-02-14T16:41:59.540Z"
   },
   {
    "duration": 76,
    "start_time": "2023-02-14T16:41:59.551Z"
   },
   {
    "duration": 3,
    "start_time": "2023-02-14T16:41:59.628Z"
   },
   {
    "duration": 13,
    "start_time": "2023-02-14T16:41:59.633Z"
   },
   {
    "duration": 10,
    "start_time": "2023-02-14T16:41:59.647Z"
   },
   {
    "duration": 34,
    "start_time": "2023-02-14T16:41:59.659Z"
   },
   {
    "duration": 10,
    "start_time": "2023-02-14T16:41:59.695Z"
   },
   {
    "duration": 1086,
    "start_time": "2023-02-14T16:43:47.325Z"
   },
   {
    "duration": 159,
    "start_time": "2023-02-14T16:43:48.413Z"
   },
   {
    "duration": 22,
    "start_time": "2023-02-14T16:43:48.576Z"
   },
   {
    "duration": 10,
    "start_time": "2023-02-14T16:43:48.600Z"
   },
   {
    "duration": 23,
    "start_time": "2023-02-14T16:43:48.612Z"
   },
   {
    "duration": 18,
    "start_time": "2023-02-14T16:43:48.636Z"
   },
   {
    "duration": 83,
    "start_time": "2023-02-14T16:43:48.655Z"
   },
   {
    "duration": 47,
    "start_time": "2023-02-14T16:43:48.740Z"
   },
   {
    "duration": 23,
    "start_time": "2023-02-14T16:43:48.791Z"
   },
   {
    "duration": 83,
    "start_time": "2023-02-14T16:43:48.816Z"
   },
   {
    "duration": 164,
    "start_time": "2023-02-14T16:43:48.900Z"
   },
   {
    "duration": 44,
    "start_time": "2023-02-14T16:43:49.066Z"
   },
   {
    "duration": 28,
    "start_time": "2023-02-14T16:43:49.112Z"
   },
   {
    "duration": 17,
    "start_time": "2023-02-14T16:43:49.142Z"
   },
   {
    "duration": 32,
    "start_time": "2023-02-14T16:43:49.161Z"
   },
   {
    "duration": 16,
    "start_time": "2023-02-14T16:43:49.195Z"
   },
   {
    "duration": 13,
    "start_time": "2023-02-14T16:43:49.214Z"
   },
   {
    "duration": 386,
    "start_time": "2023-02-14T16:43:49.230Z"
   },
   {
    "duration": 12,
    "start_time": "2023-02-14T16:43:49.618Z"
   },
   {
    "duration": 300,
    "start_time": "2023-02-14T16:43:49.632Z"
   },
   {
    "duration": 5,
    "start_time": "2023-02-14T16:43:49.934Z"
   },
   {
    "duration": 9,
    "start_time": "2023-02-14T16:43:49.941Z"
   },
   {
    "duration": 49,
    "start_time": "2023-02-14T16:43:49.953Z"
   },
   {
    "duration": 3,
    "start_time": "2023-02-14T16:43:50.003Z"
   },
   {
    "duration": 30,
    "start_time": "2023-02-14T16:43:50.008Z"
   },
   {
    "duration": 181,
    "start_time": "2023-02-14T16:43:50.040Z"
   },
   {
    "duration": 69,
    "start_time": "2023-02-14T16:43:50.224Z"
   },
   {
    "duration": 10,
    "start_time": "2023-02-14T16:43:50.295Z"
   },
   {
    "duration": 8,
    "start_time": "2023-02-14T16:43:50.307Z"
   },
   {
    "duration": 37,
    "start_time": "2023-02-14T16:43:50.317Z"
   },
   {
    "duration": 60,
    "start_time": "2023-02-14T16:43:50.356Z"
   },
   {
    "duration": 4,
    "start_time": "2023-02-14T16:43:50.418Z"
   },
   {
    "duration": 22,
    "start_time": "2023-02-14T16:43:50.423Z"
   },
   {
    "duration": 9,
    "start_time": "2023-02-14T16:43:50.447Z"
   },
   {
    "duration": 38,
    "start_time": "2023-02-14T16:43:50.457Z"
   },
   {
    "duration": 10,
    "start_time": "2023-02-14T16:43:50.497Z"
   },
   {
    "duration": 29,
    "start_time": "2023-02-14T16:43:50.509Z"
   },
   {
    "duration": 16,
    "start_time": "2023-02-14T16:43:50.541Z"
   },
   {
    "duration": 57,
    "start_time": "2023-02-14T16:43:50.559Z"
   },
   {
    "duration": 4,
    "start_time": "2023-02-14T16:43:50.617Z"
   },
   {
    "duration": 36,
    "start_time": "2023-02-14T16:43:50.623Z"
   },
   {
    "duration": 10,
    "start_time": "2023-02-14T16:43:50.661Z"
   },
   {
    "duration": 10,
    "start_time": "2023-02-14T16:43:50.673Z"
   },
   {
    "duration": 15,
    "start_time": "2023-02-14T16:43:50.685Z"
   },
   {
    "duration": 65,
    "start_time": "2023-02-14T16:46:21.282Z"
   },
   {
    "duration": 143,
    "start_time": "2023-02-14T16:47:12.764Z"
   },
   {
    "duration": 122,
    "start_time": "2023-02-14T16:47:33.626Z"
   },
   {
    "duration": 1139,
    "start_time": "2023-02-14T16:47:47.705Z"
   },
   {
    "duration": 178,
    "start_time": "2023-02-14T16:47:48.847Z"
   },
   {
    "duration": 21,
    "start_time": "2023-02-14T16:47:49.027Z"
   },
   {
    "duration": 15,
    "start_time": "2023-02-14T16:47:49.050Z"
   },
   {
    "duration": 38,
    "start_time": "2023-02-14T16:47:49.068Z"
   },
   {
    "duration": 22,
    "start_time": "2023-02-14T16:47:49.108Z"
   },
   {
    "duration": 104,
    "start_time": "2023-02-14T16:47:49.133Z"
   },
   {
    "duration": 40,
    "start_time": "2023-02-14T16:47:49.239Z"
   },
   {
    "duration": 22,
    "start_time": "2023-02-14T16:47:49.292Z"
   },
   {
    "duration": 167,
    "start_time": "2023-02-14T16:47:49.316Z"
   },
   {
    "duration": 175,
    "start_time": "2023-02-14T16:47:49.485Z"
   },
   {
    "duration": 43,
    "start_time": "2023-02-14T16:47:49.663Z"
   },
   {
    "duration": 29,
    "start_time": "2023-02-14T16:47:49.708Z"
   },
   {
    "duration": 17,
    "start_time": "2023-02-14T16:47:49.740Z"
   },
   {
    "duration": 7,
    "start_time": "2023-02-14T16:47:49.758Z"
   },
   {
    "duration": 35,
    "start_time": "2023-02-14T16:47:49.766Z"
   },
   {
    "duration": 6,
    "start_time": "2023-02-14T16:47:49.803Z"
   },
   {
    "duration": 404,
    "start_time": "2023-02-14T16:47:49.811Z"
   },
   {
    "duration": 13,
    "start_time": "2023-02-14T16:47:50.217Z"
   },
   {
    "duration": 316,
    "start_time": "2023-02-14T16:47:50.232Z"
   },
   {
    "duration": 6,
    "start_time": "2023-02-14T16:47:50.550Z"
   },
   {
    "duration": 16,
    "start_time": "2023-02-14T16:47:50.558Z"
   },
   {
    "duration": 44,
    "start_time": "2023-02-14T16:47:50.576Z"
   },
   {
    "duration": 3,
    "start_time": "2023-02-14T16:47:50.621Z"
   },
   {
    "duration": 28,
    "start_time": "2023-02-14T16:47:50.627Z"
   },
   {
    "duration": 180,
    "start_time": "2023-02-14T16:47:50.657Z"
   },
   {
    "duration": 67,
    "start_time": "2023-02-14T16:47:50.838Z"
   },
   {
    "duration": 12,
    "start_time": "2023-02-14T16:47:50.906Z"
   },
   {
    "duration": 9,
    "start_time": "2023-02-14T16:47:50.920Z"
   },
   {
    "duration": 36,
    "start_time": "2023-02-14T16:47:50.931Z"
   },
   {
    "duration": 70,
    "start_time": "2023-02-14T16:47:50.968Z"
   },
   {
    "duration": 4,
    "start_time": "2023-02-14T16:47:51.039Z"
   },
   {
    "duration": 8,
    "start_time": "2023-02-14T16:47:51.045Z"
   },
   {
    "duration": 7,
    "start_time": "2023-02-14T16:47:51.055Z"
   },
   {
    "duration": 52,
    "start_time": "2023-02-14T16:47:51.063Z"
   },
   {
    "duration": 8,
    "start_time": "2023-02-14T16:47:51.117Z"
   },
   {
    "duration": 8,
    "start_time": "2023-02-14T16:47:51.126Z"
   },
   {
    "duration": 8,
    "start_time": "2023-02-14T16:47:51.136Z"
   },
   {
    "duration": 72,
    "start_time": "2023-02-14T16:47:51.146Z"
   },
   {
    "duration": 4,
    "start_time": "2023-02-14T16:47:51.219Z"
   },
   {
    "duration": 15,
    "start_time": "2023-02-14T16:47:51.227Z"
   },
   {
    "duration": 19,
    "start_time": "2023-02-14T16:47:51.244Z"
   },
   {
    "duration": 28,
    "start_time": "2023-02-14T16:47:51.264Z"
   },
   {
    "duration": 13,
    "start_time": "2023-02-14T16:47:51.293Z"
   },
   {
    "duration": 128,
    "start_time": "2023-02-14T16:48:14.734Z"
   },
   {
    "duration": 1129,
    "start_time": "2023-02-14T16:48:20.907Z"
   },
   {
    "duration": 163,
    "start_time": "2023-02-14T16:48:22.038Z"
   },
   {
    "duration": 19,
    "start_time": "2023-02-14T16:48:22.203Z"
   },
   {
    "duration": 12,
    "start_time": "2023-02-14T16:48:22.224Z"
   },
   {
    "duration": 15,
    "start_time": "2023-02-14T16:48:22.238Z"
   },
   {
    "duration": 43,
    "start_time": "2023-02-14T16:48:22.255Z"
   },
   {
    "duration": 76,
    "start_time": "2023-02-14T16:48:22.300Z"
   },
   {
    "duration": 46,
    "start_time": "2023-02-14T16:48:22.378Z"
   },
   {
    "duration": 20,
    "start_time": "2023-02-14T16:48:22.426Z"
   },
   {
    "duration": 161,
    "start_time": "2023-02-14T16:48:22.449Z"
   },
   {
    "duration": 152,
    "start_time": "2023-02-14T16:48:22.612Z"
   },
   {
    "duration": 43,
    "start_time": "2023-02-14T16:48:22.765Z"
   },
   {
    "duration": 25,
    "start_time": "2023-02-14T16:48:22.810Z"
   },
   {
    "duration": 17,
    "start_time": "2023-02-14T16:48:22.837Z"
   },
   {
    "duration": 7,
    "start_time": "2023-02-14T16:48:22.855Z"
   },
   {
    "duration": 34,
    "start_time": "2023-02-14T16:48:22.864Z"
   },
   {
    "duration": 7,
    "start_time": "2023-02-14T16:48:22.900Z"
   },
   {
    "duration": 384,
    "start_time": "2023-02-14T16:48:22.909Z"
   },
   {
    "duration": 15,
    "start_time": "2023-02-14T16:48:23.294Z"
   },
   {
    "duration": 296,
    "start_time": "2023-02-14T16:48:23.310Z"
   },
   {
    "duration": 6,
    "start_time": "2023-02-14T16:48:23.608Z"
   },
   {
    "duration": 7,
    "start_time": "2023-02-14T16:48:23.615Z"
   },
   {
    "duration": 28,
    "start_time": "2023-02-14T16:48:23.623Z"
   },
   {
    "duration": 2,
    "start_time": "2023-02-14T16:48:23.653Z"
   },
   {
    "duration": 54,
    "start_time": "2023-02-14T16:48:23.657Z"
   },
   {
    "duration": 153,
    "start_time": "2023-02-14T16:48:23.713Z"
   },
   {
    "duration": 65,
    "start_time": "2023-02-14T16:48:23.868Z"
   },
   {
    "duration": 10,
    "start_time": "2023-02-14T16:48:23.937Z"
   },
   {
    "duration": 6,
    "start_time": "2023-02-14T16:48:23.949Z"
   },
   {
    "duration": 50,
    "start_time": "2023-02-14T16:48:23.956Z"
   },
   {
    "duration": 45,
    "start_time": "2023-02-14T16:48:24.007Z"
   },
   {
    "duration": 3,
    "start_time": "2023-02-14T16:48:24.054Z"
   },
   {
    "duration": 9,
    "start_time": "2023-02-14T16:48:24.058Z"
   },
   {
    "duration": 24,
    "start_time": "2023-02-14T16:48:24.068Z"
   },
   {
    "duration": 58,
    "start_time": "2023-02-14T16:48:24.093Z"
   },
   {
    "duration": 8,
    "start_time": "2023-02-14T16:48:24.153Z"
   },
   {
    "duration": 8,
    "start_time": "2023-02-14T16:48:24.163Z"
   },
   {
    "duration": 30,
    "start_time": "2023-02-14T16:48:24.172Z"
   },
   {
    "duration": 63,
    "start_time": "2023-02-14T16:48:24.204Z"
   },
   {
    "duration": 3,
    "start_time": "2023-02-14T16:48:24.269Z"
   },
   {
    "duration": 24,
    "start_time": "2023-02-14T16:48:24.274Z"
   },
   {
    "duration": 27,
    "start_time": "2023-02-14T16:48:24.300Z"
   },
   {
    "duration": 11,
    "start_time": "2023-02-14T16:48:24.329Z"
   },
   {
    "duration": 16,
    "start_time": "2023-02-14T16:48:24.342Z"
   },
   {
    "duration": 977,
    "start_time": "2023-02-14T17:24:35.509Z"
   },
   {
    "duration": 1245,
    "start_time": "2023-02-14T17:25:04.299Z"
   },
   {
    "duration": 164,
    "start_time": "2023-02-14T17:25:05.546Z"
   },
   {
    "duration": 21,
    "start_time": "2023-02-14T17:25:05.712Z"
   },
   {
    "duration": 12,
    "start_time": "2023-02-14T17:25:05.736Z"
   },
   {
    "duration": 42,
    "start_time": "2023-02-14T17:25:05.750Z"
   },
   {
    "duration": 19,
    "start_time": "2023-02-14T17:25:05.794Z"
   },
   {
    "duration": 88,
    "start_time": "2023-02-14T17:25:05.814Z"
   },
   {
    "duration": 36,
    "start_time": "2023-02-14T17:25:05.904Z"
   },
   {
    "duration": 45,
    "start_time": "2023-02-14T17:25:05.941Z"
   },
   {
    "duration": 179,
    "start_time": "2023-02-14T17:25:05.991Z"
   },
   {
    "duration": 184,
    "start_time": "2023-02-14T17:25:06.173Z"
   },
   {
    "duration": 44,
    "start_time": "2023-02-14T17:25:06.359Z"
   },
   {
    "duration": 34,
    "start_time": "2023-02-14T17:25:06.405Z"
   },
   {
    "duration": 27,
    "start_time": "2023-02-14T17:25:06.441Z"
   },
   {
    "duration": 69,
    "start_time": "2023-02-14T17:25:06.470Z"
   },
   {
    "duration": 44,
    "start_time": "2023-02-14T17:25:06.541Z"
   },
   {
    "duration": 27,
    "start_time": "2023-02-14T17:25:06.587Z"
   },
   {
    "duration": 427,
    "start_time": "2023-02-14T17:25:06.616Z"
   },
   {
    "duration": 14,
    "start_time": "2023-02-14T17:25:07.045Z"
   },
   {
    "duration": 346,
    "start_time": "2023-02-14T17:25:07.061Z"
   },
   {
    "duration": 6,
    "start_time": "2023-02-14T17:25:07.409Z"
   },
   {
    "duration": 11,
    "start_time": "2023-02-14T17:25:07.416Z"
   },
   {
    "duration": 38,
    "start_time": "2023-02-14T17:25:07.428Z"
   },
   {
    "duration": 3,
    "start_time": "2023-02-14T17:25:07.467Z"
   },
   {
    "duration": 30,
    "start_time": "2023-02-14T17:25:07.491Z"
   },
   {
    "duration": 193,
    "start_time": "2023-02-14T17:25:07.524Z"
   },
   {
    "duration": 74,
    "start_time": "2023-02-14T17:25:07.719Z"
   },
   {
    "duration": 12,
    "start_time": "2023-02-14T17:25:07.796Z"
   },
   {
    "duration": 22,
    "start_time": "2023-02-14T17:25:07.809Z"
   },
   {
    "duration": 862,
    "start_time": "2023-02-14T17:25:07.833Z"
   },
   {
    "duration": 0,
    "start_time": "2023-02-14T17:25:08.697Z"
   },
   {
    "duration": 0,
    "start_time": "2023-02-14T17:25:08.698Z"
   },
   {
    "duration": 0,
    "start_time": "2023-02-14T17:25:08.699Z"
   },
   {
    "duration": 0,
    "start_time": "2023-02-14T17:25:08.700Z"
   },
   {
    "duration": 0,
    "start_time": "2023-02-14T17:25:08.701Z"
   },
   {
    "duration": 0,
    "start_time": "2023-02-14T17:25:08.702Z"
   },
   {
    "duration": 0,
    "start_time": "2023-02-14T17:25:08.703Z"
   },
   {
    "duration": 0,
    "start_time": "2023-02-14T17:25:08.705Z"
   },
   {
    "duration": 0,
    "start_time": "2023-02-14T17:25:08.706Z"
   },
   {
    "duration": 0,
    "start_time": "2023-02-14T17:25:08.706Z"
   },
   {
    "duration": 0,
    "start_time": "2023-02-14T17:25:08.707Z"
   },
   {
    "duration": 0,
    "start_time": "2023-02-14T17:25:08.708Z"
   },
   {
    "duration": 0,
    "start_time": "2023-02-14T17:25:08.709Z"
   },
   {
    "duration": 0,
    "start_time": "2023-02-14T17:25:08.710Z"
   },
   {
    "duration": 0,
    "start_time": "2023-02-14T17:25:08.712Z"
   },
   {
    "duration": 714,
    "start_time": "2023-02-14T17:26:04.130Z"
   },
   {
    "duration": 1172,
    "start_time": "2023-02-14T17:26:22.235Z"
   },
   {
    "duration": 170,
    "start_time": "2023-02-14T17:26:23.409Z"
   },
   {
    "duration": 25,
    "start_time": "2023-02-14T17:26:23.580Z"
   },
   {
    "duration": 17,
    "start_time": "2023-02-14T17:26:23.607Z"
   },
   {
    "duration": 17,
    "start_time": "2023-02-14T17:26:23.626Z"
   },
   {
    "duration": 46,
    "start_time": "2023-02-14T17:26:23.645Z"
   },
   {
    "duration": 85,
    "start_time": "2023-02-14T17:26:23.693Z"
   },
   {
    "duration": 41,
    "start_time": "2023-02-14T17:26:23.791Z"
   },
   {
    "duration": 45,
    "start_time": "2023-02-14T17:26:23.834Z"
   },
   {
    "duration": 157,
    "start_time": "2023-02-14T17:26:23.882Z"
   },
   {
    "duration": 179,
    "start_time": "2023-02-14T17:26:24.041Z"
   },
   {
    "duration": 41,
    "start_time": "2023-02-14T17:26:24.222Z"
   },
   {
    "duration": 39,
    "start_time": "2023-02-14T17:26:24.265Z"
   },
   {
    "duration": 17,
    "start_time": "2023-02-14T17:26:24.306Z"
   },
   {
    "duration": 6,
    "start_time": "2023-02-14T17:26:24.324Z"
   },
   {
    "duration": 11,
    "start_time": "2023-02-14T17:26:24.332Z"
   },
   {
    "duration": 11,
    "start_time": "2023-02-14T17:26:24.344Z"
   },
   {
    "duration": 394,
    "start_time": "2023-02-14T17:26:24.356Z"
   },
   {
    "duration": 14,
    "start_time": "2023-02-14T17:26:24.751Z"
   },
   {
    "duration": 303,
    "start_time": "2023-02-14T17:26:24.767Z"
   },
   {
    "duration": 5,
    "start_time": "2023-02-14T17:26:25.072Z"
   },
   {
    "duration": 23,
    "start_time": "2023-02-14T17:26:25.078Z"
   },
   {
    "duration": 32,
    "start_time": "2023-02-14T17:26:25.102Z"
   },
   {
    "duration": 3,
    "start_time": "2023-02-14T17:26:25.136Z"
   },
   {
    "duration": 58,
    "start_time": "2023-02-14T17:26:25.142Z"
   },
   {
    "duration": 178,
    "start_time": "2023-02-14T17:26:25.202Z"
   },
   {
    "duration": 64,
    "start_time": "2023-02-14T17:26:25.381Z"
   },
   {
    "duration": 11,
    "start_time": "2023-02-14T17:26:25.449Z"
   },
   {
    "duration": 7,
    "start_time": "2023-02-14T17:26:25.462Z"
   },
   {
    "duration": 819,
    "start_time": "2023-02-14T17:26:25.471Z"
   },
   {
    "duration": 0,
    "start_time": "2023-02-14T17:26:26.293Z"
   },
   {
    "duration": 0,
    "start_time": "2023-02-14T17:26:26.294Z"
   },
   {
    "duration": 0,
    "start_time": "2023-02-14T17:26:26.296Z"
   },
   {
    "duration": 0,
    "start_time": "2023-02-14T17:26:26.297Z"
   },
   {
    "duration": 0,
    "start_time": "2023-02-14T17:26:26.299Z"
   },
   {
    "duration": 0,
    "start_time": "2023-02-14T17:26:26.300Z"
   },
   {
    "duration": 0,
    "start_time": "2023-02-14T17:26:26.302Z"
   },
   {
    "duration": 0,
    "start_time": "2023-02-14T17:26:26.304Z"
   },
   {
    "duration": 0,
    "start_time": "2023-02-14T17:26:26.305Z"
   },
   {
    "duration": 0,
    "start_time": "2023-02-14T17:26:26.307Z"
   },
   {
    "duration": 0,
    "start_time": "2023-02-14T17:26:26.308Z"
   },
   {
    "duration": 0,
    "start_time": "2023-02-14T17:26:26.310Z"
   },
   {
    "duration": 0,
    "start_time": "2023-02-14T17:26:26.311Z"
   },
   {
    "duration": 0,
    "start_time": "2023-02-14T17:26:26.312Z"
   },
   {
    "duration": 0,
    "start_time": "2023-02-14T17:26:26.314Z"
   },
   {
    "duration": 5,
    "start_time": "2023-02-14T17:27:28.286Z"
   },
   {
    "duration": 4,
    "start_time": "2023-02-14T17:27:54.450Z"
   },
   {
    "duration": 709,
    "start_time": "2023-02-14T17:28:15.586Z"
   },
   {
    "duration": 730,
    "start_time": "2023-02-14T17:28:26.105Z"
   },
   {
    "duration": 1271,
    "start_time": "2023-02-14T17:29:03.157Z"
   },
   {
    "duration": 161,
    "start_time": "2023-02-14T17:29:04.431Z"
   },
   {
    "duration": 21,
    "start_time": "2023-02-14T17:29:04.594Z"
   },
   {
    "duration": 12,
    "start_time": "2023-02-14T17:29:04.617Z"
   },
   {
    "duration": 37,
    "start_time": "2023-02-14T17:29:04.631Z"
   },
   {
    "duration": 24,
    "start_time": "2023-02-14T17:29:04.670Z"
   },
   {
    "duration": 76,
    "start_time": "2023-02-14T17:29:04.695Z"
   },
   {
    "duration": 61,
    "start_time": "2023-02-14T17:29:04.773Z"
   },
   {
    "duration": 21,
    "start_time": "2023-02-14T17:29:04.835Z"
   },
   {
    "duration": 159,
    "start_time": "2023-02-14T17:29:04.858Z"
   },
   {
    "duration": 185,
    "start_time": "2023-02-14T17:29:05.019Z"
   },
   {
    "duration": 49,
    "start_time": "2023-02-14T17:29:05.206Z"
   },
   {
    "duration": 42,
    "start_time": "2023-02-14T17:29:05.256Z"
   },
   {
    "duration": 17,
    "start_time": "2023-02-14T17:29:05.300Z"
   },
   {
    "duration": 17,
    "start_time": "2023-02-14T17:29:05.319Z"
   },
   {
    "duration": 12,
    "start_time": "2023-02-14T17:29:05.338Z"
   },
   {
    "duration": 9,
    "start_time": "2023-02-14T17:29:05.352Z"
   },
   {
    "duration": 396,
    "start_time": "2023-02-14T17:29:05.362Z"
   },
   {
    "duration": 14,
    "start_time": "2023-02-14T17:29:05.759Z"
   },
   {
    "duration": 313,
    "start_time": "2023-02-14T17:29:05.774Z"
   },
   {
    "duration": 7,
    "start_time": "2023-02-14T17:29:06.089Z"
   },
   {
    "duration": 18,
    "start_time": "2023-02-14T17:29:06.099Z"
   },
   {
    "duration": 59,
    "start_time": "2023-02-14T17:29:06.119Z"
   },
   {
    "duration": 4,
    "start_time": "2023-02-14T17:29:06.180Z"
   },
   {
    "duration": 41,
    "start_time": "2023-02-14T17:29:06.185Z"
   },
   {
    "duration": 195,
    "start_time": "2023-02-14T17:29:06.228Z"
   },
   {
    "duration": 73,
    "start_time": "2023-02-14T17:29:06.425Z"
   },
   {
    "duration": 13,
    "start_time": "2023-02-14T17:29:06.502Z"
   },
   {
    "duration": 20,
    "start_time": "2023-02-14T17:29:06.517Z"
   },
   {
    "duration": 819,
    "start_time": "2023-02-14T17:29:06.539Z"
   },
   {
    "duration": 0,
    "start_time": "2023-02-14T17:29:07.361Z"
   },
   {
    "duration": 0,
    "start_time": "2023-02-14T17:29:07.362Z"
   },
   {
    "duration": 0,
    "start_time": "2023-02-14T17:29:07.363Z"
   },
   {
    "duration": 0,
    "start_time": "2023-02-14T17:29:07.365Z"
   },
   {
    "duration": 0,
    "start_time": "2023-02-14T17:29:07.365Z"
   },
   {
    "duration": 0,
    "start_time": "2023-02-14T17:29:07.366Z"
   },
   {
    "duration": 0,
    "start_time": "2023-02-14T17:29:07.368Z"
   },
   {
    "duration": 0,
    "start_time": "2023-02-14T17:29:07.369Z"
   },
   {
    "duration": 0,
    "start_time": "2023-02-14T17:29:07.370Z"
   },
   {
    "duration": 0,
    "start_time": "2023-02-14T17:29:07.371Z"
   },
   {
    "duration": 0,
    "start_time": "2023-02-14T17:29:07.372Z"
   },
   {
    "duration": 0,
    "start_time": "2023-02-14T17:29:07.373Z"
   },
   {
    "duration": 0,
    "start_time": "2023-02-14T17:29:07.374Z"
   },
   {
    "duration": 0,
    "start_time": "2023-02-14T17:29:07.375Z"
   },
   {
    "duration": 0,
    "start_time": "2023-02-14T17:29:07.376Z"
   },
   {
    "duration": 0,
    "start_time": "2023-02-14T17:29:07.377Z"
   },
   {
    "duration": 8,
    "start_time": "2023-02-14T17:29:20.459Z"
   },
   {
    "duration": 739,
    "start_time": "2023-02-14T17:29:26.307Z"
   },
   {
    "duration": 810,
    "start_time": "2023-02-14T17:29:56.687Z"
   },
   {
    "duration": 29,
    "start_time": "2023-02-14T17:37:36.744Z"
   },
   {
    "duration": 16,
    "start_time": "2023-02-14T17:38:01.456Z"
   },
   {
    "duration": 1265,
    "start_time": "2023-02-14T17:40:15.642Z"
   },
   {
    "duration": 160,
    "start_time": "2023-02-14T17:40:16.909Z"
   },
   {
    "duration": 22,
    "start_time": "2023-02-14T17:40:17.071Z"
   },
   {
    "duration": 12,
    "start_time": "2023-02-14T17:40:17.094Z"
   },
   {
    "duration": 15,
    "start_time": "2023-02-14T17:40:17.108Z"
   },
   {
    "duration": 18,
    "start_time": "2023-02-14T17:40:17.125Z"
   },
   {
    "duration": 104,
    "start_time": "2023-02-14T17:40:17.144Z"
   },
   {
    "duration": 46,
    "start_time": "2023-02-14T17:40:17.250Z"
   },
   {
    "duration": 21,
    "start_time": "2023-02-14T17:40:17.298Z"
   },
   {
    "duration": 172,
    "start_time": "2023-02-14T17:40:17.321Z"
   },
   {
    "duration": 172,
    "start_time": "2023-02-14T17:40:17.495Z"
   },
   {
    "duration": 45,
    "start_time": "2023-02-14T17:40:17.669Z"
   },
   {
    "duration": 26,
    "start_time": "2023-02-14T17:40:17.716Z"
   },
   {
    "duration": 17,
    "start_time": "2023-02-14T17:40:17.745Z"
   },
   {
    "duration": 27,
    "start_time": "2023-02-14T17:40:17.764Z"
   },
   {
    "duration": 11,
    "start_time": "2023-02-14T17:40:17.794Z"
   },
   {
    "duration": 12,
    "start_time": "2023-02-14T17:40:17.806Z"
   },
   {
    "duration": 356,
    "start_time": "2023-02-14T17:40:17.820Z"
   },
   {
    "duration": 20,
    "start_time": "2023-02-14T17:40:18.178Z"
   },
   {
    "duration": 296,
    "start_time": "2023-02-14T17:40:18.200Z"
   },
   {
    "duration": 6,
    "start_time": "2023-02-14T17:40:18.497Z"
   },
   {
    "duration": 8,
    "start_time": "2023-02-14T17:40:18.505Z"
   },
   {
    "duration": 32,
    "start_time": "2023-02-14T17:40:18.515Z"
   },
   {
    "duration": 3,
    "start_time": "2023-02-14T17:40:18.550Z"
   },
   {
    "duration": 62,
    "start_time": "2023-02-14T17:40:18.555Z"
   },
   {
    "duration": 159,
    "start_time": "2023-02-14T17:40:18.619Z"
   },
   {
    "duration": 68,
    "start_time": "2023-02-14T17:40:18.779Z"
   },
   {
    "duration": 11,
    "start_time": "2023-02-14T17:40:18.848Z"
   },
   {
    "duration": 13,
    "start_time": "2023-02-14T17:40:18.860Z"
   },
   {
    "duration": 44,
    "start_time": "2023-02-14T17:40:18.874Z"
   },
   {
    "duration": 47,
    "start_time": "2023-02-14T17:40:18.920Z"
   },
   {
    "duration": 5,
    "start_time": "2023-02-14T17:40:18.969Z"
   },
   {
    "duration": 19,
    "start_time": "2023-02-14T17:40:18.975Z"
   },
   {
    "duration": 25,
    "start_time": "2023-02-14T17:40:18.996Z"
   },
   {
    "duration": 41,
    "start_time": "2023-02-14T17:40:19.023Z"
   },
   {
    "duration": 8,
    "start_time": "2023-02-14T17:40:19.066Z"
   },
   {
    "duration": 12,
    "start_time": "2023-02-14T17:40:19.076Z"
   },
   {
    "duration": 10,
    "start_time": "2023-02-14T17:40:19.092Z"
   },
   {
    "duration": 61,
    "start_time": "2023-02-14T17:40:19.104Z"
   },
   {
    "duration": 4,
    "start_time": "2023-02-14T17:40:19.167Z"
   },
   {
    "duration": 24,
    "start_time": "2023-02-14T17:40:19.175Z"
   },
   {
    "duration": 60,
    "start_time": "2023-02-14T17:40:19.201Z"
   },
   {
    "duration": 17,
    "start_time": "2023-02-14T17:40:19.262Z"
   },
   {
    "duration": 11,
    "start_time": "2023-02-14T17:40:19.281Z"
   },
   {
    "duration": 1266,
    "start_time": "2023-02-15T09:38:57.824Z"
   },
   {
    "duration": 154,
    "start_time": "2023-02-15T09:38:59.092Z"
   },
   {
    "duration": 20,
    "start_time": "2023-02-15T09:38:59.247Z"
   },
   {
    "duration": 12,
    "start_time": "2023-02-15T09:38:59.269Z"
   },
   {
    "duration": 16,
    "start_time": "2023-02-15T09:38:59.283Z"
   },
   {
    "duration": 45,
    "start_time": "2023-02-15T09:38:59.301Z"
   },
   {
    "duration": 86,
    "start_time": "2023-02-15T09:38:59.347Z"
   },
   {
    "duration": 34,
    "start_time": "2023-02-15T09:38:59.435Z"
   },
   {
    "duration": 30,
    "start_time": "2023-02-15T09:38:59.470Z"
   },
   {
    "duration": 191,
    "start_time": "2023-02-15T09:38:59.502Z"
   },
   {
    "duration": 168,
    "start_time": "2023-02-15T09:38:59.695Z"
   },
   {
    "duration": 39,
    "start_time": "2023-02-15T09:38:59.865Z"
   },
   {
    "duration": 39,
    "start_time": "2023-02-15T09:38:59.906Z"
   },
   {
    "duration": 18,
    "start_time": "2023-02-15T09:38:59.948Z"
   },
   {
    "duration": 7,
    "start_time": "2023-02-15T09:38:59.968Z"
   },
   {
    "duration": 11,
    "start_time": "2023-02-15T09:38:59.977Z"
   },
   {
    "duration": 41,
    "start_time": "2023-02-15T09:38:59.990Z"
   },
   {
    "duration": 433,
    "start_time": "2023-02-15T09:39:00.033Z"
   },
   {
    "duration": 18,
    "start_time": "2023-02-15T09:39:00.468Z"
   },
   {
    "duration": 425,
    "start_time": "2023-02-15T09:39:00.488Z"
   },
   {
    "duration": 11,
    "start_time": "2023-02-15T09:39:00.916Z"
   },
   {
    "duration": 18,
    "start_time": "2023-02-15T09:39:00.929Z"
   },
   {
    "duration": 60,
    "start_time": "2023-02-15T09:39:00.949Z"
   },
   {
    "duration": 4,
    "start_time": "2023-02-15T09:39:01.011Z"
   },
   {
    "duration": 62,
    "start_time": "2023-02-15T09:39:01.017Z"
   },
   {
    "duration": 157,
    "start_time": "2023-02-15T09:39:01.081Z"
   },
   {
    "duration": 59,
    "start_time": "2023-02-15T09:39:01.240Z"
   },
   {
    "duration": 26,
    "start_time": "2023-02-15T09:39:01.301Z"
   },
   {
    "duration": 16,
    "start_time": "2023-02-15T09:39:01.329Z"
   },
   {
    "duration": 49,
    "start_time": "2023-02-15T09:39:01.347Z"
   },
   {
    "duration": 51,
    "start_time": "2023-02-15T09:39:01.397Z"
   },
   {
    "duration": 4,
    "start_time": "2023-02-15T09:39:01.450Z"
   },
   {
    "duration": 12,
    "start_time": "2023-02-15T09:39:01.456Z"
   },
   {
    "duration": 12,
    "start_time": "2023-02-15T09:39:01.470Z"
   },
   {
    "duration": 53,
    "start_time": "2023-02-15T09:39:01.483Z"
   },
   {
    "duration": 9,
    "start_time": "2023-02-15T09:39:01.538Z"
   },
   {
    "duration": 18,
    "start_time": "2023-02-15T09:39:01.549Z"
   },
   {
    "duration": 59,
    "start_time": "2023-02-15T09:39:01.569Z"
   },
   {
    "duration": 72,
    "start_time": "2023-02-15T09:39:01.630Z"
   },
   {
    "duration": 4,
    "start_time": "2023-02-15T09:39:01.703Z"
   },
   {
    "duration": 35,
    "start_time": "2023-02-15T09:39:01.710Z"
   },
   {
    "duration": 28,
    "start_time": "2023-02-15T09:39:01.747Z"
   },
   {
    "duration": 32,
    "start_time": "2023-02-15T09:39:01.777Z"
   },
   {
    "duration": 35,
    "start_time": "2023-02-15T09:39:01.811Z"
   }
  ],
  "kernelspec": {
   "display_name": "Python 3 (ipykernel)",
   "language": "python",
   "name": "python3"
  },
  "language_info": {
   "codemirror_mode": {
    "name": "ipython",
    "version": 3
   },
   "file_extension": ".py",
   "mimetype": "text/x-python",
   "name": "python",
   "nbconvert_exporter": "python",
   "pygments_lexer": "ipython3",
   "version": "3.9.13"
  },
  "toc": {
   "base_numbering": 1,
   "nav_menu": {},
   "number_sections": true,
   "sideBar": true,
   "skip_h1_title": true,
   "title_cell": "Table of Contents",
   "title_sidebar": "Contents",
   "toc_cell": false,
   "toc_position": {},
   "toc_section_display": true,
   "toc_window_display": false
  }
 },
 "nbformat": 4,
 "nbformat_minor": 2
}
