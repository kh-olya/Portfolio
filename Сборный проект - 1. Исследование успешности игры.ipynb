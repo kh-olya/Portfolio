{
 "cells": [
  {
   "cell_type": "markdown",
   "metadata": {},
   "source": [
    "# Исследование успешности игры"
   ]
  },
  {
   "cell_type": "markdown",
   "metadata": {},
   "source": [
    "# Описание проекта \n",
    "Интернет-магазин «Стримчик» продаёт по всему миру компьютерные игры. Из открытых источников доступны исторические данные о продажах игр, оценки пользователей и экспертов, жанры и платформы (например, Xbox или PlayStation). \n",
    "\n",
    "Нужно выявить определяющие успешность игры закономерности. Это позволит сделать ставку на потенциально популярный продукт и спланировать рекламные кампании.\n",
    "\n",
    "Имеются данные до 2016 года. Представим, что сейчас декабрь 2016 г., и планируется кампания на 2017-й. Нужно отработать принцип работы с данными. Неважно, прогнозируются продажи на 2017 год по данным 2016-го или же 2027-й — по данным 2026 года.\n",
    "\n",
    "В наборе данных попадается аббревиатура ESRB (Entertainment Software Rating Board) — это ассоциация, определяющая возрастной рейтинг компьютерных игр. ESRB оценивает игровой контент и присваивает ему подходящую возрастную категорию, например, «Для взрослых», «Для детей младшего возраста» или «Для подростков»."
   ]
  },
  {
   "cell_type": "markdown",
   "metadata": {},
   "source": [
    "## Откроем файл с данными и изучим общую информацию"
   ]
  },
  {
   "cell_type": "markdown",
   "metadata": {},
   "source": [
    "**1. Загрузим данные из файла в датафрейм.**"
   ]
  },
  {
   "cell_type": "code",
   "execution_count": 1,
   "metadata": {},
   "outputs": [],
   "source": [
    "#импорт библитек\n",
    "import pandas as pd \n",
    "import numpy as np\n",
    "import seaborn as sns\n",
    "import matplotlib.pyplot as plt\n",
    "from scipy import stats as st"
   ]
  },
  {
   "cell_type": "code",
   "execution_count": 2,
   "metadata": {},
   "outputs": [
    {
     "data": {
      "text/html": [
       "<div>\n",
       "<style scoped>\n",
       "    .dataframe tbody tr th:only-of-type {\n",
       "        vertical-align: middle;\n",
       "    }\n",
       "\n",
       "    .dataframe tbody tr th {\n",
       "        vertical-align: top;\n",
       "    }\n",
       "\n",
       "    .dataframe thead th {\n",
       "        text-align: right;\n",
       "    }\n",
       "</style>\n",
       "<table border=\"1\" class=\"dataframe\">\n",
       "  <thead>\n",
       "    <tr style=\"text-align: right;\">\n",
       "      <th></th>\n",
       "      <th>Name</th>\n",
       "      <th>Platform</th>\n",
       "      <th>Year_of_Release</th>\n",
       "      <th>Genre</th>\n",
       "      <th>NA_sales</th>\n",
       "      <th>EU_sales</th>\n",
       "      <th>JP_sales</th>\n",
       "      <th>Other_sales</th>\n",
       "      <th>Critic_Score</th>\n",
       "      <th>User_Score</th>\n",
       "      <th>Rating</th>\n",
       "    </tr>\n",
       "  </thead>\n",
       "  <tbody>\n",
       "    <tr>\n",
       "      <th>0</th>\n",
       "      <td>Wii Sports</td>\n",
       "      <td>Wii</td>\n",
       "      <td>2006.0</td>\n",
       "      <td>Sports</td>\n",
       "      <td>41.36</td>\n",
       "      <td>28.96</td>\n",
       "      <td>3.77</td>\n",
       "      <td>8.45</td>\n",
       "      <td>76.0</td>\n",
       "      <td>8</td>\n",
       "      <td>E</td>\n",
       "    </tr>\n",
       "    <tr>\n",
       "      <th>1</th>\n",
       "      <td>Super Mario Bros.</td>\n",
       "      <td>NES</td>\n",
       "      <td>1985.0</td>\n",
       "      <td>Platform</td>\n",
       "      <td>29.08</td>\n",
       "      <td>3.58</td>\n",
       "      <td>6.81</td>\n",
       "      <td>0.77</td>\n",
       "      <td>NaN</td>\n",
       "      <td>NaN</td>\n",
       "      <td>NaN</td>\n",
       "    </tr>\n",
       "    <tr>\n",
       "      <th>2</th>\n",
       "      <td>Mario Kart Wii</td>\n",
       "      <td>Wii</td>\n",
       "      <td>2008.0</td>\n",
       "      <td>Racing</td>\n",
       "      <td>15.68</td>\n",
       "      <td>12.76</td>\n",
       "      <td>3.79</td>\n",
       "      <td>3.29</td>\n",
       "      <td>82.0</td>\n",
       "      <td>8.3</td>\n",
       "      <td>E</td>\n",
       "    </tr>\n",
       "    <tr>\n",
       "      <th>3</th>\n",
       "      <td>Wii Sports Resort</td>\n",
       "      <td>Wii</td>\n",
       "      <td>2009.0</td>\n",
       "      <td>Sports</td>\n",
       "      <td>15.61</td>\n",
       "      <td>10.93</td>\n",
       "      <td>3.28</td>\n",
       "      <td>2.95</td>\n",
       "      <td>80.0</td>\n",
       "      <td>8</td>\n",
       "      <td>E</td>\n",
       "    </tr>\n",
       "    <tr>\n",
       "      <th>4</th>\n",
       "      <td>Pokemon Red/Pokemon Blue</td>\n",
       "      <td>GB</td>\n",
       "      <td>1996.0</td>\n",
       "      <td>Role-Playing</td>\n",
       "      <td>11.27</td>\n",
       "      <td>8.89</td>\n",
       "      <td>10.22</td>\n",
       "      <td>1.00</td>\n",
       "      <td>NaN</td>\n",
       "      <td>NaN</td>\n",
       "      <td>NaN</td>\n",
       "    </tr>\n",
       "  </tbody>\n",
       "</table>\n",
       "</div>"
      ],
      "text/plain": [
       "                       Name Platform  Year_of_Release         Genre  NA_sales  \\\n",
       "0                Wii Sports      Wii           2006.0        Sports     41.36   \n",
       "1         Super Mario Bros.      NES           1985.0      Platform     29.08   \n",
       "2            Mario Kart Wii      Wii           2008.0        Racing     15.68   \n",
       "3         Wii Sports Resort      Wii           2009.0        Sports     15.61   \n",
       "4  Pokemon Red/Pokemon Blue       GB           1996.0  Role-Playing     11.27   \n",
       "\n",
       "   EU_sales  JP_sales  Other_sales  Critic_Score User_Score Rating  \n",
       "0     28.96      3.77         8.45          76.0          8      E  \n",
       "1      3.58      6.81         0.77           NaN        NaN    NaN  \n",
       "2     12.76      3.79         3.29          82.0        8.3      E  \n",
       "3     10.93      3.28         2.95          80.0          8      E  \n",
       "4      8.89     10.22         1.00           NaN        NaN    NaN  "
      ]
     },
     "metadata": {},
     "output_type": "display_data"
    }
   ],
   "source": [
    "games = pd.read_csv('/Users/olya/Desktop/Портфолио/Сборный проект -1/games.csv')\n",
    "display(games.head())"
   ]
  },
  {
   "cell_type": "markdown",
   "metadata": {},
   "source": [
    "**2. Изучим общую информацию о полученном датафрейме.**"
   ]
  },
  {
   "cell_type": "code",
   "execution_count": 3,
   "metadata": {},
   "outputs": [
    {
     "name": "stdout",
     "output_type": "stream",
     "text": [
      "<class 'pandas.core.frame.DataFrame'>\n",
      "RangeIndex: 16715 entries, 0 to 16714\n",
      "Data columns (total 11 columns):\n",
      " #   Column           Non-Null Count  Dtype  \n",
      "---  ------           --------------  -----  \n",
      " 0   Name             16713 non-null  object \n",
      " 1   Platform         16715 non-null  object \n",
      " 2   Year_of_Release  16446 non-null  float64\n",
      " 3   Genre            16713 non-null  object \n",
      " 4   NA_sales         16715 non-null  float64\n",
      " 5   EU_sales         16715 non-null  float64\n",
      " 6   JP_sales         16715 non-null  float64\n",
      " 7   Other_sales      16715 non-null  float64\n",
      " 8   Critic_Score     8137 non-null   float64\n",
      " 9   User_Score       10014 non-null  object \n",
      " 10  Rating           9949 non-null   object \n",
      "dtypes: float64(6), object(5)\n",
      "memory usage: 1.4+ MB\n"
     ]
    }
   ],
   "source": [
    "games.info()"
   ]
  },
  {
   "cell_type": "markdown",
   "metadata": {},
   "source": [
    "Количество значений в столбцах различается, значит, в данных есть пропущенные значения, которые стоит изучить. Также необходимо привести названия колонок к нижнему регистру, преобразовать типы данных в некоторых столбцах. Этим и займемся на этапе предобработки данных."
   ]
  },
  {
   "cell_type": "markdown",
   "metadata": {},
   "source": [
    "## Предобработка данных"
   ]
  },
  {
   "cell_type": "markdown",
   "metadata": {},
   "source": [
    "**1) Заменим названия столбцов (приведем к нижнему регистру):**"
   ]
  },
  {
   "cell_type": "code",
   "execution_count": 4,
   "metadata": {},
   "outputs": [],
   "source": [
    "games.columns = games.columns.str.lower()"
   ]
  },
  {
   "cell_type": "markdown",
   "metadata": {},
   "source": [
    "**2) Преобразуем данные в нужные типы:**"
   ]
  },
  {
   "cell_type": "code",
   "execution_count": 5,
   "metadata": {
    "scrolled": true
   },
   "outputs": [
    {
     "name": "stdout",
     "output_type": "stream",
     "text": [
      "[2006 1985 2008 2009 1996 1989 1984 2005 1999 2007 2010 2013 2004 1990\n",
      " 1988 2002 2001 2011 1998 2015 2012 2014 1992 1997 1993 1994 1982 2016\n",
      " 2003 1986 2000 1900 1995 1991 1981 1987 1980 1983]\n"
     ]
    }
   ],
   "source": [
    "#год переведем к типу данных object, пропущенные значения заменим заведомо маленьким годом (1900), что будет означать отсутсвие даты релиза.\n",
    "games['year_of_release'] = games['year_of_release'].fillna(1900)\n",
    "games['year_of_release'] = games['year_of_release'].astype('int') \n",
    "print(games['year_of_release'].unique())#проверка\n",
    "\n",
    "#games['user_score'] = games['user_score'].astype('float') #user_score заменим на тип float, тк оценка пользователей \n",
    "#не обязательно целое число. Выдает ошибку, тк встречается значение 'tbd', заменим это значение на nan"
   ]
  },
  {
   "cell_type": "code",
   "execution_count": 6,
   "metadata": {},
   "outputs": [],
   "source": [
    "games.loc[games['user_score'] == 'tbd','user_score'] = np.nan\n",
    "#теперь можем спокойно изменить тип данных\n",
    "games['user_score'] = games['user_score'].astype('float')"
   ]
  },
  {
   "cell_type": "code",
   "execution_count": 7,
   "metadata": {},
   "outputs": [
    {
     "name": "stdout",
     "output_type": "stream",
     "text": [
      "<class 'pandas.core.frame.DataFrame'>\n",
      "RangeIndex: 16715 entries, 0 to 16714\n",
      "Data columns (total 11 columns):\n",
      " #   Column           Non-Null Count  Dtype  \n",
      "---  ------           --------------  -----  \n",
      " 0   name             16713 non-null  object \n",
      " 1   platform         16715 non-null  object \n",
      " 2   year_of_release  16715 non-null  int64  \n",
      " 3   genre            16713 non-null  object \n",
      " 4   na_sales         16715 non-null  float64\n",
      " 5   eu_sales         16715 non-null  float64\n",
      " 6   jp_sales         16715 non-null  float64\n",
      " 7   other_sales      16715 non-null  float64\n",
      " 8   critic_score     8137 non-null   float64\n",
      " 9   user_score       7590 non-null   float64\n",
      " 10  rating           9949 non-null   object \n",
      "dtypes: float64(6), int64(1), object(4)\n",
      "memory usage: 1.4+ MB\n"
     ]
    }
   ],
   "source": [
    "games.info() #проверка"
   ]
  },
  {
   "cell_type": "markdown",
   "metadata": {},
   "source": [
    "***3) Обработка пропусков:***"
   ]
  },
  {
   "cell_type": "code",
   "execution_count": 8,
   "metadata": {},
   "outputs": [
    {
     "name": "stdout",
     "output_type": "stream",
     "text": [
      "name                  2\n",
      "platform              0\n",
      "year_of_release       0\n",
      "genre                 2\n",
      "na_sales              0\n",
      "eu_sales              0\n",
      "jp_sales              0\n",
      "other_sales           0\n",
      "critic_score       8578\n",
      "user_score         9125\n",
      "rating             6766\n",
      "dtype: int64\n"
     ]
    }
   ],
   "source": [
    "print(games.isna().sum())"
   ]
  },
  {
   "cell_type": "markdown",
   "metadata": {},
   "source": [
    "Пропуски в столбце name заполнить не можем, тк не знаем название игры, но и удалять такие строки не стоит, тк по ним есть другая ценная для нас информация, аналогично со столбцом \"genre\". critic_score и user_score тоже заполнять не будем, тк не знаем почему нет информации + на одной платформе игра может иметь хороший рейтинг, на другой нет. Лучше оставить эти строки пустыми.\n",
    "В столбце rating заменим пропущенные значения фразой \"non rating\", так мы будем понимать, что рейтинг игры отсутствует в датафрейме по каким-то причинам и мы определили такие игры в категорию \"Без рейтинга\".\n",
    "\n",
    "В целом, пропуски могли быть связаны с технической ошибкой (возможно часть значений в столбцах critic_score и user_score пропущенны именно по ней), или попросту отсутствием информации как, например, в столбце с рейтингом ESRB для Японских игр пропуск связан с использованием другой рейтинговой сиситемы."
   ]
  },
  {
   "cell_type": "code",
   "execution_count": 9,
   "metadata": {},
   "outputs": [],
   "source": [
    "games['rating'] = games['rating'].fillna('no rating')"
   ]
  },
  {
   "cell_type": "code",
   "execution_count": 10,
   "metadata": {
    "scrolled": true
   },
   "outputs": [
    {
     "name": "stdout",
     "output_type": "stream",
     "text": [
      "name                  2\n",
      "platform              0\n",
      "year_of_release       0\n",
      "genre                 2\n",
      "na_sales              0\n",
      "eu_sales              0\n",
      "jp_sales              0\n",
      "other_sales           0\n",
      "critic_score       8578\n",
      "user_score         9125\n",
      "rating                0\n",
      "dtype: int64\n"
     ]
    }
   ],
   "source": [
    "print(games.isna().sum())#проверка"
   ]
  },
  {
   "cell_type": "markdown",
   "metadata": {},
   "source": [
    "**4) Посчитаем суммарные продажи во всех регионах и запишем их в отдельный столбец:**"
   ]
  },
  {
   "cell_type": "code",
   "execution_count": 11,
   "metadata": {},
   "outputs": [
    {
     "data": {
      "text/html": [
       "<div>\n",
       "<style scoped>\n",
       "    .dataframe tbody tr th:only-of-type {\n",
       "        vertical-align: middle;\n",
       "    }\n",
       "\n",
       "    .dataframe tbody tr th {\n",
       "        vertical-align: top;\n",
       "    }\n",
       "\n",
       "    .dataframe thead th {\n",
       "        text-align: right;\n",
       "    }\n",
       "</style>\n",
       "<table border=\"1\" class=\"dataframe\">\n",
       "  <thead>\n",
       "    <tr style=\"text-align: right;\">\n",
       "      <th></th>\n",
       "      <th>name</th>\n",
       "      <th>platform</th>\n",
       "      <th>year_of_release</th>\n",
       "      <th>genre</th>\n",
       "      <th>na_sales</th>\n",
       "      <th>eu_sales</th>\n",
       "      <th>jp_sales</th>\n",
       "      <th>other_sales</th>\n",
       "      <th>critic_score</th>\n",
       "      <th>user_score</th>\n",
       "      <th>rating</th>\n",
       "      <th>total_sales</th>\n",
       "    </tr>\n",
       "  </thead>\n",
       "  <tbody>\n",
       "    <tr>\n",
       "      <th>0</th>\n",
       "      <td>Wii Sports</td>\n",
       "      <td>Wii</td>\n",
       "      <td>2006</td>\n",
       "      <td>Sports</td>\n",
       "      <td>41.36</td>\n",
       "      <td>28.96</td>\n",
       "      <td>3.77</td>\n",
       "      <td>8.45</td>\n",
       "      <td>76.0</td>\n",
       "      <td>8.0</td>\n",
       "      <td>E</td>\n",
       "      <td>82.54</td>\n",
       "    </tr>\n",
       "    <tr>\n",
       "      <th>1</th>\n",
       "      <td>Super Mario Bros.</td>\n",
       "      <td>NES</td>\n",
       "      <td>1985</td>\n",
       "      <td>Platform</td>\n",
       "      <td>29.08</td>\n",
       "      <td>3.58</td>\n",
       "      <td>6.81</td>\n",
       "      <td>0.77</td>\n",
       "      <td>NaN</td>\n",
       "      <td>NaN</td>\n",
       "      <td>no rating</td>\n",
       "      <td>40.24</td>\n",
       "    </tr>\n",
       "    <tr>\n",
       "      <th>2</th>\n",
       "      <td>Mario Kart Wii</td>\n",
       "      <td>Wii</td>\n",
       "      <td>2008</td>\n",
       "      <td>Racing</td>\n",
       "      <td>15.68</td>\n",
       "      <td>12.76</td>\n",
       "      <td>3.79</td>\n",
       "      <td>3.29</td>\n",
       "      <td>82.0</td>\n",
       "      <td>8.3</td>\n",
       "      <td>E</td>\n",
       "      <td>35.52</td>\n",
       "    </tr>\n",
       "    <tr>\n",
       "      <th>3</th>\n",
       "      <td>Wii Sports Resort</td>\n",
       "      <td>Wii</td>\n",
       "      <td>2009</td>\n",
       "      <td>Sports</td>\n",
       "      <td>15.61</td>\n",
       "      <td>10.93</td>\n",
       "      <td>3.28</td>\n",
       "      <td>2.95</td>\n",
       "      <td>80.0</td>\n",
       "      <td>8.0</td>\n",
       "      <td>E</td>\n",
       "      <td>32.77</td>\n",
       "    </tr>\n",
       "    <tr>\n",
       "      <th>4</th>\n",
       "      <td>Pokemon Red/Pokemon Blue</td>\n",
       "      <td>GB</td>\n",
       "      <td>1996</td>\n",
       "      <td>Role-Playing</td>\n",
       "      <td>11.27</td>\n",
       "      <td>8.89</td>\n",
       "      <td>10.22</td>\n",
       "      <td>1.00</td>\n",
       "      <td>NaN</td>\n",
       "      <td>NaN</td>\n",
       "      <td>no rating</td>\n",
       "      <td>31.38</td>\n",
       "    </tr>\n",
       "  </tbody>\n",
       "</table>\n",
       "</div>"
      ],
      "text/plain": [
       "                       name platform  year_of_release         genre  na_sales  \\\n",
       "0                Wii Sports      Wii             2006        Sports     41.36   \n",
       "1         Super Mario Bros.      NES             1985      Platform     29.08   \n",
       "2            Mario Kart Wii      Wii             2008        Racing     15.68   \n",
       "3         Wii Sports Resort      Wii             2009        Sports     15.61   \n",
       "4  Pokemon Red/Pokemon Blue       GB             1996  Role-Playing     11.27   \n",
       "\n",
       "   eu_sales  jp_sales  other_sales  critic_score  user_score     rating  \\\n",
       "0     28.96      3.77         8.45          76.0         8.0          E   \n",
       "1      3.58      6.81         0.77           NaN         NaN  no rating   \n",
       "2     12.76      3.79         3.29          82.0         8.3          E   \n",
       "3     10.93      3.28         2.95          80.0         8.0          E   \n",
       "4      8.89     10.22         1.00           NaN         NaN  no rating   \n",
       "\n",
       "   total_sales  \n",
       "0        82.54  \n",
       "1        40.24  \n",
       "2        35.52  \n",
       "3        32.77  \n",
       "4        31.38  "
      ]
     },
     "execution_count": 11,
     "metadata": {},
     "output_type": "execute_result"
    }
   ],
   "source": [
    "games['total_sales'] = games['na_sales'] + games['eu_sales'] + games['jp_sales'] + games['other_sales']\n",
    "games.head()"
   ]
  },
  {
   "cell_type": "markdown",
   "metadata": {},
   "source": [
    "**Выводы:**\n",
    "\n",
    "В ходе предобработки данных:\n",
    "- переименовали столбцы;\n",
    "- изменили типы данных столбцов 'year_of_release' и 'user_score';\n",
    "- обработали пропуски;\n",
    "- дополнили датафрейм столбцом с данными о суммарных продажах в регионах."
   ]
  },
  {
   "cell_type": "markdown",
   "metadata": {},
   "source": [
    "## Исследовательский анализ данных"
   ]
  },
  {
   "cell_type": "markdown",
   "metadata": {},
   "source": [
    "**1) Посмотрим, сколько игр выпускалось в разные годы:**"
   ]
  },
  {
   "cell_type": "code",
   "execution_count": 12,
   "metadata": {
    "scrolled": true
   },
   "outputs": [
    {
     "data": {
      "text/html": [
       "<div>\n",
       "<style scoped>\n",
       "    .dataframe tbody tr th:only-of-type {\n",
       "        vertical-align: middle;\n",
       "    }\n",
       "\n",
       "    .dataframe tbody tr th {\n",
       "        vertical-align: top;\n",
       "    }\n",
       "\n",
       "    .dataframe thead th {\n",
       "        text-align: right;\n",
       "    }\n",
       "</style>\n",
       "<table border=\"1\" class=\"dataframe\">\n",
       "  <thead>\n",
       "    <tr style=\"text-align: right;\">\n",
       "      <th></th>\n",
       "      <th>year_of_release</th>\n",
       "      <th>rating</th>\n",
       "    </tr>\n",
       "  </thead>\n",
       "  <tbody>\n",
       "    <tr>\n",
       "      <th>0</th>\n",
       "      <td>1900</td>\n",
       "      <td>269</td>\n",
       "    </tr>\n",
       "    <tr>\n",
       "      <th>1</th>\n",
       "      <td>1980</td>\n",
       "      <td>9</td>\n",
       "    </tr>\n",
       "    <tr>\n",
       "      <th>2</th>\n",
       "      <td>1981</td>\n",
       "      <td>46</td>\n",
       "    </tr>\n",
       "    <tr>\n",
       "      <th>3</th>\n",
       "      <td>1982</td>\n",
       "      <td>36</td>\n",
       "    </tr>\n",
       "    <tr>\n",
       "      <th>4</th>\n",
       "      <td>1983</td>\n",
       "      <td>17</td>\n",
       "    </tr>\n",
       "    <tr>\n",
       "      <th>5</th>\n",
       "      <td>1984</td>\n",
       "      <td>14</td>\n",
       "    </tr>\n",
       "    <tr>\n",
       "      <th>6</th>\n",
       "      <td>1985</td>\n",
       "      <td>14</td>\n",
       "    </tr>\n",
       "    <tr>\n",
       "      <th>7</th>\n",
       "      <td>1986</td>\n",
       "      <td>21</td>\n",
       "    </tr>\n",
       "    <tr>\n",
       "      <th>8</th>\n",
       "      <td>1987</td>\n",
       "      <td>16</td>\n",
       "    </tr>\n",
       "    <tr>\n",
       "      <th>9</th>\n",
       "      <td>1988</td>\n",
       "      <td>15</td>\n",
       "    </tr>\n",
       "    <tr>\n",
       "      <th>10</th>\n",
       "      <td>1989</td>\n",
       "      <td>17</td>\n",
       "    </tr>\n",
       "    <tr>\n",
       "      <th>11</th>\n",
       "      <td>1990</td>\n",
       "      <td>16</td>\n",
       "    </tr>\n",
       "    <tr>\n",
       "      <th>12</th>\n",
       "      <td>1991</td>\n",
       "      <td>41</td>\n",
       "    </tr>\n",
       "    <tr>\n",
       "      <th>13</th>\n",
       "      <td>1992</td>\n",
       "      <td>43</td>\n",
       "    </tr>\n",
       "    <tr>\n",
       "      <th>14</th>\n",
       "      <td>1993</td>\n",
       "      <td>62</td>\n",
       "    </tr>\n",
       "    <tr>\n",
       "      <th>15</th>\n",
       "      <td>1994</td>\n",
       "      <td>121</td>\n",
       "    </tr>\n",
       "    <tr>\n",
       "      <th>16</th>\n",
       "      <td>1995</td>\n",
       "      <td>219</td>\n",
       "    </tr>\n",
       "    <tr>\n",
       "      <th>17</th>\n",
       "      <td>1996</td>\n",
       "      <td>263</td>\n",
       "    </tr>\n",
       "    <tr>\n",
       "      <th>18</th>\n",
       "      <td>1997</td>\n",
       "      <td>289</td>\n",
       "    </tr>\n",
       "    <tr>\n",
       "      <th>19</th>\n",
       "      <td>1998</td>\n",
       "      <td>379</td>\n",
       "    </tr>\n",
       "    <tr>\n",
       "      <th>20</th>\n",
       "      <td>1999</td>\n",
       "      <td>338</td>\n",
       "    </tr>\n",
       "    <tr>\n",
       "      <th>21</th>\n",
       "      <td>2000</td>\n",
       "      <td>350</td>\n",
       "    </tr>\n",
       "    <tr>\n",
       "      <th>22</th>\n",
       "      <td>2001</td>\n",
       "      <td>482</td>\n",
       "    </tr>\n",
       "    <tr>\n",
       "      <th>23</th>\n",
       "      <td>2002</td>\n",
       "      <td>829</td>\n",
       "    </tr>\n",
       "    <tr>\n",
       "      <th>24</th>\n",
       "      <td>2003</td>\n",
       "      <td>775</td>\n",
       "    </tr>\n",
       "    <tr>\n",
       "      <th>25</th>\n",
       "      <td>2004</td>\n",
       "      <td>762</td>\n",
       "    </tr>\n",
       "    <tr>\n",
       "      <th>26</th>\n",
       "      <td>2005</td>\n",
       "      <td>939</td>\n",
       "    </tr>\n",
       "    <tr>\n",
       "      <th>27</th>\n",
       "      <td>2006</td>\n",
       "      <td>1006</td>\n",
       "    </tr>\n",
       "    <tr>\n",
       "      <th>28</th>\n",
       "      <td>2007</td>\n",
       "      <td>1197</td>\n",
       "    </tr>\n",
       "    <tr>\n",
       "      <th>29</th>\n",
       "      <td>2008</td>\n",
       "      <td>1427</td>\n",
       "    </tr>\n",
       "    <tr>\n",
       "      <th>30</th>\n",
       "      <td>2009</td>\n",
       "      <td>1426</td>\n",
       "    </tr>\n",
       "    <tr>\n",
       "      <th>31</th>\n",
       "      <td>2010</td>\n",
       "      <td>1255</td>\n",
       "    </tr>\n",
       "    <tr>\n",
       "      <th>32</th>\n",
       "      <td>2011</td>\n",
       "      <td>1136</td>\n",
       "    </tr>\n",
       "    <tr>\n",
       "      <th>33</th>\n",
       "      <td>2012</td>\n",
       "      <td>653</td>\n",
       "    </tr>\n",
       "    <tr>\n",
       "      <th>34</th>\n",
       "      <td>2013</td>\n",
       "      <td>544</td>\n",
       "    </tr>\n",
       "    <tr>\n",
       "      <th>35</th>\n",
       "      <td>2014</td>\n",
       "      <td>581</td>\n",
       "    </tr>\n",
       "    <tr>\n",
       "      <th>36</th>\n",
       "      <td>2015</td>\n",
       "      <td>606</td>\n",
       "    </tr>\n",
       "    <tr>\n",
       "      <th>37</th>\n",
       "      <td>2016</td>\n",
       "      <td>502</td>\n",
       "    </tr>\n",
       "  </tbody>\n",
       "</table>\n",
       "</div>"
      ],
      "text/plain": [
       "    year_of_release  rating\n",
       "0              1900     269\n",
       "1              1980       9\n",
       "2              1981      46\n",
       "3              1982      36\n",
       "4              1983      17\n",
       "5              1984      14\n",
       "6              1985      14\n",
       "7              1986      21\n",
       "8              1987      16\n",
       "9              1988      15\n",
       "10             1989      17\n",
       "11             1990      16\n",
       "12             1991      41\n",
       "13             1992      43\n",
       "14             1993      62\n",
       "15             1994     121\n",
       "16             1995     219\n",
       "17             1996     263\n",
       "18             1997     289\n",
       "19             1998     379\n",
       "20             1999     338\n",
       "21             2000     350\n",
       "22             2001     482\n",
       "23             2002     829\n",
       "24             2003     775\n",
       "25             2004     762\n",
       "26             2005     939\n",
       "27             2006    1006\n",
       "28             2007    1197\n",
       "29             2008    1427\n",
       "30             2009    1426\n",
       "31             2010    1255\n",
       "32             2011    1136\n",
       "33             2012     653\n",
       "34             2013     544\n",
       "35             2014     581\n",
       "36             2015     606\n",
       "37             2016     502"
      ]
     },
     "execution_count": 12,
     "metadata": {},
     "output_type": "execute_result"
    }
   ],
   "source": [
    "games.pivot_table(index='year_of_release', values='rating', aggfunc='count').reset_index()"
   ]
  },
  {
   "cell_type": "markdown",
   "metadata": {},
   "source": [
    "Пока что оставим данные за все года, в дальнейшем поймем какие года все таки будут актуальными и будем использовать только актуальные. Помним, 1900 - заглушка."
   ]
  },
  {
   "cell_type": "markdown",
   "metadata": {},
   "source": [
    "**2) Посмотрим, как менялись продажи по платформам. Выберем платформы с наибольшими суммарными продажами и построим распределение по годам. Узнаем за какой срок появляются новый и исчезают старые платформы:**"
   ]
  },
  {
   "cell_type": "code",
   "execution_count": 13,
   "metadata": {
    "scrolled": false
   },
   "outputs": [
    {
     "data": {
      "text/html": [
       "<div>\n",
       "<style scoped>\n",
       "    .dataframe tbody tr th:only-of-type {\n",
       "        vertical-align: middle;\n",
       "    }\n",
       "\n",
       "    .dataframe tbody tr th {\n",
       "        vertical-align: top;\n",
       "    }\n",
       "\n",
       "    .dataframe thead th {\n",
       "        text-align: right;\n",
       "    }\n",
       "</style>\n",
       "<table border=\"1\" class=\"dataframe\">\n",
       "  <thead>\n",
       "    <tr style=\"text-align: right;\">\n",
       "      <th></th>\n",
       "      <th>platform</th>\n",
       "      <th>total_sales</th>\n",
       "    </tr>\n",
       "  </thead>\n",
       "  <tbody>\n",
       "    <tr>\n",
       "      <th>16</th>\n",
       "      <td>PS2</td>\n",
       "      <td>1255.77</td>\n",
       "    </tr>\n",
       "    <tr>\n",
       "      <th>28</th>\n",
       "      <td>X360</td>\n",
       "      <td>971.42</td>\n",
       "    </tr>\n",
       "    <tr>\n",
       "      <th>17</th>\n",
       "      <td>PS3</td>\n",
       "      <td>939.65</td>\n",
       "    </tr>\n",
       "    <tr>\n",
       "      <th>26</th>\n",
       "      <td>Wii</td>\n",
       "      <td>907.51</td>\n",
       "    </tr>\n",
       "    <tr>\n",
       "      <th>4</th>\n",
       "      <td>DS</td>\n",
       "      <td>806.12</td>\n",
       "    </tr>\n",
       "    <tr>\n",
       "      <th>15</th>\n",
       "      <td>PS</td>\n",
       "      <td>730.86</td>\n",
       "    </tr>\n",
       "    <tr>\n",
       "      <th>6</th>\n",
       "      <td>GBA</td>\n",
       "      <td>317.85</td>\n",
       "    </tr>\n",
       "    <tr>\n",
       "      <th>18</th>\n",
       "      <td>PS4</td>\n",
       "      <td>314.14</td>\n",
       "    </tr>\n",
       "    <tr>\n",
       "      <th>19</th>\n",
       "      <td>PSP</td>\n",
       "      <td>294.05</td>\n",
       "    </tr>\n",
       "    <tr>\n",
       "      <th>13</th>\n",
       "      <td>PC</td>\n",
       "      <td>259.52</td>\n",
       "    </tr>\n",
       "    <tr>\n",
       "      <th>2</th>\n",
       "      <td>3DS</td>\n",
       "      <td>259.00</td>\n",
       "    </tr>\n",
       "    <tr>\n",
       "      <th>29</th>\n",
       "      <td>XB</td>\n",
       "      <td>257.74</td>\n",
       "    </tr>\n",
       "    <tr>\n",
       "      <th>5</th>\n",
       "      <td>GB</td>\n",
       "      <td>255.46</td>\n",
       "    </tr>\n",
       "    <tr>\n",
       "      <th>11</th>\n",
       "      <td>NES</td>\n",
       "      <td>251.05</td>\n",
       "    </tr>\n",
       "    <tr>\n",
       "      <th>10</th>\n",
       "      <td>N64</td>\n",
       "      <td>218.68</td>\n",
       "    </tr>\n",
       "    <tr>\n",
       "      <th>23</th>\n",
       "      <td>SNES</td>\n",
       "      <td>200.04</td>\n",
       "    </tr>\n",
       "    <tr>\n",
       "      <th>7</th>\n",
       "      <td>GC</td>\n",
       "      <td>198.93</td>\n",
       "    </tr>\n",
       "    <tr>\n",
       "      <th>30</th>\n",
       "      <td>XOne</td>\n",
       "      <td>159.32</td>\n",
       "    </tr>\n",
       "    <tr>\n",
       "      <th>0</th>\n",
       "      <td>2600</td>\n",
       "      <td>96.98</td>\n",
       "    </tr>\n",
       "    <tr>\n",
       "      <th>27</th>\n",
       "      <td>WiiU</td>\n",
       "      <td>82.19</td>\n",
       "    </tr>\n",
       "  </tbody>\n",
       "</table>\n",
       "</div>"
      ],
      "text/plain": [
       "   platform  total_sales\n",
       "16      PS2      1255.77\n",
       "28     X360       971.42\n",
       "17      PS3       939.65\n",
       "26      Wii       907.51\n",
       "4        DS       806.12\n",
       "15       PS       730.86\n",
       "6       GBA       317.85\n",
       "18      PS4       314.14\n",
       "19      PSP       294.05\n",
       "13       PC       259.52\n",
       "2       3DS       259.00\n",
       "29       XB       257.74\n",
       "5        GB       255.46\n",
       "11      NES       251.05\n",
       "10      N64       218.68\n",
       "23     SNES       200.04\n",
       "7        GC       198.93\n",
       "30     XOne       159.32\n",
       "0      2600        96.98\n",
       "27     WiiU        82.19"
      ]
     },
     "metadata": {},
     "output_type": "display_data"
    }
   ],
   "source": [
    "platform_top = games.groupby('platform')['total_sales'].agg('sum').reset_index()\n",
    "platform_top = pd.DataFrame(platform_top).sort_values(by='total_sales', ascending=False)\n",
    "display(platform_top.head(20))"
   ]
  },
  {
   "cell_type": "markdown",
   "metadata": {},
   "source": [
    "Наибольшие суммарные продажи у платформ PS и XB. Построим за какой период они появлялись и исчезали."
   ]
  },
  {
   "cell_type": "markdown",
   "metadata": {},
   "source": [
    "Для платформы PS:"
   ]
  },
  {
   "cell_type": "code",
   "execution_count": 29,
   "metadata": {},
   "outputs": [
    {
     "data": {
      "text/html": [
       "<div>\n",
       "<style scoped>\n",
       "    .dataframe tbody tr th:only-of-type {\n",
       "        vertical-align: middle;\n",
       "    }\n",
       "\n",
       "    .dataframe tbody tr th {\n",
       "        vertical-align: top;\n",
       "    }\n",
       "\n",
       "    .dataframe thead th {\n",
       "        text-align: right;\n",
       "    }\n",
       "</style>\n",
       "<table border=\"1\" class=\"dataframe\">\n",
       "  <thead>\n",
       "    <tr style=\"text-align: right;\">\n",
       "      <th></th>\n",
       "      <th>year_of_release</th>\n",
       "      <th>total_sales</th>\n",
       "    </tr>\n",
       "  </thead>\n",
       "  <tbody>\n",
       "    <tr>\n",
       "      <th>0</th>\n",
       "      <td>1900</td>\n",
       "      <td>3.28</td>\n",
       "    </tr>\n",
       "    <tr>\n",
       "      <th>1</th>\n",
       "      <td>1994</td>\n",
       "      <td>6.03</td>\n",
       "    </tr>\n",
       "    <tr>\n",
       "      <th>2</th>\n",
       "      <td>1995</td>\n",
       "      <td>35.96</td>\n",
       "    </tr>\n",
       "    <tr>\n",
       "      <th>3</th>\n",
       "      <td>1996</td>\n",
       "      <td>94.70</td>\n",
       "    </tr>\n",
       "    <tr>\n",
       "      <th>4</th>\n",
       "      <td>1997</td>\n",
       "      <td>136.17</td>\n",
       "    </tr>\n",
       "    <tr>\n",
       "      <th>5</th>\n",
       "      <td>1998</td>\n",
       "      <td>169.49</td>\n",
       "    </tr>\n",
       "    <tr>\n",
       "      <th>6</th>\n",
       "      <td>1999</td>\n",
       "      <td>144.53</td>\n",
       "    </tr>\n",
       "    <tr>\n",
       "      <th>7</th>\n",
       "      <td>2000</td>\n",
       "      <td>96.37</td>\n",
       "    </tr>\n",
       "    <tr>\n",
       "      <th>8</th>\n",
       "      <td>2001</td>\n",
       "      <td>35.59</td>\n",
       "    </tr>\n",
       "    <tr>\n",
       "      <th>9</th>\n",
       "      <td>2002</td>\n",
       "      <td>6.67</td>\n",
       "    </tr>\n",
       "    <tr>\n",
       "      <th>10</th>\n",
       "      <td>2003</td>\n",
       "      <td>2.07</td>\n",
       "    </tr>\n",
       "  </tbody>\n",
       "</table>\n",
       "</div>"
      ],
      "text/plain": [
       "    year_of_release  total_sales\n",
       "0              1900         3.28\n",
       "1              1994         6.03\n",
       "2              1995        35.96\n",
       "3              1996        94.70\n",
       "4              1997       136.17\n",
       "5              1998       169.49\n",
       "6              1999       144.53\n",
       "7              2000        96.37\n",
       "8              2001        35.59\n",
       "9              2002         6.67\n",
       "10             2003         2.07"
      ]
     },
     "execution_count": 29,
     "metadata": {},
     "output_type": "execute_result"
    }
   ],
   "source": [
    "games_ps[['year_of_release', 'total_sales']]\n",
    "g_games_ps = games_ps.groupby('year_of_release').agg({'total_sales': 'sum'}).reset_index()\n",
    "g_games_ps"
   ]
  },
  {
   "cell_type": "code",
   "execution_count": 62,
   "metadata": {
    "scrolled": true
   },
   "outputs": [
    {
     "data": {
      "image/png": "[encoded data removed]",
      "text/plain": [
       "<Figure size 600x400 with 1 Axes>"
      ]
     },
     "metadata": {},
     "output_type": "display_data"
    }
   ],
   "source": [
    "games_ps = games.loc[games['platform'] == 'PS']\n",
    "\n",
    "games_ps.hist('year_of_release', bins=17, range = (1989, 2005), figsize=(6, 4));\n",
    "\n"
   ]
  },
  {
   "cell_type": "code",
   "execution_count": 44,
   "metadata": {},
   "outputs": [
    {
     "data": {
      "image/png": "[encoded data removed]",
      "text/plain": [
       "<Figure size 600x400 with 1 Axes>"
      ]
     },
     "metadata": {},
     "output_type": "display_data"
    }
   ],
   "source": [
    "games_ps2 = games.loc[games['platform'] == 'PS2']\n",
    "\n",
    "games_ps2.hist('year_of_release', bins=17, range = (1999, 2015), figsize=(6, 4));"
   ]
  },
  {
   "cell_type": "code",
   "execution_count": 45,
   "metadata": {},
   "outputs": [
    {
     "data": {
      "image/png": "[encoded data removed]",
      "text/plain": [
       "<Figure size 600x400 with 1 Axes>"
      ]
     },
     "metadata": {},
     "output_type": "display_data"
    }
   ],
   "source": [
    "games_ps3 = games.loc[games['platform'] == 'PS3']\n",
    "\n",
    "games_ps3.hist('year_of_release', bins=14, range = (2005, 2018), figsize=(6, 4));"
   ]
  },
  {
   "cell_type": "code",
   "execution_count": 46,
   "metadata": {},
   "outputs": [
    {
     "data": {
      "image/png": "[encoded data removed]",
      "text/plain": [
       "<Figure size 600x400 with 1 Axes>"
      ]
     },
     "metadata": {},
     "output_type": "display_data"
    }
   ],
   "source": [
    "games_ps4 = games.loc[games['platform'] == 'PS4']\n",
    "\n",
    "games_ps4.hist('year_of_release', bins=14, range = (2005, 2018), figsize=(6, 4));"
   ]
  },
  {
   "cell_type": "markdown",
   "metadata": {},
   "source": [
    "Анализируя полученные 4 графика, можно заметить, что новые платформы ps появляются за 6 лет. Исчезают примерно за 10 лет."
   ]
  },
  {
   "cell_type": "markdown",
   "metadata": {},
   "source": [
    "Для платформы ХB:"
   ]
  },
  {
   "cell_type": "code",
   "execution_count": 47,
   "metadata": {
    "scrolled": true
   },
   "outputs": [
    {
     "data": {
      "image/png": "[encoded data removed]",
      "text/plain": [
       "<Figure size 600x400 with 1 Axes>"
      ]
     },
     "metadata": {},
     "output_type": "display_data"
    }
   ],
   "source": [
    "games_XB = games.loc[games['platform'] == 'XB']\n",
    "\n",
    "games_XB.hist('year_of_release', bins=15, range = (1998, 2012), figsize=(6, 4));"
   ]
  },
  {
   "cell_type": "code",
   "execution_count": 48,
   "metadata": {},
   "outputs": [
    {
     "data": {
      "image/png": "[encoded data removed]",
      "text/plain": [
       "<Figure size 600x400 with 1 Axes>"
      ]
     },
     "metadata": {},
     "output_type": "display_data"
    }
   ],
   "source": [
    "games_X360 = games.loc[games['platform'] == 'X360']\n",
    "\n",
    "games_X360.hist('year_of_release', bins=15, range = (2004, 2018), figsize=(6, 4));"
   ]
  },
  {
   "cell_type": "code",
   "execution_count": 49,
   "metadata": {},
   "outputs": [
    {
     "data": {
      "image/png": "[encoded data removed]",
      "text/plain": [
       "<Figure size 600x400 with 1 Axes>"
      ]
     },
     "metadata": {},
     "output_type": "display_data"
    }
   ],
   "source": [
    "games_XOne = games.loc[games['platform'] == 'XOne']\n",
    "\n",
    "games_XOne.hist('year_of_release', bins=15, range = (2004, 2018), figsize=(6, 4));"
   ]
  },
  {
   "cell_type": "markdown",
   "metadata": {},
   "source": [
    "Новые платформы XB появляются примерно за 6 лет, исчезают за 10."
   ]
  },
  {
   "cell_type": "markdown",
   "metadata": {},
   "source": [
    "**3) Возьмем данные за соответствующий актуальный период. Актуальными данными будем считать данные начиная с 2013 года, тк в этот год вышли приставки нового поколения. Данные за предыдущие года учитывать не будем:**"
   ]
  },
  {
   "cell_type": "code",
   "execution_count": 50,
   "metadata": {},
   "outputs": [
    {
     "data": {
      "text/html": [
       "<div>\n",
       "<style scoped>\n",
       "    .dataframe tbody tr th:only-of-type {\n",
       "        vertical-align: middle;\n",
       "    }\n",
       "\n",
       "    .dataframe tbody tr th {\n",
       "        vertical-align: top;\n",
       "    }\n",
       "\n",
       "    .dataframe thead th {\n",
       "        text-align: right;\n",
       "    }\n",
       "</style>\n",
       "<table border=\"1\" class=\"dataframe\">\n",
       "  <thead>\n",
       "    <tr style=\"text-align: right;\">\n",
       "      <th></th>\n",
       "      <th>name</th>\n",
       "      <th>platform</th>\n",
       "      <th>year_of_release</th>\n",
       "      <th>genre</th>\n",
       "      <th>na_sales</th>\n",
       "      <th>eu_sales</th>\n",
       "      <th>jp_sales</th>\n",
       "      <th>other_sales</th>\n",
       "      <th>critic_score</th>\n",
       "      <th>user_score</th>\n",
       "      <th>rating</th>\n",
       "      <th>total_sales</th>\n",
       "    </tr>\n",
       "  </thead>\n",
       "  <tbody>\n",
       "    <tr>\n",
       "      <th>16</th>\n",
       "      <td>Grand Theft Auto V</td>\n",
       "      <td>PS3</td>\n",
       "      <td>2013</td>\n",
       "      <td>Action</td>\n",
       "      <td>7.02</td>\n",
       "      <td>9.09</td>\n",
       "      <td>0.98</td>\n",
       "      <td>3.96</td>\n",
       "      <td>97.0</td>\n",
       "      <td>8.2</td>\n",
       "      <td>M</td>\n",
       "      <td>21.05</td>\n",
       "    </tr>\n",
       "    <tr>\n",
       "      <th>23</th>\n",
       "      <td>Grand Theft Auto V</td>\n",
       "      <td>X360</td>\n",
       "      <td>2013</td>\n",
       "      <td>Action</td>\n",
       "      <td>9.66</td>\n",
       "      <td>5.14</td>\n",
       "      <td>0.06</td>\n",
       "      <td>1.41</td>\n",
       "      <td>97.0</td>\n",
       "      <td>8.1</td>\n",
       "      <td>M</td>\n",
       "      <td>16.27</td>\n",
       "    </tr>\n",
       "    <tr>\n",
       "      <th>31</th>\n",
       "      <td>Call of Duty: Black Ops 3</td>\n",
       "      <td>PS4</td>\n",
       "      <td>2015</td>\n",
       "      <td>Shooter</td>\n",
       "      <td>6.03</td>\n",
       "      <td>5.86</td>\n",
       "      <td>0.36</td>\n",
       "      <td>2.38</td>\n",
       "      <td>NaN</td>\n",
       "      <td>NaN</td>\n",
       "      <td>no rating</td>\n",
       "      <td>14.63</td>\n",
       "    </tr>\n",
       "    <tr>\n",
       "      <th>33</th>\n",
       "      <td>Pokemon X/Pokemon Y</td>\n",
       "      <td>3DS</td>\n",
       "      <td>2013</td>\n",
       "      <td>Role-Playing</td>\n",
       "      <td>5.28</td>\n",
       "      <td>4.19</td>\n",
       "      <td>4.35</td>\n",
       "      <td>0.78</td>\n",
       "      <td>NaN</td>\n",
       "      <td>NaN</td>\n",
       "      <td>no rating</td>\n",
       "      <td>14.60</td>\n",
       "    </tr>\n",
       "    <tr>\n",
       "      <th>42</th>\n",
       "      <td>Grand Theft Auto V</td>\n",
       "      <td>PS4</td>\n",
       "      <td>2014</td>\n",
       "      <td>Action</td>\n",
       "      <td>3.96</td>\n",
       "      <td>6.31</td>\n",
       "      <td>0.38</td>\n",
       "      <td>1.97</td>\n",
       "      <td>97.0</td>\n",
       "      <td>8.3</td>\n",
       "      <td>M</td>\n",
       "      <td>12.62</td>\n",
       "    </tr>\n",
       "    <tr>\n",
       "      <th>...</th>\n",
       "      <td>...</td>\n",
       "      <td>...</td>\n",
       "      <td>...</td>\n",
       "      <td>...</td>\n",
       "      <td>...</td>\n",
       "      <td>...</td>\n",
       "      <td>...</td>\n",
       "      <td>...</td>\n",
       "      <td>...</td>\n",
       "      <td>...</td>\n",
       "      <td>...</td>\n",
       "      <td>...</td>\n",
       "    </tr>\n",
       "    <tr>\n",
       "      <th>16703</th>\n",
       "      <td>Strawberry Nauts</td>\n",
       "      <td>PSV</td>\n",
       "      <td>2016</td>\n",
       "      <td>Adventure</td>\n",
       "      <td>0.00</td>\n",
       "      <td>0.00</td>\n",
       "      <td>0.01</td>\n",
       "      <td>0.00</td>\n",
       "      <td>NaN</td>\n",
       "      <td>NaN</td>\n",
       "      <td>no rating</td>\n",
       "      <td>0.01</td>\n",
       "    </tr>\n",
       "    <tr>\n",
       "      <th>16707</th>\n",
       "      <td>Aiyoku no Eustia</td>\n",
       "      <td>PSV</td>\n",
       "      <td>2014</td>\n",
       "      <td>Misc</td>\n",
       "      <td>0.00</td>\n",
       "      <td>0.00</td>\n",
       "      <td>0.01</td>\n",
       "      <td>0.00</td>\n",
       "      <td>NaN</td>\n",
       "      <td>NaN</td>\n",
       "      <td>no rating</td>\n",
       "      <td>0.01</td>\n",
       "    </tr>\n",
       "    <tr>\n",
       "      <th>16710</th>\n",
       "      <td>Samurai Warriors: Sanada Maru</td>\n",
       "      <td>PS3</td>\n",
       "      <td>2016</td>\n",
       "      <td>Action</td>\n",
       "      <td>0.00</td>\n",
       "      <td>0.00</td>\n",
       "      <td>0.01</td>\n",
       "      <td>0.00</td>\n",
       "      <td>NaN</td>\n",
       "      <td>NaN</td>\n",
       "      <td>no rating</td>\n",
       "      <td>0.01</td>\n",
       "    </tr>\n",
       "    <tr>\n",
       "      <th>16712</th>\n",
       "      <td>Haitaka no Psychedelica</td>\n",
       "      <td>PSV</td>\n",
       "      <td>2016</td>\n",
       "      <td>Adventure</td>\n",
       "      <td>0.00</td>\n",
       "      <td>0.00</td>\n",
       "      <td>0.01</td>\n",
       "      <td>0.00</td>\n",
       "      <td>NaN</td>\n",
       "      <td>NaN</td>\n",
       "      <td>no rating</td>\n",
       "      <td>0.01</td>\n",
       "    </tr>\n",
       "    <tr>\n",
       "      <th>16714</th>\n",
       "      <td>Winning Post 8 2016</td>\n",
       "      <td>PSV</td>\n",
       "      <td>2016</td>\n",
       "      <td>Simulation</td>\n",
       "      <td>0.00</td>\n",
       "      <td>0.00</td>\n",
       "      <td>0.01</td>\n",
       "      <td>0.00</td>\n",
       "      <td>NaN</td>\n",
       "      <td>NaN</td>\n",
       "      <td>no rating</td>\n",
       "      <td>0.01</td>\n",
       "    </tr>\n",
       "  </tbody>\n",
       "</table>\n",
       "<p>2233 rows × 12 columns</p>\n",
       "</div>"
      ],
      "text/plain": [
       "                                name platform  year_of_release         genre  \\\n",
       "16                Grand Theft Auto V      PS3             2013        Action   \n",
       "23                Grand Theft Auto V     X360             2013        Action   \n",
       "31         Call of Duty: Black Ops 3      PS4             2015       Shooter   \n",
       "33               Pokemon X/Pokemon Y      3DS             2013  Role-Playing   \n",
       "42                Grand Theft Auto V      PS4             2014        Action   \n",
       "...                              ...      ...              ...           ...   \n",
       "16703               Strawberry Nauts      PSV             2016     Adventure   \n",
       "16707               Aiyoku no Eustia      PSV             2014          Misc   \n",
       "16710  Samurai Warriors: Sanada Maru      PS3             2016        Action   \n",
       "16712        Haitaka no Psychedelica      PSV             2016     Adventure   \n",
       "16714            Winning Post 8 2016      PSV             2016    Simulation   \n",
       "\n",
       "       na_sales  eu_sales  jp_sales  other_sales  critic_score  user_score  \\\n",
       "16         7.02      9.09      0.98         3.96          97.0         8.2   \n",
       "23         9.66      5.14      0.06         1.41          97.0         8.1   \n",
       "31         6.03      5.86      0.36         2.38           NaN         NaN   \n",
       "33         5.28      4.19      4.35         0.78           NaN         NaN   \n",
       "42         3.96      6.31      0.38         1.97          97.0         8.3   \n",
       "...         ...       ...       ...          ...           ...         ...   \n",
       "16703      0.00      0.00      0.01         0.00           NaN         NaN   \n",
       "16707      0.00      0.00      0.01         0.00           NaN         NaN   \n",
       "16710      0.00      0.00      0.01         0.00           NaN         NaN   \n",
       "16712      0.00      0.00      0.01         0.00           NaN         NaN   \n",
       "16714      0.00      0.00      0.01         0.00           NaN         NaN   \n",
       "\n",
       "          rating  total_sales  \n",
       "16             M        21.05  \n",
       "23             M        16.27  \n",
       "31     no rating        14.63  \n",
       "33     no rating        14.60  \n",
       "42             M        12.62  \n",
       "...          ...          ...  \n",
       "16703  no rating         0.01  \n",
       "16707  no rating         0.01  \n",
       "16710  no rating         0.01  \n",
       "16712  no rating         0.01  \n",
       "16714  no rating         0.01  \n",
       "\n",
       "[2233 rows x 12 columns]"
      ]
     },
     "metadata": {},
     "output_type": "display_data"
    }
   ],
   "source": [
    "actual_games = games.loc[games['year_of_release'] > 2012]\n",
    "display(actual_games)"
   ]
  },
  {
   "cell_type": "markdown",
   "metadata": {},
   "source": [
    "**4) Выясним какие платформы лидируют по продажам, растут или падают? Выберем несколько потенциально прибыльных платформ:**"
   ]
  },
  {
   "cell_type": "code",
   "execution_count": 51,
   "metadata": {},
   "outputs": [
    {
     "data": {
      "text/html": [
       "<div>\n",
       "<style scoped>\n",
       "    .dataframe tbody tr th:only-of-type {\n",
       "        vertical-align: middle;\n",
       "    }\n",
       "\n",
       "    .dataframe tbody tr th {\n",
       "        vertical-align: top;\n",
       "    }\n",
       "\n",
       "    .dataframe thead th {\n",
       "        text-align: right;\n",
       "    }\n",
       "</style>\n",
       "<table border=\"1\" class=\"dataframe\">\n",
       "  <thead>\n",
       "    <tr style=\"text-align: right;\">\n",
       "      <th></th>\n",
       "      <th>platform</th>\n",
       "      <th>total_sales</th>\n",
       "    </tr>\n",
       "  </thead>\n",
       "  <tbody>\n",
       "    <tr>\n",
       "      <th>4</th>\n",
       "      <td>PS4</td>\n",
       "      <td>314.14</td>\n",
       "    </tr>\n",
       "    <tr>\n",
       "      <th>3</th>\n",
       "      <td>PS3</td>\n",
       "      <td>181.43</td>\n",
       "    </tr>\n",
       "    <tr>\n",
       "      <th>10</th>\n",
       "      <td>XOne</td>\n",
       "      <td>159.32</td>\n",
       "    </tr>\n",
       "    <tr>\n",
       "      <th>0</th>\n",
       "      <td>3DS</td>\n",
       "      <td>143.25</td>\n",
       "    </tr>\n",
       "    <tr>\n",
       "      <th>9</th>\n",
       "      <td>X360</td>\n",
       "      <td>136.80</td>\n",
       "    </tr>\n",
       "    <tr>\n",
       "      <th>8</th>\n",
       "      <td>WiiU</td>\n",
       "      <td>64.63</td>\n",
       "    </tr>\n",
       "    <tr>\n",
       "      <th>2</th>\n",
       "      <td>PC</td>\n",
       "      <td>39.43</td>\n",
       "    </tr>\n",
       "    <tr>\n",
       "      <th>6</th>\n",
       "      <td>PSV</td>\n",
       "      <td>32.99</td>\n",
       "    </tr>\n",
       "    <tr>\n",
       "      <th>7</th>\n",
       "      <td>Wii</td>\n",
       "      <td>13.66</td>\n",
       "    </tr>\n",
       "    <tr>\n",
       "      <th>5</th>\n",
       "      <td>PSP</td>\n",
       "      <td>3.50</td>\n",
       "    </tr>\n",
       "    <tr>\n",
       "      <th>1</th>\n",
       "      <td>DS</td>\n",
       "      <td>1.54</td>\n",
       "    </tr>\n",
       "  </tbody>\n",
       "</table>\n",
       "</div>"
      ],
      "text/plain": [
       "   platform  total_sales\n",
       "4       PS4       314.14\n",
       "3       PS3       181.43\n",
       "10     XOne       159.32\n",
       "0       3DS       143.25\n",
       "9      X360       136.80\n",
       "8      WiiU        64.63\n",
       "2        PC        39.43\n",
       "6       PSV        32.99\n",
       "7       Wii        13.66\n",
       "5       PSP         3.50\n",
       "1        DS         1.54"
      ]
     },
     "metadata": {},
     "output_type": "display_data"
    }
   ],
   "source": [
    "platform_top_actual = actual_games.groupby('platform')['total_sales'].agg('sum').reset_index()\n",
    "platform_top_actual = pd.DataFrame(platform_top_actual).sort_values(by='total_sales', ascending=False)\n",
    "display(platform_top_actual)"
   ]
  },
  {
   "cell_type": "markdown",
   "metadata": {},
   "source": [
    "Рассмотрим платформы PS и XB как лидирующие. По диаграммам выше, можем сделать вывод, что ps3 и X360 теряют в продажах, а PS4 и XOne растут, при этом XOne уступает в два раза PS4. Хотелось бы отобрать топ-5 платформ, поэтому дополнительно изучим данные и по другим платформам. "
   ]
  },
  {
   "cell_type": "code",
   "execution_count": 52,
   "metadata": {},
   "outputs": [
    {
     "data": {
      "image/png": "[encoded data removed]",
      "text/plain": [
       "<Figure size 600x400 with 1 Axes>"
      ]
     },
     "metadata": {},
     "output_type": "display_data"
    }
   ],
   "source": [
    "games_3DS = games.loc[games['platform'] == '3DS']\n",
    "\n",
    "games_3DS.hist('year_of_release', bins=10, range = (2009, 2018), figsize=(6, 4));"
   ]
  },
  {
   "cell_type": "markdown",
   "metadata": {},
   "source": [
    "Продажи 3DS в 2016 году резко упали, но до полного вымирания платформы еще 4 года, поэтому включим 3DS в список потенциально прибыльных платформ."
   ]
  },
  {
   "cell_type": "code",
   "execution_count": 53,
   "metadata": {
    "scrolled": true
   },
   "outputs": [
    {
     "data": {
      "image/png": "[encoded data removed]",
      "text/plain": [
       "<Figure size 600x400 with 1 Axes>"
      ]
     },
     "metadata": {},
     "output_type": "display_data"
    }
   ],
   "source": [
    "games_WiiU = actual_games.loc[games['platform'] == 'WiiU']\n",
    "\n",
    "games_WiiU.hist('year_of_release', bins=10, range = (2009, 2018), figsize=(6, 4));"
   ]
  },
  {
   "cell_type": "markdown",
   "metadata": {},
   "source": [
    "Продажи платформы WiiU падают, тоже минус."
   ]
  },
  {
   "cell_type": "code",
   "execution_count": 54,
   "metadata": {},
   "outputs": [
    {
     "data": {
      "image/png": "[encoded data removed]",
      "text/plain": [
       "<Figure size 600x400 with 1 Axes>"
      ]
     },
     "metadata": {},
     "output_type": "display_data"
    }
   ],
   "source": [
    "games_PC = actual_games.loc[games['platform'] == 'PC']\n",
    "\n",
    "games_PC.hist('year_of_release', bins=10, range = (2009, 2018), figsize=(6, 4));"
   ]
  },
  {
   "cell_type": "markdown",
   "metadata": {},
   "source": [
    "Продажи растут, это хороший знак. Добавим РС в наш топ 5."
   ]
  },
  {
   "cell_type": "code",
   "execution_count": 55,
   "metadata": {
    "scrolled": false
   },
   "outputs": [
    {
     "data": {
      "image/png": "[encoded data removed]",
      "text/plain": [
       "<Figure size 600x400 with 1 Axes>"
      ]
     },
     "metadata": {},
     "output_type": "display_data"
    }
   ],
   "source": [
    "games_PSV = actual_games.loc[games['platform'] == 'PSV']\n",
    "\n",
    "games_PSV.hist('year_of_release', bins=10, range = (2009, 2018), figsize=(6, 4));"
   ]
  },
  {
   "cell_type": "markdown",
   "metadata": {},
   "source": [
    "Продажи хоть и начали падать, но все еще достаточно высоки, до \"вымирания\" платформы примерно 6 лет, думаю ее стоит включить в топ."
   ]
  },
  {
   "cell_type": "code",
   "execution_count": 56,
   "metadata": {
    "scrolled": true
   },
   "outputs": [
    {
     "data": {
      "image/png": "[encoded data removed]",
      "text/plain": [
       "<Figure size 600x400 with 1 Axes>"
      ]
     },
     "metadata": {},
     "output_type": "display_data"
    }
   ],
   "source": [
    "games_Wii = actual_games.loc[games['platform'] == 'Wii']\n",
    "\n",
    "games_Wii.hist('year_of_release', bins=10, range = (2009, 2018), figsize=(6, 4));"
   ]
  },
  {
   "cell_type": "markdown",
   "metadata": {},
   "source": [
    "Все плохо."
   ]
  },
  {
   "cell_type": "code",
   "execution_count": 57,
   "metadata": {
    "scrolled": true
   },
   "outputs": [
    {
     "data": {
      "image/png": "[encoded data removed]",
      "text/plain": [
       "<Figure size 600x400 with 1 Axes>"
      ]
     },
     "metadata": {},
     "output_type": "display_data"
    }
   ],
   "source": [
    "games_PSP = actual_games.loc[games['platform'] == 'PSP']\n",
    "\n",
    "games_PSP.hist('year_of_release', bins=10, range = (2009, 2018), figsize=(6, 4));"
   ]
  },
  {
   "cell_type": "markdown",
   "metadata": {},
   "source": [
    "Все плохо."
   ]
  },
  {
   "cell_type": "code",
   "execution_count": 58,
   "metadata": {
    "scrolled": true
   },
   "outputs": [
    {
     "data": {
      "image/png": "[encoded data removed]",
      "text/plain": [
       "<Figure size 600x400 with 1 Axes>"
      ]
     },
     "metadata": {},
     "output_type": "display_data"
    }
   ],
   "source": [
    "games_DS = actual_games.loc[games['platform'] == 'DS']\n",
    "\n",
    "games_DS.hist('year_of_release', bins=10, range = (2009, 2018), figsize=(6, 4));"
   ]
  },
  {
   "cell_type": "markdown",
   "metadata": {},
   "source": [
    "Вымерла."
   ]
  },
  {
   "cell_type": "markdown",
   "metadata": {},
   "source": [
    "В итоге, выбрав лучших и лучших из худших отдадим предпочтение РS4, XOne, 3DS, PC, PSV."
   ]
  },
  {
   "cell_type": "markdown",
   "metadata": {},
   "source": [
    "**6) Постройте график «ящик с усами» по глобальным продажам игр в разбивке по платформам. Опишите результат.**"
   ]
  },
  {
   "cell_type": "code",
   "execution_count": 63,
   "metadata": {},
   "outputs": [
    {
     "data": {
      "image/png": "[encoded data removed]",
      "text/plain": [
       "<Figure size 400x600 with 1 Axes>"
      ]
     },
     "metadata": {},
     "output_type": "display_data"
    }
   ],
   "source": [
    "plot_ps4 = games_ps4.boxplot('total_sales', figsize=(4, 6)).set_ylim(0, 9.5)"
   ]
  },
  {
   "cell_type": "code",
   "execution_count": 64,
   "metadata": {
    "scrolled": false
   },
   "outputs": [
    {
     "data": {
      "image/png": "[encoded data removed]",
      "text/plain": [
       "<Figure size 400x600 with 1 Axes>"
      ]
     },
     "metadata": {},
     "output_type": "display_data"
    }
   ],
   "source": [
    "plot_XOne = games_XOne.boxplot('total_sales', figsize=(4, 6)).set_ylim(0, 9.5)"
   ]
  },
  {
   "cell_type": "markdown",
   "metadata": {},
   "source": [
    "Имеется достаточно большое количество выбрасов + медиана находится ниже среднего значения, что говорит о том, что какие-то игры пользователям заходят лучше, какие-то хуже и разброс достаточно большой."
   ]
  },
  {
   "cell_type": "markdown",
   "metadata": {},
   "source": [
    "**График с полными данными для наглядности выбросов**"
   ]
  },
  {
   "cell_type": "code",
   "execution_count": 60,
   "metadata": {
    "scrolled": false
   },
   "outputs": [
    {
     "data": {
      "image/png": "[encoded data removed]",
      "text/plain": [
       "<Figure size 1300x800 with 1 Axes>"
      ]
     },
     "metadata": {},
     "output_type": "display_data"
    }
   ],
   "source": [
    "plt.figure(figsize=(13, 8))\n",
    "(sns.boxplot(data = actual_games, x='platform', y = 'total_sales')\n",
    "    .set(title = 'Продажи по платформам', xlabel = 'Платформы', ylabel = 'Общие продажи', ylim=(0, 3)))\n",
    "\n",
    "plt.show()"
   ]
  },
  {
   "cell_type": "markdown",
   "metadata": {},
   "source": [
    "**Ограниченный график, чтобы оценить квантили и медиану**"
   ]
  },
  {
   "cell_type": "code",
   "execution_count": 61,
   "metadata": {},
   "outputs": [
    {
     "data": {
      "image/png": "[encoded data removed]",
      "text/plain": [
       "<Figure size 1300x800 with 1 Axes>"
      ]
     },
     "metadata": {},
     "output_type": "display_data"
    }
   ],
   "source": [
    "plt.figure(figsize=(13, 8))\n",
    "(sns.boxplot(data = actual_games, x='platform', y = 'total_sales')\n",
    "    .set(title = 'Продажи по платформам', xlabel = 'Платформы', ylabel = 'Общие продажи', ylim=(0, 0.85)))\n",
    "\n",
    "plt.show()"
   ]
  },
  {
   "cell_type": "markdown",
   "metadata": {},
   "source": [
    "Вывод: медиана всех платформ ближе к нижнему квантилю, это значит, что преобладают игры с небольшими продажами и небольшим числом мегапопулярных игр."
   ]
  },
  {
   "cell_type": "markdown",
   "metadata": {},
   "source": [
    "**7) Посмотрим, как влияют на продажи внутри одной популярной платформы отзывы пользователей и критиков. Построим диаграмму рассеяния и посчитаем корреляцию между отзывами и продажами.**"
   ]
  },
  {
   "cell_type": "code",
   "execution_count": 65,
   "metadata": {},
   "outputs": [
    {
     "name": "stdout",
     "output_type": "stream",
     "text": [
      "Коэффициент корреляции между отзывами критиков и продажами: 0.4065679020617816\n"
     ]
    },
    {
     "data": {
      "image/png": "[encoded data removed]",
      "text/plain": [
       "<Figure size 1000x500 with 1 Axes>"
      ]
     },
     "metadata": {},
     "output_type": "display_data"
    }
   ],
   "source": [
    "(\n",
    "    games_ps4.plot(x = 'critic_score', y = 'total_sales', kind = 'scatter', figsize=(10, 5), xlim = (10, 100), \n",
    "    ylim = (0, 6), alpha = 0.5, title = 'Влияние оценок критиков на продажи игр на платформе ps')\n",
    ");\n",
    "\n",
    "print('Коэффициент корреляции между отзывами критиков и продажами:', games_ps4['total_sales'].corr(games_ps4['critic_score']))"
   ]
  },
  {
   "cell_type": "code",
   "execution_count": 66,
   "metadata": {},
   "outputs": [
    {
     "name": "stdout",
     "output_type": "stream",
     "text": [
      "Коэффициент корреляции между отзывами пользователей и продажами: -0.03195711020455643\n"
     ]
    },
    {
     "data": {
      "image/png": "[encoded data removed]",
      "text/plain": [
       "<Figure size 1000x500 with 1 Axes>"
      ]
     },
     "metadata": {},
     "output_type": "display_data"
    }
   ],
   "source": [
    "(\n",
    "    games_ps4.plot(x = 'user_score', y = 'total_sales', kind = 'scatter', figsize=(10, 5), xlim = (0, 10), \n",
    "    ylim = (0, 6), alpha = 0.5, title = 'Влияние оценок пользователей на продажи игр на платформе ps')\n",
    ");\n",
    "print('Коэффициент корреляции между отзывами пользователей и продажами:', games_ps4['total_sales'].corr(games_ps4['user_score']))"
   ]
  },
  {
   "cell_type": "markdown",
   "metadata": {},
   "source": [
    "Вывод: связь между отзывами критиков на платформе ps и продажами присутствует, но слабая, возможно, при покупке игры, некоторые пользователи обращают на них внимание. Связи между оценками пользователей и продажами нет."
   ]
  },
  {
   "cell_type": "markdown",
   "metadata": {},
   "source": [
    "**8) Соотнесем выводы с продажами игр на других платформах.**"
   ]
  },
  {
   "cell_type": "markdown",
   "metadata": {},
   "source": [
    "Проверим, будет ли аналогичный вывод при исследовании платформы XB"
   ]
  },
  {
   "cell_type": "code",
   "execution_count": 67,
   "metadata": {},
   "outputs": [
    {
     "name": "stdout",
     "output_type": "stream",
     "text": [
      "Коэффициент корреляции между отзывами критиков и продажами: 0.41699832800840164\n"
     ]
    },
    {
     "data": {
      "image/png": "[encoded data removed]",
      "text/plain": [
       "<Figure size 1000x500 with 1 Axes>"
      ]
     },
     "metadata": {},
     "output_type": "display_data"
    }
   ],
   "source": [
    "(\n",
    "    games_XOne.plot(x = 'critic_score', y = 'total_sales', kind = 'scatter', figsize=(10, 5), xlim = (10, 100), \n",
    "    ylim = (0, 6), alpha = 0.5, title = 'Влияние оценок критиков на продажи игр на платформе XB')\n",
    ");\n",
    "\n",
    "print('Коэффициент корреляции между отзывами критиков и продажами:', games_XOne['total_sales'].corr(games_XOne['critic_score']))"
   ]
  },
  {
   "cell_type": "code",
   "execution_count": 68,
   "metadata": {},
   "outputs": [
    {
     "name": "stdout",
     "output_type": "stream",
     "text": [
      "Коэффициент корреляции между отзывами пользователей и продажами: -0.06892505328279415\n"
     ]
    },
    {
     "data": {
      "image/png": "[encoded data removed]",
      "text/plain": [
       "<Figure size 1000x500 with 1 Axes>"
      ]
     },
     "metadata": {},
     "output_type": "display_data"
    }
   ],
   "source": [
    "(\n",
    "    games_XOne.plot(x = 'user_score', y = 'total_sales', kind = 'scatter', figsize=(10, 5), xlim = (0, 10), \n",
    "    ylim = (0, 6), alpha = 0.5, title = 'Влияние оценок пользователей на продажи игр на платформе XB')\n",
    ");\n",
    "\n",
    "print('Коэффициент корреляции между отзывами пользователей и продажами:', games_XOne['total_sales'].corr(games_XOne['user_score']))"
   ]
  },
  {
   "cell_type": "markdown",
   "metadata": {},
   "source": [
    "Наш вывод подтвердился, следовательно, данный вывод мы можем соотнести с продажами игр на других платформах. Получается, что продажа частично зависят от оценки критиков и не зависят от оценкт пользователей."
   ]
  },
  {
   "cell_type": "markdown",
   "metadata": {},
   "source": [
    "**9) Посмотрим на общее распределение игр по жанрам. Что можно сказать о самых прибыльных жанрах? Выделяются ли жанры с высокими и низкими продажами?**"
   ]
  },
  {
   "cell_type": "code",
   "execution_count": 69,
   "metadata": {
    "scrolled": true
   },
   "outputs": [
    {
     "data": {
      "image/png": "[encoded data removed]",
      "text/plain": [
       "<Figure size 1200x500 with 1 Axes>"
      ]
     },
     "metadata": {},
     "output_type": "display_data"
    }
   ],
   "source": [
    "(\n",
    "    actual_games.groupby('genre').agg({'name':'count'}).reset_index()\n",
    "    .plot(x = 'genre', y = 'name', kind = 'bar', figsize=(12, 5), title = 'Распределение игр по жанрам')\n",
    ");"
   ]
  },
  {
   "cell_type": "markdown",
   "metadata": {},
   "source": [
    "Больше всего игр в жанре Экшен."
   ]
  },
  {
   "cell_type": "code",
   "execution_count": 71,
   "metadata": {
    "scrolled": true
   },
   "outputs": [
    {
     "data": {
      "image/png": "[encoded data removed]",
      "text/plain": [
       "<Figure size 1200x500 with 1 Axes>"
      ]
     },
     "metadata": {},
     "output_type": "display_data"
    }
   ],
   "source": [
    "(\n",
    "    actual_games.pivot_table(index='genre', values='total_sales', aggfunc='mean').reset_index()\n",
    "    .plot(x = 'genre', y = 'total_sales', kind = 'bar', figsize=(12, 5), title = 'Зависимость прибыли от жанра')\n",
    ");"
   ]
  },
  {
   "cell_type": "markdown",
   "metadata": {},
   "source": [
    "Вывод: самым прибыльным оказался жанр Shooter, остальные сильно уступают ему. Самая маленькая средняя прибыль у жанра adventure."
   ]
  },
  {
   "cell_type": "markdown",
   "metadata": {},
   "source": [
    "## Составим портрет пользователя каждого региона"
   ]
  },
  {
   "cell_type": "markdown",
   "metadata": {},
   "source": [
    "**Определите для пользователя каждого региона (NA, EU, JP):**\n",
    "- Самые популярные платформы (топ-5). Опишите различия в долях продаж.\n",
    "- Самые популярные жанры (топ-5). Поясните разницу.\n",
    "- Влияет ли рейтинг ESRB на продажи в отдельном регионе?"
   ]
  },
  {
   "cell_type": "markdown",
   "metadata": {},
   "source": [
    "*1) Самые популярные платформы*"
   ]
  },
  {
   "cell_type": "code",
   "execution_count": 72,
   "metadata": {
    "scrolled": true
   },
   "outputs": [
    {
     "data": {
      "image/png": "[encoded data removed]",
      "text/plain": [
       "<Figure size 640x480 with 1 Axes>"
      ]
     },
     "metadata": {},
     "output_type": "display_data"
    },
    {
     "data": {
      "image/png": "[encoded data removed]",
      "text/plain": [
       "<Figure size 640x480 with 1 Axes>"
      ]
     },
     "metadata": {},
     "output_type": "display_data"
    },
    {
     "data": {
      "image/png": "[encoded data removed]",
      "text/plain": [
       "<Figure size 640x480 with 1 Axes>"
      ]
     },
     "metadata": {},
     "output_type": "display_data"
    }
   ],
   "source": [
    "actual_games.groupby(by='platform').agg({'na_sales':'sum'}).sort_values(by='na_sales', ascending=False).head(5).plot(kind='bar', title = 'Самые популярные платформы в Северной Америке');\n",
    "\n",
    "actual_games.groupby(by='platform').agg({'eu_sales':'sum'}).sort_values(by='eu_sales', ascending=False).head(5).plot(kind='bar', title = 'Самые популярные платформы в Европе');\n",
    "\n",
    "actual_games.groupby(by='platform').agg({'jp_sales':'sum'}).sort_values(by='jp_sales', ascending=False).head(5).plot(kind='bar', title = 'Самые популярные платформы в Японии');"
   ]
  },
  {
   "cell_type": "markdown",
   "metadata": {},
   "source": [
    "В Северной Америке самыми популярными оказались платформы PS и XB и находятся примерно на одном уровне. В пятерку также вошла 3DS. В Европе наибольшую популярность имеет платформа PS4, в Японии в лидерство выбивается 3DS, тк это японская компания, возможно, лидерство обусловленно тем, что на платформе выходили игры, актуальные для Японии (анимешные какие-то...), + это прототипная платформа, удобно взять с собой. На втором месте PS, скорее всего потому что это японская платформа, а XB американская."
   ]
  },
  {
   "cell_type": "markdown",
   "metadata": {},
   "source": [
    "*2) Самые популярные жанры*"
   ]
  },
  {
   "cell_type": "code",
   "execution_count": 73,
   "metadata": {},
   "outputs": [
    {
     "data": {
      "image/png": "[encoded data removed]",
      "text/plain": [
       "<Figure size 640x480 with 1 Axes>"
      ]
     },
     "metadata": {},
     "output_type": "display_data"
    },
    {
     "data": {
      "image/png": "[encoded data removed]",
      "text/plain": [
       "<Figure size 640x480 with 1 Axes>"
      ]
     },
     "metadata": {},
     "output_type": "display_data"
    },
    {
     "data": {
      "image/png": "[encoded data removed]",
      "text/plain": [
       "<Figure size 640x480 with 1 Axes>"
      ]
     },
     "metadata": {},
     "output_type": "display_data"
    }
   ],
   "source": [
    "actual_games.groupby(by='genre').agg({'na_sales':'sum'}).sort_values(by='na_sales', ascending=False).head(5).plot(kind='bar', title = 'Самые популярные жанры в Северной Америке');\n",
    "\n",
    "actual_games.groupby(by='genre').agg({'eu_sales':'sum'}).sort_values(by='eu_sales', ascending=False).head(5).plot(kind='bar', title = 'Самые популярные жанры в Европе');\n",
    "\n",
    "actual_games.groupby(by='genre').agg({'jp_sales':'sum'}).sort_values(by='jp_sales', ascending=False).head(5).plot(kind='bar', title = 'Самые популярные жанры в Японии');"
   ]
  },
  {
   "cell_type": "markdown",
   "metadata": {},
   "source": [
    " В Европе и Америке лидируют action, shoots и sports, в Японии role-playing и action, скорее всего это зависит от минталитета Японцев"
   ]
  },
  {
   "cell_type": "markdown",
   "metadata": {},
   "source": [
    "*1) Влияет ли рейтинг ESRB на продажи в отдельном регионе?*"
   ]
  },
  {
   "cell_type": "code",
   "execution_count": 74,
   "metadata": {},
   "outputs": [
    {
     "data": {
      "image/png": "[encoded data removed]",
      "text/plain": [
       "<Figure size 640x480 with 1 Axes>"
      ]
     },
     "metadata": {},
     "output_type": "display_data"
    },
    {
     "data": {
      "image/png": "[encoded data removed]",
      "text/plain": [
       "<Figure size 640x480 with 1 Axes>"
      ]
     },
     "metadata": {},
     "output_type": "display_data"
    },
    {
     "data": {
      "image/png": "[encoded data removed]",
      "text/plain": [
       "<Figure size 640x480 with 1 Axes>"
      ]
     },
     "metadata": {},
     "output_type": "display_data"
    }
   ],
   "source": [
    "actual_games.groupby(by='rating').agg({'na_sales':'sum'}).sort_values(by='na_sales', ascending=False).plot(kind='bar', title = 'Влияние рейтинга ESRB в Северной Америке');\n",
    "\n",
    "actual_games.groupby(by='rating').agg({'eu_sales':'sum'}).sort_values(by='eu_sales', ascending=False).plot(kind='bar', title = 'Влияние рейтинга ESRB в Европе');\n",
    "\n",
    "actual_games.groupby(by='rating').agg({'jp_sales':'sum'}).sort_values(by='jp_sales', ascending=False).plot(kind='bar', title = 'Влияние рейтинга ESRB в Японии');"
   ]
  },
  {
   "cell_type": "markdown",
   "metadata": {},
   "source": [
    "В Америке и Европе наиболее продаваемы игры в с категорией М (из инета «M» («Mature») — «Для взрослых»: Материалы игры не подходят для лиц младше 17 лет.). В выборке в Японии много игр вне рейтинга, из тех, что в рейтинге в тройке Т, Е и М («T» («Teen») — «Подросткам»: Игра подходит для лиц от 13 лет. «E» («Everyone») — «Для всех»: Содержание вполне подходит для всех возрастов. )"
   ]
  },
  {
   "cell_type": "markdown",
   "metadata": {},
   "source": [
    "## Проверим гипотезы\n",
    "- Средние пользовательские рейтинги платформ Xbox One и PC одинаковые;\n",
    "- Средние пользовательские рейтинги жанров Action (англ. «действие», экшен-игры) и Sports (англ. «спортивные соревнования») разные.\n",
    "\n"
   ]
  },
  {
   "cell_type": "markdown",
   "metadata": {},
   "source": [
    "**Средние пользовательские рейтинги платформ Xbox One и PS одинаковые**\n",
    "- H0: Средние пользовательские рейтинги платформ Xbox One и PS одинаковые \n",
    "- Н1: Средние пользовательские рейтинги платформ Xbox One и PS различные\n",
    "- alpha = .05"
   ]
  },
  {
   "cell_type": "code",
   "execution_count": null,
   "metadata": {},
   "outputs": [],
   "source": [
    "xb_user_score = games_XOne.loc[games_XOne['user_score'] > 0]['user_score']\n",
    "ps_user_score = games_ps4.loc[games_ps4['user_score'] > 0]['user_score']\n",
    "\n",
    "alpha = 0.05\n",
    "\n",
    "results = st.ttest_ind(\n",
    "    xb_user_score, \n",
    "    ps_user_score)\n",
    "\n",
    "print('p-значение:', results.pvalue)\n",
    "\n",
    "if results.pvalue < alpha: \n",
    "    print(\"Отвергаем нулевую гипотезу\")\n",
    "else:\n",
    "    print(\"Не получилось отвергнуть нулевую гипотезу\")"
   ]
  },
  {
   "cell_type": "markdown",
   "metadata": {},
   "source": [
    "Вывод: Средние пользовательские рейтинги платформ Xbox One и PS  статистически значимо не различаются."
   ]
  },
  {
   "cell_type": "markdown",
   "metadata": {},
   "source": [
    "**Средние пользовательские рейтинги жанров Action (англ. «действие», экшен-игры) и Sports (англ. «спортивные соревнования») разные.**\n",
    "\n",
    "- H0: Средние пользовательские рейтинги жанров Action (англ. «действие», экшен-игры) и Sports (англ. «спортивные соревнования») одинаковые.\n",
    "- Н1: Средние пользовательские рейтинги жанров Action (англ. «действие», экшен-игры) и Sports (англ. «спортивные соревнования») разные.\n",
    "- alpha = .05"
   ]
  },
  {
   "cell_type": "code",
   "execution_count": null,
   "metadata": {},
   "outputs": [],
   "source": [
    "action_user_score = actual_games.loc[(actual_games['genre'] == 'Action') & (actual_games['user_score'] > 0)]['user_score']\n",
    "sports_user_score = actual_games.loc[(actual_games['genre'] == 'Sports') & (actual_games['user_score'] > 0)]['user_score']\n",
    "\n",
    "alpha = 0.05\n",
    "\n",
    "results = st.ttest_ind(\n",
    "    action_user_score, \n",
    "    sports_user_score)\n",
    "\n",
    "print('p-значение:', results.pvalue)\n",
    "\n",
    "if results.pvalue < alpha: \n",
    "    print(\"Отвергаем нулевую гипотезу\")\n",
    "else:\n",
    "    print(\"Не получилось отвергнуть нулевую гипотезу\")"
   ]
  },
  {
   "cell_type": "markdown",
   "metadata": {},
   "source": [
    "Вывод: Средние пользовательские рейтинги жанров Action (англ. «действие», экшен-игры) и Sports (англ. «спортивные соревнования») статистически значимо различаются."
   ]
  },
  {
   "cell_type": "markdown",
   "metadata": {},
   "source": [
    "Для проверки гипотез применили t-критерий Стьюдента, тк выборки независимы между собой."
   ]
  },
  {
   "cell_type": "markdown",
   "metadata": {},
   "source": [
    "### Общий вывод"
   ]
  },
  {
   "cell_type": "markdown",
   "metadata": {},
   "source": [
    "Были представленны данные о продажах интернет-магазине «Стримчик», который продаёт по всему миру компьютерные игры.\n",
    "\n",
    "Цель исследования - выявить определяющие успешность игры закономерности, что позволит сделать ставку на потенциально популярный продукт и спланировать рекламные кампании.\n",
    "\n",
    "На этапе предобработки данных привели к нижнему регистру названия стоблцов датафрейма. Тип данных в столбца year_of_release заменили на  int, в столбцае user_score на float и заполнили пропуски в этих столбцах. В столбце rating заменили пропущенные значения фразой \"non rating\". Посчитали суммарные продажи во всех регионах и записали их в отдельный столбец total_sales. \n",
    "\n",
    "В ходе проведения исследовательского анализа пришли к следующим выводам: \n",
    "- платформы PS и XB имеют наибольшие суммарные продажами\n",
    "- новые платформы появляются примерно за 6 лет, исчезают за 10 \n",
    "- связь между отзывами критиков на платформе и продажами присутствует, но слабая, возможно, при покупке игры, некоторые пользователи обращают на них внимание. Связи между оценками пользователей и продажами нет\n",
    "- самым прибыльным оказался жанр shooter (стрелялка). С низкими продажами - жанр adventure\n",
    "- портреты пользователей из Северной Америки, Европы и Японии отличаются:\n",
    "В Северной Америке самыми популярными оказались платформы PS и XB и находятся примерно на одном уровне. В пятерку также вошла 3DS. В Европе наибольшую популярность имеет платформа PS4, в Японии в лидерство выбивается 3DS, тк это японская компания, возможно, лидерство обусловленно тем, что на платформе выходили игры, актуальные для Японии (анимешные какие-то...), + это прототипная платформа, удобно взять с собой. На втором месте PS, скорее всего потому что это японская платформа, а XB американская. В Европе и Америке лидируют жанры action, shoots и sports, в Японии role-playing и action, скорее всего это зависит от минталитета Японцев. В Америке и Европе наиболее продаваемы игры в с категорией М (из инета «M» («Mature») — «Для взрослых»: Материалы игры не подходят для лиц младше 17 лет.). В выборке в Японии много игр вне рейтинга, из тех, что в рейтинге в тройке Т, Е и М («T» («Teen») — «Подросткам»: Игра подходит для лиц от 13 лет. «E» («Everyone») — «Для всех»: Содержание вполне подходит для всех возрастов.)\n",
    "- Средние пользовательские рейтинги платформ Xbox One и PS статистически значимо не различаются\n",
    "- Средние пользовательские рейтинги жанров Action (англ. «действие», экшен-игры) и Sports (англ. «спортивные соревнования») статистически значимо различаются."
   ]
  }
 ],
 "metadata": {
  "ExecuteTimeLog": [
   {
    "duration": 421,
    "start_time": "2022-11-20T10:56:56.078Z"
   },
   {
    "duration": 94,
    "start_time": "2022-11-20T10:58:15.180Z"
   },
   {
    "duration": 181,
    "start_time": "2022-11-20T10:59:32.590Z"
   },
   {
    "duration": 64,
    "start_time": "2022-11-20T11:01:29.489Z"
   },
   {
    "duration": 14,
    "start_time": "2022-11-20T11:02:22.173Z"
   },
   {
    "duration": 268,
    "start_time": "2022-11-20T11:11:36.601Z"
   },
   {
    "duration": 3,
    "start_time": "2022-11-20T11:17:34.308Z"
   },
   {
    "duration": 12,
    "start_time": "2022-11-20T11:17:46.193Z"
   },
   {
    "duration": 3,
    "start_time": "2022-11-20T11:18:15.996Z"
   },
   {
    "duration": 13,
    "start_time": "2022-11-20T11:20:07.638Z"
   },
   {
    "duration": 8,
    "start_time": "2022-11-20T11:26:51.158Z"
   },
   {
    "duration": 12,
    "start_time": "2022-11-20T11:27:29.169Z"
   },
   {
    "duration": 18,
    "start_time": "2022-11-20T11:28:52.543Z"
   },
   {
    "duration": 4,
    "start_time": "2022-11-20T11:31:26.848Z"
   },
   {
    "duration": 7,
    "start_time": "2022-11-20T11:34:54.108Z"
   },
   {
    "duration": 412,
    "start_time": "2022-11-20T11:35:10.111Z"
   },
   {
    "duration": 66,
    "start_time": "2022-11-20T11:35:10.525Z"
   },
   {
    "duration": 13,
    "start_time": "2022-11-20T11:35:10.592Z"
   },
   {
    "duration": 3,
    "start_time": "2022-11-20T11:35:10.606Z"
   },
   {
    "duration": 15,
    "start_time": "2022-11-20T11:35:10.611Z"
   },
   {
    "duration": 9,
    "start_time": "2022-11-20T11:35:10.628Z"
   },
   {
    "duration": 7,
    "start_time": "2022-11-20T11:35:10.639Z"
   },
   {
    "duration": 14,
    "start_time": "2022-11-20T11:36:49.225Z"
   },
   {
    "duration": 655,
    "start_time": "2022-11-20T11:51:56.211Z"
   },
   {
    "duration": 288,
    "start_time": "2022-11-20T11:53:11.433Z"
   },
   {
    "duration": 394,
    "start_time": "2022-11-20T12:03:46.799Z"
   },
   {
    "duration": 64,
    "start_time": "2022-11-20T12:03:47.195Z"
   },
   {
    "duration": 12,
    "start_time": "2022-11-20T12:03:47.263Z"
   },
   {
    "duration": 3,
    "start_time": "2022-11-20T12:03:47.276Z"
   },
   {
    "duration": 14,
    "start_time": "2022-11-20T12:03:47.281Z"
   },
   {
    "duration": 75,
    "start_time": "2022-11-20T12:03:47.296Z"
   },
   {
    "duration": 0,
    "start_time": "2022-11-20T12:03:47.373Z"
   },
   {
    "duration": 0,
    "start_time": "2022-11-20T12:03:47.374Z"
   },
   {
    "duration": 821,
    "start_time": "2022-11-20T12:08:32.366Z"
   },
   {
    "duration": 287,
    "start_time": "2022-11-20T12:08:58.679Z"
   },
   {
    "duration": 290,
    "start_time": "2022-11-20T12:10:49.767Z"
   },
   {
    "duration": 4,
    "start_time": "2022-11-20T12:11:27.544Z"
   },
   {
    "duration": 5,
    "start_time": "2022-11-20T12:12:28.948Z"
   },
   {
    "duration": 276,
    "start_time": "2022-11-20T12:12:45.054Z"
   },
   {
    "duration": 379,
    "start_time": "2022-11-20T12:13:05.527Z"
   },
   {
    "duration": 65,
    "start_time": "2022-11-20T12:13:05.908Z"
   },
   {
    "duration": 15,
    "start_time": "2022-11-20T12:13:05.974Z"
   },
   {
    "duration": 13,
    "start_time": "2022-11-20T12:13:05.991Z"
   },
   {
    "duration": 35,
    "start_time": "2022-11-20T12:13:06.005Z"
   },
   {
    "duration": 17,
    "start_time": "2022-11-20T12:13:06.042Z"
   },
   {
    "duration": 23,
    "start_time": "2022-11-20T12:13:06.061Z"
   },
   {
    "duration": 27,
    "start_time": "2022-11-20T12:13:06.086Z"
   },
   {
    "duration": 374,
    "start_time": "2022-11-20T12:13:43.932Z"
   },
   {
    "duration": 64,
    "start_time": "2022-11-20T12:13:44.307Z"
   },
   {
    "duration": 14,
    "start_time": "2022-11-20T12:13:44.373Z"
   },
   {
    "duration": 3,
    "start_time": "2022-11-20T12:13:44.388Z"
   },
   {
    "duration": 18,
    "start_time": "2022-11-20T12:13:44.393Z"
   },
   {
    "duration": 12,
    "start_time": "2022-11-20T12:13:44.412Z"
   },
   {
    "duration": 8,
    "start_time": "2022-11-20T12:13:44.425Z"
   },
   {
    "duration": 18,
    "start_time": "2022-11-20T12:13:44.435Z"
   },
   {
    "duration": 7,
    "start_time": "2022-11-20T12:14:04.450Z"
   },
   {
    "duration": 399,
    "start_time": "2022-11-20T12:14:32.290Z"
   },
   {
    "duration": 65,
    "start_time": "2022-11-20T12:14:32.691Z"
   },
   {
    "duration": 12,
    "start_time": "2022-11-20T12:14:32.758Z"
   },
   {
    "duration": 3,
    "start_time": "2022-11-20T12:14:32.771Z"
   },
   {
    "duration": 13,
    "start_time": "2022-11-20T12:14:32.776Z"
   },
   {
    "duration": 30,
    "start_time": "2022-11-20T12:14:32.790Z"
   },
   {
    "duration": 6,
    "start_time": "2022-11-20T12:14:32.821Z"
   },
   {
    "duration": 16,
    "start_time": "2022-11-20T12:14:32.828Z"
   },
   {
    "duration": 348,
    "start_time": "2022-11-20T12:14:45.351Z"
   },
   {
    "duration": 64,
    "start_time": "2022-11-20T12:14:45.700Z"
   },
   {
    "duration": 12,
    "start_time": "2022-11-20T12:14:45.766Z"
   },
   {
    "duration": 3,
    "start_time": "2022-11-20T12:14:45.780Z"
   },
   {
    "duration": 15,
    "start_time": "2022-11-20T12:14:45.784Z"
   },
   {
    "duration": 920,
    "start_time": "2022-11-20T12:14:45.801Z"
   },
   {
    "duration": 0,
    "start_time": "2022-11-20T12:14:46.722Z"
   },
   {
    "duration": 0,
    "start_time": "2022-11-20T12:14:46.723Z"
   },
   {
    "duration": 306,
    "start_time": "2022-11-20T12:15:04.324Z"
   },
   {
    "duration": 365,
    "start_time": "2022-11-20T12:15:15.641Z"
   },
   {
    "duration": 67,
    "start_time": "2022-11-20T12:15:16.008Z"
   },
   {
    "duration": 12,
    "start_time": "2022-11-20T12:15:16.076Z"
   },
   {
    "duration": 4,
    "start_time": "2022-11-20T12:15:16.090Z"
   },
   {
    "duration": 13,
    "start_time": "2022-11-20T12:15:16.096Z"
   },
   {
    "duration": 1230,
    "start_time": "2022-11-20T12:15:16.111Z"
   },
   {
    "duration": 0,
    "start_time": "2022-11-20T12:15:17.343Z"
   },
   {
    "duration": 0,
    "start_time": "2022-11-20T12:15:17.345Z"
   },
   {
    "duration": 388,
    "start_time": "2022-11-20T12:15:44.675Z"
   },
   {
    "duration": 63,
    "start_time": "2022-11-20T12:15:45.065Z"
   },
   {
    "duration": 12,
    "start_time": "2022-11-20T12:15:45.129Z"
   },
   {
    "duration": 3,
    "start_time": "2022-11-20T12:15:45.143Z"
   },
   {
    "duration": 13,
    "start_time": "2022-11-20T12:15:45.147Z"
   },
   {
    "duration": 22,
    "start_time": "2022-11-20T12:15:45.161Z"
   },
   {
    "duration": 6,
    "start_time": "2022-11-20T12:15:45.185Z"
   },
   {
    "duration": 13,
    "start_time": "2022-11-20T12:15:45.213Z"
   },
   {
    "duration": 22,
    "start_time": "2022-11-20T12:17:17.604Z"
   },
   {
    "duration": 350,
    "start_time": "2022-11-20T12:17:24.555Z"
   },
   {
    "duration": 66,
    "start_time": "2022-11-20T12:17:24.907Z"
   },
   {
    "duration": 13,
    "start_time": "2022-11-20T12:17:24.975Z"
   },
   {
    "duration": 4,
    "start_time": "2022-11-20T12:17:24.989Z"
   },
   {
    "duration": 12,
    "start_time": "2022-11-20T12:17:24.995Z"
   },
   {
    "duration": 25,
    "start_time": "2022-11-20T12:17:25.009Z"
   },
   {
    "duration": 6,
    "start_time": "2022-11-20T12:17:25.036Z"
   },
   {
    "duration": 18,
    "start_time": "2022-11-20T12:17:25.043Z"
   },
   {
    "duration": 404,
    "start_time": "2022-11-20T12:17:55.787Z"
   },
   {
    "duration": 68,
    "start_time": "2022-11-20T12:17:56.193Z"
   },
   {
    "duration": 13,
    "start_time": "2022-11-20T12:17:56.263Z"
   },
   {
    "duration": 3,
    "start_time": "2022-11-20T12:17:56.277Z"
   },
   {
    "duration": 14,
    "start_time": "2022-11-20T12:17:56.282Z"
   },
   {
    "duration": 38,
    "start_time": "2022-11-20T12:17:56.297Z"
   },
   {
    "duration": 7,
    "start_time": "2022-11-20T12:17:56.337Z"
   },
   {
    "duration": 17,
    "start_time": "2022-11-20T12:17:56.345Z"
   },
   {
    "duration": 394,
    "start_time": "2022-11-20T12:19:20.991Z"
   },
   {
    "duration": 68,
    "start_time": "2022-11-20T12:19:21.387Z"
   },
   {
    "duration": 15,
    "start_time": "2022-11-20T12:19:21.457Z"
   },
   {
    "duration": 3,
    "start_time": "2022-11-20T12:19:21.474Z"
   },
   {
    "duration": 35,
    "start_time": "2022-11-20T12:19:21.480Z"
   },
   {
    "duration": 6,
    "start_time": "2022-11-20T12:19:21.517Z"
   },
   {
    "duration": 12,
    "start_time": "2022-11-20T12:19:21.524Z"
   },
   {
    "duration": 13,
    "start_time": "2022-11-20T12:19:21.537Z"
   },
   {
    "duration": 6,
    "start_time": "2022-11-20T12:19:45.378Z"
   },
   {
    "duration": 6,
    "start_time": "2022-11-20T12:23:08.212Z"
   },
   {
    "duration": 390,
    "start_time": "2022-11-20T13:23:58.982Z"
   },
   {
    "duration": 64,
    "start_time": "2022-11-20T13:23:59.374Z"
   },
   {
    "duration": 13,
    "start_time": "2022-11-20T13:23:59.440Z"
   },
   {
    "duration": 3,
    "start_time": "2022-11-20T13:23:59.454Z"
   },
   {
    "duration": 14,
    "start_time": "2022-11-20T13:23:59.458Z"
   },
   {
    "duration": 5,
    "start_time": "2022-11-20T13:23:59.473Z"
   },
   {
    "duration": 34,
    "start_time": "2022-11-20T13:23:59.480Z"
   },
   {
    "duration": 9,
    "start_time": "2022-11-20T13:23:59.515Z"
   },
   {
    "duration": 13,
    "start_time": "2022-11-20T13:23:59.525Z"
   },
   {
    "duration": 8,
    "start_time": "2022-11-20T13:46:36.372Z"
   },
   {
    "duration": 1436,
    "start_time": "2022-11-20T14:00:06.415Z"
   },
   {
    "duration": 5,
    "start_time": "2022-11-20T14:00:50.475Z"
   },
   {
    "duration": 8,
    "start_time": "2022-11-20T14:00:57.682Z"
   },
   {
    "duration": 73,
    "start_time": "2022-11-20T14:10:03.495Z"
   },
   {
    "duration": 16,
    "start_time": "2022-11-20T14:14:46.576Z"
   },
   {
    "duration": 20,
    "start_time": "2022-11-20T14:22:06.603Z"
   },
   {
    "duration": 13,
    "start_time": "2022-11-20T14:22:53.155Z"
   },
   {
    "duration": 16,
    "start_time": "2022-11-20T14:24:49.887Z"
   },
   {
    "duration": 13,
    "start_time": "2022-11-20T14:24:59.774Z"
   },
   {
    "duration": 11,
    "start_time": "2022-11-20T14:40:58.166Z"
   },
   {
    "duration": 14,
    "start_time": "2022-11-20T14:41:07.216Z"
   },
   {
    "duration": 13,
    "start_time": "2022-11-20T14:41:15.509Z"
   },
   {
    "duration": 349,
    "start_time": "2022-11-20T14:41:52.053Z"
   },
   {
    "duration": 64,
    "start_time": "2022-11-20T14:41:52.405Z"
   },
   {
    "duration": 14,
    "start_time": "2022-11-20T14:41:52.471Z"
   },
   {
    "duration": 4,
    "start_time": "2022-11-20T14:41:52.488Z"
   },
   {
    "duration": 13,
    "start_time": "2022-11-20T14:41:52.493Z"
   },
   {
    "duration": 5,
    "start_time": "2022-11-20T14:41:52.508Z"
   },
   {
    "duration": 7,
    "start_time": "2022-11-20T14:41:52.515Z"
   },
   {
    "duration": 13,
    "start_time": "2022-11-20T14:41:52.524Z"
   },
   {
    "duration": 7,
    "start_time": "2022-11-20T14:41:52.538Z"
   },
   {
    "duration": 3,
    "start_time": "2022-11-20T14:41:52.547Z"
   },
   {
    "duration": 9,
    "start_time": "2022-11-20T14:41:52.551Z"
   },
   {
    "duration": 16,
    "start_time": "2022-11-20T14:41:52.561Z"
   },
   {
    "duration": 43,
    "start_time": "2022-11-20T14:41:52.578Z"
   },
   {
    "duration": 10,
    "start_time": "2022-11-20T14:41:52.622Z"
   },
   {
    "duration": 67,
    "start_time": "2022-11-20T14:46:34.077Z"
   },
   {
    "duration": 10,
    "start_time": "2022-11-20T14:46:57.569Z"
   },
   {
    "duration": 6,
    "start_time": "2022-11-20T14:47:23.653Z"
   },
   {
    "duration": 12,
    "start_time": "2022-11-20T14:47:55.998Z"
   },
   {
    "duration": 12,
    "start_time": "2022-11-20T14:50:35.533Z"
   },
   {
    "duration": 10,
    "start_time": "2022-11-20T14:50:59.091Z"
   },
   {
    "duration": 11,
    "start_time": "2022-11-20T14:51:58.420Z"
   },
   {
    "duration": 588,
    "start_time": "2022-11-20T14:55:28.498Z"
   },
   {
    "duration": 131,
    "start_time": "2022-11-20T14:56:14.220Z"
   },
   {
    "duration": 76,
    "start_time": "2022-11-20T14:58:14.527Z"
   },
   {
    "duration": 11,
    "start_time": "2022-11-20T14:58:55.673Z"
   },
   {
    "duration": 418,
    "start_time": "2022-11-20T14:59:03.481Z"
   },
   {
    "duration": 64,
    "start_time": "2022-11-20T14:59:03.901Z"
   },
   {
    "duration": 13,
    "start_time": "2022-11-20T14:59:03.967Z"
   },
   {
    "duration": 2,
    "start_time": "2022-11-20T14:59:03.982Z"
   },
   {
    "duration": 15,
    "start_time": "2022-11-20T14:59:03.986Z"
   },
   {
    "duration": 9,
    "start_time": "2022-11-20T14:59:04.004Z"
   },
   {
    "duration": 7,
    "start_time": "2022-11-20T14:59:04.014Z"
   },
   {
    "duration": 13,
    "start_time": "2022-11-20T14:59:04.022Z"
   },
   {
    "duration": 6,
    "start_time": "2022-11-20T14:59:04.037Z"
   },
   {
    "duration": 4,
    "start_time": "2022-11-20T14:59:04.046Z"
   },
   {
    "duration": 9,
    "start_time": "2022-11-20T14:59:04.052Z"
   },
   {
    "duration": 51,
    "start_time": "2022-11-20T14:59:04.062Z"
   },
   {
    "duration": 17,
    "start_time": "2022-11-20T14:59:04.116Z"
   },
   {
    "duration": 12,
    "start_time": "2022-11-20T14:59:04.135Z"
   },
   {
    "duration": 217,
    "start_time": "2022-11-20T14:59:04.148Z"
   },
   {
    "duration": 21,
    "start_time": "2022-11-20T15:04:12.225Z"
   },
   {
    "duration": 67,
    "start_time": "2022-11-20T15:07:36.822Z"
   },
   {
    "duration": 69,
    "start_time": "2022-11-20T15:11:15.045Z"
   },
   {
    "duration": 90,
    "start_time": "2022-11-20T15:14:25.168Z"
   },
   {
    "duration": 20,
    "start_time": "2022-11-20T15:14:51.427Z"
   },
   {
    "duration": 152,
    "start_time": "2022-11-20T15:15:05.431Z"
   },
   {
    "duration": 168,
    "start_time": "2022-11-20T15:15:13.125Z"
   },
   {
    "duration": 150,
    "start_time": "2022-11-20T15:16:16.740Z"
   },
   {
    "duration": 154,
    "start_time": "2022-11-20T15:16:25.022Z"
   },
   {
    "duration": 164,
    "start_time": "2022-11-20T15:16:42.536Z"
   },
   {
    "duration": 220,
    "start_time": "2022-11-20T15:17:07.633Z"
   },
   {
    "duration": 208,
    "start_time": "2022-11-20T15:17:16.240Z"
   },
   {
    "duration": 182,
    "start_time": "2022-11-20T15:17:32.132Z"
   },
   {
    "duration": 213,
    "start_time": "2022-11-20T15:18:17.543Z"
   },
   {
    "duration": 164,
    "start_time": "2022-11-20T15:18:30.883Z"
   },
   {
    "duration": 12,
    "start_time": "2022-11-20T15:21:03.328Z"
   },
   {
    "duration": 129,
    "start_time": "2022-11-20T15:23:20.745Z"
   },
   {
    "duration": 145,
    "start_time": "2022-11-20T15:23:58.015Z"
   },
   {
    "duration": 125,
    "start_time": "2022-11-20T15:24:15.758Z"
   },
   {
    "duration": 13,
    "start_time": "2022-11-20T15:24:34.828Z"
   },
   {
    "duration": 132,
    "start_time": "2022-11-20T15:25:41.060Z"
   },
   {
    "duration": 166,
    "start_time": "2022-11-20T15:26:20.259Z"
   },
   {
    "duration": 122,
    "start_time": "2022-11-20T15:26:36.439Z"
   },
   {
    "duration": 210,
    "start_time": "2022-11-20T15:26:48.575Z"
   },
   {
    "duration": 143,
    "start_time": "2022-11-20T15:29:12.921Z"
   },
   {
    "duration": 140,
    "start_time": "2022-11-20T15:30:11.276Z"
   },
   {
    "duration": 130,
    "start_time": "2022-11-20T15:30:28.689Z"
   },
   {
    "duration": 136,
    "start_time": "2022-11-20T15:36:10.679Z"
   },
   {
    "duration": 150,
    "start_time": "2022-11-20T15:36:27.825Z"
   },
   {
    "duration": 140,
    "start_time": "2022-11-20T15:37:14.056Z"
   },
   {
    "duration": 134,
    "start_time": "2022-11-20T15:38:13.013Z"
   },
   {
    "duration": 141,
    "start_time": "2022-11-20T15:38:34.141Z"
   },
   {
    "duration": 141,
    "start_time": "2022-11-20T15:38:49.352Z"
   },
   {
    "duration": 129,
    "start_time": "2022-11-20T15:40:01.396Z"
   },
   {
    "duration": 10,
    "start_time": "2022-11-20T16:04:23.671Z"
   },
   {
    "duration": 21,
    "start_time": "2022-11-20T16:04:31.177Z"
   },
   {
    "duration": 12,
    "start_time": "2022-11-20T16:07:59.610Z"
   },
   {
    "duration": 13,
    "start_time": "2022-11-20T16:08:11.434Z"
   },
   {
    "duration": 219,
    "start_time": "2022-11-20T16:12:38.183Z"
   },
   {
    "duration": 129,
    "start_time": "2022-11-20T16:12:52.720Z"
   },
   {
    "duration": 115,
    "start_time": "2022-11-20T16:15:02.563Z"
   },
   {
    "duration": 146,
    "start_time": "2022-11-20T16:15:22.700Z"
   },
   {
    "duration": 122,
    "start_time": "2022-11-20T16:15:36.181Z"
   },
   {
    "duration": 118,
    "start_time": "2022-11-20T16:15:40.996Z"
   },
   {
    "duration": 8,
    "start_time": "2022-11-20T16:23:22.600Z"
   },
   {
    "duration": 128,
    "start_time": "2022-11-20T16:24:14.673Z"
   },
   {
    "duration": 96,
    "start_time": "2022-11-20T16:24:52.691Z"
   },
   {
    "duration": 114,
    "start_time": "2022-11-20T16:25:48.607Z"
   },
   {
    "duration": 100,
    "start_time": "2022-11-20T16:25:54.726Z"
   },
   {
    "duration": 86,
    "start_time": "2022-11-20T16:26:04.348Z"
   },
   {
    "duration": 155,
    "start_time": "2022-11-20T16:26:36.956Z"
   },
   {
    "duration": 86,
    "start_time": "2022-11-20T16:26:42.851Z"
   },
   {
    "duration": 94,
    "start_time": "2022-11-20T16:26:51.569Z"
   },
   {
    "duration": 90,
    "start_time": "2022-11-20T16:26:57.499Z"
   },
   {
    "duration": 87,
    "start_time": "2022-11-20T16:31:02.970Z"
   },
   {
    "duration": 79,
    "start_time": "2022-11-20T16:31:11.071Z"
   },
   {
    "duration": 79,
    "start_time": "2022-11-20T16:31:23.611Z"
   },
   {
    "duration": 81,
    "start_time": "2022-11-20T16:31:34.269Z"
   },
   {
    "duration": 384,
    "start_time": "2022-11-20T16:40:36.521Z"
   },
   {
    "duration": 80,
    "start_time": "2022-11-20T16:40:36.907Z"
   },
   {
    "duration": 25,
    "start_time": "2022-11-20T16:40:36.989Z"
   },
   {
    "duration": 3,
    "start_time": "2022-11-20T16:40:37.016Z"
   },
   {
    "duration": 16,
    "start_time": "2022-11-20T16:40:37.022Z"
   },
   {
    "duration": 6,
    "start_time": "2022-11-20T16:40:37.041Z"
   },
   {
    "duration": 88,
    "start_time": "2022-11-20T16:40:37.049Z"
   },
   {
    "duration": 0,
    "start_time": "2022-11-20T16:40:37.140Z"
   },
   {
    "duration": 0,
    "start_time": "2022-11-20T16:40:37.141Z"
   },
   {
    "duration": 0,
    "start_time": "2022-11-20T16:40:37.143Z"
   },
   {
    "duration": 0,
    "start_time": "2022-11-20T16:40:37.145Z"
   },
   {
    "duration": 0,
    "start_time": "2022-11-20T16:40:37.146Z"
   },
   {
    "duration": 0,
    "start_time": "2022-11-20T16:40:37.147Z"
   },
   {
    "duration": 0,
    "start_time": "2022-11-20T16:40:37.148Z"
   },
   {
    "duration": 0,
    "start_time": "2022-11-20T16:40:37.150Z"
   },
   {
    "duration": 0,
    "start_time": "2022-11-20T16:40:37.152Z"
   },
   {
    "duration": 0,
    "start_time": "2022-11-20T16:40:37.153Z"
   },
   {
    "duration": 0,
    "start_time": "2022-11-20T16:40:37.154Z"
   },
   {
    "duration": 0,
    "start_time": "2022-11-20T16:40:37.155Z"
   },
   {
    "duration": 0,
    "start_time": "2022-11-20T16:40:37.157Z"
   },
   {
    "duration": 0,
    "start_time": "2022-11-20T16:40:37.159Z"
   },
   {
    "duration": 0,
    "start_time": "2022-11-20T16:40:37.160Z"
   },
   {
    "duration": 0,
    "start_time": "2022-11-20T16:40:37.162Z"
   },
   {
    "duration": 0,
    "start_time": "2022-11-20T16:40:37.163Z"
   },
   {
    "duration": 0,
    "start_time": "2022-11-20T16:40:37.164Z"
   },
   {
    "duration": 0,
    "start_time": "2022-11-20T16:40:37.165Z"
   },
   {
    "duration": 2,
    "start_time": "2022-11-20T16:40:57.583Z"
   },
   {
    "duration": 368,
    "start_time": "2022-11-20T16:41:01.837Z"
   },
   {
    "duration": 73,
    "start_time": "2022-11-20T16:41:02.206Z"
   },
   {
    "duration": 13,
    "start_time": "2022-11-20T16:41:02.280Z"
   },
   {
    "duration": 6,
    "start_time": "2022-11-20T16:41:02.296Z"
   },
   {
    "duration": 22,
    "start_time": "2022-11-20T16:41:02.305Z"
   },
   {
    "duration": 7,
    "start_time": "2022-11-20T16:41:02.329Z"
   },
   {
    "duration": 9,
    "start_time": "2022-11-20T16:41:02.338Z"
   },
   {
    "duration": 20,
    "start_time": "2022-11-20T16:41:02.349Z"
   },
   {
    "duration": 12,
    "start_time": "2022-11-20T16:41:02.371Z"
   },
   {
    "duration": 13,
    "start_time": "2022-11-20T16:41:02.387Z"
   },
   {
    "duration": 23,
    "start_time": "2022-11-20T16:41:02.402Z"
   },
   {
    "duration": 21,
    "start_time": "2022-11-20T16:41:02.427Z"
   },
   {
    "duration": 17,
    "start_time": "2022-11-20T16:41:02.450Z"
   },
   {
    "duration": 11,
    "start_time": "2022-11-20T16:41:02.469Z"
   },
   {
    "duration": 394,
    "start_time": "2022-11-20T16:41:02.482Z"
   },
   {
    "duration": 155,
    "start_time": "2022-11-20T16:41:02.877Z"
   },
   {
    "duration": 137,
    "start_time": "2022-11-20T16:41:03.034Z"
   },
   {
    "duration": 145,
    "start_time": "2022-11-20T16:41:03.173Z"
   },
   {
    "duration": 207,
    "start_time": "2022-11-20T16:41:03.319Z"
   },
   {
    "duration": 158,
    "start_time": "2022-11-20T16:41:03.528Z"
   },
   {
    "duration": 142,
    "start_time": "2022-11-20T16:41:03.688Z"
   },
   {
    "duration": 23,
    "start_time": "2022-11-20T16:41:03.832Z"
   },
   {
    "duration": 11,
    "start_time": "2022-11-20T16:41:03.856Z"
   },
   {
    "duration": 151,
    "start_time": "2022-11-20T16:41:03.869Z"
   },
   {
    "duration": 91,
    "start_time": "2022-11-20T16:41:04.022Z"
   },
   {
    "duration": 84,
    "start_time": "2022-11-20T16:41:04.114Z"
   },
   {
    "duration": 46,
    "start_time": "2022-11-21T09:48:14.854Z"
   },
   {
    "duration": 365,
    "start_time": "2022-11-21T09:48:19.661Z"
   },
   {
    "duration": 112,
    "start_time": "2022-11-21T09:48:20.028Z"
   },
   {
    "duration": 13,
    "start_time": "2022-11-21T09:48:20.142Z"
   },
   {
    "duration": 3,
    "start_time": "2022-11-21T09:48:20.156Z"
   },
   {
    "duration": 15,
    "start_time": "2022-11-21T09:48:20.161Z"
   },
   {
    "duration": 5,
    "start_time": "2022-11-21T09:48:20.178Z"
   },
   {
    "duration": 8,
    "start_time": "2022-11-21T09:48:20.184Z"
   },
   {
    "duration": 32,
    "start_time": "2022-11-21T09:48:20.193Z"
   },
   {
    "duration": 8,
    "start_time": "2022-11-21T09:48:20.226Z"
   },
   {
    "duration": 6,
    "start_time": "2022-11-21T09:48:20.235Z"
   },
   {
    "duration": 12,
    "start_time": "2022-11-21T09:48:20.243Z"
   },
   {
    "duration": 20,
    "start_time": "2022-11-21T09:48:20.257Z"
   },
   {
    "duration": 13,
    "start_time": "2022-11-21T09:48:20.279Z"
   },
   {
    "duration": 12,
    "start_time": "2022-11-21T09:48:20.315Z"
   },
   {
    "duration": 519,
    "start_time": "2022-11-21T09:48:20.328Z"
   },
   {
    "duration": 159,
    "start_time": "2022-11-21T09:48:20.849Z"
   },
   {
    "duration": 139,
    "start_time": "2022-11-21T09:48:21.010Z"
   },
   {
    "duration": 205,
    "start_time": "2022-11-21T09:48:21.151Z"
   },
   {
    "duration": 148,
    "start_time": "2022-11-21T09:48:21.358Z"
   },
   {
    "duration": 157,
    "start_time": "2022-11-21T09:48:21.507Z"
   },
   {
    "duration": 142,
    "start_time": "2022-11-21T09:48:21.666Z"
   },
   {
    "duration": 26,
    "start_time": "2022-11-21T09:48:21.809Z"
   },
   {
    "duration": 13,
    "start_time": "2022-11-21T09:48:21.836Z"
   },
   {
    "duration": 128,
    "start_time": "2022-11-21T09:48:21.850Z"
   },
   {
    "duration": 101,
    "start_time": "2022-11-21T09:48:21.980Z"
   },
   {
    "duration": 105,
    "start_time": "2022-11-21T09:48:22.083Z"
   },
   {
    "duration": 75,
    "start_time": "2022-11-21T09:48:22.190Z"
   },
   {
    "duration": 79,
    "start_time": "2022-11-21T09:49:41.630Z"
   },
   {
    "duration": 10,
    "start_time": "2022-11-21T09:54:49.163Z"
   },
   {
    "duration": 138,
    "start_time": "2022-11-21T09:55:56.102Z"
   },
   {
    "duration": 134,
    "start_time": "2022-11-21T09:57:52.172Z"
   },
   {
    "duration": 138,
    "start_time": "2022-11-21T10:00:57.170Z"
   },
   {
    "duration": 199,
    "start_time": "2022-11-21T10:01:12.974Z"
   },
   {
    "duration": 159,
    "start_time": "2022-11-21T10:01:35.615Z"
   },
   {
    "duration": 151,
    "start_time": "2022-11-21T10:01:52.331Z"
   },
   {
    "duration": 134,
    "start_time": "2022-11-21T10:02:03.622Z"
   },
   {
    "duration": 135,
    "start_time": "2022-11-21T10:03:09.374Z"
   },
   {
    "duration": 174,
    "start_time": "2022-11-21T10:03:35.924Z"
   },
   {
    "duration": 174,
    "start_time": "2022-11-21T10:05:00.459Z"
   },
   {
    "duration": 190,
    "start_time": "2022-11-21T10:05:14.462Z"
   },
   {
    "duration": 171,
    "start_time": "2022-11-21T10:05:27.773Z"
   },
   {
    "duration": 175,
    "start_time": "2022-11-21T10:05:34.633Z"
   },
   {
    "duration": 153,
    "start_time": "2022-11-21T10:05:43.307Z"
   },
   {
    "duration": 201,
    "start_time": "2022-11-21T10:05:55.819Z"
   },
   {
    "duration": 142,
    "start_time": "2022-11-21T10:06:09.321Z"
   },
   {
    "duration": 147,
    "start_time": "2022-11-21T10:08:02.814Z"
   },
   {
    "duration": 4,
    "start_time": "2022-11-21T10:18:30.391Z"
   },
   {
    "duration": 46,
    "start_time": "2022-11-21T10:19:47.789Z"
   },
   {
    "duration": 145,
    "start_time": "2022-11-21T10:19:53.373Z"
   },
   {
    "duration": 156,
    "start_time": "2022-11-21T10:20:40.045Z"
   },
   {
    "duration": 147,
    "start_time": "2022-11-21T10:27:32.862Z"
   },
   {
    "duration": 135,
    "start_time": "2022-11-21T10:29:05.231Z"
   },
   {
    "duration": 145,
    "start_time": "2022-11-21T10:29:17.713Z"
   },
   {
    "duration": 136,
    "start_time": "2022-11-21T10:29:25.762Z"
   },
   {
    "duration": 150,
    "start_time": "2022-11-21T10:29:36.486Z"
   },
   {
    "duration": 141,
    "start_time": "2022-11-21T10:29:42.781Z"
   },
   {
    "duration": 277,
    "start_time": "2022-11-21T10:29:55.881Z"
   },
   {
    "duration": 205,
    "start_time": "2022-11-21T10:37:47.996Z"
   },
   {
    "duration": 14,
    "start_time": "2022-11-21T10:41:52.263Z"
   },
   {
    "duration": 13,
    "start_time": "2022-11-21T10:42:51.744Z"
   },
   {
    "duration": 429,
    "start_time": "2022-11-21T10:42:56.128Z"
   },
   {
    "duration": 67,
    "start_time": "2022-11-21T10:42:56.559Z"
   },
   {
    "duration": 14,
    "start_time": "2022-11-21T10:42:56.627Z"
   },
   {
    "duration": 4,
    "start_time": "2022-11-21T10:42:56.643Z"
   },
   {
    "duration": 16,
    "start_time": "2022-11-21T10:42:56.648Z"
   },
   {
    "duration": 5,
    "start_time": "2022-11-21T10:42:56.666Z"
   },
   {
    "duration": 11,
    "start_time": "2022-11-21T10:42:56.673Z"
   },
   {
    "duration": 32,
    "start_time": "2022-11-21T10:42:56.685Z"
   },
   {
    "duration": 7,
    "start_time": "2022-11-21T10:42:56.718Z"
   },
   {
    "duration": 4,
    "start_time": "2022-11-21T10:42:56.728Z"
   },
   {
    "duration": 10,
    "start_time": "2022-11-21T10:42:56.733Z"
   },
   {
    "duration": 23,
    "start_time": "2022-11-21T10:42:56.744Z"
   },
   {
    "duration": 14,
    "start_time": "2022-11-21T10:42:56.768Z"
   },
   {
    "duration": 37,
    "start_time": "2022-11-21T10:42:56.783Z"
   },
   {
    "duration": 363,
    "start_time": "2022-11-21T10:42:56.821Z"
   },
   {
    "duration": 155,
    "start_time": "2022-11-21T10:42:57.185Z"
   },
   {
    "duration": 139,
    "start_time": "2022-11-21T10:42:57.342Z"
   },
   {
    "duration": 154,
    "start_time": "2022-11-21T10:42:57.483Z"
   },
   {
    "duration": 199,
    "start_time": "2022-11-21T10:42:57.638Z"
   },
   {
    "duration": 157,
    "start_time": "2022-11-21T10:42:57.839Z"
   },
   {
    "duration": 147,
    "start_time": "2022-11-21T10:42:57.997Z"
   },
   {
    "duration": 22,
    "start_time": "2022-11-21T10:42:58.146Z"
   },
   {
    "duration": 13,
    "start_time": "2022-11-21T10:42:58.170Z"
   },
   {
    "duration": 139,
    "start_time": "2022-11-21T10:42:58.187Z"
   },
   {
    "duration": 90,
    "start_time": "2022-11-21T10:42:58.327Z"
   },
   {
    "duration": 99,
    "start_time": "2022-11-21T10:42:58.419Z"
   },
   {
    "duration": 160,
    "start_time": "2022-11-21T10:42:58.520Z"
   },
   {
    "duration": 155,
    "start_time": "2022-11-21T10:42:58.683Z"
   },
   {
    "duration": 162,
    "start_time": "2022-11-21T10:42:58.839Z"
   },
   {
    "duration": 158,
    "start_time": "2022-11-21T10:42:59.002Z"
   },
   {
    "duration": 84,
    "start_time": "2022-11-21T10:42:59.162Z"
   },
   {
    "duration": 0,
    "start_time": "2022-11-21T10:42:59.248Z"
   },
   {
    "duration": 14,
    "start_time": "2022-11-21T10:45:28.756Z"
   },
   {
    "duration": 783,
    "start_time": "2022-11-21T10:45:50.326Z"
   },
   {
    "duration": 219,
    "start_time": "2022-11-21T10:46:17.458Z"
   },
   {
    "duration": 253,
    "start_time": "2022-11-21T10:47:11.148Z"
   },
   {
    "duration": 399,
    "start_time": "2022-11-21T10:57:44.195Z"
   },
   {
    "duration": 364,
    "start_time": "2022-11-21T10:58:45.895Z"
   },
   {
    "duration": 370,
    "start_time": "2022-11-21T11:00:55.720Z"
   },
   {
    "duration": 397,
    "start_time": "2022-11-21T11:03:45.486Z"
   },
   {
    "duration": 448,
    "start_time": "2022-11-23T13:03:55.185Z"
   },
   {
    "duration": 121,
    "start_time": "2022-11-23T13:03:55.635Z"
   },
   {
    "duration": 18,
    "start_time": "2022-11-23T13:03:55.758Z"
   },
   {
    "duration": 23,
    "start_time": "2022-11-23T13:03:55.778Z"
   },
   {
    "duration": 29,
    "start_time": "2022-11-23T13:03:55.802Z"
   },
   {
    "duration": 7,
    "start_time": "2022-11-23T13:03:55.833Z"
   },
   {
    "duration": 26,
    "start_time": "2022-11-23T13:03:55.842Z"
   },
   {
    "duration": 24,
    "start_time": "2022-11-23T13:03:55.870Z"
   },
   {
    "duration": 10,
    "start_time": "2022-11-23T13:03:55.896Z"
   },
   {
    "duration": 24,
    "start_time": "2022-11-23T13:03:55.909Z"
   },
   {
    "duration": 24,
    "start_time": "2022-11-23T13:03:55.935Z"
   },
   {
    "duration": 25,
    "start_time": "2022-11-23T13:03:55.960Z"
   },
   {
    "duration": 16,
    "start_time": "2022-11-23T13:03:55.986Z"
   },
   {
    "duration": 13,
    "start_time": "2022-11-23T13:03:56.004Z"
   },
   {
    "duration": 623,
    "start_time": "2022-11-23T13:03:56.019Z"
   },
   {
    "duration": 199,
    "start_time": "2022-11-23T13:03:56.644Z"
   },
   {
    "duration": 157,
    "start_time": "2022-11-23T13:03:56.845Z"
   },
   {
    "duration": 236,
    "start_time": "2022-11-23T13:03:57.004Z"
   },
   {
    "duration": 180,
    "start_time": "2022-11-23T13:03:57.242Z"
   },
   {
    "duration": 183,
    "start_time": "2022-11-23T13:03:57.424Z"
   },
   {
    "duration": 171,
    "start_time": "2022-11-23T13:03:57.609Z"
   },
   {
    "duration": 35,
    "start_time": "2022-11-23T13:03:57.782Z"
   },
   {
    "duration": 13,
    "start_time": "2022-11-23T13:03:57.820Z"
   },
   {
    "duration": 153,
    "start_time": "2022-11-23T13:03:57.835Z"
   },
   {
    "duration": 106,
    "start_time": "2022-11-23T13:03:57.991Z"
   },
   {
    "duration": 115,
    "start_time": "2022-11-23T13:03:58.099Z"
   },
   {
    "duration": 182,
    "start_time": "2022-11-23T13:03:58.216Z"
   },
   {
    "duration": 165,
    "start_time": "2022-11-23T13:03:58.401Z"
   },
   {
    "duration": 179,
    "start_time": "2022-11-23T13:03:58.567Z"
   },
   {
    "duration": 172,
    "start_time": "2022-11-23T13:03:58.747Z"
   },
   {
    "duration": 295,
    "start_time": "2022-11-23T13:03:58.921Z"
   },
   {
    "duration": 249,
    "start_time": "2022-11-23T13:03:59.219Z"
   },
   {
    "duration": 455,
    "start_time": "2022-11-23T13:03:59.469Z"
   },
   {
    "duration": 437,
    "start_time": "2022-11-23T13:03:59.926Z"
   },
   {
    "duration": 448,
    "start_time": "2022-11-23T13:40:11.939Z"
   },
   {
    "duration": 79,
    "start_time": "2022-11-23T13:41:03.651Z"
   },
   {
    "duration": 464,
    "start_time": "2022-11-23T13:41:18.838Z"
   },
   {
    "duration": 537,
    "start_time": "2022-11-23T13:48:55.616Z"
   },
   {
    "duration": 440,
    "start_time": "2022-11-23T14:05:14.096Z"
   },
   {
    "duration": 37,
    "start_time": "2022-11-23T14:11:36.580Z"
   },
   {
    "duration": 5,
    "start_time": "2022-11-23T14:11:54.461Z"
   },
   {
    "duration": 839,
    "start_time": "2022-11-23T14:12:54.628Z"
   },
   {
    "duration": 72,
    "start_time": "2022-11-23T14:12:55.470Z"
   },
   {
    "duration": 15,
    "start_time": "2022-11-23T14:12:55.543Z"
   },
   {
    "duration": 3,
    "start_time": "2022-11-23T14:12:55.561Z"
   },
   {
    "duration": 16,
    "start_time": "2022-11-23T14:12:55.565Z"
   },
   {
    "duration": 29,
    "start_time": "2022-11-23T14:12:55.583Z"
   },
   {
    "duration": 7,
    "start_time": "2022-11-23T14:12:55.614Z"
   },
   {
    "duration": 16,
    "start_time": "2022-11-23T14:12:55.623Z"
   },
   {
    "duration": 7,
    "start_time": "2022-11-23T14:12:55.641Z"
   },
   {
    "duration": 5,
    "start_time": "2022-11-23T14:12:55.651Z"
   },
   {
    "duration": 13,
    "start_time": "2022-11-23T14:12:55.658Z"
   },
   {
    "duration": 41,
    "start_time": "2022-11-23T14:12:55.672Z"
   },
   {
    "duration": 14,
    "start_time": "2022-11-23T14:12:55.715Z"
   },
   {
    "duration": 12,
    "start_time": "2022-11-23T14:12:55.731Z"
   },
   {
    "duration": 441,
    "start_time": "2022-11-23T14:12:55.744Z"
   },
   {
    "duration": 169,
    "start_time": "2022-11-23T14:12:56.187Z"
   },
   {
    "duration": 191,
    "start_time": "2022-11-23T14:12:56.357Z"
   },
   {
    "duration": 201,
    "start_time": "2022-11-23T14:12:56.550Z"
   },
   {
    "duration": 174,
    "start_time": "2022-11-23T14:12:56.753Z"
   },
   {
    "duration": 176,
    "start_time": "2022-11-23T14:12:56.929Z"
   },
   {
    "duration": 149,
    "start_time": "2022-11-23T14:12:57.112Z"
   },
   {
    "duration": 24,
    "start_time": "2022-11-23T14:12:57.263Z"
   },
   {
    "duration": 31,
    "start_time": "2022-11-23T14:12:57.289Z"
   },
   {
    "duration": 131,
    "start_time": "2022-11-23T14:12:57.321Z"
   },
   {
    "duration": 100,
    "start_time": "2022-11-23T14:12:57.454Z"
   },
   {
    "duration": 104,
    "start_time": "2022-11-23T14:12:57.556Z"
   },
   {
    "duration": 175,
    "start_time": "2022-11-23T14:12:57.662Z"
   },
   {
    "duration": 254,
    "start_time": "2022-11-23T14:12:57.840Z"
   },
   {
    "duration": 189,
    "start_time": "2022-11-23T14:12:58.097Z"
   },
   {
    "duration": 173,
    "start_time": "2022-11-23T14:12:58.288Z"
   },
   {
    "duration": 225,
    "start_time": "2022-11-23T14:12:58.463Z"
   },
   {
    "duration": 231,
    "start_time": "2022-11-23T14:12:58.689Z"
   },
   {
    "duration": 452,
    "start_time": "2022-11-23T14:12:58.922Z"
   },
   {
    "duration": 438,
    "start_time": "2022-11-23T14:12:59.375Z"
   },
   {
    "duration": 453,
    "start_time": "2022-11-23T14:12:59.815Z"
   },
   {
    "duration": 5,
    "start_time": "2022-11-23T14:13:00.270Z"
   },
   {
    "duration": 8,
    "start_time": "2022-11-23T14:13:18.205Z"
   },
   {
    "duration": 100,
    "start_time": "2022-11-23T14:14:57.943Z"
   },
   {
    "duration": 11,
    "start_time": "2022-11-23T14:15:44.872Z"
   },
   {
    "duration": 9,
    "start_time": "2022-11-23T14:15:55.931Z"
   },
   {
    "duration": 8,
    "start_time": "2022-11-23T14:16:26.837Z"
   },
   {
    "duration": 9,
    "start_time": "2022-11-23T14:16:56.129Z"
   },
   {
    "duration": 9,
    "start_time": "2022-11-23T14:17:07.953Z"
   },
   {
    "duration": 875,
    "start_time": "2022-11-23T15:06:42.993Z"
   },
   {
    "duration": 76,
    "start_time": "2022-11-23T15:06:43.871Z"
   },
   {
    "duration": 15,
    "start_time": "2022-11-23T15:06:43.949Z"
   },
   {
    "duration": 3,
    "start_time": "2022-11-23T15:06:43.966Z"
   },
   {
    "duration": 27,
    "start_time": "2022-11-23T15:06:43.971Z"
   },
   {
    "duration": 16,
    "start_time": "2022-11-23T15:06:44.000Z"
   },
   {
    "duration": 10,
    "start_time": "2022-11-23T15:06:44.018Z"
   },
   {
    "duration": 23,
    "start_time": "2022-11-23T15:06:44.029Z"
   },
   {
    "duration": 8,
    "start_time": "2022-11-23T15:06:44.053Z"
   },
   {
    "duration": 6,
    "start_time": "2022-11-23T15:06:44.063Z"
   },
   {
    "duration": 45,
    "start_time": "2022-11-23T15:06:44.070Z"
   },
   {
    "duration": 19,
    "start_time": "2022-11-23T15:06:44.117Z"
   },
   {
    "duration": 18,
    "start_time": "2022-11-23T15:06:44.137Z"
   },
   {
    "duration": 16,
    "start_time": "2022-11-23T15:06:44.157Z"
   },
   {
    "duration": 450,
    "start_time": "2022-11-23T15:06:44.176Z"
   },
   {
    "duration": 160,
    "start_time": "2022-11-23T15:06:44.628Z"
   },
   {
    "duration": 179,
    "start_time": "2022-11-23T15:06:44.789Z"
   },
   {
    "duration": 181,
    "start_time": "2022-11-23T15:06:44.970Z"
   },
   {
    "duration": 190,
    "start_time": "2022-11-23T15:06:45.153Z"
   },
   {
    "duration": 179,
    "start_time": "2022-11-23T15:06:45.345Z"
   },
   {
    "duration": 159,
    "start_time": "2022-11-23T15:06:45.526Z"
   },
   {
    "duration": 36,
    "start_time": "2022-11-23T15:06:45.687Z"
   },
   {
    "duration": 12,
    "start_time": "2022-11-23T15:06:45.724Z"
   },
   {
    "duration": 146,
    "start_time": "2022-11-23T15:06:45.737Z"
   },
   {
    "duration": 103,
    "start_time": "2022-11-23T15:06:45.884Z"
   },
   {
    "duration": 105,
    "start_time": "2022-11-23T15:06:45.989Z"
   },
   {
    "duration": 194,
    "start_time": "2022-11-23T15:06:46.096Z"
   },
   {
    "duration": 295,
    "start_time": "2022-11-23T15:06:46.293Z"
   },
   {
    "duration": 224,
    "start_time": "2022-11-23T15:06:46.590Z"
   },
   {
    "duration": 165,
    "start_time": "2022-11-23T15:06:46.816Z"
   },
   {
    "duration": 226,
    "start_time": "2022-11-23T15:06:46.983Z"
   },
   {
    "duration": 231,
    "start_time": "2022-11-23T15:06:47.213Z"
   },
   {
    "duration": 444,
    "start_time": "2022-11-23T15:06:47.446Z"
   },
   {
    "duration": 451,
    "start_time": "2022-11-23T15:06:47.892Z"
   },
   {
    "duration": 462,
    "start_time": "2022-11-23T15:06:48.345Z"
   },
   {
    "duration": 8,
    "start_time": "2022-11-23T15:06:48.811Z"
   },
   {
    "duration": 422,
    "start_time": "2022-11-23T15:06:48.821Z"
   },
   {
    "duration": 107,
    "start_time": "2022-11-23T15:07:01.303Z"
   },
   {
    "duration": 9,
    "start_time": "2022-11-23T15:08:08.147Z"
   },
   {
    "duration": 9,
    "start_time": "2022-11-23T15:09:02.812Z"
   },
   {
    "duration": 3,
    "start_time": "2022-11-23T15:19:20.174Z"
   },
   {
    "duration": 827,
    "start_time": "2022-11-23T15:32:40.648Z"
   },
   {
    "duration": 72,
    "start_time": "2022-11-23T15:32:41.477Z"
   },
   {
    "duration": 15,
    "start_time": "2022-11-23T15:32:41.551Z"
   },
   {
    "duration": 6,
    "start_time": "2022-11-23T15:32:41.568Z"
   },
   {
    "duration": 17,
    "start_time": "2022-11-23T15:32:41.576Z"
   },
   {
    "duration": 7,
    "start_time": "2022-11-23T15:32:41.613Z"
   },
   {
    "duration": 7,
    "start_time": "2022-11-23T15:32:41.621Z"
   },
   {
    "duration": 18,
    "start_time": "2022-11-23T15:32:41.630Z"
   },
   {
    "duration": 9,
    "start_time": "2022-11-23T15:32:41.649Z"
   },
   {
    "duration": 5,
    "start_time": "2022-11-23T15:32:41.659Z"
   },
   {
    "duration": 50,
    "start_time": "2022-11-23T15:32:41.666Z"
   },
   {
    "duration": 20,
    "start_time": "2022-11-23T15:32:41.718Z"
   },
   {
    "duration": 15,
    "start_time": "2022-11-23T15:32:41.740Z"
   },
   {
    "duration": 12,
    "start_time": "2022-11-23T15:32:41.758Z"
   },
   {
    "duration": 485,
    "start_time": "2022-11-23T15:32:41.772Z"
   },
   {
    "duration": 166,
    "start_time": "2022-11-23T15:32:42.258Z"
   },
   {
    "duration": 157,
    "start_time": "2022-11-23T15:32:42.426Z"
   },
   {
    "duration": 183,
    "start_time": "2022-11-23T15:32:42.585Z"
   },
   {
    "duration": 179,
    "start_time": "2022-11-23T15:32:42.770Z"
   },
   {
    "duration": 181,
    "start_time": "2022-11-23T15:32:42.951Z"
   },
   {
    "duration": 166,
    "start_time": "2022-11-23T15:32:43.133Z"
   },
   {
    "duration": 29,
    "start_time": "2022-11-23T15:32:43.301Z"
   },
   {
    "duration": 13,
    "start_time": "2022-11-23T15:32:43.332Z"
   },
   {
    "duration": 149,
    "start_time": "2022-11-23T15:32:43.347Z"
   },
   {
    "duration": 102,
    "start_time": "2022-11-23T15:32:43.498Z"
   },
   {
    "duration": 112,
    "start_time": "2022-11-23T15:32:43.602Z"
   },
   {
    "duration": 185,
    "start_time": "2022-11-23T15:32:43.716Z"
   },
   {
    "duration": 251,
    "start_time": "2022-11-23T15:32:43.912Z"
   },
   {
    "duration": 198,
    "start_time": "2022-11-23T15:32:44.165Z"
   },
   {
    "duration": 165,
    "start_time": "2022-11-23T15:32:44.365Z"
   },
   {
    "duration": 240,
    "start_time": "2022-11-23T15:32:44.532Z"
   },
   {
    "duration": 235,
    "start_time": "2022-11-23T15:32:44.774Z"
   },
   {
    "duration": 450,
    "start_time": "2022-11-23T15:32:45.012Z"
   },
   {
    "duration": 441,
    "start_time": "2022-11-23T15:32:45.464Z"
   },
   {
    "duration": 459,
    "start_time": "2022-11-23T15:32:45.907Z"
   },
   {
    "duration": 8,
    "start_time": "2022-11-23T15:32:46.368Z"
   },
   {
    "duration": 13,
    "start_time": "2022-11-23T15:32:46.378Z"
   },
   {
    "duration": 877,
    "start_time": "2022-11-23T15:56:06.784Z"
   },
   {
    "duration": 75,
    "start_time": "2022-11-23T15:56:07.663Z"
   },
   {
    "duration": 16,
    "start_time": "2022-11-23T15:56:07.739Z"
   },
   {
    "duration": 4,
    "start_time": "2022-11-23T15:56:07.756Z"
   },
   {
    "duration": 18,
    "start_time": "2022-11-23T15:56:07.763Z"
   },
   {
    "duration": 33,
    "start_time": "2022-11-23T15:56:07.782Z"
   },
   {
    "duration": 16,
    "start_time": "2022-11-23T15:56:07.816Z"
   },
   {
    "duration": 18,
    "start_time": "2022-11-23T15:56:07.833Z"
   },
   {
    "duration": 8,
    "start_time": "2022-11-23T15:56:07.853Z"
   },
   {
    "duration": 11,
    "start_time": "2022-11-23T15:56:07.862Z"
   },
   {
    "duration": 38,
    "start_time": "2022-11-23T15:56:07.875Z"
   },
   {
    "duration": 19,
    "start_time": "2022-11-23T15:56:07.915Z"
   },
   {
    "duration": 17,
    "start_time": "2022-11-23T15:56:07.935Z"
   },
   {
    "duration": 13,
    "start_time": "2022-11-23T15:56:07.955Z"
   },
   {
    "duration": 495,
    "start_time": "2022-11-23T15:56:07.969Z"
   },
   {
    "duration": 169,
    "start_time": "2022-11-23T15:56:08.465Z"
   },
   {
    "duration": 158,
    "start_time": "2022-11-23T15:56:08.635Z"
   },
   {
    "duration": 178,
    "start_time": "2022-11-23T15:56:08.794Z"
   },
   {
    "duration": 182,
    "start_time": "2022-11-23T15:56:08.974Z"
   },
   {
    "duration": 196,
    "start_time": "2022-11-23T15:56:09.159Z"
   },
   {
    "duration": 162,
    "start_time": "2022-11-23T15:56:09.357Z"
   },
   {
    "duration": 25,
    "start_time": "2022-11-23T15:56:09.521Z"
   },
   {
    "duration": 12,
    "start_time": "2022-11-23T15:56:09.547Z"
   },
   {
    "duration": 159,
    "start_time": "2022-11-23T15:56:09.561Z"
   },
   {
    "duration": 111,
    "start_time": "2022-11-23T15:56:09.721Z"
   },
   {
    "duration": 106,
    "start_time": "2022-11-23T15:56:09.833Z"
   },
   {
    "duration": 195,
    "start_time": "2022-11-23T15:56:09.940Z"
   },
   {
    "duration": 290,
    "start_time": "2022-11-23T15:56:10.136Z"
   },
   {
    "duration": 201,
    "start_time": "2022-11-23T15:56:10.429Z"
   },
   {
    "duration": 180,
    "start_time": "2022-11-23T15:56:10.632Z"
   },
   {
    "duration": 234,
    "start_time": "2022-11-23T15:56:10.814Z"
   },
   {
    "duration": 227,
    "start_time": "2022-11-23T15:56:11.050Z"
   },
   {
    "duration": 440,
    "start_time": "2022-11-23T15:56:11.279Z"
   },
   {
    "duration": 462,
    "start_time": "2022-11-23T15:56:11.721Z"
   },
   {
    "duration": 455,
    "start_time": "2022-11-23T15:56:12.185Z"
   },
   {
    "duration": 8,
    "start_time": "2022-11-23T15:56:12.642Z"
   },
   {
    "duration": 34,
    "start_time": "2022-11-23T15:56:12.652Z"
   },
   {
    "duration": 831,
    "start_time": "2022-11-24T06:29:58.052Z"
   },
   {
    "duration": 67,
    "start_time": "2022-11-24T06:29:58.885Z"
   },
   {
    "duration": 14,
    "start_time": "2022-11-24T06:29:58.953Z"
   },
   {
    "duration": 3,
    "start_time": "2022-11-24T06:29:59.403Z"
   },
   {
    "duration": 13,
    "start_time": "2022-11-24T06:29:59.707Z"
   },
   {
    "duration": 6,
    "start_time": "2022-11-24T06:30:00.043Z"
   },
   {
    "duration": 7,
    "start_time": "2022-11-24T06:30:00.225Z"
   },
   {
    "duration": 14,
    "start_time": "2022-11-24T06:30:00.530Z"
   },
   {
    "duration": 8,
    "start_time": "2022-11-24T06:30:00.867Z"
   },
   {
    "duration": 5,
    "start_time": "2022-11-24T06:30:01.202Z"
   },
   {
    "duration": 7,
    "start_time": "2022-11-24T06:30:01.531Z"
   },
   {
    "duration": 17,
    "start_time": "2022-11-24T06:30:01.877Z"
   },
   {
    "duration": 145,
    "start_time": "2022-11-24T06:30:02.548Z"
   },
   {
    "duration": 17,
    "start_time": "2022-11-24T06:30:03.052Z"
   },
   {
    "duration": 12,
    "start_time": "2022-11-24T06:30:03.723Z"
   },
   {
    "duration": 34,
    "start_time": "2022-11-24T06:30:16.341Z"
   },
   {
    "duration": 818,
    "start_time": "2022-11-24T06:43:10.470Z"
   },
   {
    "duration": 67,
    "start_time": "2022-11-24T06:43:11.290Z"
   },
   {
    "duration": 15,
    "start_time": "2022-11-24T06:43:11.358Z"
   },
   {
    "duration": 3,
    "start_time": "2022-11-24T06:43:11.375Z"
   },
   {
    "duration": 21,
    "start_time": "2022-11-24T06:43:11.379Z"
   },
   {
    "duration": 11,
    "start_time": "2022-11-24T06:43:11.402Z"
   },
   {
    "duration": 24,
    "start_time": "2022-11-24T06:43:11.415Z"
   },
   {
    "duration": 23,
    "start_time": "2022-11-24T06:43:11.441Z"
   },
   {
    "duration": 27,
    "start_time": "2022-11-24T06:43:11.466Z"
   },
   {
    "duration": 10,
    "start_time": "2022-11-24T06:43:11.496Z"
   },
   {
    "duration": 14,
    "start_time": "2022-11-24T06:43:11.508Z"
   },
   {
    "duration": 27,
    "start_time": "2022-11-24T06:43:11.523Z"
   },
   {
    "duration": 17,
    "start_time": "2022-11-24T06:43:11.551Z"
   },
   {
    "duration": 15,
    "start_time": "2022-11-24T06:43:11.570Z"
   },
   {
    "duration": 457,
    "start_time": "2022-11-24T06:43:11.587Z"
   },
   {
    "duration": 153,
    "start_time": "2022-11-24T06:43:12.045Z"
   },
   {
    "duration": 148,
    "start_time": "2022-11-24T06:43:12.200Z"
   },
   {
    "duration": 213,
    "start_time": "2022-11-24T06:43:12.349Z"
   },
   {
    "duration": 193,
    "start_time": "2022-11-24T06:43:12.564Z"
   },
   {
    "duration": 166,
    "start_time": "2022-11-24T06:43:12.759Z"
   },
   {
    "duration": 144,
    "start_time": "2022-11-24T06:43:12.927Z"
   },
   {
    "duration": 21,
    "start_time": "2022-11-24T06:43:13.073Z"
   },
   {
    "duration": 10,
    "start_time": "2022-11-24T06:43:13.095Z"
   },
   {
    "duration": 133,
    "start_time": "2022-11-24T06:43:13.107Z"
   },
   {
    "duration": 96,
    "start_time": "2022-11-24T06:43:13.242Z"
   },
   {
    "duration": 83,
    "start_time": "2022-11-24T06:43:13.339Z"
   },
   {
    "duration": 165,
    "start_time": "2022-11-24T06:43:13.436Z"
   },
   {
    "duration": 239,
    "start_time": "2022-11-24T06:43:13.604Z"
   },
   {
    "duration": 174,
    "start_time": "2022-11-24T06:43:13.845Z"
   },
   {
    "duration": 161,
    "start_time": "2022-11-24T06:43:14.021Z"
   },
   {
    "duration": 211,
    "start_time": "2022-11-24T06:43:14.184Z"
   },
   {
    "duration": 202,
    "start_time": "2022-11-24T06:43:14.396Z"
   },
   {
    "duration": 403,
    "start_time": "2022-11-24T06:43:14.600Z"
   },
   {
    "duration": 403,
    "start_time": "2022-11-24T06:43:15.005Z"
   },
   {
    "duration": 425,
    "start_time": "2022-11-24T06:43:15.410Z"
   },
   {
    "duration": 7,
    "start_time": "2022-11-24T06:43:15.837Z"
   },
   {
    "duration": 13,
    "start_time": "2022-11-24T06:43:15.845Z"
   },
   {
    "duration": 21,
    "start_time": "2022-11-24T06:43:31.532Z"
   },
   {
    "duration": 7,
    "start_time": "2022-11-24T06:44:34.020Z"
   },
   {
    "duration": 101,
    "start_time": "2022-11-24T06:44:46.924Z"
   },
   {
    "duration": 14,
    "start_time": "2022-11-24T06:44:52.637Z"
   },
   {
    "duration": 12,
    "start_time": "2022-11-24T06:45:09.095Z"
   },
   {
    "duration": 9,
    "start_time": "2022-11-24T06:45:14.743Z"
   },
   {
    "duration": 5,
    "start_time": "2022-11-24T06:47:04.703Z"
   },
   {
    "duration": 7,
    "start_time": "2022-11-24T06:47:13.205Z"
   },
   {
    "duration": 21,
    "start_time": "2022-11-24T06:47:42.098Z"
   },
   {
    "duration": 5,
    "start_time": "2022-11-24T06:47:56.035Z"
   },
   {
    "duration": 101,
    "start_time": "2022-11-24T06:49:44.255Z"
   },
   {
    "duration": 4,
    "start_time": "2022-11-24T06:50:01.706Z"
   },
   {
    "duration": 815,
    "start_time": "2022-11-24T06:54:26.268Z"
   },
   {
    "duration": 72,
    "start_time": "2022-11-24T06:54:27.085Z"
   },
   {
    "duration": 15,
    "start_time": "2022-11-24T06:54:27.158Z"
   },
   {
    "duration": 12,
    "start_time": "2022-11-24T06:54:27.174Z"
   },
   {
    "duration": 25,
    "start_time": "2022-11-24T06:54:27.189Z"
   },
   {
    "duration": 12,
    "start_time": "2022-11-24T06:54:27.216Z"
   },
   {
    "duration": 36,
    "start_time": "2022-11-24T06:54:27.230Z"
   },
   {
    "duration": 25,
    "start_time": "2022-11-24T06:54:27.268Z"
   },
   {
    "duration": 19,
    "start_time": "2022-11-24T06:54:27.294Z"
   },
   {
    "duration": 12,
    "start_time": "2022-11-24T06:54:27.315Z"
   },
   {
    "duration": 13,
    "start_time": "2022-11-24T06:54:27.329Z"
   },
   {
    "duration": 30,
    "start_time": "2022-11-24T06:54:27.343Z"
   },
   {
    "duration": 14,
    "start_time": "2022-11-24T06:54:27.374Z"
   },
   {
    "duration": 14,
    "start_time": "2022-11-24T06:54:27.391Z"
   },
   {
    "duration": 398,
    "start_time": "2022-11-24T06:54:27.407Z"
   },
   {
    "duration": 152,
    "start_time": "2022-11-24T06:54:27.807Z"
   },
   {
    "duration": 138,
    "start_time": "2022-11-24T06:54:27.961Z"
   },
   {
    "duration": 154,
    "start_time": "2022-11-24T06:54:28.101Z"
   },
   {
    "duration": 151,
    "start_time": "2022-11-24T06:54:28.257Z"
   },
   {
    "duration": 154,
    "start_time": "2022-11-24T06:54:28.410Z"
   },
   {
    "duration": 140,
    "start_time": "2022-11-24T06:54:28.565Z"
   },
   {
    "duration": 32,
    "start_time": "2022-11-24T06:54:28.707Z"
   },
   {
    "duration": 11,
    "start_time": "2022-11-24T06:54:28.741Z"
   },
   {
    "duration": 125,
    "start_time": "2022-11-24T06:54:28.754Z"
   },
   {
    "duration": 92,
    "start_time": "2022-11-24T06:54:28.881Z"
   },
   {
    "duration": 90,
    "start_time": "2022-11-24T06:54:28.974Z"
   },
   {
    "duration": 176,
    "start_time": "2022-11-24T06:54:29.066Z"
   },
   {
    "duration": 224,
    "start_time": "2022-11-24T06:54:29.243Z"
   },
   {
    "duration": 177,
    "start_time": "2022-11-24T06:54:29.469Z"
   },
   {
    "duration": 148,
    "start_time": "2022-11-24T06:54:29.648Z"
   },
   {
    "duration": 203,
    "start_time": "2022-11-24T06:54:29.798Z"
   },
   {
    "duration": 211,
    "start_time": "2022-11-24T06:54:30.003Z"
   },
   {
    "duration": 389,
    "start_time": "2022-11-24T06:54:30.215Z"
   },
   {
    "duration": 395,
    "start_time": "2022-11-24T06:54:30.606Z"
   },
   {
    "duration": 399,
    "start_time": "2022-11-24T06:54:31.003Z"
   },
   {
    "duration": 8,
    "start_time": "2022-11-24T06:54:31.403Z"
   },
   {
    "duration": 23,
    "start_time": "2022-11-24T06:54:31.413Z"
   },
   {
    "duration": 79,
    "start_time": "2022-11-24T08:07:45.659Z"
   },
   {
    "duration": 44,
    "start_time": "2022-11-24T08:20:45.656Z"
   },
   {
    "duration": 833,
    "start_time": "2022-11-24T08:20:50.941Z"
   },
   {
    "duration": 209,
    "start_time": "2022-11-24T08:20:51.776Z"
   },
   {
    "duration": 14,
    "start_time": "2022-11-24T08:20:51.986Z"
   },
   {
    "duration": 5,
    "start_time": "2022-11-24T08:20:52.001Z"
   },
   {
    "duration": 15,
    "start_time": "2022-11-24T08:20:52.007Z"
   },
   {
    "duration": 6,
    "start_time": "2022-11-24T08:20:52.024Z"
   },
   {
    "duration": 7,
    "start_time": "2022-11-24T08:20:52.037Z"
   },
   {
    "duration": 12,
    "start_time": "2022-11-24T08:20:52.046Z"
   },
   {
    "duration": 8,
    "start_time": "2022-11-24T08:20:52.059Z"
   },
   {
    "duration": 18,
    "start_time": "2022-11-24T08:20:52.069Z"
   },
   {
    "duration": 26,
    "start_time": "2022-11-24T08:20:52.088Z"
   },
   {
    "duration": 22,
    "start_time": "2022-11-24T08:20:52.116Z"
   },
   {
    "duration": 15,
    "start_time": "2022-11-24T08:20:52.140Z"
   },
   {
    "duration": 25,
    "start_time": "2022-11-24T08:20:52.157Z"
   },
   {
    "duration": 643,
    "start_time": "2022-11-24T08:20:52.184Z"
   },
   {
    "duration": 151,
    "start_time": "2022-11-24T08:20:52.828Z"
   },
   {
    "duration": 130,
    "start_time": "2022-11-24T08:20:52.981Z"
   },
   {
    "duration": 146,
    "start_time": "2022-11-24T08:20:53.113Z"
   },
   {
    "duration": 156,
    "start_time": "2022-11-24T08:20:53.260Z"
   },
   {
    "duration": 152,
    "start_time": "2022-11-24T08:20:53.418Z"
   },
   {
    "duration": 150,
    "start_time": "2022-11-24T08:20:53.572Z"
   },
   {
    "duration": 32,
    "start_time": "2022-11-24T08:20:53.723Z"
   },
   {
    "duration": 11,
    "start_time": "2022-11-24T08:20:53.757Z"
   },
   {
    "duration": 136,
    "start_time": "2022-11-24T08:20:53.770Z"
   },
   {
    "duration": 158,
    "start_time": "2022-11-24T08:20:53.908Z"
   },
   {
    "duration": 89,
    "start_time": "2022-11-24T08:20:54.067Z"
   },
   {
    "duration": 172,
    "start_time": "2022-11-24T08:20:54.158Z"
   },
   {
    "duration": 148,
    "start_time": "2022-11-24T08:20:54.338Z"
   },
   {
    "duration": 167,
    "start_time": "2022-11-24T08:20:54.487Z"
   },
   {
    "duration": 147,
    "start_time": "2022-11-24T08:20:54.655Z"
   },
   {
    "duration": 213,
    "start_time": "2022-11-24T08:20:54.804Z"
   },
   {
    "duration": 204,
    "start_time": "2022-11-24T08:20:55.019Z"
   },
   {
    "duration": 386,
    "start_time": "2022-11-24T08:20:55.224Z"
   },
   {
    "duration": 484,
    "start_time": "2022-11-24T08:20:55.612Z"
   },
   {
    "duration": 403,
    "start_time": "2022-11-24T08:20:56.098Z"
   },
   {
    "duration": 7,
    "start_time": "2022-11-24T08:20:56.503Z"
   },
   {
    "duration": 8,
    "start_time": "2022-11-24T08:20:56.512Z"
   },
   {
    "duration": 11,
    "start_time": "2022-11-24T08:21:58.493Z"
   },
   {
    "duration": 134,
    "start_time": "2022-11-24T08:28:47.906Z"
   },
   {
    "duration": 119,
    "start_time": "2022-11-24T08:30:02.352Z"
   },
   {
    "duration": 138,
    "start_time": "2022-11-24T08:32:21.930Z"
   },
   {
    "duration": 128,
    "start_time": "2022-11-24T08:32:55.906Z"
   },
   {
    "duration": 120,
    "start_time": "2022-11-24T08:36:58.377Z"
   },
   {
    "duration": 121,
    "start_time": "2022-11-24T08:40:54.473Z"
   },
   {
    "duration": 116,
    "start_time": "2022-11-24T08:41:51.152Z"
   },
   {
    "duration": 124,
    "start_time": "2022-11-24T08:42:26.981Z"
   },
   {
    "duration": 211,
    "start_time": "2022-11-24T08:45:39.318Z"
   },
   {
    "duration": 132,
    "start_time": "2022-11-24T08:53:00.115Z"
   },
   {
    "duration": 54,
    "start_time": "2022-11-24T09:00:03.049Z"
   },
   {
    "duration": 92,
    "start_time": "2022-11-24T09:05:22.937Z"
   },
   {
    "duration": 78,
    "start_time": "2022-11-24T09:07:11.896Z"
   },
   {
    "duration": 1116,
    "start_time": "2022-11-24T09:07:37.173Z"
   },
   {
    "duration": 68,
    "start_time": "2022-11-24T09:07:38.292Z"
   },
   {
    "duration": 13,
    "start_time": "2022-11-24T09:07:38.361Z"
   },
   {
    "duration": 3,
    "start_time": "2022-11-24T09:07:38.376Z"
   },
   {
    "duration": 14,
    "start_time": "2022-11-24T09:07:38.380Z"
   },
   {
    "duration": 7,
    "start_time": "2022-11-24T09:07:38.396Z"
   },
   {
    "duration": 33,
    "start_time": "2022-11-24T09:07:38.404Z"
   },
   {
    "duration": 15,
    "start_time": "2022-11-24T09:07:38.439Z"
   },
   {
    "duration": 8,
    "start_time": "2022-11-24T09:07:38.456Z"
   },
   {
    "duration": 5,
    "start_time": "2022-11-24T09:07:38.466Z"
   },
   {
    "duration": 10,
    "start_time": "2022-11-24T09:07:38.472Z"
   },
   {
    "duration": 16,
    "start_time": "2022-11-24T09:07:38.483Z"
   },
   {
    "duration": 47,
    "start_time": "2022-11-24T09:07:38.500Z"
   },
   {
    "duration": 12,
    "start_time": "2022-11-24T09:07:38.550Z"
   },
   {
    "duration": 183,
    "start_time": "2022-11-24T09:07:38.563Z"
   },
   {
    "duration": 183,
    "start_time": "2022-11-24T09:07:38.748Z"
   },
   {
    "duration": 161,
    "start_time": "2022-11-24T09:07:38.937Z"
   },
   {
    "duration": 154,
    "start_time": "2022-11-24T09:07:39.099Z"
   },
   {
    "duration": 153,
    "start_time": "2022-11-24T09:07:39.255Z"
   },
   {
    "duration": 160,
    "start_time": "2022-11-24T09:07:39.409Z"
   },
   {
    "duration": 144,
    "start_time": "2022-11-24T09:07:39.571Z"
   },
   {
    "duration": 30,
    "start_time": "2022-11-24T09:07:39.716Z"
   },
   {
    "duration": 11,
    "start_time": "2022-11-24T09:07:39.748Z"
   },
   {
    "duration": 151,
    "start_time": "2022-11-24T09:07:39.760Z"
   },
   {
    "duration": 154,
    "start_time": "2022-11-24T09:07:39.913Z"
   },
   {
    "duration": 204,
    "start_time": "2022-11-24T09:07:40.069Z"
   },
   {
    "duration": 130,
    "start_time": "2022-11-24T09:07:40.274Z"
   },
   {
    "duration": 66,
    "start_time": "2022-11-24T09:07:40.406Z"
   },
   {
    "duration": 0,
    "start_time": "2022-11-24T09:07:40.475Z"
   },
   {
    "duration": 0,
    "start_time": "2022-11-24T09:07:40.476Z"
   },
   {
    "duration": 0,
    "start_time": "2022-11-24T09:07:40.477Z"
   },
   {
    "duration": 0,
    "start_time": "2022-11-24T09:07:40.478Z"
   },
   {
    "duration": 0,
    "start_time": "2022-11-24T09:07:40.479Z"
   },
   {
    "duration": 0,
    "start_time": "2022-11-24T09:07:40.480Z"
   },
   {
    "duration": 0,
    "start_time": "2022-11-24T09:07:40.481Z"
   },
   {
    "duration": 0,
    "start_time": "2022-11-24T09:07:40.482Z"
   },
   {
    "duration": 0,
    "start_time": "2022-11-24T09:07:40.483Z"
   },
   {
    "duration": 0,
    "start_time": "2022-11-24T09:07:40.484Z"
   },
   {
    "duration": 0,
    "start_time": "2022-11-24T09:07:40.485Z"
   },
   {
    "duration": 0,
    "start_time": "2022-11-24T09:07:40.486Z"
   },
   {
    "duration": 0,
    "start_time": "2022-11-24T09:07:40.487Z"
   },
   {
    "duration": 1,
    "start_time": "2022-11-24T09:07:40.488Z"
   },
   {
    "duration": 0,
    "start_time": "2022-11-24T09:07:40.489Z"
   },
   {
    "duration": 0,
    "start_time": "2022-11-24T09:07:40.490Z"
   },
   {
    "duration": 129,
    "start_time": "2022-11-24T09:08:07.911Z"
   },
   {
    "duration": 1100,
    "start_time": "2022-11-24T09:08:26.576Z"
   },
   {
    "duration": 69,
    "start_time": "2022-11-24T09:08:27.678Z"
   },
   {
    "duration": 14,
    "start_time": "2022-11-24T09:08:27.749Z"
   },
   {
    "duration": 3,
    "start_time": "2022-11-24T09:08:27.764Z"
   },
   {
    "duration": 16,
    "start_time": "2022-11-24T09:08:27.769Z"
   },
   {
    "duration": 6,
    "start_time": "2022-11-24T09:08:27.786Z"
   },
   {
    "duration": 10,
    "start_time": "2022-11-24T09:08:27.794Z"
   },
   {
    "duration": 43,
    "start_time": "2022-11-24T09:08:27.805Z"
   },
   {
    "duration": 8,
    "start_time": "2022-11-24T09:08:27.850Z"
   },
   {
    "duration": 6,
    "start_time": "2022-11-24T09:08:27.861Z"
   },
   {
    "duration": 10,
    "start_time": "2022-11-24T09:08:27.869Z"
   },
   {
    "duration": 17,
    "start_time": "2022-11-24T09:08:27.881Z"
   },
   {
    "duration": 45,
    "start_time": "2022-11-24T09:08:27.900Z"
   },
   {
    "duration": 13,
    "start_time": "2022-11-24T09:08:27.946Z"
   },
   {
    "duration": 185,
    "start_time": "2022-11-24T09:08:27.960Z"
   },
   {
    "duration": 148,
    "start_time": "2022-11-24T09:08:28.146Z"
   },
   {
    "duration": 134,
    "start_time": "2022-11-24T09:08:28.295Z"
   },
   {
    "duration": 160,
    "start_time": "2022-11-24T09:08:28.431Z"
   },
   {
    "duration": 163,
    "start_time": "2022-11-24T09:08:28.593Z"
   },
   {
    "duration": 203,
    "start_time": "2022-11-24T09:08:28.758Z"
   },
   {
    "duration": 194,
    "start_time": "2022-11-24T09:08:28.963Z"
   },
   {
    "duration": 24,
    "start_time": "2022-11-24T09:08:29.159Z"
   },
   {
    "duration": 15,
    "start_time": "2022-11-24T09:08:29.184Z"
   },
   {
    "duration": 170,
    "start_time": "2022-11-24T09:08:29.201Z"
   },
   {
    "duration": 141,
    "start_time": "2022-11-24T09:08:29.372Z"
   },
   {
    "duration": 207,
    "start_time": "2022-11-24T09:08:29.515Z"
   },
   {
    "duration": 131,
    "start_time": "2022-11-24T09:08:29.724Z"
   },
   {
    "duration": 131,
    "start_time": "2022-11-24T09:08:29.858Z"
   },
   {
    "duration": 132,
    "start_time": "2022-11-24T09:08:29.990Z"
   },
   {
    "duration": 145,
    "start_time": "2022-11-24T09:08:30.124Z"
   },
   {
    "duration": 100,
    "start_time": "2022-11-24T09:08:30.271Z"
   },
   {
    "duration": 108,
    "start_time": "2022-11-24T09:08:30.372Z"
   },
   {
    "duration": 87,
    "start_time": "2022-11-24T09:08:30.482Z"
   },
   {
    "duration": 0,
    "start_time": "2022-11-24T09:08:30.570Z"
   },
   {
    "duration": 0,
    "start_time": "2022-11-24T09:08:30.571Z"
   },
   {
    "duration": 0,
    "start_time": "2022-11-24T09:08:30.572Z"
   },
   {
    "duration": 0,
    "start_time": "2022-11-24T09:08:30.573Z"
   },
   {
    "duration": 0,
    "start_time": "2022-11-24T09:08:30.575Z"
   },
   {
    "duration": 0,
    "start_time": "2022-11-24T09:08:30.576Z"
   },
   {
    "duration": 0,
    "start_time": "2022-11-24T09:08:30.577Z"
   },
   {
    "duration": 0,
    "start_time": "2022-11-24T09:08:30.578Z"
   },
   {
    "duration": 0,
    "start_time": "2022-11-24T09:08:30.579Z"
   },
   {
    "duration": 0,
    "start_time": "2022-11-24T09:08:30.580Z"
   },
   {
    "duration": 0,
    "start_time": "2022-11-24T09:08:30.581Z"
   },
   {
    "duration": 67,
    "start_time": "2022-11-24T09:08:54.337Z"
   },
   {
    "duration": 107,
    "start_time": "2022-11-24T09:14:26.074Z"
   },
   {
    "duration": 206,
    "start_time": "2022-11-24T09:16:02.581Z"
   },
   {
    "duration": 6,
    "start_time": "2022-11-24T09:23:33.324Z"
   },
   {
    "duration": 120,
    "start_time": "2022-11-24T09:24:58.667Z"
   },
   {
    "duration": 1332,
    "start_time": "2022-11-24T14:23:33.137Z"
   },
   {
    "duration": 192,
    "start_time": "2022-11-24T14:23:34.471Z"
   },
   {
    "duration": 14,
    "start_time": "2022-11-24T14:23:34.665Z"
   },
   {
    "duration": 6,
    "start_time": "2022-11-24T14:23:34.681Z"
   },
   {
    "duration": 21,
    "start_time": "2022-11-24T14:23:34.688Z"
   },
   {
    "duration": 6,
    "start_time": "2022-11-24T14:23:34.711Z"
   },
   {
    "duration": 19,
    "start_time": "2022-11-24T14:23:34.718Z"
   },
   {
    "duration": 14,
    "start_time": "2022-11-24T14:23:34.739Z"
   },
   {
    "duration": 9,
    "start_time": "2022-11-24T14:23:34.755Z"
   },
   {
    "duration": 6,
    "start_time": "2022-11-24T14:23:34.768Z"
   },
   {
    "duration": 16,
    "start_time": "2022-11-24T14:23:34.775Z"
   },
   {
    "duration": 19,
    "start_time": "2022-11-24T14:23:34.793Z"
   },
   {
    "duration": 38,
    "start_time": "2022-11-24T14:23:34.813Z"
   },
   {
    "duration": 11,
    "start_time": "2022-11-24T14:23:34.853Z"
   },
   {
    "duration": 191,
    "start_time": "2022-11-24T14:23:34.866Z"
   },
   {
    "duration": 164,
    "start_time": "2022-11-24T14:23:35.058Z"
   },
   {
    "duration": 156,
    "start_time": "2022-11-24T14:23:35.224Z"
   },
   {
    "duration": 165,
    "start_time": "2022-11-24T14:23:35.382Z"
   },
   {
    "duration": 156,
    "start_time": "2022-11-24T14:23:35.549Z"
   },
   {
    "duration": 168,
    "start_time": "2022-11-24T14:23:35.707Z"
   },
   {
    "duration": 135,
    "start_time": "2022-11-24T14:23:35.876Z"
   },
   {
    "duration": 34,
    "start_time": "2022-11-24T14:23:36.012Z"
   },
   {
    "duration": 10,
    "start_time": "2022-11-24T14:23:36.048Z"
   },
   {
    "duration": 139,
    "start_time": "2022-11-24T14:23:36.060Z"
   },
   {
    "duration": 139,
    "start_time": "2022-11-24T14:23:36.200Z"
   },
   {
    "duration": 202,
    "start_time": "2022-11-24T14:23:36.341Z"
   },
   {
    "duration": 133,
    "start_time": "2022-11-24T14:23:36.545Z"
   },
   {
    "duration": 127,
    "start_time": "2022-11-24T14:23:36.681Z"
   },
   {
    "duration": 121,
    "start_time": "2022-11-24T14:23:36.810Z"
   },
   {
    "duration": 137,
    "start_time": "2022-11-24T14:23:36.937Z"
   },
   {
    "duration": 95,
    "start_time": "2022-11-24T14:23:37.076Z"
   },
   {
    "duration": 98,
    "start_time": "2022-11-24T14:23:37.172Z"
   },
   {
    "duration": 110,
    "start_time": "2022-11-24T14:23:37.272Z"
   },
   {
    "duration": 164,
    "start_time": "2022-11-24T14:23:37.383Z"
   },
   {
    "duration": 159,
    "start_time": "2022-11-24T14:23:37.548Z"
   },
   {
    "duration": 182,
    "start_time": "2022-11-24T14:23:37.709Z"
   },
   {
    "duration": 235,
    "start_time": "2022-11-24T14:23:37.893Z"
   },
   {
    "duration": 101,
    "start_time": "2022-11-24T14:23:38.129Z"
   },
   {
    "duration": 0,
    "start_time": "2022-11-24T14:23:38.237Z"
   },
   {
    "duration": 0,
    "start_time": "2022-11-24T14:23:38.237Z"
   },
   {
    "duration": 0,
    "start_time": "2022-11-24T14:23:38.238Z"
   },
   {
    "duration": 0,
    "start_time": "2022-11-24T14:23:38.239Z"
   },
   {
    "duration": 0,
    "start_time": "2022-11-24T14:23:38.241Z"
   },
   {
    "duration": 0,
    "start_time": "2022-11-24T14:23:38.241Z"
   },
   {
    "duration": 10,
    "start_time": "2022-11-24T14:33:43.995Z"
   },
   {
    "duration": 3,
    "start_time": "2022-11-24T14:34:46.170Z"
   },
   {
    "duration": 15,
    "start_time": "2022-11-24T14:34:59.448Z"
   },
   {
    "duration": 111,
    "start_time": "2022-11-24T14:35:47.475Z"
   },
   {
    "duration": 4,
    "start_time": "2022-11-24T14:36:51.324Z"
   },
   {
    "duration": 10,
    "start_time": "2022-11-24T14:38:35.962Z"
   },
   {
    "duration": 12,
    "start_time": "2022-11-24T14:39:28.151Z"
   },
   {
    "duration": 1144,
    "start_time": "2022-11-24T14:43:20.226Z"
   },
   {
    "duration": 66,
    "start_time": "2022-11-24T14:43:21.372Z"
   },
   {
    "duration": 13,
    "start_time": "2022-11-24T14:43:21.439Z"
   },
   {
    "duration": 3,
    "start_time": "2022-11-24T14:43:21.454Z"
   },
   {
    "duration": 16,
    "start_time": "2022-11-24T14:43:21.459Z"
   },
   {
    "duration": 5,
    "start_time": "2022-11-24T14:43:21.477Z"
   },
   {
    "duration": 12,
    "start_time": "2022-11-24T14:43:21.483Z"
   },
   {
    "duration": 13,
    "start_time": "2022-11-24T14:43:21.497Z"
   },
   {
    "duration": 31,
    "start_time": "2022-11-24T14:43:21.511Z"
   },
   {
    "duration": 4,
    "start_time": "2022-11-24T14:43:21.545Z"
   },
   {
    "duration": 11,
    "start_time": "2022-11-24T14:43:21.550Z"
   },
   {
    "duration": 20,
    "start_time": "2022-11-24T14:43:21.562Z"
   },
   {
    "duration": 15,
    "start_time": "2022-11-24T14:43:21.583Z"
   },
   {
    "duration": 42,
    "start_time": "2022-11-24T14:43:21.599Z"
   },
   {
    "duration": 181,
    "start_time": "2022-11-24T14:43:21.642Z"
   },
   {
    "duration": 154,
    "start_time": "2022-11-24T14:43:21.825Z"
   },
   {
    "duration": 159,
    "start_time": "2022-11-24T14:43:21.980Z"
   },
   {
    "duration": 163,
    "start_time": "2022-11-24T14:43:22.141Z"
   },
   {
    "duration": 156,
    "start_time": "2022-11-24T14:43:22.306Z"
   },
   {
    "duration": 162,
    "start_time": "2022-11-24T14:43:22.464Z"
   },
   {
    "duration": 154,
    "start_time": "2022-11-24T14:43:22.628Z"
   },
   {
    "duration": 20,
    "start_time": "2022-11-24T14:43:22.784Z"
   },
   {
    "duration": 11,
    "start_time": "2022-11-24T14:43:22.806Z"
   },
   {
    "duration": 148,
    "start_time": "2022-11-24T14:43:22.818Z"
   },
   {
    "duration": 147,
    "start_time": "2022-11-24T14:43:22.968Z"
   },
   {
    "duration": 207,
    "start_time": "2022-11-24T14:43:23.117Z"
   },
   {
    "duration": 129,
    "start_time": "2022-11-24T14:43:23.326Z"
   },
   {
    "duration": 135,
    "start_time": "2022-11-24T14:43:23.458Z"
   },
   {
    "duration": 125,
    "start_time": "2022-11-24T14:43:23.595Z"
   },
   {
    "duration": 155,
    "start_time": "2022-11-24T14:43:23.721Z"
   },
   {
    "duration": 92,
    "start_time": "2022-11-24T14:43:23.878Z"
   },
   {
    "duration": 89,
    "start_time": "2022-11-24T14:43:23.972Z"
   },
   {
    "duration": 20,
    "start_time": "2022-11-24T14:43:24.062Z"
   },
   {
    "duration": 189,
    "start_time": "2022-11-24T14:43:24.084Z"
   },
   {
    "duration": 148,
    "start_time": "2022-11-24T14:43:24.274Z"
   },
   {
    "duration": 167,
    "start_time": "2022-11-24T14:43:24.424Z"
   },
   {
    "duration": 153,
    "start_time": "2022-11-24T14:43:24.593Z"
   },
   {
    "duration": 274,
    "start_time": "2022-11-24T14:43:24.748Z"
   },
   {
    "duration": 197,
    "start_time": "2022-11-24T14:43:25.023Z"
   },
   {
    "duration": 388,
    "start_time": "2022-11-24T14:43:25.222Z"
   },
   {
    "duration": 454,
    "start_time": "2022-11-24T14:43:25.611Z"
   },
   {
    "duration": 400,
    "start_time": "2022-11-24T14:43:26.066Z"
   },
   {
    "duration": 7,
    "start_time": "2022-11-24T14:43:26.468Z"
   },
   {
    "duration": 12,
    "start_time": "2022-11-24T14:43:26.476Z"
   },
   {
    "duration": 76,
    "start_time": "2022-11-24T14:45:10.717Z"
   },
   {
    "duration": 74,
    "start_time": "2022-11-24T14:45:15.590Z"
   },
   {
    "duration": 21,
    "start_time": "2022-11-24T14:45:38.449Z"
   },
   {
    "duration": 366,
    "start_time": "2022-11-24T14:46:03.454Z"
   },
   {
    "duration": 258,
    "start_time": "2022-11-24T14:50:44.317Z"
   },
   {
    "duration": 358,
    "start_time": "2022-11-24T14:51:02.079Z"
   },
   {
    "duration": 247,
    "start_time": "2022-11-24T14:51:06.516Z"
   },
   {
    "duration": 251,
    "start_time": "2022-11-24T14:53:53.820Z"
   },
   {
    "duration": 285,
    "start_time": "2022-11-24T14:54:08.032Z"
   },
   {
    "duration": 358,
    "start_time": "2022-11-24T14:54:40.765Z"
   },
   {
    "duration": 64,
    "start_time": "2022-11-24T16:55:03.970Z"
   },
   {
    "duration": 182,
    "start_time": "2022-11-24T16:59:25.305Z"
   },
   {
    "duration": 10,
    "start_time": "2022-11-24T17:09:17.530Z"
   },
   {
    "duration": 1106,
    "start_time": "2022-11-25T09:29:58.415Z"
   },
   {
    "duration": 62,
    "start_time": "2022-11-25T09:29:59.523Z"
   },
   {
    "duration": 13,
    "start_time": "2022-11-25T09:29:59.587Z"
   },
   {
    "duration": 2,
    "start_time": "2022-11-25T09:29:59.602Z"
   },
   {
    "duration": 14,
    "start_time": "2022-11-25T09:29:59.607Z"
   },
   {
    "duration": 6,
    "start_time": "2022-11-25T09:29:59.623Z"
   },
   {
    "duration": 7,
    "start_time": "2022-11-25T09:29:59.631Z"
   },
   {
    "duration": 13,
    "start_time": "2022-11-25T09:29:59.639Z"
   },
   {
    "duration": 6,
    "start_time": "2022-11-25T09:29:59.654Z"
   },
   {
    "duration": 10,
    "start_time": "2022-11-25T09:29:59.661Z"
   },
   {
    "duration": 10,
    "start_time": "2022-11-25T09:29:59.672Z"
   },
   {
    "duration": 39,
    "start_time": "2022-11-25T09:29:59.683Z"
   },
   {
    "duration": 15,
    "start_time": "2022-11-25T09:29:59.723Z"
   },
   {
    "duration": 10,
    "start_time": "2022-11-25T09:29:59.741Z"
   },
   {
    "duration": 161,
    "start_time": "2022-11-25T09:29:59.753Z"
   },
   {
    "duration": 136,
    "start_time": "2022-11-25T09:29:59.920Z"
   },
   {
    "duration": 130,
    "start_time": "2022-11-25T09:30:00.058Z"
   },
   {
    "duration": 147,
    "start_time": "2022-11-25T09:30:00.189Z"
   },
   {
    "duration": 145,
    "start_time": "2022-11-25T09:30:00.338Z"
   },
   {
    "duration": 160,
    "start_time": "2022-11-25T09:30:00.485Z"
   },
   {
    "duration": 126,
    "start_time": "2022-11-25T09:30:00.646Z"
   },
   {
    "duration": 19,
    "start_time": "2022-11-25T09:30:00.774Z"
   },
   {
    "duration": 21,
    "start_time": "2022-11-25T09:30:00.794Z"
   },
   {
    "duration": 128,
    "start_time": "2022-11-25T09:30:00.821Z"
   },
   {
    "duration": 130,
    "start_time": "2022-11-25T09:30:00.950Z"
   },
   {
    "duration": 206,
    "start_time": "2022-11-25T09:30:01.082Z"
   },
   {
    "duration": 133,
    "start_time": "2022-11-25T09:30:01.290Z"
   },
   {
    "duration": 134,
    "start_time": "2022-11-25T09:30:01.425Z"
   },
   {
    "duration": 127,
    "start_time": "2022-11-25T09:30:01.560Z"
   },
   {
    "duration": 132,
    "start_time": "2022-11-25T09:30:01.689Z"
   },
   {
    "duration": 79,
    "start_time": "2022-11-25T09:30:01.822Z"
   },
   {
    "duration": 90,
    "start_time": "2022-11-25T09:30:01.903Z"
   },
   {
    "duration": 286,
    "start_time": "2022-11-25T09:30:01.995Z"
   },
   {
    "duration": 267,
    "start_time": "2022-11-25T09:30:02.282Z"
   },
   {
    "duration": 244,
    "start_time": "2022-11-25T09:30:02.551Z"
   },
   {
    "duration": 147,
    "start_time": "2022-11-25T09:30:02.797Z"
   },
   {
    "duration": 158,
    "start_time": "2022-11-25T09:30:02.946Z"
   },
   {
    "duration": 148,
    "start_time": "2022-11-25T09:30:03.106Z"
   },
   {
    "duration": 194,
    "start_time": "2022-11-25T09:30:03.256Z"
   },
   {
    "duration": 188,
    "start_time": "2022-11-25T09:30:03.451Z"
   },
   {
    "duration": 188,
    "start_time": "2022-11-25T09:30:03.644Z"
   },
   {
    "duration": 379,
    "start_time": "2022-11-25T09:30:03.834Z"
   },
   {
    "duration": 385,
    "start_time": "2022-11-25T09:30:04.221Z"
   },
   {
    "duration": 495,
    "start_time": "2022-11-25T09:30:04.608Z"
   },
   {
    "duration": 7,
    "start_time": "2022-11-25T09:30:05.104Z"
   },
   {
    "duration": 14,
    "start_time": "2022-11-25T09:30:05.112Z"
   },
   {
    "duration": 272,
    "start_time": "2022-11-25T09:30:21.653Z"
   },
   {
    "duration": 641,
    "start_time": "2022-11-25T09:30:21.927Z"
   }
  ],
  "kernelspec": {
   "display_name": "Python 3 (ipykernel)",
   "language": "python",
   "name": "python3"
  },
  "language_info": {
   "codemirror_mode": {
    "name": "ipython",
    "version": 3
   },
   "file_extension": ".py",
   "mimetype": "text/x-python",
   "name": "python",
   "nbconvert_exporter": "python",
   "pygments_lexer": "ipython3",
   "version": "3.9.13"
  },
  "toc": {
   "base_numbering": 1,
   "nav_menu": {},
   "number_sections": true,
   "sideBar": true,
   "skip_h1_title": true,
   "title_cell": "Table of Contents",
   "title_sidebar": "Contents",
   "toc_cell": false,
   "toc_position": {},
   "toc_section_display": true,
   "toc_window_display": false
  }
 },
 "nbformat": 4,
 "nbformat_minor": 2
}
